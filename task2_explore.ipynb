{
 "cells": [
  {
   "cell_type": "code",
   "execution_count": 5,
   "metadata": {},
   "outputs": [],
   "source": [
    "import numpy as np\n",
    "import scipy\n",
    "from scipy.stats import multivariate_normal"
   ]
  },
  {
   "cell_type": "code",
   "execution_count": 4,
   "metadata": {},
   "outputs": [
    {
     "ename": "AttributeError",
     "evalue": "module 'scipy' has no attribute 'stats'",
     "output_type": "error",
     "traceback": [
      "\u001b[0;31m---------------------------------------------------------------------------\u001b[0m",
      "\u001b[0;31mAttributeError\u001b[0m                            Traceback (most recent call last)",
      "\u001b[0;32m<ipython-input-4-764a47091c5f>\u001b[0m in \u001b[0;36m<module>\u001b[0;34m\u001b[0m\n\u001b[0;32m----> 1\u001b[0;31m \u001b[0mscipy\u001b[0m\u001b[0;34m.\u001b[0m\u001b[0mstats\u001b[0m\u001b[0;34m.\u001b[0m\u001b[0mmultivariate_normal\u001b[0m\u001b[0;34m(\u001b[0m\u001b[0;34m)\u001b[0m\u001b[0;34m\u001b[0m\u001b[0;34m\u001b[0m\u001b[0m\n\u001b[0m",
      "\u001b[0;31mAttributeError\u001b[0m: module 'scipy' has no attribute 'stats'"
     ]
    }
   ],
   "source": [
    "multivariate_normal.pdf(\\)"
   ]
  },
  {
   "cell_type": "code",
   "execution_count": 5,
   "metadata": {},
   "outputs": [],
   "source": [
    "A, B = np.genfromtxt(\"task2_points\", usecols=range(1,9))"
   ]
  },
  {
   "cell_type": "code",
   "execution_count": 6,
   "metadata": {},
   "outputs": [
    {
     "data": {
      "text/plain": [
       "array([3.5 , 3.5 , 8.5 , 3.75, 8.5 , 8.75, 1.5 , 6.  ])"
      ]
     },
     "execution_count": 6,
     "metadata": {},
     "output_type": "execute_result"
    }
   ],
   "source": [
    "A"
   ]
  },
  {
   "cell_type": "code",
   "execution_count": null,
   "metadata": {},
   "outputs": [],
   "source": []
  },
  {
   "cell_type": "code",
   "execution_count": 7,
   "metadata": {},
   "outputs": [
    {
     "data": {
      "text/plain": [
       "array([4.75, 5.  , 6.25, 5.  , 6.25, 6.  , 4.75, 6.  ])"
      ]
     },
     "execution_count": 7,
     "metadata": {},
     "output_type": "execute_result"
    }
   ],
   "source": [
    "B"
   ]
  },
  {
   "cell_type": "code",
   "execution_count": 32,
   "metadata": {},
   "outputs": [],
   "source": [
    "pointsA = list(zip(A[::2],A[1::2]))"
   ]
  },
  {
   "cell_type": "code",
   "execution_count": 33,
   "metadata": {},
   "outputs": [
    {
     "data": {
      "text/plain": [
       "[(1.78269, 1.41994),\n",
       " (2.39558, 1.21721),\n",
       " (2.50196, 1.92164),\n",
       " (2.09783, 2.19345)]"
      ]
     },
     "execution_count": 33,
     "metadata": {},
     "output_type": "execute_result"
    }
   ],
   "source": [
    "pointsA"
   ]
  },
  {
   "cell_type": "code",
   "execution_count": 34,
   "metadata": {},
   "outputs": [],
   "source": [
    "pointsB = list(zip(B[::2],B[1::2]))"
   ]
  },
  {
   "cell_type": "code",
   "execution_count": 35,
   "metadata": {},
   "outputs": [
    {
     "data": {
      "text/plain": [
       "[(-0.500439, 0.936184),\n",
       " (2.7479, 6.90028),\n",
       " (3.39415, 2.08816),\n",
       " (6.39042, -1.08549)]"
      ]
     },
     "execution_count": 35,
     "metadata": {},
     "output_type": "execute_result"
    }
   ],
   "source": [
    "pointsB"
   ]
  },
  {
   "cell_type": "code",
   "execution_count": 7,
   "metadata": {},
   "outputs": [],
   "source": [
    "def step(x):\n",
    "    return 1 * (x > 0)"
   ]
  },
  {
   "cell_type": "code",
   "execution_count": 166,
   "metadata": {},
   "outputs": [],
   "source": [
    "def task2_hNeuron(W, X):\n",
    "    bias = W[0]\n",
    "    W = np.delete(W, 0, 0)\n",
    "    # W.T shape == (1 x D)\n",
    "    # X.T shape == (D x N)\n",
    "    Y = (W.T @ X) + bias\n",
    "    # Y shape == (N x 1)\n",
    "    return step(Y.T)"
   ]
  },
  {
   "cell_type": "code",
   "execution_count": 167,
   "metadata": {},
   "outputs": [],
   "source": [
    "def sigmoid(x):\n",
    "  # Our activation function: f(x) = 1 / (1 + e^(-x))\n",
    "  return 1 / (1 + np.exp(-x))"
   ]
  },
  {
   "cell_type": "code",
   "execution_count": 168,
   "metadata": {},
   "outputs": [],
   "source": [
    "def task2_sNeuron(W, X):\n",
    "    bias = W[0]\n",
    "    W = np.delete(W, 0, 0)\n",
    "    # W.T shape == (1 x D)\n",
    "    Y = (W.T @ X) + bias\n",
    "    # a shape == (1 x N)\n",
    "    print(Y.shape)\n",
    "    return sigmoid(Y.T)"
   ]
  },
  {
   "cell_type": "code",
   "execution_count": 169,
   "metadata": {},
   "outputs": [],
   "source": [
    "def task2_hNN_A(X):\n",
    "    # Weights for first layer\n",
    "    W1 = np.asanyarray([-3.325, -0.05, 1])\n",
    "    W2 = np.asanyarray([8.5, -1, 0])\n",
    "    W3 = np.asanyarray([303.0/56, 11.0/28, -1])\n",
    "    W4 = np.asanyarray([-7.875, 1.25, 1])\n",
    "\n",
    "    # Outputs from first layer\n",
    "    Y1 = task2_hNeuron(W1, X)\n",
    "    Y2 = task2_hNeuron(W2, X)\n",
    "    Y3 = task2_hNeuron(W3, X)\n",
    "    Y4 = task2_hNeuron(W4, X)\n",
    "    \n",
    "    #  Weights for second layer\n",
    "    W5 = np.array([-3.5, 1, 1, 1, 1])\n",
    "\n",
    "    X_out = np.vstack((Y1,Y2,Y3,Y4))\n",
    "\n",
    "    Y = task2_hNeuron(W5, X_out)\n",
    "\n",
    "    return Y"
   ]
  },
  {
   "cell_type": "code",
   "execution_count": 170,
   "metadata": {},
   "outputs": [
    {
     "name": "stdout",
     "output_type": "stream",
     "text": [
      "[[3.5  3.5 ]\n",
      " [8.5  3.75]\n",
      " [8.5  8.75]\n",
      " [1.5  6.  ]]\n"
     ]
    }
   ],
   "source": [
    "X = np.asanyarray([[3.5, 3.5], [8.5,3.75],[8.5, 8.75],[1.5,6]])\n",
    "print(X)"
   ]
  },
  {
   "cell_type": "code",
   "execution_count": 171,
   "metadata": {},
   "outputs": [
    {
     "name": "stdout",
     "output_type": "stream",
     "text": [
      "(4,)\n",
      "(4,)\n",
      "(4,)\n",
      "(4,)\n",
      "(4,)\n"
     ]
    },
    {
     "data": {
      "text/plain": [
       "array([0, 0, 0, 0])"
      ]
     },
     "execution_count": 171,
     "metadata": {},
     "output_type": "execute_result"
    }
   ],
   "source": [
    "task2_hNN_A(X.T)"
   ]
  },
  {
   "cell_type": "code",
   "execution_count": 172,
   "metadata": {},
   "outputs": [],
   "source": [
    "import matplotlib.pyplot as plt\n",
    "from matplotlib import cm\n",
    "import matplotlib.patches as mpatches"
   ]
  },
  {
   "cell_type": "code",
   "execution_count": 173,
   "metadata": {},
   "outputs": [
    {
     "name": "stdout",
     "output_type": "stream",
     "text": [
      "(1000000,)\n",
      "(1000000,)\n",
      "(1000000,)\n",
      "(1000000,)\n",
      "(1000000,)\n"
     ]
    },
    {
     "data": {
      "image/png": "[encoded data removed]",
      "text/plain": [
       "<Figure size 432x288 with 1 Axes>"
      ]
     },
     "metadata": {
      "needs_background": "light"
     },
     "output_type": "display_data"
    }
   ],
   "source": [
    "# Generate points between 0 and 10 to classify\n",
    "x_points = np.linspace(0,12, 1000)\n",
    "y_points = np.linspace(0,12,1000)\n",
    "xx, yy = np.meshgrid(x_points, y_points)\n",
    "gridX = np.vstack((xx.ravel(), yy.ravel()))\n",
    "\n",
    "\n",
    "# Classify the points and reshape the result to fit the plot function\n",
    "data = task2_hNN_A(gridX)\n",
    "data = data.reshape((x_points.shape[0], y_points.shape[0]))\n",
    "# Setup the plot title and axis\n",
    "plt.title('Task 2.5 Plot')\n",
    "plt.xticks(np.arange(0, 12, 0.5), fontsize=7)\n",
    "plt.yticks(np.arange(0, 12, 0.5),fontsize=7)\n",
    "plt.xlabel('x', fontsize=18)\n",
    "plt.ylabel('y', fontsize=18)\n",
    "\n",
    "# Setup legend\n",
    "\n",
    "blue_patch_legend = mpatches.Patch(color='lightblue', label='~A')\n",
    "purple_patch_legend = mpatches.Patch(color='purple', label='A')\n",
    "plt.legend(loc='best', fancybox=True, framealpha=0.1, handles=[blue_patch_legend, purple_patch_legend], facecolor='black', fontsize=12)\n",
    "\n",
    "# Plot data and show result\n",
    "plt.contourf(xx, yy, data, cmap=cm.BuPu)\n",
    "plt.show()"
   ]
  },
  {
   "cell_type": "code",
   "execution_count": null,
   "metadata": {},
   "outputs": [],
   "source": []
  },
  {
   "cell_type": "code",
   "execution_count": null,
   "metadata": {},
   "outputs": [],
   "source": []
  }
 ],
 "metadata": {
  "kernelspec": {
   "display_name": "Python 3",
   "language": "python",
   "name": "python3"
  },
  "language_info": {
   "codemirror_mode": {
    "name": "ipython",
    "version": 3
   },
   "file_extension": ".py",
   "mimetype": "text/x-python",
   "name": "python",
   "nbconvert_exporter": "python",
   "pygments_lexer": "ipython3",
   "version": "3.7.6"
  }
 },
 "nbformat": 4,
 "nbformat_minor": 2
}
