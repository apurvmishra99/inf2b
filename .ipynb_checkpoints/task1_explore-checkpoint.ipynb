{
 "cells": [
  {
   "cell_type": "code",
   "execution_count": 1,
   "metadata": {},
   "outputs": [],
   "source": [
    "import scipy.io as sio\n",
    "import numpy as np\n",
    "import scipy\n",
    "import matplotlib.pyplot as plt"
   ]
  },
  {
   "cell_type": "code",
   "execution_count": 2,
   "metadata": {},
   "outputs": [],
   "source": [
    "data = sio.loadmat('data/dset.mat')"
   ]
  },
  {
   "cell_type": "code",
   "execution_count": 3,
   "metadata": {},
   "outputs": [
    {
     "data": {
      "text/plain": [
       "dict_keys(['__header__', '__version__', '__globals__', 'list_family', 'list_genus', 'list_species', 'X', 'Y_family', 'Y_genus', 'Y_species'])"
      ]
     },
     "execution_count": 3,
     "metadata": {},
     "output_type": "execute_result"
    }
   ],
   "source": [
    "data.keys()"
   ]
  },
  {
   "cell_type": "code",
   "execution_count": 4,
   "metadata": {},
   "outputs": [],
   "source": [
    "Y_species = data.get('Y_species')"
   ]
  },
  {
   "cell_type": "code",
   "execution_count": 42,
   "metadata": {},
   "outputs": [
    {
     "data": {
      "text/plain": [
       "array([[ 2],\n",
       "       [ 7],\n",
       "       [ 2],\n",
       "       ...,\n",
       "       [ 1],\n",
       "       [10],\n",
       "       [ 5]], dtype=int32)"
      ]
     },
     "execution_count": 42,
     "metadata": {},
     "output_type": "execute_result"
    }
   ],
   "source": [
    "Y_species"
   ]
  },
  {
   "cell_type": "code",
   "execution_count": 32,
   "metadata": {},
   "outputs": [
    {
     "data": {
      "text/plain": [
       "array([2], dtype=int32)"
      ]
     },
     "execution_count": 32,
     "metadata": {},
     "output_type": "execute_result"
    }
   ],
   "source": [
    "Y_species[0]"
   ]
  },
  {
   "cell_type": "code",
   "execution_count": 5,
   "metadata": {},
   "outputs": [],
   "source": [
    "X_vec = data.get('X')"
   ]
  },
  {
   "cell_type": "code",
   "execution_count": 6,
   "metadata": {},
   "outputs": [
    {
     "data": {
      "text/plain": [
       "array([[-1.        , -0.85208478, -0.5446153 , ...,  0.03081446,\n",
       "        -0.04646877, -0.10260198],\n",
       "       [-1.        , -0.83122403, -0.35381633, ..., -0.05976682,\n",
       "        -0.04458574,  0.01394643],\n",
       "       [-1.        , -0.87307382, -0.50275353, ...,  0.08532905,\n",
       "        -0.01570336, -0.07587386],\n",
       "       ...,\n",
       "       [-1.        , -0.52845271, -0.09051293, ...,  0.00273226,\n",
       "        -0.0143477 , -0.00636827],\n",
       "       [-1.        , -0.8586075 , -0.27509567, ..., -0.00910596,\n",
       "        -0.00653614, -0.01747479],\n",
       "       [-1.        , -0.44213437,  0.002258  , ..., -0.0188348 ,\n",
       "         0.01213924,  0.01604267]])"
      ]
     },
     "execution_count": 6,
     "metadata": {},
     "output_type": "execute_result"
    }
   ],
   "source": [
    "X_vec"
   ]
  },
  {
   "cell_type": "code",
   "execution_count": 7,
   "metadata": {},
   "outputs": [
    {
     "data": {
      "text/plain": [
       "array([-1.        , -0.85208478, -0.5446153 , -0.23023933, -0.15827164,\n",
       "       -0.10030244, -0.11154368, -0.04217562,  0.05429012, -0.01039922,\n",
       "       -0.10284336, -0.02367292,  0.00542988, -0.13799486, -0.15663055,\n",
       "       -0.03263575,  0.02750404,  0.01395437, -0.01718162, -0.04397875,\n",
       "       -0.0025327 ,  0.03081446, -0.04646877, -0.10260198])"
      ]
     },
     "execution_count": 7,
     "metadata": {},
     "output_type": "execute_result"
    }
   ],
   "source": [
    "X_vec[0]"
   ]
  },
  {
   "cell_type": "code",
   "execution_count": 8,
   "metadata": {},
   "outputs": [],
   "source": [
    "lst_species = data.get('list_species')"
   ]
  },
  {
   "cell_type": "code",
   "execution_count": 9,
   "metadata": {},
   "outputs": [
    {
     "data": {
      "text/plain": [
       "array([[array(['AdenomeraAndre'], dtype='<U14')],\n",
       "       [array(['AdenomeraHylaedactylus'], dtype='<U22')],\n",
       "       [array(['Ameeregatrivittata'], dtype='<U18')],\n",
       "       [array(['HylaMinuta'], dtype='<U10')],\n",
       "       [array(['HypsiboasCinerascens'], dtype='<U20')],\n",
       "       [array(['HypsiboasCordobae'], dtype='<U17')],\n",
       "       [array(['LeptodactylusFuscus'], dtype='<U19')],\n",
       "       [array(['OsteocephalusOophagus'], dtype='<U21')],\n",
       "       [array(['Rhinellagranulosa'], dtype='<U17')],\n",
       "       [array(['ScinaxRuber'], dtype='<U11')]], dtype=object)"
      ]
     },
     "execution_count": 9,
     "metadata": {},
     "output_type": "execute_result"
    }
   ],
   "source": [
    "lst_species"
   ]
  },
  {
   "cell_type": "code",
   "execution_count": 10,
   "metadata": {},
   "outputs": [
    {
     "data": {
      "text/plain": [
       "10"
      ]
     },
     "execution_count": 10,
     "metadata": {},
     "output_type": "execute_result"
    }
   ],
   "source": [
    "lst_species.size"
   ]
  },
  {
   "cell_type": "code",
   "execution_count": 11,
   "metadata": {},
   "outputs": [
    {
     "data": {
      "text/plain": [
       "array([ 0.01773218,  0.0082373 ,  0.09795756,  0.03193004,  0.00321138,\n",
       "       -0.01455587, -0.07308648, -0.05278416, -0.05328468,  0.06120123])"
      ]
     },
     "execution_count": 11,
     "metadata": {},
     "output_type": "execute_result"
    }
   ],
   "source": [
    "x = np.random.random((10, 5))\n",
    "y = np.random.random((10, 5))\n",
    "\n",
    "n = x.shape[1]\n",
    "cov_bias = np.mean(x * y, axis=1) - np.mean(x, axis=1) * np.mean(y, axis=1)\n",
    "cov_bias * n / (n-1)"
   ]
  },
  {
   "cell_type": "code",
   "execution_count": 13,
   "metadata": {},
   "outputs": [
    {
     "ename": "TypeError",
     "evalue": "'tuple' object cannot be interpreted as an integer",
     "output_type": "error",
     "traceback": [
      "\u001b[0;31m---------------------------------------------------------------------------\u001b[0m",
      "\u001b[0;31mTypeError\u001b[0m                                 Traceback (most recent call last)",
      "\u001b[0;32m<ipython-input-13-c3b3f9641163>\u001b[0m in \u001b[0;36m<module>\u001b[0;34m\u001b[0m\n\u001b[1;32m      1\u001b[0m \u001b[0ms\u001b[0m \u001b[0;34m=\u001b[0m \u001b[0mnp\u001b[0m\u001b[0;34m.\u001b[0m\u001b[0mempty\u001b[0m\u001b[0;34m(\u001b[0m\u001b[0;34m(\u001b[0m\u001b[0mX_vec\u001b[0m\u001b[0;34m.\u001b[0m\u001b[0mshape\u001b[0m\u001b[0;34m[\u001b[0m\u001b[0;36m0\u001b[0m\u001b[0;34m]\u001b[0m\u001b[0;34m,\u001b[0m \u001b[0;36m1\u001b[0m\u001b[0;34m)\u001b[0m\u001b[0;34m)\u001b[0m\u001b[0;34m\u001b[0m\u001b[0;34m\u001b[0m\u001b[0m\n\u001b[0;32m----> 2\u001b[0;31m \u001b[0;32mfor\u001b[0m \u001b[0mi\u001b[0m \u001b[0;32min\u001b[0m \u001b[0mrange\u001b[0m\u001b[0;34m(\u001b[0m\u001b[0mX_vec\u001b[0m\u001b[0;34m.\u001b[0m\u001b[0mshape\u001b[0m\u001b[0;34m)\u001b[0m\u001b[0;34m:\u001b[0m\u001b[0;34m\u001b[0m\u001b[0;34m\u001b[0m\u001b[0m\n\u001b[0m\u001b[1;32m      3\u001b[0m     \u001b[0mprint\u001b[0m\u001b[0;34m(\u001b[0m\u001b[0mnp\u001b[0m\u001b[0;34m.\u001b[0m\u001b[0mcov\u001b[0m\u001b[0;34m(\u001b[0m\u001b[0mX_vec\u001b[0m\u001b[0;34m[\u001b[0m\u001b[0mi\u001b[0m\u001b[0;34m]\u001b[0m\u001b[0;34m)\u001b[0m\u001b[0;34m)\u001b[0m\u001b[0;34m\u001b[0m\u001b[0;34m\u001b[0m\u001b[0m\n",
      "\u001b[0;31mTypeError\u001b[0m: 'tuple' object cannot be interpreted as an integer"
     ]
    }
   ],
   "source": [
    "s = np.empty((X_vec.shape[0], 1))\n",
    "for i in range(X_vec.shape[]):\n",
    "    print(np.cov(X_vec[i]))"
   ]
  },
  {
   "cell_type": "code",
   "execution_count": 19,
   "metadata": {},
   "outputs": [],
   "source": [
    "res1_1 = np.cov(X_vec.T)"
   ]
  },
  {
   "cell_type": "code",
   "execution_count": 20,
   "metadata": {},
   "outputs": [
    {
     "data": {
      "text/plain": [
       "<matplotlib.image.AxesImage at 0x7f0dc9f107d0>"
      ]
     },
     "execution_count": 20,
     "metadata": {},
     "output_type": "execute_result"
    },
    {
     "data": {
      "image/png": "[encoded data removed]",
      "text/plain": [
       "<Figure size 288x288 with 1 Axes>"
      ]
     },
     "metadata": {
      "needs_background": "light"
     },
     "output_type": "display_data"
    }
   ],
   "source": [
    "plt.matshow(res1_1)"
   ]
  },
  {
   "cell_type": "code",
   "execution_count": 22,
   "metadata": {},
   "outputs": [
    {
     "data": {
      "text/plain": [
       "<matplotlib.image.AxesImage at 0x7f0dbd5357d0>"
      ]
     },
     "execution_count": 22,
     "metadata": {},
     "output_type": "execute_result"
    },
    {
     "data": {
      "image/png": "[encoded data removed]",
      "text/plain": [
       "<Figure size 432x288 with 1 Axes>"
      ]
     },
     "metadata": {
      "needs_background": "light"
     },
     "output_type": "display_data"
    }
   ],
   "source": [
    "plt.imshow(res1_1,cmap='hot')"
   ]
  },
  {
   "cell_type": "code",
   "execution_count": 28,
   "metadata": {},
   "outputs": [],
   "source": [
    "def my_mean(matrix):\n",
    "    \"\"\"\n",
    "    Calculates mean values in a matrix\n",
    "    Parameters:\n",
    "      matrix: N-by-D data matrix\n",
    "    Returns:\n",
    "      mu: D-by-1 column vector of sample mean values, where mu(i) = mean(matrix(:,i)).\n",
    "    \"\"\"\n",
    "    \n",
    "    # Check if the matrix is not empty to make sure we do not divide by 0.\n",
    "    if matrix.shape[0] == 0:\n",
    "        s = 1\n",
    "    else: \n",
    "        s = matrix.shape[0]\n",
    "    \n",
    "    # Compute sample mean vector\n",
    "    mu = (np.sum(matrix, axis=0) / s).T \n",
    "\n",
    "    return mu"
   ]
  },
  {
   "cell_type": "code",
   "execution_count": 29,
   "metadata": {},
   "outputs": [
    {
     "data": {
      "text/plain": [
       "array([-9.74023093e-01, -8.23533833e-01, -4.52956670e-01, -1.52934802e-01,\n",
       "       -1.13522768e-01, -6.70683332e-02, -7.01563139e-02, -7.87939721e-02,\n",
       "       -3.39201905e-02, -3.41943458e-02, -6.79849815e-02, -3.06505621e-02,\n",
       "       -6.81939029e-04, -5.15607191e-02, -7.30336627e-02, -3.58473314e-02,\n",
       "       -1.59155014e-02, -3.17948169e-02, -4.57046675e-02, -4.37078192e-02,\n",
       "       -1.10627371e-02,  7.34052998e-03, -2.26644598e-02, -5.04837882e-02])"
      ]
     },
     "execution_count": 29,
     "metadata": {},
     "output_type": "execute_result"
    }
   ],
   "source": [
    "my_mean(X_vec)"
   ]
  },
  {
   "cell_type": "code",
   "execution_count": 27,
   "metadata": {},
   "outputs": [
    {
     "data": {
      "text/plain": [
       "array([-9.74023093e-01, -8.23533833e-01, -4.52956670e-01, -1.52934802e-01,\n",
       "       -1.13522768e-01, -6.70683332e-02, -7.01563139e-02, -7.87939721e-02,\n",
       "       -3.39201905e-02, -3.41943458e-02, -6.79849815e-02, -3.06505621e-02,\n",
       "       -6.81939029e-04, -5.15607191e-02, -7.30336627e-02, -3.58473314e-02,\n",
       "       -1.59155014e-02, -3.17948169e-02, -4.57046675e-02, -4.37078192e-02,\n",
       "       -1.10627371e-02,  7.34052998e-03, -2.26644598e-02, -5.04837882e-02])"
      ]
     },
     "execution_count": 27,
     "metadata": {},
     "output_type": "execute_result"
    }
   ],
   "source": [
    "np.mean(X_vec, axis=0)"
   ]
  },
  {
   "cell_type": "code",
   "execution_count": 36,
   "metadata": {},
   "outputs": [],
   "source": [
    "def my_cov(X):\n",
    "    \"\"\"\n",
    "    Calculates covariance of a NxD matrix.\n",
    "    Parameters:\n",
    "      matrix: N-by-D data matrix\n",
    "    Returns:\n",
    "      cov: D-by-D covariance matrix.\n",
    "    \"\"\"\n",
    "    X_mean = my_mean(X)\n",
    "    X_shifted = X - X_mean\n",
    "    # Using Maximum Likelihood Estimation so divide by N\n",
    "    cov = np.matmul(X_shifted.T, X_shifted) / X.shape[0]\n",
    "    return cov"
   ]
  },
  {
   "cell_type": "code",
   "execution_count": 37,
   "metadata": {},
   "outputs": [
    {
     "data": {
      "text/plain": [
       "array([[-2.77669412e-06,  1.02848364e-06,  1.38903481e-06,\n",
       "         7.03346308e-07,  3.61843130e-07,  2.14442084e-07,\n",
       "         2.97231537e-07,  9.08831823e-07,  1.13760600e-06,\n",
       "         5.20022532e-07,  2.94411815e-07,  1.01835974e-06,\n",
       "         1.13870462e-06,  4.60191770e-07,  6.30334265e-07,\n",
       "         1.08002129e-06,  6.40817979e-07,  2.00088446e-07,\n",
       "         5.23196436e-07,  7.74899896e-07,  7.29820753e-07,\n",
       "         6.90019746e-07,  6.38683500e-07,  4.57870875e-07],\n",
       "       [ 1.02848364e-06, -5.39628171e-06, -6.33371445e-06,\n",
       "        -2.70745488e-06, -1.33887132e-06, -1.19548976e-06,\n",
       "        -1.81098432e-06, -1.97454893e-06, -8.99026707e-07,\n",
       "        -3.88267816e-07, -9.25014382e-07, -1.07054127e-06,\n",
       "        -4.91229834e-07, -5.83273228e-07, -1.17676938e-06,\n",
       "        -1.11360177e-06, -7.76119664e-07, -7.70019341e-07,\n",
       "        -1.00986932e-06, -1.10887638e-06, -4.84564481e-07,\n",
       "        -9.80968431e-08, -6.37917580e-07, -1.00922336e-06],\n",
       "       [ 1.38903481e-06, -6.33371445e-06, -9.26306465e-06,\n",
       "        -4.54294102e-06, -2.38610950e-06, -2.34157872e-06,\n",
       "        -3.11591423e-06, -2.76660273e-06, -1.02963440e-06,\n",
       "        -5.04360627e-07, -1.55919083e-06, -1.82091934e-06,\n",
       "        -9.30683237e-07, -9.72094654e-07, -1.74774500e-06,\n",
       "        -1.65643694e-06, -1.16146647e-06, -1.12886490e-06,\n",
       "        -1.55275926e-06, -1.72842361e-06, -6.19147151e-07,\n",
       "         1.08275410e-07, -7.52296406e-07, -1.45612512e-06],\n",
       "       [ 7.03346308e-07, -2.70745488e-06, -4.54294102e-06,\n",
       "        -3.43940576e-06, -2.45475102e-06, -1.82551224e-06,\n",
       "        -1.70281773e-06, -1.55577452e-06, -1.05536529e-06,\n",
       "        -6.39335193e-07, -7.93171697e-07, -1.07583849e-06,\n",
       "        -6.77050232e-07, -1.87460840e-07, -5.58249145e-07,\n",
       "        -9.87820233e-07, -8.06447201e-07, -6.04580334e-07,\n",
       "        -8.07196617e-07, -8.49662284e-07, -3.11154743e-07,\n",
       "        -2.75205490e-08, -3.72551917e-07, -6.37142626e-07],\n",
       "       [ 3.61843130e-07, -1.33887132e-06, -2.38610950e-06,\n",
       "        -2.45475102e-06, -3.65399831e-06, -2.92393180e-06,\n",
       "        -1.72495345e-06, -7.77078742e-07, -2.74280581e-07,\n",
       "        -4.13662336e-07, -6.13971755e-07, -2.75415989e-07,\n",
       "        -1.12660351e-07, -4.16352320e-07, -7.00062752e-07,\n",
       "        -6.44062062e-07, -4.10977114e-07, -4.02295520e-07,\n",
       "        -6.91380098e-07, -6.86023184e-07, -5.94598076e-08,\n",
       "         2.30438397e-07, -2.20753965e-07, -6.02862801e-07],\n",
       "       [ 2.14442084e-07, -1.19548976e-06, -2.34157872e-06,\n",
       "        -1.82551224e-06, -2.92393180e-06, -3.19360383e-06,\n",
       "        -2.50573615e-06, -1.04987573e-06, -7.08205461e-09,\n",
       "        -1.80485356e-07, -6.33128961e-07, -3.50660458e-07,\n",
       "        -2.61532553e-07, -6.86049529e-07, -8.19625400e-07,\n",
       "        -5.76641101e-07, -4.36741783e-07, -5.19661345e-07,\n",
       "        -7.78690004e-07, -8.04045214e-07, -1.32871786e-07,\n",
       "         2.56885328e-07, -2.46243714e-07, -7.01328065e-07],\n",
       "       [ 2.97231537e-07, -1.81098432e-06, -3.11591423e-06,\n",
       "        -1.70281773e-06, -1.72495345e-06, -2.50573615e-06,\n",
       "        -3.06769699e-06, -1.88770877e-06, -2.74358946e-07,\n",
       "        -1.35003428e-07, -6.93822844e-07, -5.94409345e-07,\n",
       "        -4.75690376e-07, -7.77816403e-07, -8.39557443e-07,\n",
       "        -6.16988162e-07, -5.97867835e-07, -7.19256573e-07,\n",
       "        -9.09302833e-07, -9.51040809e-07, -3.22328972e-07,\n",
       "         8.61146228e-08, -3.44072616e-07, -7.06262975e-07],\n",
       "       [ 9.08831823e-07, -1.97454893e-06, -2.76660273e-06,\n",
       "        -1.55577452e-06, -7.77078742e-07, -1.04987573e-06,\n",
       "        -1.88770877e-06, -2.98030468e-06, -2.81172503e-06,\n",
       "        -1.28129128e-06, -6.58507424e-07, -1.68789364e-06,\n",
       "        -1.73570136e-06, -4.58306634e-07, -5.64872391e-07,\n",
       "        -1.59864623e-06, -1.55538537e-06, -1.02385902e-06,\n",
       "        -1.14176425e-06, -1.26404857e-06, -9.57011981e-07,\n",
       "        -8.58222337e-07, -9.93304751e-07, -8.29820958e-07],\n",
       "       [ 1.13760600e-06, -8.99026707e-07, -1.02963440e-06,\n",
       "        -1.05536529e-06, -2.74280581e-07, -7.08205461e-09,\n",
       "        -2.74358946e-07, -2.81172503e-06, -4.65998743e-06,\n",
       "        -2.55877000e-06, -5.97415770e-07, -2.37020107e-06,\n",
       "        -2.85310339e-06, -1.93802969e-07, -8.86987993e-08,\n",
       "        -2.23985549e-06, -2.24464458e-06, -1.05564288e-06,\n",
       "        -1.06984384e-06, -1.24999103e-06, -1.29638008e-06,\n",
       "        -1.54931344e-06, -1.44761975e-06, -8.69628771e-07],\n",
       "       [ 5.20022532e-07, -3.88267816e-07, -5.04360627e-07,\n",
       "        -6.39335193e-07, -4.13662336e-07, -1.80485356e-07,\n",
       "        -1.35003428e-07, -1.28129128e-06, -2.55877000e-06,\n",
       "        -2.06950730e-06, -8.92892423e-07, -1.29650060e-06,\n",
       "        -1.56904725e-06, -3.68207145e-07, -2.21628900e-07,\n",
       "        -1.25235933e-06, -1.25411643e-06, -5.83218121e-07,\n",
       "        -5.97773809e-07, -7.34472414e-07, -6.91816540e-07,\n",
       "        -7.96569860e-07, -8.70401448e-07, -6.56096474e-07],\n",
       "       [ 2.94411815e-07, -9.25014382e-07, -1.55919083e-06,\n",
       "        -7.93171697e-07, -6.13971755e-07, -6.33128961e-07,\n",
       "        -6.93822844e-07, -6.58507424e-07, -5.97415770e-07,\n",
       "        -8.92892423e-07, -1.19281514e-06, -9.57885934e-07,\n",
       "        -5.44248867e-07, -4.56776402e-07, -6.03882438e-07,\n",
       "        -6.43563544e-07, -5.10551209e-07, -3.63349757e-07,\n",
       "        -4.22567768e-07, -5.33086670e-07, -2.90003996e-07,\n",
       "        -1.06360431e-07, -3.47789459e-07, -5.29271562e-07],\n",
       "       [ 1.01835974e-06, -1.07054127e-06, -1.82091934e-06,\n",
       "        -1.07583849e-06, -2.75415989e-07, -3.50660458e-07,\n",
       "        -5.94409345e-07, -1.68789364e-06, -2.37020107e-06,\n",
       "        -1.29650060e-06, -9.57885934e-07, -2.61398206e-06,\n",
       "        -2.66656251e-06, -5.25762834e-07, -3.53182913e-07,\n",
       "        -1.76145611e-06, -1.75545657e-06, -8.84949427e-07,\n",
       "        -8.58175795e-07, -1.04221865e-06, -9.79369543e-07,\n",
       "        -9.71654936e-07, -9.80195987e-07, -7.86404977e-07],\n",
       "       [ 1.13870462e-06, -4.91229834e-07, -9.30683237e-07,\n",
       "        -6.77050232e-07, -1.12660351e-07, -2.61532553e-07,\n",
       "        -4.75690376e-07, -1.73570136e-06, -2.85310339e-06,\n",
       "        -1.56904725e-06, -5.44248867e-07, -2.66656251e-06,\n",
       "        -3.66948637e-06, -1.08310906e-06, -2.83692151e-07,\n",
       "        -1.95748605e-06, -2.12551390e-06, -1.05536926e-06,\n",
       "        -1.04698635e-06, -1.21084886e-06, -1.15352387e-06,\n",
       "        -1.28450814e-06, -1.30300467e-06, -9.48993575e-07],\n",
       "       [ 4.60191770e-07, -5.83273228e-07, -9.72094654e-07,\n",
       "        -1.87460840e-07, -4.16352320e-07, -6.86049529e-07,\n",
       "        -7.77816403e-07, -4.58306634e-07, -1.93802969e-07,\n",
       "        -3.68207145e-07, -4.56776402e-07, -5.25762834e-07,\n",
       "        -1.08310906e-06, -1.50046934e-06, -1.21765286e-06,\n",
       "        -7.12627373e-07, -4.11165607e-07, -3.92119843e-07,\n",
       "        -6.98070642e-07, -8.11863351e-07, -3.32395709e-07,\n",
       "        -4.69357830e-08, -4.67313521e-07, -7.56976981e-07],\n",
       "       [ 6.30334265e-07, -1.17676938e-06, -1.74774500e-06,\n",
       "        -5.58249145e-07, -7.00062752e-07, -8.19625400e-07,\n",
       "        -8.39557443e-07, -5.64872391e-07, -8.86987993e-08,\n",
       "        -2.21628900e-07, -6.03882438e-07, -3.53182913e-07,\n",
       "        -2.83692151e-07, -1.21765286e-06, -1.77100226e-06,\n",
       "        -1.08371632e-06, -2.81092419e-07, -2.63047533e-07,\n",
       "        -7.24627925e-07, -9.69934695e-07, -4.34671919e-07,\n",
       "         5.98874857e-08, -3.32483894e-07, -7.75459456e-07],\n",
       "       [ 1.08002129e-06, -1.11360177e-06, -1.65643694e-06,\n",
       "        -9.87820233e-07, -6.44062062e-07, -5.76641101e-07,\n",
       "        -6.16988162e-07, -1.59864623e-06, -2.23985549e-06,\n",
       "        -1.25235933e-06, -6.43563544e-07, -1.76145611e-06,\n",
       "        -1.95748605e-06, -7.12627373e-07, -1.08371632e-06,\n",
       "        -2.26082956e-06, -1.80295556e-06, -8.58874136e-07,\n",
       "        -1.02561722e-06, -1.31578409e-06, -1.13608214e-06,\n",
       "        -9.81891891e-07, -1.00869456e-06, -9.03746512e-07],\n",
       "       [ 6.40817979e-07, -7.76119664e-07, -1.16146647e-06,\n",
       "        -8.06447201e-07, -4.10977114e-07, -4.36741783e-07,\n",
       "        -5.97867835e-07, -1.55538537e-06, -2.24464458e-06,\n",
       "        -1.25411643e-06, -5.10551209e-07, -1.75545657e-06,\n",
       "        -2.12551390e-06, -4.11165607e-07, -2.81092419e-07,\n",
       "        -1.80295556e-06, -2.02898995e-06, -1.16942235e-06,\n",
       "        -9.84093214e-07, -1.01804514e-06, -9.38092696e-07,\n",
       "        -1.04183393e-06, -1.05267849e-06, -7.53923463e-07],\n",
       "       [ 2.00088446e-07, -7.70019341e-07, -1.12886490e-06,\n",
       "        -6.04580334e-07, -4.02295520e-07, -5.19661345e-07,\n",
       "        -7.19256573e-07, -1.02385902e-06, -1.05564288e-06,\n",
       "        -5.83218121e-07, -3.63349757e-07, -8.84949427e-07,\n",
       "        -1.05536926e-06, -3.92119843e-07, -2.63047533e-07,\n",
       "        -8.58874136e-07, -1.16942235e-06, -1.02408613e-06,\n",
       "        -8.99736908e-07, -7.16902207e-07, -4.12960340e-07,\n",
       "        -4.14460197e-07, -6.40110365e-07, -5.93624891e-07],\n",
       "       [ 5.23196436e-07, -1.00986932e-06, -1.55275926e-06,\n",
       "        -8.07196617e-07, -6.91380098e-07, -7.78690004e-07,\n",
       "        -9.09302833e-07, -1.14176425e-06, -1.06984384e-06,\n",
       "        -5.97773809e-07, -4.22567768e-07, -8.58175795e-07,\n",
       "        -1.04698635e-06, -6.98070642e-07, -7.24627925e-07,\n",
       "        -1.02561722e-06, -9.84093214e-07, -8.99736908e-07,\n",
       "        -1.11795993e-06, -1.06155587e-06, -5.39939252e-07,\n",
       "        -3.31377733e-07, -6.51279451e-07, -7.71372325e-07],\n",
       "       [ 7.74899896e-07, -1.10887638e-06, -1.72842361e-06,\n",
       "        -8.49662284e-07, -6.86023184e-07, -8.04045214e-07,\n",
       "        -9.51040809e-07, -1.26404857e-06, -1.24999103e-06,\n",
       "        -7.34472414e-07, -5.33086670e-07, -1.04221865e-06,\n",
       "        -1.21084886e-06, -8.11863351e-07, -9.69934695e-07,\n",
       "        -1.31578409e-06, -1.01804514e-06, -7.16902207e-07,\n",
       "        -1.06155587e-06, -1.26482003e-06, -8.10655489e-07,\n",
       "        -4.69210097e-07, -6.87666142e-07, -8.32986581e-07],\n",
       "       [ 7.29820753e-07, -4.84564481e-07, -6.19147151e-07,\n",
       "        -3.11154743e-07, -5.94598076e-08, -1.32871786e-07,\n",
       "        -3.22328972e-07, -9.57011981e-07, -1.29638008e-06,\n",
       "        -6.91816540e-07, -2.90003996e-07, -9.79369543e-07,\n",
       "        -1.15352387e-06, -3.32395709e-07, -4.34671919e-07,\n",
       "        -1.13608214e-06, -9.38092696e-07, -4.12960340e-07,\n",
       "        -5.39939252e-07, -8.10655489e-07, -8.65689587e-07,\n",
       "        -7.59084136e-07, -5.90884347e-07, -4.37635777e-07],\n",
       "       [ 6.90019746e-07, -9.80968431e-08,  1.08275410e-07,\n",
       "        -2.75205490e-08,  2.30438397e-07,  2.56885328e-07,\n",
       "         8.61146228e-08, -8.58222337e-07, -1.54931344e-06,\n",
       "        -7.96569860e-07, -1.06360431e-07, -9.71654936e-07,\n",
       "        -1.28450814e-06, -4.69357830e-08,  5.98874857e-08,\n",
       "        -9.81891891e-07, -1.04183393e-06, -4.14460197e-07,\n",
       "        -3.31377733e-07, -4.69210097e-07, -7.59084136e-07,\n",
       "        -1.02008853e-06, -7.68159368e-07, -2.81686902e-07],\n",
       "       [ 6.38683500e-07, -6.37917580e-07, -7.52296406e-07,\n",
       "        -3.72551917e-07, -2.20753965e-07, -2.46243714e-07,\n",
       "        -3.44072616e-07, -9.93304751e-07, -1.44761975e-06,\n",
       "        -8.70401448e-07, -3.47789459e-07, -9.80195987e-07,\n",
       "        -1.30300467e-06, -4.67313521e-07, -3.32483894e-07,\n",
       "        -1.00869456e-06, -1.05267849e-06, -6.40110365e-07,\n",
       "        -6.51279451e-07, -6.87666142e-07, -5.90884347e-07,\n",
       "        -7.68159368e-07, -9.79066563e-07, -7.07629346e-07],\n",
       "       [ 4.57870875e-07, -1.00922336e-06, -1.45612512e-06,\n",
       "        -6.37142626e-07, -6.02862801e-07, -7.01328065e-07,\n",
       "        -7.06262975e-07, -8.29820958e-07, -8.69628771e-07,\n",
       "        -6.56096474e-07, -5.29271562e-07, -7.86404977e-07,\n",
       "        -9.48993575e-07, -7.56976981e-07, -7.75459456e-07,\n",
       "        -9.03746512e-07, -7.53923463e-07, -5.93624891e-07,\n",
       "        -7.71372325e-07, -8.32986581e-07, -4.37635777e-07,\n",
       "        -2.81686902e-07, -7.07629346e-07, -9.03863432e-07]])"
      ]
     },
     "execution_count": 37,
     "metadata": {},
     "output_type": "execute_result"
    }
   ],
   "source": [
    "my_cov(X_vec) - np.cov(X_vec.T)"
   ]
  },
  {
   "cell_type": "code",
   "execution_count": 41,
   "metadata": {},
   "outputs": [],
   "source": [
    "res1_1_2 = np.corrcoef(X_vec.T)"
   ]
  },
  {
   "cell_type": "code",
   "execution_count": 48,
   "metadata": {},
   "outputs": [],
   "source": [
    "def my_corr(X):\n",
    "    c = my_cov(X)\n",
    "    try:\n",
    "        d = np.diag(c)\n",
    "    except ValueError:\n",
    "        # scalar covariance\n",
    "        # nan if incorrect value (nan, inf, 0), 1 otherwise\n",
    "        return c / c\n",
    "    stddev = np.sqrt(d.real)\n",
    "    print(stddev)\n",
    "    print(stddev[None, :])\n",
    "    c /= stddev[:, None]\n",
    "    c /= stddev[None, :]\n",
    "\n",
    "    # Clip real and imaginary parts to [-1, 1].  This does not guarantee\n",
    "    # abs(a[i,j]) <= 1 for complex arrays, but is the best we can do without\n",
    "    # excessive work.\n",
    "    np.clip(c.real, -1, 1, out=c.real)\n",
    "    if np.iscomplexobj(c):\n",
    "        np.clip(c.imag, -1, 1, out=c.imag)\n",
    "\n",
    "    return c"
   ]
  },
  {
   "cell_type": "code",
   "execution_count": 50,
   "metadata": {},
   "outputs": [
    {
     "data": {
      "text/plain": [
       "array([[-1.11022302e-16,  5.55111512e-17,  5.55111512e-17,\n",
       "         0.00000000e+00,  0.00000000e+00,  0.00000000e+00,\n",
       "         1.38777878e-17,  5.55111512e-17,  5.55111512e-17,\n",
       "         5.55111512e-17,  8.32667268e-17,  0.00000000e+00,\n",
       "         5.55111512e-17,  8.32667268e-17,  5.55111512e-17,\n",
       "         5.55111512e-17,  5.55111512e-17,  2.77555756e-17,\n",
       "         0.00000000e+00,  5.55111512e-17,  1.11022302e-16,\n",
       "         0.00000000e+00, -5.55111512e-17,  1.11022302e-16],\n",
       "       [ 0.00000000e+00,  2.22044605e-16,  1.11022302e-16,\n",
       "         1.11022302e-16,  0.00000000e+00,  0.00000000e+00,\n",
       "         0.00000000e+00, -5.55111512e-17,  0.00000000e+00,\n",
       "         1.38777878e-17, -1.11022302e-16,  0.00000000e+00,\n",
       "         0.00000000e+00,  2.77555756e-17,  5.55111512e-17,\n",
       "         5.55111512e-17,  0.00000000e+00, -5.55111512e-17,\n",
       "         0.00000000e+00,  0.00000000e+00,  0.00000000e+00,\n",
       "         0.00000000e+00,  0.00000000e+00,  0.00000000e+00],\n",
       "       [ 0.00000000e+00,  1.11022302e-16,  0.00000000e+00,\n",
       "         1.11022302e-16, -5.55111512e-17,  0.00000000e+00,\n",
       "        -1.11022302e-16, -1.11022302e-16,  2.77555756e-17,\n",
       "         1.38777878e-17, -5.55111512e-17,  0.00000000e+00,\n",
       "        -2.77555756e-17,  0.00000000e+00, -1.11022302e-16,\n",
       "         5.55111512e-17,  0.00000000e+00, -5.55111512e-17,\n",
       "         0.00000000e+00,  1.11022302e-16, -5.55111512e-17,\n",
       "         6.93889390e-18,  2.77555756e-17, -1.11022302e-16],\n",
       "       [ 0.00000000e+00,  2.22044605e-16,  1.11022302e-16,\n",
       "         0.00000000e+00,  1.11022302e-16,  0.00000000e+00,\n",
       "         1.11022302e-16, -5.55111512e-17,  0.00000000e+00,\n",
       "         0.00000000e+00, -5.55111512e-17,  0.00000000e+00,\n",
       "         0.00000000e+00,  0.00000000e+00,  2.77555756e-17,\n",
       "         0.00000000e+00,  5.55111512e-17,  0.00000000e+00,\n",
       "         5.55111512e-17,  0.00000000e+00, -2.77555756e-17,\n",
       "         1.73472348e-18,  2.77555756e-17,  0.00000000e+00],\n",
       "       [ 1.38777878e-17,  0.00000000e+00,  0.00000000e+00,\n",
       "         0.00000000e+00,  0.00000000e+00,  0.00000000e+00,\n",
       "         0.00000000e+00, -2.77555756e-17,  0.00000000e+00,\n",
       "        -2.77555756e-17,  0.00000000e+00,  2.77555756e-17,\n",
       "         0.00000000e+00, -2.77555756e-17, -5.55111512e-17,\n",
       "         0.00000000e+00,  0.00000000e+00,  0.00000000e+00,\n",
       "         5.55111512e-17,  0.00000000e+00,  0.00000000e+00,\n",
       "         0.00000000e+00,  2.77555756e-17,  0.00000000e+00],\n",
       "       [ 0.00000000e+00,  0.00000000e+00,  5.55111512e-17,\n",
       "         1.11022302e-16,  0.00000000e+00,  0.00000000e+00,\n",
       "         2.22044605e-16, -5.55111512e-17,  0.00000000e+00,\n",
       "         0.00000000e+00, -5.55111512e-17,  0.00000000e+00,\n",
       "         1.38777878e-17, -5.55111512e-17,  0.00000000e+00,\n",
       "         0.00000000e+00,  0.00000000e+00, -5.55111512e-17,\n",
       "         5.55111512e-17,  0.00000000e+00,  1.38777878e-17,\n",
       "         0.00000000e+00,  2.77555756e-17,  5.55111512e-17],\n",
       "       [ 0.00000000e+00,  0.00000000e+00,  0.00000000e+00,\n",
       "         2.22044605e-16,  2.22044605e-16,  1.11022302e-16,\n",
       "         0.00000000e+00,  0.00000000e+00,  1.38777878e-17,\n",
       "         6.93889390e-18, -5.55111512e-17,  2.77555756e-17,\n",
       "         2.77555756e-17,  5.55111512e-17,  0.00000000e+00,\n",
       "         5.55111512e-17,  2.77555756e-17,  0.00000000e+00,\n",
       "         1.66533454e-16,  5.55111512e-17,  2.77555756e-17,\n",
       "        -6.93889390e-18,  5.55111512e-17, -5.55111512e-17],\n",
       "       [ 5.55111512e-17,  0.00000000e+00,  0.00000000e+00,\n",
       "         0.00000000e+00, -2.77555756e-17, -5.55111512e-17,\n",
       "         0.00000000e+00, -1.11022302e-16, -1.11022302e-16,\n",
       "         0.00000000e+00,  0.00000000e+00, -1.11022302e-16,\n",
       "         0.00000000e+00, -2.77555756e-17, -2.77555756e-17,\n",
       "         0.00000000e+00,  0.00000000e+00, -1.11022302e-16,\n",
       "         0.00000000e+00, -1.11022302e-16, -2.22044605e-16,\n",
       "         0.00000000e+00,  0.00000000e+00, -1.11022302e-16],\n",
       "       [ 1.11022302e-16, -2.77555756e-17,  2.77555756e-17,\n",
       "         0.00000000e+00, -1.38777878e-17,  0.00000000e+00,\n",
       "         0.00000000e+00, -1.11022302e-16,  0.00000000e+00,\n",
       "        -1.11022302e-16,  0.00000000e+00,  1.11022302e-16,\n",
       "        -1.11022302e-16, -1.38777878e-17,  0.00000000e+00,\n",
       "         1.11022302e-16,  0.00000000e+00, -1.11022302e-16,\n",
       "        -5.55111512e-17,  0.00000000e+00, -1.11022302e-16,\n",
       "         1.11022302e-16,  1.11022302e-16, -5.55111512e-17],\n",
       "       [ 5.55111512e-17,  1.38777878e-17,  0.00000000e+00,\n",
       "         0.00000000e+00, -2.77555756e-17, -1.38777878e-17,\n",
       "         6.93889390e-18,  0.00000000e+00,  0.00000000e+00,\n",
       "         0.00000000e+00, -1.11022302e-16,  0.00000000e+00,\n",
       "        -1.11022302e-16,  0.00000000e+00, -1.38777878e-17,\n",
       "         0.00000000e+00,  1.11022302e-16,  0.00000000e+00,\n",
       "         0.00000000e+00,  5.55111512e-17, -1.11022302e-16,\n",
       "         0.00000000e+00,  2.22044605e-16,  0.00000000e+00],\n",
       "       [ 5.55111512e-17, -5.55111512e-17, -1.11022302e-16,\n",
       "        -5.55111512e-17, -5.55111512e-17, -5.55111512e-17,\n",
       "        -5.55111512e-17, -5.55111512e-17,  0.00000000e+00,\n",
       "        -1.11022302e-16, -2.22044605e-16,  0.00000000e+00,\n",
       "        -5.55111512e-17,  0.00000000e+00, -1.11022302e-16,\n",
       "         0.00000000e+00, -5.55111512e-17, -1.11022302e-16,\n",
       "        -5.55111512e-17, -1.11022302e-16, -1.11022302e-16,\n",
       "         0.00000000e+00,  0.00000000e+00,  0.00000000e+00],\n",
       "       [ 5.55111512e-17,  0.00000000e+00,  0.00000000e+00,\n",
       "         0.00000000e+00,  0.00000000e+00,  1.38777878e-17,\n",
       "         5.55111512e-17, -1.11022302e-16,  1.11022302e-16,\n",
       "         0.00000000e+00, -1.11022302e-16,  0.00000000e+00,\n",
       "         0.00000000e+00,  0.00000000e+00,  0.00000000e+00,\n",
       "         1.11022302e-16,  0.00000000e+00,  0.00000000e+00,\n",
       "         0.00000000e+00, -1.11022302e-16, -1.11022302e-16,\n",
       "         0.00000000e+00,  1.11022302e-16,  1.11022302e-16],\n",
       "       [ 5.55111512e-17,  0.00000000e+00, -2.77555756e-17,\n",
       "        -2.77555756e-17,  0.00000000e+00,  1.38777878e-17,\n",
       "         2.77555756e-17,  0.00000000e+00, -1.11022302e-16,\n",
       "        -1.11022302e-16, -5.55111512e-17, -1.11022302e-16,\n",
       "         1.11022302e-16, -1.11022302e-16,  0.00000000e+00,\n",
       "         0.00000000e+00, -1.11022302e-16, -1.11022302e-16,\n",
       "        -1.11022302e-16,  0.00000000e+00, -1.11022302e-16,\n",
       "        -1.11022302e-16,  1.11022302e-16,  0.00000000e+00],\n",
       "       [ 8.32667268e-17, -2.77555756e-17,  0.00000000e+00,\n",
       "         0.00000000e+00, -2.77555756e-17,  5.55111512e-17,\n",
       "         0.00000000e+00, -5.55111512e-17,  0.00000000e+00,\n",
       "        -2.77555756e-17, -5.55111512e-17,  0.00000000e+00,\n",
       "        -5.55111512e-17,  0.00000000e+00,  1.11022302e-16,\n",
       "         0.00000000e+00, -2.77555756e-17, -5.55111512e-17,\n",
       "         0.00000000e+00, -1.11022302e-16,  5.55111512e-17,\n",
       "         0.00000000e+00,  5.55111512e-17,  0.00000000e+00],\n",
       "       [ 5.55111512e-17, -5.55111512e-17, -1.11022302e-16,\n",
       "         2.77555756e-17,  0.00000000e+00,  5.55111512e-17,\n",
       "         0.00000000e+00, -5.55111512e-17, -3.46944695e-18,\n",
       "         0.00000000e+00, -5.55111512e-17,  0.00000000e+00,\n",
       "        -1.38777878e-17,  0.00000000e+00,  0.00000000e+00,\n",
       "         0.00000000e+00, -5.55111512e-17, -2.77555756e-17,\n",
       "         0.00000000e+00,  0.00000000e+00,  0.00000000e+00,\n",
       "        -6.93889390e-18,  0.00000000e+00,  0.00000000e+00],\n",
       "       [ 1.11022302e-16,  5.55111512e-17,  1.11022302e-16,\n",
       "         5.55111512e-17,  0.00000000e+00,  2.77555756e-17,\n",
       "         2.77555756e-17,  0.00000000e+00,  0.00000000e+00,\n",
       "         0.00000000e+00, -5.55111512e-17,  1.11022302e-16,\n",
       "         0.00000000e+00,  0.00000000e+00,  0.00000000e+00,\n",
       "         1.11022302e-16,  0.00000000e+00,  0.00000000e+00,\n",
       "         1.11022302e-16,  1.11022302e-16,  0.00000000e+00,\n",
       "         0.00000000e+00,  1.11022302e-16,  0.00000000e+00],\n",
       "       [ 5.55111512e-17, -5.55111512e-17,  0.00000000e+00,\n",
       "         0.00000000e+00,  0.00000000e+00,  0.00000000e+00,\n",
       "         2.77555756e-17,  0.00000000e+00,  0.00000000e+00,\n",
       "         1.11022302e-16, -5.55111512e-17, -1.11022302e-16,\n",
       "        -1.11022302e-16,  0.00000000e+00,  0.00000000e+00,\n",
       "         1.11022302e-16, -1.11022302e-16, -2.22044605e-16,\n",
       "         0.00000000e+00, -1.11022302e-16,  0.00000000e+00,\n",
       "         0.00000000e+00,  0.00000000e+00,  0.00000000e+00],\n",
       "       [ 2.77555756e-17,  0.00000000e+00, -1.11022302e-16,\n",
       "         5.55111512e-17, -2.77555756e-17, -5.55111512e-17,\n",
       "         5.55111512e-17, -1.11022302e-16, -5.55111512e-17,\n",
       "         0.00000000e+00, -1.11022302e-16,  0.00000000e+00,\n",
       "        -2.22044605e-16, -5.55111512e-17, -2.77555756e-17,\n",
       "         0.00000000e+00, -2.22044605e-16, -2.22044605e-16,\n",
       "         0.00000000e+00,  0.00000000e+00, -5.55111512e-17,\n",
       "        -5.55111512e-17,  0.00000000e+00,  0.00000000e+00],\n",
       "       [ 5.55111512e-17,  0.00000000e+00,  0.00000000e+00,\n",
       "         5.55111512e-17,  5.55111512e-17,  5.55111512e-17,\n",
       "         5.55111512e-17,  0.00000000e+00,  0.00000000e+00,\n",
       "         5.55111512e-17,  5.55111512e-17,  0.00000000e+00,\n",
       "        -1.11022302e-16,  0.00000000e+00,  0.00000000e+00,\n",
       "         1.11022302e-16, -1.11022302e-16,  0.00000000e+00,\n",
       "         0.00000000e+00,  1.11022302e-16, -1.11022302e-16,\n",
       "         0.00000000e+00,  1.11022302e-16,  0.00000000e+00],\n",
       "       [ 5.55111512e-17, -5.55111512e-17,  0.00000000e+00,\n",
       "         0.00000000e+00,  5.55111512e-17,  0.00000000e+00,\n",
       "         1.11022302e-16, -2.22044605e-16,  1.11022302e-16,\n",
       "        -5.55111512e-17, -5.55111512e-17, -1.11022302e-16,\n",
       "         1.11022302e-16,  0.00000000e+00,  0.00000000e+00,\n",
       "         1.11022302e-16, -1.11022302e-16, -1.11022302e-16,\n",
       "         1.11022302e-16,  0.00000000e+00,  0.00000000e+00,\n",
       "         5.55111512e-17,  1.11022302e-16,  0.00000000e+00],\n",
       "       [ 1.11022302e-16, -2.77555756e-17, -2.77555756e-17,\n",
       "        -2.77555756e-17,  0.00000000e+00,  0.00000000e+00,\n",
       "         0.00000000e+00, -1.11022302e-16, -1.11022302e-16,\n",
       "         0.00000000e+00, -5.55111512e-17,  0.00000000e+00,\n",
       "        -2.22044605e-16,  0.00000000e+00,  0.00000000e+00,\n",
       "         2.22044605e-16, -1.11022302e-16, -5.55111512e-17,\n",
       "        -1.11022302e-16,  0.00000000e+00,  0.00000000e+00,\n",
       "         0.00000000e+00,  1.11022302e-16, -5.55111512e-17],\n",
       "       [ 0.00000000e+00,  0.00000000e+00,  0.00000000e+00,\n",
       "         1.73472348e-18,  0.00000000e+00, -2.77555756e-17,\n",
       "         0.00000000e+00, -5.55111512e-17,  0.00000000e+00,\n",
       "         0.00000000e+00,  0.00000000e+00,  1.11022302e-16,\n",
       "        -1.11022302e-16, -6.93889390e-18, -6.93889390e-18,\n",
       "         1.11022302e-16,  1.11022302e-16, -5.55111512e-17,\n",
       "         0.00000000e+00,  0.00000000e+00,  1.11022302e-16,\n",
       "         2.22044605e-16,  1.11022302e-16,  0.00000000e+00],\n",
       "       [ 0.00000000e+00,  0.00000000e+00,  8.32667268e-17,\n",
       "         2.77555756e-17,  1.38777878e-17,  0.00000000e+00,\n",
       "         2.77555756e-17,  0.00000000e+00,  1.11022302e-16,\n",
       "         1.11022302e-16,  5.55111512e-17,  1.11022302e-16,\n",
       "         1.11022302e-16,  0.00000000e+00, -5.55111512e-17,\n",
       "         2.22044605e-16,  1.11022302e-16,  0.00000000e+00,\n",
       "         1.11022302e-16,  0.00000000e+00,  1.11022302e-16,\n",
       "         1.11022302e-16,  2.22044605e-16,  1.11022302e-16],\n",
       "       [ 5.55111512e-17,  5.55111512e-17, -1.11022302e-16,\n",
       "         5.55111512e-17, -5.55111512e-17,  0.00000000e+00,\n",
       "         5.55111512e-17, -1.11022302e-16,  0.00000000e+00,\n",
       "         0.00000000e+00,  1.11022302e-16,  0.00000000e+00,\n",
       "         1.11022302e-16,  0.00000000e+00, -1.11022302e-16,\n",
       "         0.00000000e+00,  0.00000000e+00, -1.11022302e-16,\n",
       "         1.11022302e-16,  0.00000000e+00,  0.00000000e+00,\n",
       "         0.00000000e+00,  1.11022302e-16,  0.00000000e+00]])"
      ]
     },
     "execution_count": 50,
     "metadata": {},
     "output_type": "execute_result"
    }
   ],
   "source": [
    "my_corr(X_vec) - res1_1_2"
   ]
  },
  {
   "cell_type": "code",
   "execution_count": null,
   "metadata": {},
   "outputs": [],
   "source": []
  }
 ],
 "metadata": {
  "kernelspec": {
   "display_name": "Python 3",
   "language": "python",
   "name": "python3"
  },
  "language_info": {
   "codemirror_mode": {
    "name": "ipython",
    "version": 3
   },
   "file_extension": ".py",
   "mimetype": "text/x-python",
   "name": "python",
   "nbconvert_exporter": "python",
   "pygments_lexer": "ipython3",
   "version": "3.7.7"
  }
 },
 "nbformat": 4,
 "nbformat_minor": 2
}
