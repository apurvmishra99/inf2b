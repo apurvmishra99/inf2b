{
 "cells": [
  {
   "cell_type": "code",
   "execution_count": 8,
   "metadata": {},
   "outputs": [],
   "source": [
    "import numpy as np\n",
    "import scipy\n",
    "from scipy.stats import multivariate_normal"
   ]
  },
  {
   "cell_type": "code",
   "execution_count": 9,
   "metadata": {},
   "outputs": [],
   "source": [
    "A, B = np.genfromtxt(\"data/task2_data.txt\", usecols=range(1,9))"
   ]
  },
  {
   "cell_type": "code",
   "execution_count": 10,
   "metadata": {},
   "outputs": [
    {
     "data": {
      "text/plain": [
       "array([1.78269, 1.41994, 2.39558, 1.21721, 2.50196, 1.92164, 2.09783,\n",
       "       2.19345])"
      ]
     },
     "execution_count": 10,
     "metadata": {},
     "output_type": "execute_result"
    }
   ],
   "source": [
    "A"
   ]
  },
  {
   "cell_type": "code",
   "execution_count": 11,
   "metadata": {},
   "outputs": [
    {
     "data": {
      "text/plain": [
       "array([-0.500439,  0.936184,  2.7479  ,  6.90028 ,  3.39415 ,  2.08816 ,\n",
       "        6.39042 , -1.08549 ])"
      ]
     },
     "execution_count": 11,
     "metadata": {},
     "output_type": "execute_result"
    }
   ],
   "source": [
    "B"
   ]
  },
  {
   "cell_type": "code",
   "execution_count": 12,
   "metadata": {},
   "outputs": [],
   "source": [
    "pointsA = list(zip(A[::2],A[1::2]))"
   ]
  },
  {
   "cell_type": "code",
   "execution_count": 13,
   "metadata": {},
   "outputs": [
    {
     "data": {
      "text/plain": [
       "[(1.78269, 1.41994),\n",
       " (2.39558, 1.21721),\n",
       " (2.50196, 1.92164),\n",
       " (2.09783, 2.19345)]"
      ]
     },
     "execution_count": 13,
     "metadata": {},
     "output_type": "execute_result"
    }
   ],
   "source": [
    "pointsA"
   ]
  },
  {
   "cell_type": "code",
   "execution_count": 14,
   "metadata": {},
   "outputs": [],
   "source": [
    "pointsB = list(zip(B[::2],B[1::2]))"
   ]
  },
  {
   "cell_type": "code",
   "execution_count": 15,
   "metadata": {},
   "outputs": [
    {
     "data": {
      "text/plain": [
       "[(-0.500439, 0.936184),\n",
       " (2.7479, 6.90028),\n",
       " (3.39415, 2.08816),\n",
       " (6.39042, -1.08549)]"
      ]
     },
     "execution_count": 15,
     "metadata": {},
     "output_type": "execute_result"
    }
   ],
   "source": [
    "pointsB"
   ]
  },
  {
   "cell_type": "code",
   "execution_count": 16,
   "metadata": {},
   "outputs": [],
   "source": [
    "def step(x):\n",
    "    return 1 * (x > 0)"
   ]
  },
  {
   "cell_type": "code",
   "execution_count": 17,
   "metadata": {},
   "outputs": [],
   "source": [
    "def task2_hNeuron(W, X):\n",
    "    X = X.T\n",
    "    bias = W[0]\n",
    "    W = np.delete(W, 0, 0)\n",
    "    # W shape == (D x 1)\n",
    "    # X.shape == (D x N)\n",
    "    Y = (W.T @ X) + bias\n",
    "    # Y shape == (N x 1)\n",
    "    return step(Y.T)"
   ]
  },
  {
   "cell_type": "code",
   "execution_count": 18,
   "metadata": {},
   "outputs": [],
   "source": [
    "def sigmoid(x):\n",
    "  # Our activation function: f(x) = 1 / (1 + e^(-x))\n",
    "    print(x)\n",
    "    return 1 / (1 + np.exp(-x))"
   ]
  },
  {
   "cell_type": "code",
   "execution_count": 19,
   "metadata": {},
   "outputs": [],
   "source": [
    "def task2_sNeuron(W, X):\n",
    "    X = X.T\n",
    "    bias = W[0]\n",
    "    W = np.delete(W, 0, 0)\n",
    "    # W.T shape == (1 x D)\n",
    "    Y = (W.T @ X) + bias\n",
    "    # a shape == (1 x N)\n",
    "    return sigmoid(Y.T)"
   ]
  },
  {
   "cell_type": "code",
   "execution_count": 20,
   "metadata": {},
   "outputs": [],
   "source": [
    "def task2_hNN_A(X):\n",
    "#     # Weights for first laye\n",
    "#     W1 = np.asanyarray([ 1., -0.83043762,0.3383332 ]).reshape((3,1))\n",
    "#     W2 = np.asanyarray([ 1., -0.18659937, -0.27743793]).reshape((3,1))\n",
    "#     W3 = np.asanyarray([ 1., -0.45212818, 0.06827846]).reshape((3,1))\n",
    "#     W4 = np.asanyarray([ 1., -0.16459742,-0.49760822]).reshape((3,1))\n",
    "\n",
    "    \n",
    "\n",
    "#     # Outputs from first layer\n",
    "#     Y1 = task2_hNeuron(w1, X)\n",
    "#     Y2 = task2_hNeuron(w2, X)\n",
    "#     Y3 = task2_hNeuron(w3, X)\n",
    "#     Y4 = task2_hNeuron(w4, X)\n",
    "    \n",
    "# #     #  Weights for second layer\n",
    "# #     W5 = np.array([-3.5, 1, 1, 1, 1]).reshape((5,1))\n",
    "\n",
    "#     iny1 =np.c_[Y1,Y2]\n",
    "#     #iny2 =np.concatenate((x3,x4),axis=1)\n",
    "#     iny2 =np.c_[Y3,Y4]\n",
    "\n",
    "#     y1 = task2_hNeuron(np.array([-1,1,1]),iny1)\n",
    "#     y2 = task2_hNeuron(np.array([-1,1,1]),iny2)\n",
    "\n",
    "#     '''\n",
    "#     Layer 3\n",
    "#     '''\n",
    "\n",
    "#     z =np.c_[y1,y2]\n",
    "\n",
    "#     Y = task2_hNeuron(np.array([-1,1,1]),z)\n",
    "    \n",
    "# #     X_new = np.hstack((Y1, Y2, Y3, Y4))\n",
    "# #     Y = task2_hNeuron(W5, X_new)\n",
    "#     return Y\n",
    "\n",
    "\n",
    "    # Weights for first layer\n",
    "    W1 = w1.reshape((3,1))\n",
    "    W2 = w2.reshape((3,1))\n",
    "    W3 = w3.reshape((3,1))\n",
    "    W4 = w4.reshape((3,1))\n",
    "    \n",
    "#     W1 = w5.reshape((3,1))\n",
    "#     W2 = w6.reshape((3,1))\n",
    "#     W3 = w7.reshape((3,1))\n",
    "#     W4 = w8.reshape((3,1))\n",
    "\n",
    "    # Outputs from first layer\n",
    "    Y1 = task2_hNeuron(W1, X)\n",
    "    Y2 = task2_hNeuron(W2, X)\n",
    "    Y3 = task2_hNeuron(W3, X)\n",
    "    Y4 = task2_hNeuron(W4, X)\n",
    "    \n",
    "    # Weights for second layertask2\n",
    "    W5 = np.array([-3.5, 1, 1, 1, 1]).reshape((5,1))\n",
    "\n",
    "#     iny1 =np.c_[Y1,Y2]\n",
    "#     #iny2 =np.concatenate((x3,x4),axis=1)\n",
    "#     iny2 =np.c_[Y3,Y4]\n",
    "\n",
    "#     y1 = task2_hNeuron(np.array([-1,1,1]).reshape((3,1)),iny1)\n",
    "#     y2 = task2_hNeuron(np.array([-1,1,1]).reshape((3,1)),iny2)\n",
    "\n",
    "#     '''\n",
    "#     Layer 3\n",
    "#     '''\n",
    "\n",
    "#     z =np.c_[y1,y2]\n",
    "\n",
    "#     Y = task2_hNeuron(np.array([-1,1,1]).reshape((3,1)),z)\n",
    "    \n",
    "    X_new = np.hstack((Y1, Y2, Y3, Y4))\n",
    "    Y = task2_hNeuron(W5, X_new)\n",
    "    return Y"
   ]
  },
  {
   "cell_type": "code",
   "execution_count": 21,
   "metadata": {},
   "outputs": [
    {
     "name": "stdout",
     "output_type": "stream",
     "text": [
      "(4, 2)\n"
     ]
    }
   ],
   "source": [
    "X = np.asanyarray([[0, 0], [2.38638639, 1.22122122],\n",
    "       [2.39039039, 1.22122122],[2.28628629, 1.31731732]])\n",
    "print(X.shape)"
   ]
  },
  {
   "cell_type": "code",
   "execution_count": 22,
   "metadata": {},
   "outputs": [],
   "source": [
    "import matplotlib.pyplot as plt\n",
    "from matplotlib import cm\n",
    "import matplotlib.patches as mpatches"
   ]
  },
  {
   "cell_type": "code",
   "execution_count": 23,
   "metadata": {},
   "outputs": [
    {
     "data": {
      "image/png": "[encoded data removed]",
      "text/plain": [
       "<Figure size 432x288 with 1 Axes>"
      ]
     },
     "metadata": {
      "needs_background": "light"
     },
     "output_type": "display_data"
    }
   ],
   "source": [
    "# Generate points between 0 and 10 to classify\n",
    "x_points = np.linspace(-2,7, 1000)\n",
    "y_points = np.linspace(-2,7,1000)\n",
    "xx, yy = np.meshgrid(x_points, y_points)\n",
    "gridX = np.vstack((xx.ravel(), yy.ravel()))\n",
    "\n",
    "\n",
    "# Classify the points and reshape the result to fit the plot function\n",
    "data = task2_hNN_A(gridX.T)\n",
    "data = data.reshape((x_points.shape[0], y_points.shape[0]))\n",
    "# Setup the plot title and axis\n",
    "plt.title('Task 2.5 Plot')\n",
    "plt.xticks(np.arange(-2, 12, 0.5), fontsize=7)\n",
    "plt.yticks(np.arange(-2, 12, 0.5),fontsize=7)\n",
    "plt.xlabel('x', fontsize=18)\n",
    "plt.ylabel('y', fontsize=18)\n",
    "\n",
    "# Setup legend\n",
    "\n",
    "blue_patch_legend = mpatches.Patch(color='lightblue', label='~A')\n",
    "purple_patch_legend = mpatches.Patch(color='purple', label='A')\n",
    "plt.legend(loc='best', fancybox=True, framealpha=0.1, handles=[blue_patch_legend, purple_patch_legend], facecolor='black', fontsize=12)\n",
    "\n",
    "# Plot data and show result\n",
    "plt.contourf(xx, yy, data, cmap=cm.BuPu)\n",
    "plt.show()"
   ]
  },
  {
   "cell_type": "code",
   "execution_count": 24,
   "metadata": {},
   "outputs": [],
   "source": [
    "from matplotlib import path\n",
    "p = path.Path(list(zip(A[::2],A[1::2])), closed=True)"
   ]
  },
  {
   "cell_type": "code",
   "execution_count": 25,
   "metadata": {},
   "outputs": [
    {
     "data": {
      "text/plain": [
       "Path(array([[1.78269, 1.41994],\n",
       "       [2.39558, 1.21721],\n",
       "       [2.50196, 1.92164],\n",
       "       [2.09783, 2.19345]]), array([ 1,  2,  2, 79], dtype=uint8))"
      ]
     },
     "execution_count": 25,
     "metadata": {},
     "output_type": "execute_result"
    }
   ],
   "source": [
    "p"
   ]
  },
  {
   "cell_type": "code",
   "execution_count": 26,
   "metadata": {},
   "outputs": [],
   "source": [
    "x_points = np.linspace(0,4, 1000)\n",
    "y_points = np.linspace(0,4,1000)\n",
    "xx, yy = np.meshgrid(x_points, y_points)\n",
    "gridX = np.vstack((xx.ravel(), yy.ravel()))\n",
    "gridX = gridX.T"
   ]
  },
  {
   "cell_type": "code",
   "execution_count": 27,
   "metadata": {},
   "outputs": [],
   "source": [
    "actual = p.contains_points(gridX)"
   ]
  },
  {
   "cell_type": "code",
   "execution_count": 28,
   "metadata": {},
   "outputs": [
    {
     "data": {
      "text/plain": [
       "array([0, 0, 0, ..., 0, 0, 0])"
      ]
     },
     "execution_count": 28,
     "metadata": {},
     "output_type": "execute_result"
    }
   ],
   "source": [
    "actual.astype(int)"
   ]
  },
  {
   "cell_type": "code",
   "execution_count": 29,
   "metadata": {},
   "outputs": [],
   "source": [
    "inside = gridX[actual == True]"
   ]
  },
  {
   "cell_type": "code",
   "execution_count": 30,
   "metadata": {},
   "outputs": [],
   "source": [
    "outside = gridX[actual == False]"
   ]
  },
  {
   "cell_type": "code",
   "execution_count": 31,
   "metadata": {},
   "outputs": [
    {
     "data": {
      "text/plain": [
       "array([2.28628629, 1.31731732])"
      ]
     },
     "execution_count": 31,
     "metadata": {},
     "output_type": "execute_result"
    }
   ],
   "source": [
    "inside[1000]"
   ]
  },
  {
   "cell_type": "code",
   "execution_count": 32,
   "metadata": {},
   "outputs": [
    {
     "data": {
      "text/plain": [
       "985865"
      ]
     },
     "execution_count": 32,
     "metadata": {},
     "output_type": "execute_result"
    }
   ],
   "source": [
    "len(outside)"
   ]
  },
  {
   "cell_type": "code",
   "execution_count": 33,
   "metadata": {},
   "outputs": [],
   "source": [
    "w = np.array([1,-0.15385466,-0.16773093])"
   ]
  },
  {
   "cell_type": "code",
   "execution_count": 34,
   "metadata": {},
   "outputs": [
    {
     "data": {
      "text/plain": [
       "array([[ 1.        ],\n",
       "       [-0.15385466],\n",
       "       [-0.16773093]])"
      ]
     },
     "execution_count": 34,
     "metadata": {},
     "output_type": "execute_result"
    }
   ],
   "source": [
    "w[:, np.newaxis]"
   ]
  },
  {
   "cell_type": "code",
   "execution_count": 35,
   "metadata": {},
   "outputs": [],
   "source": [
    "import scipy.io as sio"
   ]
  },
  {
   "cell_type": "code",
   "execution_count": 36,
   "metadata": {},
   "outputs": [],
   "source": [
    "weights = sio.loadmat(\"data/weights.mat\")"
   ]
  },
  {
   "cell_type": "code",
   "execution_count": 37,
   "metadata": {},
   "outputs": [],
   "source": [
    "w1, w2, w3, w4 = weights['weightMatrix'].T"
   ]
  },
  {
   "cell_type": "code",
   "execution_count": 38,
   "metadata": {},
   "outputs": [],
   "source": [
    "w5, w6, w7, w8 = np.asanyarray([[ 1. ,    0.98977494, -0.53907994], \n",
    " [ 1.,-0.27213978,-0.03654737],\n",
    " [ 1.,-0.18637246,-0.17595583],\n",
    " [-0.78936275, 0.2933849, 1.]])"
   ]
  },
  {
   "cell_type": "code",
   "execution_count": 39,
   "metadata": {},
   "outputs": [],
   "source": [
    "def task2_hNN_AB(X):\n",
    "    \n",
    "    # Weight vectors for first layer perceptrons\n",
    "    W1 = w1.reshape((3,1))\n",
    "    W2 = w2.reshape((3,1))\n",
    "    W3 = w3.reshape((3,1))\n",
    "    W4 = w4.reshape((3,1))\n",
    "    \n",
    "    W5 = np.array(w5).reshape((3,1))\n",
    "    W6 = np.array(w6).reshape((3,1))\n",
    "    W7 = np.array(w7).reshape((3,1))\n",
    "    W8 = np.array(w8).reshape((3,1))\n",
    "#  Weight vector for second layer perceptron\n",
    "    W9 = np.array([-3.5, 1, 1, 1, 1]).reshape(5,1)\n",
    "\n",
    "    # Outputs from first layer for shape A\n",
    "    Y1 = task2_hNeuron(W1, X)\n",
    "    Y2 = task2_hNeuron(W2, X)\n",
    "    Y3 = task2_hNeuron(W3, X)\n",
    "    Y4 = task2_hNeuron(W4, X)\n",
    "\n",
    "    # Outputs from first layer for shape B\n",
    "    Y5 = task2_hNeuron(W5, X)\n",
    "    Y6 = task2_hNeuron(W6, X)\n",
    "    Y7 = task2_hNeuron(W7, X)\n",
    "    Y8 = task2_hNeuron(W8, X)\n",
    "\n",
    "    # Weights for logical operation neurons\n",
    "    And= np.array([-1.5, 1, 1]).reshape((3,1))\n",
    "    Or = np.array([-0.5, 1, 1]).reshape(3,1)\n",
    "    Not = np.array([0, -1]).reshape((2,1))\n",
    "\n",
    "    X_A = np.hstack((Y1, Y2, Y3, Y4))\n",
    "    X_B = np.hstack((Y5, Y6, Y7, Y8))\n",
    "    # Result of points being in A\n",
    "    Y_A = task2_hNeuron(W9, X_A)\n",
    "    # Result of points being in B\n",
    "    Y_B = task2_hNeuron(W9, X_B)\n",
    "    # Result of points being outside of A\n",
    "#     Y_B = task2_hNeuron(Not, Y_A)\n",
    "\n",
    "    Y_AB = np.hstack((Y_A,Y_B))\n",
    "    Y = task2_hNeuron(np.array([0,-1,1]).reshape((3,1)), Y_AB)\n",
    "\n",
    "    return Y"
   ]
  },
  {
   "cell_type": "code",
   "execution_count": 40,
   "metadata": {},
   "outputs": [],
   "source": [
    "def task2_plot_regions_hNN_AB():\n",
    "    xplot = np.linspace(-2, 7, 1000)\n",
    "    yplot = np.linspace(-2, 7, 1000)\n",
    "    xx, yy = np.meshgrid(xplot, yplot)\n",
    "    gridX = np.vstack((xx.ravel(), yy.ravel()))\n",
    "\n",
    "    # Classify the points and reshape the result to fit the plot function\n",
    "    data = task2_hNN_AB(gridX.T)\n",
    "    data = data.reshape((xplot.shape[0], yplot.shape[0]))\n",
    "\n",
    "    # Setup the plot title and axis\n",
    "    plt.title('Task 2.7 Plot')\n",
    "    plt.xticks(np.arange(-2, 10, 0.5), fontsize=7)\n",
    "    plt.yticks(np.arange(-2, 10, 0.5),fontsize=7)\n",
    "    plt.xlabel('x1', fontsize=15)\n",
    "    plt.ylabel('x2', fontsize=15)\n",
    "\n",
    "    # Setup legend\n",
    "\n",
    "    blue_patch_legend = mpatches.Patch(color='lightblue', label='Class 0')\n",
    "    purple_patch_legend = mpatches.Patch(color='purple', label='Class 1')\n",
    "    plt.legend(loc='best', fancybox=True, framealpha=0.1, handles=[blue_patch_legend, purple_patch_legend], facecolor='black', fontsize=12)\n",
    "\n",
    "    # Plot data and show result\n",
    "    plt.contourf(xx, yy, data, cmap=cm.BuPu)\n",
    "    plt.savefig('t2_regions_hNN_AB.pdf')"
   ]
  },
  {
   "cell_type": "code",
   "execution_count": 41,
   "metadata": {
    "scrolled": true
   },
   "outputs": [
    {
     "data": {
      "image/png": "[encoded data removed]",
      "text/plain": [
       "<Figure size 432x288 with 1 Axes>"
      ]
     },
     "metadata": {
      "needs_background": "light"
     },
     "output_type": "display_data"
    }
   ],
   "source": [
    "task2_plot_regions_hNN_AB()"
   ]
  },
  {
   "cell_type": "code",
   "execution_count": 42,
   "metadata": {},
   "outputs": [
    {
     "data": {
      "text/plain": [
       "array([[-2.0096131 ,  0.33077714,  1.        ],\n",
       "       [ 1.        , -0.45212818,  0.06827846],\n",
       "       [ 1.        , -0.18659937, -0.27743793],\n",
       "       [-1.20418437,  1.        , -0.40741555]])"
      ]
     },
     "execution_count": 42,
     "metadata": {},
     "output_type": "execute_result"
    }
   ],
   "source": [
    "np.array([w1,w2,w3,w4])"
   ]
  },
  {
   "cell_type": "code",
   "execution_count": 43,
   "metadata": {},
   "outputs": [],
   "source": [
    "a = np.array([1, -1, 5, -5, -6])"
   ]
  },
  {
   "cell_type": "code",
   "execution_count": 44,
   "metadata": {},
   "outputs": [
    {
     "data": {
      "text/plain": [
       "-6"
      ]
     },
     "execution_count": 44,
     "metadata": {},
     "output_type": "execute_result"
    }
   ],
   "source": [
    "a[abs(a).argmax()]"
   ]
  },
  {
   "cell_type": "code",
   "execution_count": 45,
   "metadata": {},
   "outputs": [
    {
     "data": {
      "text/plain": [
       "array([], dtype=int64)"
      ]
     },
     "execution_count": 45,
     "metadata": {},
     "output_type": "execute_result"
    }
   ],
   "source": [
    "a[4:0]"
   ]
  },
  {
   "cell_type": "code",
   "execution_count": 64,
   "metadata": {},
   "outputs": [],
   "source": [
    "def task2_sNN_AB(X):\n",
    "    # Weight vectors for first layer perceptrons\n",
    "    W1 = w1.reshape((3,1))\n",
    "    W2 = w2.reshape((3,1))\n",
    "    W3 = w3.reshape((3,1))\n",
    "    W4 = w4.reshape((3,1))\n",
    "    \n",
    "    W5 = np.array(w5).reshape((3,1))\n",
    "    W6 = np.array(w6).reshape((3,1))\n",
    "    W7 = np.array(w7).reshape((3,1))\n",
    "    W8 = np.array(w8).reshape((3,1))\n",
    "#  Weight vector for second layer perceptron\n",
    "    W9 = np.array([-3.5, 1, 1, 1, 1]).reshape(5,1)\n",
    "\n",
    "    # Outputs from first layer for shape A\n",
    "    Y1 = task2_sNeuron(100*W1, X)\n",
    "    Y2 = task2_sNeuron(100*W2, X)\n",
    "    Y3 = task2_sNeuron(100*W3, X)\n",
    "    Y4 = task2_sNeuron(100*W4, X)\n",
    "\n",
    "    # Outputs from first layer for shape B\n",
    "    Y5 = task2_sNeuron(100*W5, X)\n",
    "    Y6 = task2_sNeuron(100*W6, X)\n",
    "    Y7 = task2_sNeuron(100*W7, X)\n",
    "    Y8 = task2_sNeuron(100*W8, X)\n",
    "\n",
    "    # Weights for logical operation neurons\n",
    "    And= np.array([-1.5, 1, 1]).reshape((3,1))\n",
    "    Or = np.array([-0.5, 1, 1]).reshape(3,1)\n",
    "    Not = np.array([0, -1]).reshape((2,1))\n",
    "\n",
    "    X_A = np.hstack((Y1, Y2, Y3, Y4))\n",
    "    X_B = np.hstack((Y5, Y6, Y7, Y8))\n",
    "    # Result of points being in A\n",
    "    Y_A = task2_sNeuron(100*W9, X_A)\n",
    "    # Result of points being in B\n",
    "    Y_B = task2_sNeuron(100*W9, X_B)\n",
    "    # Result of points being outside of A\n",
    "#     Y_B = task2_hNeuron(Not, Y_A)\n",
    "\n",
    "    Y_AB = np.hstack((Y_A,Y_B))\n",
    "    Y = task2_sNeuron(100*np.array([0,-1,1]).reshape((3,1)), Y_AB)\n",
    "\n",
    "    return Y > 0.5"
   ]
  },
  {
   "cell_type": "code",
   "execution_count": 65,
   "metadata": {},
   "outputs": [],
   "source": [
    "def task2_plot_regions_sNN_AB():\n",
    "    xplot = np.linspace(-2, 7, 1000)\n",
    "    yplot = np.linspace(-2, 7, 1000)\n",
    "    xx, yy = np.meshgrid(xplot, yplot)\n",
    "    gridX = np.vstack((xx.ravel(), yy.ravel()))\n",
    "\n",
    "    # Classify the points and reshape the result to fit the plot function\n",
    "    data = task2_sNN_AB(gridX.T)\n",
    "    data = data.reshape((xplot.shape[0], yplot.shape[0]))\n",
    "\n",
    "    # Setup the plot title and axis\n",
    "    plt.title('Task 2.7 Plot')\n",
    "    plt.xticks(np.arange(-2, 10, 0.5), fontsize=7)\n",
    "    plt.yticks(np.arange(-2, 10, 0.5),fontsize=7)\n",
    "    plt.xlabel('x1', fontsize=15)\n",
    "    plt.ylabel('x2', fontsize=15)\n",
    "\n",
    "    # Setup legend\n",
    "\n",
    "    blue_patch_legend = mpatches.Patch(color='lightblue', label='Class 0')\n",
    "    purple_patch_legend = mpatches.Patch(color='purple', label='Class 1')\n",
    "    plt.legend(loc='best', fancybox=True, framealpha=0.1, handles=[blue_patch_legend, purple_patch_legend], facecolor='black', fontsize=12)\n",
    "\n",
    "    # Plot data and show result\n",
    "    plt.contourf(xx, yy, data, cmap=cm.BuPu)\n",
    "#     plt.savefig('t2_regions_sNN_AB.pdf')"
   ]
  },
  {
   "cell_type": "code",
   "execution_count": 66,
   "metadata": {},
   "outputs": [
    {
     "name": "stdout",
     "output_type": "stream",
     "text": [
      "[[-467.11673715]\n",
      " [-466.81873973]\n",
      " [-466.5207423 ]\n",
      " ...\n",
      " [ 729.98669205]\n",
      " [ 730.28468947]\n",
      " [ 730.58268689]]\n",
      "[[ 176.76994388]\n",
      " [ 176.3626212 ]\n",
      " [ 175.95529851]\n",
      " ...\n",
      " [-167.88015821]\n",
      " [-168.2874809 ]\n",
      " [-168.69480358]]\n",
      "[[ 192.8074615 ]\n",
      " [ 192.63935395]\n",
      " [ 192.47124641]\n",
      " ...\n",
      " [-224.48990015]\n",
      " [-224.65800769]\n",
      " [-224.82611524]]\n",
      "[[-238.93532731]\n",
      " [-238.03442641]\n",
      " [-237.13352551]\n",
      " ...\n",
      " [ 292.58887831]\n",
      " [ 293.48977921]\n",
      " [ 294.39068011]]\n",
      "[[  9.861     ]\n",
      " [ 10.75268914]\n",
      " [ 11.64437827]\n",
      " ...\n",
      " [413.70312173]\n",
      " [414.59481086]\n",
      " [415.4865    ]]\n",
      "[[ 161.73743   ]\n",
      " [ 161.49225903]\n",
      " [ 161.24708805]\n",
      " ...\n",
      " [-115.59066305]\n",
      " [-115.83583403]\n",
      " [-116.081005  ]]\n",
      "[[ 172.465658  ]\n",
      " [ 172.29775488]\n",
      " [ 172.12985177]\n",
      " ...\n",
      " [-153.29399677]\n",
      " [-153.46189988]\n",
      " [-153.629803  ]]\n",
      "[[-337.613255  ]\n",
      " [-337.34894428]\n",
      " [-337.08463356]\n",
      " ...\n",
      " [ 825.90453356]\n",
      " [ 826.16884428]\n",
      " [ 826.433155  ]]\n",
      "[[-150.]\n",
      " [-150.]\n",
      " [-150.]\n",
      " ...\n",
      " [-150.]\n",
      " [-150.]\n",
      " [-150.]]\n",
      "[[ -50.00521674]\n",
      " [ -50.00213874]\n",
      " [ -50.00087681]\n",
      " ...\n",
      " [-150.        ]\n",
      " [-150.        ]\n",
      " [-150.        ]]\n",
      "[[1.91871425e-20]\n",
      " [1.92462917e-20]\n",
      " [1.92705944e-20]\n",
      " ...\n",
      " [0.00000000e+00]\n",
      " [0.00000000e+00]\n",
      " [0.00000000e+00]]\n"
     ]
    },
    {
     "data": {
      "image/png": "[encoded data removed]",
      "text/plain": [
       "<Figure size 432x288 with 1 Axes>"
      ]
     },
     "metadata": {
      "needs_background": "light"
     },
     "output_type": "display_data"
    }
   ],
   "source": [
    "task2_plot_regions_sNN_AB()"
   ]
  },
  {
   "cell_type": "code",
   "execution_count": 61,
   "metadata": {},
   "outputs": [],
   "source": [
    "def sNN_A(X):\n",
    "    # Weight vectors for first layer perceptrons\n",
    "    W1 = w1.reshape((3,1))\n",
    "    W2 = w2.reshape((3,1))\n",
    "    W3 = w3.reshape((3,1))\n",
    "    W4 = w4.reshape((3,1))\n",
    "    \n",
    "    #  Weight vector for second layer perceptron\n",
    "    W5 = np.array([-3.5, 1, 1, 1, 1]).reshape(5,1)\n",
    "\n",
    "    # Outputs from first layer for shape A\n",
    "    Y1 = task2_sNeuron(100*W1, X)\n",
    "    Y2 = task2_sNeuron(100*W2, X)\n",
    "    Y3 = task2_sNeuron(100*W3, X)\n",
    "    Y4 = task2_sNeuron(100*W4, X)\n",
    "    \n",
    "    X_new = np.hstack((Y1, Y2, Y3, Y4))\n",
    "    Y = task2_hNeuron(100*W5, X_new)\n",
    "    return Y > 0.5"
   ]
  },
  {
   "cell_type": "code",
   "execution_count": 63,
   "metadata": {},
   "outputs": [
    {
     "name": "stdout",
     "output_type": "stream",
     "text": [
      "[[ 0.0970184 ]\n",
      " [ 0.2294617 ]\n",
      " [ 0.361905  ]\n",
      " ...\n",
      " [72.94225673]\n",
      " [73.07470003]\n",
      " [73.47510043]]\n",
      "[[0.44305718]\n",
      " [0.26202488]\n",
      " [0.08099257]\n",
      " ...\n",
      " [0.28478402]\n",
      " [0.10375171]\n",
      " [0.13109043]]\n",
      "[[21.58887028]\n",
      " [21.51415581]\n",
      " [21.43944135]\n",
      " ...\n",
      " [ 0.3536568 ]\n",
      " [ 0.27894234]\n",
      " [ 0.16785608]]\n",
      "[[68.46575064]\n",
      " [68.86615104]\n",
      " [69.26655144]\n",
      " ...\n",
      " [51.0551842 ]\n",
      " [51.4555846 ]\n",
      " [51.29245525]]\n"
     ]
    },
    {
     "data": {
      "text/plain": [
       "14001"
      ]
     },
     "execution_count": 63,
     "metadata": {},
     "output_type": "execute_result"
    }
   ],
   "source": [
    "sNN_A(inside).sum()"
   ]
  },
  {
   "cell_type": "code",
   "execution_count": null,
   "metadata": {},
   "outputs": [],
   "source": []
  }
 ],
 "metadata": {
  "kernelspec": {
   "display_name": "Python 3",
   "language": "python",
   "name": "python3"
  },
  "language_info": {
   "codemirror_mode": {
    "name": "ipython",
    "version": 3
   },
   "file_extension": ".py",
   "mimetype": "text/x-python",
   "name": "python",
   "nbconvert_exporter": "python",
   "pygments_lexer": "ipython3",
   "version": "3.7.6"
  }
 },
 "nbformat": 4,
 "nbformat_minor": 2
}
