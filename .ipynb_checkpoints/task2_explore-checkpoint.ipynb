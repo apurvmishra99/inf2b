{
 "cells": [
  {
   "cell_type": "code",
   "execution_count": 4,
   "metadata": {},
   "outputs": [],
   "source": [
    "import numpy as np\n",
    "import scipy\n",
    "from scipy.stats import multivariate_normal"
   ]
  },
  {
   "cell_type": "code",
   "execution_count": 5,
   "metadata": {},
   "outputs": [],
   "source": [
    "A, B = np.genfromtxt(\"data/task2_data.txt\", usecols=range(1,9))"
   ]
  },
  {
   "cell_type": "code",
   "execution_count": 6,
   "metadata": {},
   "outputs": [
    {
     "data": {
      "text/plain": [
       "array([1.78269, 1.41994, 2.39558, 1.21721, 2.50196, 1.92164, 2.09783,\n",
       "       2.19345])"
      ]
     },
     "execution_count": 6,
     "metadata": {},
     "output_type": "execute_result"
    }
   ],
   "source": [
    "A"
   ]
  },
  {
   "cell_type": "code",
   "execution_count": null,
   "metadata": {},
   "outputs": [],
   "source": []
  },
  {
   "cell_type": "code",
   "execution_count": 7,
   "metadata": {},
   "outputs": [
    {
     "data": {
      "text/plain": [
       "array([-0.500439,  0.936184,  2.7479  ,  6.90028 ,  3.39415 ,  2.08816 ,\n",
       "        6.39042 , -1.08549 ])"
      ]
     },
     "execution_count": 7,
     "metadata": {},
     "output_type": "execute_result"
    }
   ],
   "source": [
    "B"
   ]
  },
  {
   "cell_type": "code",
   "execution_count": 8,
   "metadata": {},
   "outputs": [],
   "source": [
    "pointsA = list(zip(A[::2],A[1::2]))"
   ]
  },
  {
   "cell_type": "code",
   "execution_count": 9,
   "metadata": {},
   "outputs": [
    {
     "data": {
      "text/plain": [
       "[(1.78269, 1.41994),\n",
       " (2.39558, 1.21721),\n",
       " (2.50196, 1.92164),\n",
       " (2.09783, 2.19345)]"
      ]
     },
     "execution_count": 9,
     "metadata": {},
     "output_type": "execute_result"
    }
   ],
   "source": [
    "pointsA"
   ]
  },
  {
   "cell_type": "code",
   "execution_count": 10,
   "metadata": {},
   "outputs": [],
   "source": [
    "pointsB = list(zip(B[::2],B[1::2]))"
   ]
  },
  {
   "cell_type": "code",
   "execution_count": 11,
   "metadata": {},
   "outputs": [
    {
     "data": {
      "text/plain": [
       "[(-0.500439, 0.936184),\n",
       " (2.7479, 6.90028),\n",
       " (3.39415, 2.08816),\n",
       " (6.39042, -1.08549)]"
      ]
     },
     "execution_count": 11,
     "metadata": {},
     "output_type": "execute_result"
    }
   ],
   "source": [
    "pointsB"
   ]
  },
  {
   "cell_type": "code",
   "execution_count": 12,
   "metadata": {},
   "outputs": [],
   "source": [
    "def step(x):\n",
    "    return 1 * (x > 0)"
   ]
  },
  {
   "cell_type": "code",
   "execution_count": 68,
   "metadata": {},
   "outputs": [],
   "source": [
    "def task2_hNeuron(W, X):\n",
    "    X = X.T\n",
    "    bias = W[0]\n",
    "    W = np.delete(W, 0, 0)\n",
    "    # W shape == (D x 1)\n",
    "    # X.shape == (D x N)\n",
    "    print(W.T.shape, X.shape)\n",
    "    Y = (W.T @ X) + bias\n",
    "    # Y shape == (N x 1)\n",
    "    return step(Y.T)"
   ]
  },
  {
   "cell_type": "code",
   "execution_count": 69,
   "metadata": {},
   "outputs": [],
   "source": [
    "def sigmoid(x):\n",
    "  # Our activation function: f(x) = 1 / (1 + e^(-x))\n",
    "    print(x)\n",
    "    return 1 / (1 + np.exp(-x))"
   ]
  },
  {
   "cell_type": "code",
   "execution_count": 70,
   "metadata": {},
   "outputs": [],
   "source": [
    "def task2_sNeuron(W, X):\n",
    "    bias = W[0]\n",
    "    W = np.delete(W, 0, 0)\n",
    "    # W.T shape == (1 x D)\n",
    "    Y = (W.T @ X) + bias\n",
    "    # a shape == (1 x N)\n",
    "    return sigmoid(Y.T)"
   ]
  },
  {
   "cell_type": "code",
   "execution_count": 71,
   "metadata": {},
   "outputs": [],
   "source": [
    "def task2_hNN_A(X):\n",
    "#     # Weights for first laye\n",
    "#     W1 = np.asanyarray([ 1., -0.83043762,0.3383332 ]).reshape((3,1))\n",
    "#     W2 = np.asanyarray([ 1., -0.18659937, -0.27743793]).reshape((3,1))\n",
    "#     W3 = np.asanyarray([ 1., -0.45212818, 0.06827846]).reshape((3,1))\n",
    "#     W4 = np.asanyarray([ 1., -0.16459742,-0.49760822]).reshape((3,1))\n",
    "\n",
    "#     # Outputs from first layer\n",
    "#     Y1 = task2_hNeuron(w1, X)\n",
    "#     Y2 = task2_hNeuron(w2, X)\n",
    "#     Y3 = task2_hNeuron(w3, X)\n",
    "#     Y4 = task2_hNeuron(w4, X)\n",
    "    \n",
    "# #     #  Weights for second layer\n",
    "# #     W5 = np.array([-3.5, 1, 1, 1, 1]).reshape((5,1))\n",
    "\n",
    "#     iny1 =np.c_[Y1,Y2]\n",
    "#     #iny2 =np.concatenate((x3,x4),axis=1)\n",
    "#     iny2 =np.c_[Y3,Y4]\n",
    "\n",
    "#     y1 = task2_hNeuron(np.array([-1,1,1]),iny1)\n",
    "#     y2 = task2_hNeuron(np.array([-1,1,1]),iny2)\n",
    "\n",
    "#     '''\n",
    "#     Layer 3\n",
    "#     '''\n",
    "\n",
    "#     z =np.c_[y1,y2]\n",
    "\n",
    "#     Y = task2_hNeuron(np.array([-1,1,1]),z)\n",
    "    \n",
    "# #     X_new = np.hstack((Y1, Y2, Y3, Y4))\n",
    "# #     Y = task2_hNeuron(W5, X_new)\n",
    "#     return Y\n",
    "\n",
    "\n",
    "    # Weights for first layer\n",
    "    W1 = w1.reshape((3,1))\n",
    "    W2 = w2.reshape((3,1))\n",
    "    W3 = w3.reshape((3,1))\n",
    "    W4 = w4.reshape((3,1))\n",
    "\n",
    "    # Outputs from first layer\n",
    "    Y1 = task2_hNeuron(W1, X)\n",
    "    Y2 = task2_hNeuron(W2, X)\n",
    "    Y3 = task2_hNeuron(W3, X)\n",
    "    Y4 = task2_hNeuron(W4, X)\n",
    "    \n",
    "    #  Weights for second layertask2\n",
    "#     W5 = np.array([-3.5, 1, 1, 1, 1]).reshape((5,1))\n",
    "\n",
    "    iny1 =np.c_[Y1,Y2]\n",
    "    #iny2 =np.concatenate((x3,x4),axis=1)\n",
    "    iny2 =np.c_[Y3,Y4]\n",
    "\n",
    "    y1 = task2_hNeuron(np.array([-1,1,1]).reshape((3,1)),iny1)\n",
    "    y2 = task2_hNeuron(np.array([-1,1,1]).reshape((3,1)),iny2)\n",
    "\n",
    "    '''\n",
    "    Layer 3\n",
    "    '''\n",
    "\n",
    "    z =np.c_[y1,y2]\n",
    "\n",
    "    Y = task2_hNeuron(np.array([-1,1,1]).reshape((3,1)),z)\n",
    "    \n",
    "#     X_new = np.hstack((Y1, Y2, Y3, Y4))\n",
    "#     Y = task2_hNeuron(W5, X_new)\n",
    "    return Y"
   ]
  },
  {
   "cell_type": "code",
   "execution_count": 72,
   "metadata": {},
   "outputs": [
    {
     "name": "stdout",
     "output_type": "stream",
     "text": [
      "(4, 2)\n"
     ]
    }
   ],
   "source": [
    "X = np.asanyarray([[0, 0], [2.38638639, 1.22122122],\n",
    "       [2.39039039, 1.22122122],[2.28628629, 1.31731732]])\n",
    "print(X.shape)"
   ]
  },
  {
   "cell_type": "code",
   "execution_count": 73,
   "metadata": {},
   "outputs": [],
   "source": [
    "import matplotlib.pyplot as plt\n",
    "from matplotlib import cm\n",
    "import matplotlib.patches as mpatches"
   ]
  },
  {
   "cell_type": "code",
   "execution_count": 74,
   "metadata": {},
   "outputs": [
    {
     "name": "stdout",
     "output_type": "stream",
     "text": [
      "(1, 2) (2, 1000000)\n",
      "[[-2.0096131 ]\n",
      " [-2.00729534]\n",
      " [-2.00497758]\n",
      " ...\n",
      " [ 7.30119135]\n",
      " [ 7.30350911]\n",
      " [ 7.30582687]]\n",
      "(1, 2) (2, 1000000)\n",
      "[[ 1.        ]\n",
      " [ 0.99683193]\n",
      " [ 0.99366387]\n",
      " ...\n",
      " [-1.68061191]\n",
      " [-1.68377997]\n",
      " [-1.68694804]]\n",
      "(1, 2) (2, 1000000)\n",
      "[[ 1.        ]\n",
      " [ 0.9986925 ]\n",
      " [ 0.99738499]\n",
      " ...\n",
      " [-2.24564615]\n",
      " [-2.24695365]\n",
      " [-2.24826115]]\n",
      "(1, 2) (2, 1000000)\n",
      "[[-1.20418437]\n",
      " [-1.19717736]\n",
      " [-1.19017035]\n",
      " ...\n",
      " [ 2.92989279]\n",
      " [ 2.93689979]\n",
      " [ 2.9439068 ]]\n",
      "(1, 2) (2, 1000000)\n",
      "[[0]\n",
      " [0]\n",
      " [0]\n",
      " ...\n",
      " [0]\n",
      " [0]\n",
      " [0]]\n",
      "(1, 2) (2, 1000000)\n",
      "[[0]\n",
      " [0]\n",
      " [0]\n",
      " ...\n",
      " [0]\n",
      " [0]\n",
      " [0]]\n",
      "(1, 2) (2, 1000000)\n",
      "[[-1]\n",
      " [-1]\n",
      " [-1]\n",
      " ...\n",
      " [-1]\n",
      " [-1]\n",
      " [-1]]\n"
     ]
    },
    {
     "data": {
      "image/png": "[encoded data removed]",
      "text/plain": [
       "<Figure size 432x288 with 1 Axes>"
      ]
     },
     "metadata": {
      "needs_background": "light"
     },
     "output_type": "display_data"
    }
   ],
   "source": [
    "# Generate points between 0 and 10 to classify\n",
    "x_points = np.linspace(0,7, 1000)\n",
    "y_points = np.linspace(0,7,1000)\n",
    "xx, yy = np.meshgrid(x_points, y_points)\n",
    "gridX = np.vstack((xx.ravel(), yy.ravel()))\n",
    "\n",
    "\n",
    "# Classify the points and reshape the result to fit the plot function\n",
    "data = task2_hNN_A(gridX.T)\n",
    "data = data.reshape((x_points.shape[0], y_points.shape[0]))\n",
    "# Setup the plot title and axis\n",
    "plt.title('Task 2.5 Plot')\n",
    "plt.xticks(np.arange(0, 12, 0.5), fontsize=7)\n",
    "plt.yticks(np.arange(0, 12, 0.5),fontsize=7)\n",
    "plt.xlabel('x', fontsize=18)\n",
    "plt.ylabel('y', fontsize=18)\n",
    "\n",
    "# Setup legend\n",
    "\n",
    "blue_patch_legend = mpatches.Patch(color='lightblue', label='~A')\n",
    "purple_patch_legend = mpatches.Patch(color='purple', label='A')\n",
    "plt.legend(loc='best', fancybox=True, framealpha=0.1, handles=[blue_patch_legend, purple_patch_legend], facecolor='black', fontsize=12)\n",
    "\n",
    "# Plot data and show result\n",
    "plt.contourf(xx, yy, data, cmap=cm.BuPu)\n",
    "plt.show()"
   ]
  },
  {
   "cell_type": "code",
   "execution_count": 75,
   "metadata": {},
   "outputs": [],
   "source": [
    "from matplotlib import path\n",
    "p = path.Path(list(zip(A[::2],A[1::2])), closed=True)"
   ]
  },
  {
   "cell_type": "code",
   "execution_count": 76,
   "metadata": {},
   "outputs": [
    {
     "data": {
      "text/plain": [
       "Path(array([[1.78269, 1.41994],\n",
       "       [2.39558, 1.21721],\n",
       "       [2.50196, 1.92164],\n",
       "       [2.09783, 2.19345]]), array([ 1,  2,  2, 79], dtype=uint8))"
      ]
     },
     "execution_count": 76,
     "metadata": {},
     "output_type": "execute_result"
    }
   ],
   "source": [
    "p"
   ]
  },
  {
   "cell_type": "code",
   "execution_count": 77,
   "metadata": {},
   "outputs": [],
   "source": [
    "x_points = np.linspace(0,4, 1000)\n",
    "y_points = np.linspace(0,4,1000)\n",
    "xx, yy = np.meshgrid(x_points, y_points)\n",
    "gridX = np.vstack((xx.ravel(), yy.ravel()))\n",
    "gridX = gridX.T"
   ]
  },
  {
   "cell_type": "code",
   "execution_count": 78,
   "metadata": {},
   "outputs": [],
   "source": [
    "actual = p.contains_points(gridX)"
   ]
  },
  {
   "cell_type": "code",
   "execution_count": 54,
   "metadata": {},
   "outputs": [
    {
     "data": {
      "text/plain": [
       "array([0, 0, 0, ..., 0, 0, 0])"
      ]
     },
     "execution_count": 54,
     "metadata": {},
     "output_type": "execute_result"
    }
   ],
   "source": [
    "actual.astype(int)"
   ]
  },
  {
   "cell_type": "code",
   "execution_count": 53,
   "metadata": {},
   "outputs": [],
   "source": [
    "inside = gridX[actual == True]"
   ]
  },
  {
   "cell_type": "code",
   "execution_count": 54,
   "metadata": {},
   "outputs": [],
   "source": [
    "outside = gridX[actual == False]"
   ]
  },
  {
   "cell_type": "code",
   "execution_count": 55,
   "metadata": {},
   "outputs": [
    {
     "data": {
      "text/plain": [
       "array([2.28628629, 1.31731732])"
      ]
     },
     "execution_count": 55,
     "metadata": {},
     "output_type": "execute_result"
    }
   ],
   "source": [
    "inside[1000]"
   ]
  },
  {
   "cell_type": "code",
   "execution_count": 52,
   "metadata": {},
   "outputs": [
    {
     "data": {
      "text/plain": [
       "985865"
      ]
     },
     "execution_count": 52,
     "metadata": {},
     "output_type": "execute_result"
    }
   ],
   "source": [
    "len(outside)"
   ]
  },
  {
   "cell_type": "code",
   "execution_count": 25,
   "metadata": {},
   "outputs": [],
   "source": [
    "w = np.array([1,-0.15385466,-0.16773093])"
   ]
  },
  {
   "cell_type": "code",
   "execution_count": 67,
   "metadata": {},
   "outputs": [
    {
     "data": {
      "text/plain": [
       "array([[ 1.        ],\n",
       "       [-0.15385466],\n",
       "       [-0.16773093]])"
      ]
     },
     "execution_count": 67,
     "metadata": {},
     "output_type": "execute_result"
    }
   ],
   "source": [
    "w[:, np.newaxis]"
   ]
  },
  {
   "cell_type": "code",
   "execution_count": 26,
   "metadata": {},
   "outputs": [],
   "source": [
    "import scipy.io as sio"
   ]
  },
  {
   "cell_type": "code",
   "execution_count": 27,
   "metadata": {},
   "outputs": [],
   "source": [
    "weights = sio.loadmat(\"data/weights.mat\")"
   ]
  },
  {
   "cell_type": "code",
   "execution_count": 28,
   "metadata": {},
   "outputs": [],
   "source": [
    "w1, w2, w3, w4 = weights['weightMatrix'].T"
   ]
  },
  {
   "cell_type": "code",
   "execution_count": 30,
   "metadata": {},
   "outputs": [],
   "source": [
    "w5, w6, w7, w8 = np.asanyarray([[ 1. ,    0.98977494, -0.53907994], \n",
    " [ 1.,-0.27213978,-0.03654737],\n",
    " [ 1.,-0.18637246,-0.17595583],\n",
    " [-0.78936275, 0.2933849, 1.]])"
   ]
  },
  {
   "cell_type": "code",
   "execution_count": 90,
   "metadata": {},
   "outputs": [],
   "source": [
    "def task2_hNN_AB(X):\n",
    "    \n",
    "    # Weight vectors for first layer perceptrons\n",
    "    W1 = w1.reshape((3,1))\n",
    "    W2 = w2.reshape((3,1))\n",
    "    W3 = w3.reshape((3,1))\n",
    "    W4 = w4.reshape((3,1))\n",
    "    \n",
    "    W5 = np.array(w5).reshape((3,1))\n",
    "    W6 = np.array(w6).reshape((3,1))\n",
    "    W7 = np.array(w7).reshape((3,1))\n",
    "    W8 = np.array(w8).reshape((3,1))\n",
    "#  Weight vector for second layer perceptron\n",
    "    W9 = np.array([-3.5, 1, 1, 1, 1])\n",
    "\n",
    "    # Outputs from first layer for shape A\n",
    "    Y1 = task2_hNeuron(W1, X)\n",
    "    Y2 = task2_hNeuron(W2, X)\n",
    "    Y3 = task2_hNeuron(W3, X)\n",
    "    Y4 = task2_hNeuron(W4, X)\n",
    "\n",
    "    # Outputs from first layer for shape B\n",
    "    Y5 = task2_hNeuron(W5, X)\n",
    "    Y6 = task2_hNeuron(-W6, X)\n",
    "    Y7 = task2_hNeuron(W7, X)\n",
    "    Y8 = task2_hNeuron(-W8, X)\n",
    "\n",
    "    # Weights for logical operation neurons\n",
    "    And= np.array([-1.5, 1, 1]).reshape((3,1))\n",
    "    Not = np.array([0, -1]).reshape((2,1))\n",
    "\n",
    "    X_A = np.hstack((Y1, Y2, Y3, Y4))\n",
    "    X_B = np.hstack((Y5, Y6, Y7, Y8))\n",
    "    # Result of points being in A\n",
    "    Y_A = task2_hNeuron(W9, X_A)\n",
    "    # Result of points being in B\n",
    "    Y_B = task2_hNeuron(W9, X_B)\n",
    "    # Result of points being outside of B\n",
    "    Y_B = task2_hNeuron(Not, Y_B[:, np.newaxis])\n",
    "\n",
    "    print(Y_A.shape, Y_B.shape)\n",
    "    Y_AB = np.hstack((Y_A,Y_B))\n",
    "    Y = task2_hNeuron(And, Y_AB)\n",
    "\n",
    "    return Y"
   ]
  },
  {
   "cell_type": "code",
   "execution_count": 91,
   "metadata": {},
   "outputs": [],
   "source": [
    "def task2_plot_regions_hNN_AB():\n",
    "    xplot = np.linspace(0,10, 2000)\n",
    "    yplot = np.linspace(0,10,2000)\n",
    "    xx, yy = np.meshgrid(xplot, yplot)\n",
    "    gridX = np.vstack((xx.ravel(), yy.ravel()))\n",
    "\n",
    "    # Classify the points and reshape the result to fit the plot function\n",
    "    data = task2_hNN_AB(gridX.T)\n",
    "    data = data.reshape((xplot.shape[0], yplot.shape[0]))\n",
    "\n",
    "    # Setup the plot title and axis\n",
    "    plt.title('Task 2.7 Plot')\n",
    "    plt.xticks(np.arange(0, 10, 0.25), fontsize=14)\n",
    "    plt.yticks(np.arange(0, 10, 0.5),fontsize=16)\n",
    "    plt.xlabel('x1', fontsize=22)\n",
    "    plt.ylabel('x2', fontsize=22)\n",
    "\n",
    "    # Setup legend\n",
    "\n",
    "    white_patch_legend = mpatches.Patch(color='white', label='Class 0')\n",
    "    black_patch_legend = mpatches.Patch(color='black', label='Class 1')\n",
    "    plt.legend(loc='best', fancybox=True, framealpha=0.2, handles=[white_patch_legend, black_patch_legend], facecolor='black', fontsize=16)\n",
    "\n",
    "    # Plot data and show result\n",
    "    plt.contourf(xx, yy, data, cmap=cm.Greys)\n",
    "    plt.show()"
   ]
  },
  {
   "cell_type": "code",
   "execution_count": 92,
   "metadata": {},
   "outputs": [
    {
     "name": "stdout",
     "output_type": "stream",
     "text": [
      "(1, 2) (2, 4000000)\n",
      "[[-2.0096131 ]\n",
      " [-2.00795838]\n",
      " [-2.00630367]\n",
      " ...\n",
      " [11.29484886]\n",
      " [11.29650357]\n",
      " [11.29815828]]\n",
      "(1, 2) (2, 4000000)\n",
      "[[ 1.        ]\n",
      " [ 0.99773823]\n",
      " [ 0.99547646]\n",
      " ...\n",
      " [-2.83397365]\n",
      " [-2.83623542]\n",
      " [-2.83849719]]\n",
      "(1, 2) (2, 4000000)\n",
      "[[ 1.        ]\n",
      " [ 0.99906654]\n",
      " [ 0.99813307]\n",
      " ...\n",
      " [-3.63850615]\n",
      " [-3.63943961]\n",
      " [-3.64037307]]\n",
      "(1, 2) (2, 4000000)\n",
      "[[-1.20418437]\n",
      " [-1.19918187]\n",
      " [-1.19417937]\n",
      " ...\n",
      " [ 4.71165516]\n",
      " [ 4.71665766]\n",
      " [ 4.72166016]]\n",
      "(1, 2) (2, 4000000)\n",
      "[[1.        ]\n",
      " [1.00495135]\n",
      " [1.0099027 ]\n",
      " ...\n",
      " [5.4970473 ]\n",
      " [5.50199865]\n",
      " [5.50695   ]]\n",
      "(1, 2) (2, 4000000)\n",
      "[[-1.        ]\n",
      " [-0.99863862]\n",
      " [-0.99727724]\n",
      " ...\n",
      " [ 2.08414874]\n",
      " [ 2.08551012]\n",
      " [ 2.0868715 ]]\n",
      "(1, 2) (2, 4000000)\n",
      "[[ 1.        ]\n",
      " [ 0.99906767]\n",
      " [ 0.99813534]\n",
      " ...\n",
      " [-2.62141824]\n",
      " [-2.62235057]\n",
      " [-2.6232829 ]]\n",
      "(1, 2) (2, 4000000)\n",
      "[[  0.78936275]\n",
      " [  0.78789509]\n",
      " [  0.78642743]\n",
      " ...\n",
      " [-12.14155093]\n",
      " [-12.14301859]\n",
      " [-12.14448625]]\n",
      "(4,) (4, 4000000)\n",
      "[-1.5 -1.5 -1.5 ... -1.5 -1.5 -1.5]\n",
      "(4,) (4, 4000000)\n",
      "[-0.5 -0.5 -0.5 ... -1.5 -1.5 -1.5]\n",
      "(1, 1) (4000000,)\n"
     ]
    },
    {
     "ename": "ValueError",
     "evalue": "matmul: Input operand 1 has a mismatch in its core dimension 0, with gufunc signature (n?,k),(k,m?)->(n?,m?) (size 4000000 is different from 1)",
     "output_type": "error",
     "traceback": [
      "\u001b[0;31m---------------------------------------------------------------------------\u001b[0m",
      "\u001b[0;31mValueError\u001b[0m                                Traceback (most recent call last)",
      "\u001b[0;32m<ipython-input-92-dcb4416c4341>\u001b[0m in \u001b[0;36m<module>\u001b[0;34m\u001b[0m\n\u001b[0;32m----> 1\u001b[0;31m \u001b[0mtask2_plot_regions_hNN_AB\u001b[0m\u001b[0;34m(\u001b[0m\u001b[0;34m)\u001b[0m\u001b[0;34m\u001b[0m\u001b[0;34m\u001b[0m\u001b[0m\n\u001b[0m",
      "\u001b[0;32m<ipython-input-91-0465f18e2063>\u001b[0m in \u001b[0;36mtask2_plot_regions_hNN_AB\u001b[0;34m()\u001b[0m\n\u001b[1;32m      6\u001b[0m \u001b[0;34m\u001b[0m\u001b[0m\n\u001b[1;32m      7\u001b[0m     \u001b[0;31m# Classify the points and reshape the result to fit the plot function\u001b[0m\u001b[0;34m\u001b[0m\u001b[0;34m\u001b[0m\u001b[0;34m\u001b[0m\u001b[0m\n\u001b[0;32m----> 8\u001b[0;31m     \u001b[0mdata\u001b[0m \u001b[0;34m=\u001b[0m \u001b[0mtask2_hNN_AB\u001b[0m\u001b[0;34m(\u001b[0m\u001b[0mgridX\u001b[0m\u001b[0;34m.\u001b[0m\u001b[0mT\u001b[0m\u001b[0;34m)\u001b[0m\u001b[0;34m\u001b[0m\u001b[0;34m\u001b[0m\u001b[0m\n\u001b[0m\u001b[1;32m      9\u001b[0m     \u001b[0mdata\u001b[0m \u001b[0;34m=\u001b[0m \u001b[0mdata\u001b[0m\u001b[0;34m.\u001b[0m\u001b[0mreshape\u001b[0m\u001b[0;34m(\u001b[0m\u001b[0;34m(\u001b[0m\u001b[0mxplot\u001b[0m\u001b[0;34m.\u001b[0m\u001b[0mshape\u001b[0m\u001b[0;34m[\u001b[0m\u001b[0;36m0\u001b[0m\u001b[0;34m]\u001b[0m\u001b[0;34m,\u001b[0m \u001b[0myplot\u001b[0m\u001b[0;34m.\u001b[0m\u001b[0mshape\u001b[0m\u001b[0;34m[\u001b[0m\u001b[0;36m0\u001b[0m\u001b[0;34m]\u001b[0m\u001b[0;34m)\u001b[0m\u001b[0;34m)\u001b[0m\u001b[0;34m\u001b[0m\u001b[0;34m\u001b[0m\u001b[0m\n\u001b[1;32m     10\u001b[0m \u001b[0;34m\u001b[0m\u001b[0m\n",
      "\u001b[0;32m<ipython-input-90-42e4f5a144c2>\u001b[0m in \u001b[0;36mtask2_hNN_AB\u001b[0;34m(X)\u001b[0m\n\u001b[1;32m     37\u001b[0m     \u001b[0mY_B\u001b[0m \u001b[0;34m=\u001b[0m \u001b[0mtask2_hNeuron\u001b[0m\u001b[0;34m(\u001b[0m\u001b[0mW9\u001b[0m\u001b[0;34m,\u001b[0m \u001b[0mX_B\u001b[0m\u001b[0;34m)\u001b[0m\u001b[0;34m\u001b[0m\u001b[0;34m\u001b[0m\u001b[0m\n\u001b[1;32m     38\u001b[0m     \u001b[0;31m# Result of points being outside of B\u001b[0m\u001b[0;34m\u001b[0m\u001b[0;34m\u001b[0m\u001b[0;34m\u001b[0m\u001b[0m\n\u001b[0;32m---> 39\u001b[0;31m     \u001b[0mY_B\u001b[0m \u001b[0;34m=\u001b[0m \u001b[0mtask2_hNeuron\u001b[0m\u001b[0;34m(\u001b[0m\u001b[0mNot\u001b[0m\u001b[0;34m,\u001b[0m \u001b[0mY_B\u001b[0m\u001b[0;34m.\u001b[0m\u001b[0mT\u001b[0m\u001b[0;34m)\u001b[0m\u001b[0;34m\u001b[0m\u001b[0;34m\u001b[0m\u001b[0m\n\u001b[0m\u001b[1;32m     40\u001b[0m \u001b[0;34m\u001b[0m\u001b[0m\n\u001b[1;32m     41\u001b[0m     \u001b[0mprint\u001b[0m\u001b[0;34m(\u001b[0m\u001b[0mY_A\u001b[0m\u001b[0;34m.\u001b[0m\u001b[0mshape\u001b[0m\u001b[0;34m,\u001b[0m \u001b[0mY_B\u001b[0m\u001b[0;34m.\u001b[0m\u001b[0mshape\u001b[0m\u001b[0;34m)\u001b[0m\u001b[0;34m\u001b[0m\u001b[0;34m\u001b[0m\u001b[0m\n",
      "\u001b[0;32m<ipython-input-68-55184dc63644>\u001b[0m in \u001b[0;36mtask2_hNeuron\u001b[0;34m(W, X)\u001b[0m\n\u001b[1;32m      6\u001b[0m     \u001b[0;31m# X.shape == (D x N)\u001b[0m\u001b[0;34m\u001b[0m\u001b[0;34m\u001b[0m\u001b[0;34m\u001b[0m\u001b[0m\n\u001b[1;32m      7\u001b[0m     \u001b[0mprint\u001b[0m\u001b[0;34m(\u001b[0m\u001b[0mW\u001b[0m\u001b[0;34m.\u001b[0m\u001b[0mT\u001b[0m\u001b[0;34m.\u001b[0m\u001b[0mshape\u001b[0m\u001b[0;34m,\u001b[0m \u001b[0mX\u001b[0m\u001b[0;34m.\u001b[0m\u001b[0mshape\u001b[0m\u001b[0;34m)\u001b[0m\u001b[0;34m\u001b[0m\u001b[0;34m\u001b[0m\u001b[0m\n\u001b[0;32m----> 8\u001b[0;31m     \u001b[0mY\u001b[0m \u001b[0;34m=\u001b[0m \u001b[0;34m(\u001b[0m\u001b[0mW\u001b[0m\u001b[0;34m.\u001b[0m\u001b[0mT\u001b[0m \u001b[0;34m@\u001b[0m \u001b[0mX\u001b[0m\u001b[0;34m)\u001b[0m \u001b[0;34m+\u001b[0m \u001b[0mbias\u001b[0m\u001b[0;34m\u001b[0m\u001b[0;34m\u001b[0m\u001b[0m\n\u001b[0m\u001b[1;32m      9\u001b[0m     \u001b[0;31m# Y shape == (N x 1)\u001b[0m\u001b[0;34m\u001b[0m\u001b[0;34m\u001b[0m\u001b[0;34m\u001b[0m\u001b[0m\n\u001b[1;32m     10\u001b[0m     \u001b[0;32mreturn\u001b[0m \u001b[0mstep\u001b[0m\u001b[0;34m(\u001b[0m\u001b[0mY\u001b[0m\u001b[0;34m.\u001b[0m\u001b[0mT\u001b[0m\u001b[0;34m)\u001b[0m\u001b[0;34m\u001b[0m\u001b[0;34m\u001b[0m\u001b[0m\n",
      "\u001b[0;31mValueError\u001b[0m: matmul: Input operand 1 has a mismatch in its core dimension 0, with gufunc signature (n?,k),(k,m?)->(n?,m?) (size 4000000 is different from 1)"
     ]
    }
   ],
   "source": [
    "task2_plot_regions_hNN_AB()"
   ]
  },
  {
   "cell_type": "code",
   "execution_count": null,
   "metadata": {},
   "outputs": [],
   "source": []
  }
 ],
 "metadata": {
  "kernelspec": {
   "display_name": "Python 3",
   "language": "python",
   "name": "python3"
  },
  "language_info": {
   "codemirror_mode": {
    "name": "ipython",
    "version": 3
   },
   "file_extension": ".py",
   "mimetype": "text/x-python",
   "name": "python",
   "nbconvert_exporter": "python",
   "pygments_lexer": "ipython3",
   "version": "3.7.6"
  }
 },
 "nbformat": 4,
 "nbformat_minor": 2
}
