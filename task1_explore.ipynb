{
 "cells": [
  {
   "cell_type": "code",
   "execution_count": 1,
   "metadata": {},
   "outputs": [],
   "source": [
    "import scipy.io as sio\n",
    "import numpy as np\n",
    "import scipy\n",
    "import matplotlib.pyplot as plt"
   ]
  },
  {
   "cell_type": "code",
   "execution_count": 2,
   "metadata": {},
   "outputs": [],
   "source": [
    "data = sio.loadmat('data/dset.mat')"
   ]
  },
  {
   "cell_type": "code",
   "execution_count": 3,
   "metadata": {},
   "outputs": [
    {
     "data": {
      "text/plain": [
       "dict_keys(['__header__', '__version__', '__globals__', 'list_family', 'list_genus', 'list_species', 'X', 'Y_family', 'Y_genus', 'Y_species'])"
      ]
     },
     "execution_count": 3,
     "metadata": {},
     "output_type": "execute_result"
    }
   ],
   "source": [
    "data.keys()"
   ]
  },
  {
   "cell_type": "code",
   "execution_count": 4,
   "metadata": {},
   "outputs": [],
   "source": [
    "Y_species = data.get('Y_species')"
   ]
  },
  {
   "cell_type": "code",
   "execution_count": 5,
   "metadata": {},
   "outputs": [
    {
     "data": {
      "text/plain": [
       "array([[ 2],\n",
       "       [ 7],\n",
       "       [ 2],\n",
       "       ...,\n",
       "       [ 1],\n",
       "       [10],\n",
       "       [ 5]], dtype=int32)"
      ]
     },
     "execution_count": 5,
     "metadata": {},
     "output_type": "execute_result"
    }
   ],
   "source": [
    "Y_species"
   ]
  },
  {
   "cell_type": "code",
   "execution_count": 6,
   "metadata": {},
   "outputs": [
    {
     "data": {
      "text/plain": [
       "array([2], dtype=int32)"
      ]
     },
     "execution_count": 6,
     "metadata": {},
     "output_type": "execute_result"
    }
   ],
   "source": [
    "Y_species[0]"
   ]
  },
  {
   "cell_type": "code",
   "execution_count": 7,
   "metadata": {},
   "outputs": [],
   "source": [
    "Y_genus = data.get('Y_genus')"
   ]
  },
  {
   "cell_type": "code",
   "execution_count": 8,
   "metadata": {},
   "outputs": [
    {
     "data": {
      "text/plain": [
       "array([[1],\n",
       "       [5],\n",
       "       [1],\n",
       "       ...,\n",
       "       [1],\n",
       "       [8],\n",
       "       [4]], dtype=int32)"
      ]
     },
     "execution_count": 8,
     "metadata": {},
     "output_type": "execute_result"
    }
   ],
   "source": [
    "Y_genus"
   ]
  },
  {
   "cell_type": "code",
   "execution_count": 5,
   "metadata": {},
   "outputs": [],
   "source": [
    "X_vec = data.get('X')"
   ]
  },
  {
   "cell_type": "code",
   "execution_count": 10,
   "metadata": {},
   "outputs": [
    {
     "data": {
      "text/plain": [
       "array([[-1.        , -0.85208478, -0.5446153 , ...,  0.03081446,\n",
       "        -0.04646877, -0.10260198],\n",
       "       [-1.        , -0.83122403, -0.35381633, ..., -0.05976682,\n",
       "        -0.04458574,  0.01394643],\n",
       "       [-1.        , -0.87307382, -0.50275353, ...,  0.08532905,\n",
       "        -0.01570336, -0.07587386],\n",
       "       ...,\n",
       "       [-1.        , -0.52845271, -0.09051293, ...,  0.00273226,\n",
       "        -0.0143477 , -0.00636827],\n",
       "       [-1.        , -0.8586075 , -0.27509567, ..., -0.00910596,\n",
       "        -0.00653614, -0.01747479],\n",
       "       [-1.        , -0.44213437,  0.002258  , ..., -0.0188348 ,\n",
       "         0.01213924,  0.01604267]])"
      ]
     },
     "execution_count": 10,
     "metadata": {},
     "output_type": "execute_result"
    }
   ],
   "source": [
    "X_vec"
   ]
  },
  {
   "cell_type": "code",
   "execution_count": 11,
   "metadata": {},
   "outputs": [
    {
     "data": {
      "text/plain": [
       "array([-1.        , -0.85208478, -0.5446153 , -0.23023933, -0.15827164,\n",
       "       -0.10030244, -0.11154368, -0.04217562,  0.05429012, -0.01039922,\n",
       "       -0.10284336, -0.02367292,  0.00542988, -0.13799486, -0.15663055,\n",
       "       -0.03263575,  0.02750404,  0.01395437, -0.01718162, -0.04397875,\n",
       "       -0.0025327 ,  0.03081446, -0.04646877, -0.10260198])"
      ]
     },
     "execution_count": 11,
     "metadata": {},
     "output_type": "execute_result"
    }
   ],
   "source": [
    "X_vec[0]"
   ]
  },
  {
   "cell_type": "code",
   "execution_count": 12,
   "metadata": {},
   "outputs": [],
   "source": [
    "lst_species = data.get('list_species')"
   ]
  },
  {
   "cell_type": "code",
   "execution_count": 13,
   "metadata": {},
   "outputs": [
    {
     "data": {
      "text/plain": [
       "array([[array(['AdenomeraAndre'], dtype='<U14')],\n",
       "       [array(['AdenomeraHylaedactylus'], dtype='<U22')],\n",
       "       [array(['Ameeregatrivittata'], dtype='<U18')],\n",
       "       [array(['HylaMinuta'], dtype='<U10')],\n",
       "       [array(['HypsiboasCinerascens'], dtype='<U20')],\n",
       "       [array(['HypsiboasCordobae'], dtype='<U17')],\n",
       "       [array(['LeptodactylusFuscus'], dtype='<U19')],\n",
       "       [array(['OsteocephalusOophagus'], dtype='<U21')],\n",
       "       [array(['Rhinellagranulosa'], dtype='<U17')],\n",
       "       [array(['ScinaxRuber'], dtype='<U11')]], dtype=object)"
      ]
     },
     "execution_count": 13,
     "metadata": {},
     "output_type": "execute_result"
    }
   ],
   "source": [
    "lst_species"
   ]
  },
  {
   "cell_type": "code",
   "execution_count": 14,
   "metadata": {},
   "outputs": [
    {
     "data": {
      "text/plain": [
       "10"
      ]
     },
     "execution_count": 14,
     "metadata": {},
     "output_type": "execute_result"
    }
   ],
   "source": [
    "lst_species.size"
   ]
  },
  {
   "cell_type": "code",
   "execution_count": 15,
   "metadata": {},
   "outputs": [
    {
     "data": {
      "text/plain": [
       "array([-0.00732606, -0.05265533, -0.03277763,  0.00449224,  0.08628659,\n",
       "       -0.00293715, -0.0479862 ,  0.07461408, -0.01179785, -0.02058184])"
      ]
     },
     "execution_count": 15,
     "metadata": {},
     "output_type": "execute_result"
    }
   ],
   "source": [
    "x = np.random.random((10, 5))\n",
    "y = np.random.random((10, 5))\n",
    "\n",
    "n = x.shape[1]\n",
    "cov_bias = np.mean(x * y, axis=1) - np.mean(x, axis=1) * np.mean(y, axis=1)\n",
    "cov_bias * n / (n-1)"
   ]
  },
  {
   "cell_type": "code",
   "execution_count": 16,
   "metadata": {},
   "outputs": [
    {
     "ename": "SyntaxError",
     "evalue": "invalid syntax (<ipython-input-16-4e90967b6924>, line 2)",
     "output_type": "error",
     "traceback": [
      "\u001b[0;36m  File \u001b[0;32m\"<ipython-input-16-4e90967b6924>\"\u001b[0;36m, line \u001b[0;32m2\u001b[0m\n\u001b[0;31m    for i in range(X_vec.shape[]):\u001b[0m\n\u001b[0m                               ^\u001b[0m\n\u001b[0;31mSyntaxError\u001b[0m\u001b[0;31m:\u001b[0m invalid syntax\n"
     ]
    }
   ],
   "source": [
    "s = np.empty((X_vec.shape[0], 1))\n",
    "for i in range(X_vec.shape[]):\n",
    "    print(np.cov(X_vec[i]))"
   ]
  },
  {
   "cell_type": "code",
   "execution_count": 6,
   "metadata": {},
   "outputs": [],
   "source": [
    "res1_1 = np.cov(X_vec.T)"
   ]
  },
  {
   "cell_type": "code",
   "execution_count": 18,
   "metadata": {},
   "outputs": [
    {
     "data": {
      "text/plain": [
       "<matplotlib.image.AxesImage at 0x7f1048e1fc10>"
      ]
     },
     "execution_count": 18,
     "metadata": {},
     "output_type": "execute_result"
    },
    {
     "data": {
      "image/png": "[encoded data removed]",
      "text/plain": [
       "<Figure size 288x288 with 1 Axes>"
      ]
     },
     "metadata": {
      "needs_background": "light"
     },
     "output_type": "display_data"
    }
   ],
   "source": [
    "plt.matshow(res1_1)"
   ]
  },
  {
   "cell_type": "code",
   "execution_count": 19,
   "metadata": {},
   "outputs": [
    {
     "data": {
      "text/plain": [
       "<matplotlib.image.AxesImage at 0x7f1048935510>"
      ]
     },
     "execution_count": 19,
     "metadata": {},
     "output_type": "execute_result"
    },
    {
     "data": {
      "image/png": "[encoded data removed]",
      "text/plain": [
       "<Figure size 432x288 with 1 Axes>"
      ]
     },
     "metadata": {
      "needs_background": "light"
     },
     "output_type": "display_data"
    }
   ],
   "source": [
    "plt.imshow(res1_1,cmap='hot')"
   ]
  },
  {
   "cell_type": "code",
   "execution_count": 7,
   "metadata": {},
   "outputs": [],
   "source": [
    "def my_mean(matrix):\n",
    "    \"\"\"\n",
    "    Calculates mean values in a matrix\n",
    "    Parameters:\n",
    "      matrix: N-by-D data matrix\n",
    "    Returns:\n",
    "      mu: D-by-1 column vector of sample mean values, where mu(i) = mean(matrix(:,i)).\n",
    "    \"\"\"\n",
    "    \n",
    "    # Check if the matrix is not empty to make sure we do not divide by 0.\n",
    "    if matrix.shape[0] == 0:\n",
    "        s = 1\n",
    "    else: \n",
    "        s = matrix.shape[0]\n",
    "    \n",
    "    # Compute sample mean vector\n",
    "    mu = (np.sum(matrix, axis=0) / s).T \n",
    "\n",
    "    return mu"
   ]
  },
  {
   "cell_type": "code",
   "execution_count": 8,
   "metadata": {},
   "outputs": [
    {
     "data": {
      "text/plain": [
       "array([-9.74023093e-01, -8.23533833e-01, -4.52956670e-01, -1.52934802e-01,\n",
       "       -1.13522768e-01, -6.70683332e-02, -7.01563139e-02, -7.87939721e-02,\n",
       "       -3.39201905e-02, -3.41943458e-02, -6.79849815e-02, -3.06505621e-02,\n",
       "       -6.81939029e-04, -5.15607191e-02, -7.30336627e-02, -3.58473314e-02,\n",
       "       -1.59155014e-02, -3.17948169e-02, -4.57046675e-02, -4.37078192e-02,\n",
       "       -1.10627371e-02,  7.34052998e-03, -2.26644598e-02, -5.04837882e-02])"
      ]
     },
     "execution_count": 8,
     "metadata": {},
     "output_type": "execute_result"
    }
   ],
   "source": [
    "my_mean(X_vec)"
   ]
  },
  {
   "cell_type": "code",
   "execution_count": 9,
   "metadata": {},
   "outputs": [
    {
     "data": {
      "text/plain": [
       "array([-9.74023093e-01, -8.23533833e-01, -4.52956670e-01, -1.52934802e-01,\n",
       "       -1.13522768e-01, -6.70683332e-02, -7.01563139e-02, -7.87939721e-02,\n",
       "       -3.39201905e-02, -3.41943458e-02, -6.79849815e-02, -3.06505621e-02,\n",
       "       -6.81939029e-04, -5.15607191e-02, -7.30336627e-02, -3.58473314e-02,\n",
       "       -1.59155014e-02, -3.17948169e-02, -4.57046675e-02, -4.37078192e-02,\n",
       "       -1.10627371e-02,  7.34052998e-03, -2.26644598e-02, -5.04837882e-02])"
      ]
     },
     "execution_count": 9,
     "metadata": {},
     "output_type": "execute_result"
    }
   ],
   "source": [
    "np.mean(X_vec, axis=0)"
   ]
  },
  {
   "cell_type": "code",
   "execution_count": 10,
   "metadata": {},
   "outputs": [],
   "source": [
    "def my_cov(X):\n",
    "    \"\"\"\n",
    "    Calculates covariance of a NxD matrix.\n",
    "    Parameters:\n",
    "      matrix: N-by-D data matrix\n",
    "    Returns:\n",
    "      cov: D-by-D covariance matrix.\n",
    "    \"\"\"\n",
    "    X_mean = my_mean(X)\n",
    "    X_shifted = X - X_mean\n",
    "    # Using Maximum Likelihood Estimation so divide by N\n",
    "    cov = (X_shifted.T @ X_shifted) / X.shape[0]\n",
    "    return cov"
   ]
  },
  {
   "cell_type": "code",
   "execution_count": 11,
   "metadata": {},
   "outputs": [
    {
     "data": {
      "text/plain": [
       "array([[ 1.18148335e-02, -4.37619788e-03, -5.91034314e-03,\n",
       "        -2.99273854e-03, -1.53964252e-03, -9.12451066e-04,\n",
       "        -1.26472019e-03, -3.86707941e-03, -4.84051355e-03,\n",
       "        -2.21269588e-03, -1.25272227e-03, -4.33312070e-03,\n",
       "        -4.84518817e-03, -1.95811598e-03, -2.68207230e-03,\n",
       "        -4.59549058e-03, -2.72668050e-03, -8.51376339e-04,\n",
       "        -2.22620083e-03, -3.29719906e-03, -3.10538730e-03,\n",
       "        -2.93603402e-03, -2.71759829e-03, -1.94824057e-03],\n",
       "       [-4.37619788e-03,  2.29611787e-02,  2.69499550e-02,\n",
       "         1.15202205e-02,  5.69689747e-03,  5.08680892e-03,\n",
       "         7.70573827e-03,  8.40170570e-03,  3.82535864e-03,\n",
       "         1.65207956e-03,  3.93593619e-03,  4.55515311e-03,\n",
       "         2.09018294e-03,  2.48182759e-03,  5.00715371e-03,\n",
       "         4.73837554e-03,  3.30238917e-03,  3.27643229e-03,\n",
       "         4.29699397e-03,  4.71826900e-03,  2.06182187e-03,\n",
       "         4.17402067e-04,  2.71433930e-03,  4.29424538e-03],\n",
       "       [-5.91034314e-03,  2.69499550e-02,  3.94143401e-02,\n",
       "         1.93302140e-02,  1.01528959e-02,  9.96341745e-03,\n",
       "         1.32582150e-02,  1.17718946e-02,  4.38109437e-03,\n",
       "         2.14605447e-03,  6.63435700e-03,  7.74801181e-03,\n",
       "         3.96005717e-03,  4.13626275e-03,  7.43665498e-03,\n",
       "         7.04813919e-03,  4.94203983e-03,  4.80332014e-03,\n",
       "         6.60699063e-03,  7.35444244e-03,  2.63447113e-03,\n",
       "        -4.60711869e-04,  3.20102121e-03,  6.19581240e-03],\n",
       "       [-2.99273854e-03,  1.15202205e-02,  1.93302140e-02,\n",
       "         1.46346715e-02,  1.04449656e-02,  7.76755457e-03,\n",
       "         7.24548945e-03,  6.61982059e-03,  4.49057930e-03,\n",
       "         2.72037124e-03,  3.37494557e-03,  4.57769277e-03,\n",
       "         2.88084874e-03,  7.97645874e-04,  2.37535011e-03,\n",
       "         4.20317509e-03,  3.43143284e-03,  2.57248932e-03,\n",
       "         3.43462161e-03,  3.61531302e-03,  1.32396343e-03,\n",
       "         1.17099936e-04,  1.58520841e-03,  2.71104187e-03],\n",
       "       [-1.53964252e-03,  5.69689747e-03,  1.01528959e-02,\n",
       "         1.04449656e-02,  1.55477628e-02,  1.24413298e-02,\n",
       "         7.33967691e-03,  3.30647005e-03,  1.16706387e-03,\n",
       "         1.76013324e-03,  2.61244982e-03,  1.17189503e-03,\n",
       "         4.79369792e-04,  1.77157912e-03,  2.97876701e-03,\n",
       "         2.74048407e-03,  1.74870762e-03,  1.71176744e-03,\n",
       "         2.94182232e-03,  2.91902865e-03,  2.53001481e-04,\n",
       "        -9.80515377e-04,  9.39308122e-04,  2.56518122e-03],\n",
       "       [-9.12451066e-04,  5.08680892e-03,  9.96341745e-03,\n",
       "         7.76755457e-03,  1.24413298e-02,  1.35887843e-02,\n",
       "         1.06619073e-02,  4.46722124e-03,  3.01341423e-05,\n",
       "         7.67965189e-04,  2.69396373e-03,  1.49206025e-03,\n",
       "         1.11282101e-03,  2.91914075e-03,  3.48750608e-03,\n",
       "         2.45360789e-03,  1.85833629e-03,  2.21115902e-03,\n",
       "         3.31332597e-03,  3.42121239e-03,  5.65369451e-04,\n",
       "        -1.09304707e-03,  1.04776700e-03,  2.98415092e-03],\n",
       "       [-1.26472019e-03,  7.70573827e-03,  1.32582150e-02,\n",
       "         7.24548945e-03,  7.33967691e-03,  1.06619073e-02,\n",
       "         1.30530507e-02,  8.03220083e-03,  1.16739732e-03,\n",
       "         5.74439588e-04,  2.95221620e-03,  2.52921176e-03,\n",
       "         2.02406255e-03,  3.30960880e-03,  3.57231692e-03,\n",
       "         2.62528463e-03,  2.54392764e-03,  3.06043672e-03,\n",
       "         3.86908355e-03,  4.04667864e-03,  1.37150978e-03,\n",
       "        -3.66417720e-04,  1.46402898e-03,  3.00514896e-03],\n",
       "       [-3.86707941e-03,  8.40170570e-03,  1.17718946e-02,\n",
       "         6.61982059e-03,  3.30647005e-03,  4.46722124e-03,\n",
       "         8.03220083e-03,  1.26811964e-02,  1.19638900e-02,\n",
       "         5.45189438e-03,  2.80194909e-03,  7.18198744e-03,\n",
       "         7.38540929e-03,  1.95009473e-03,  2.40353202e-03,\n",
       "         6.80223972e-03,  6.61816475e-03,  4.35652012e-03,\n",
       "         4.85820688e-03,  5.37852666e-03,  4.07208598e-03,\n",
       "         3.65173605e-03,  4.22651172e-03,  3.53088817e-03],\n",
       "       [-4.84051355e-03,  3.82535864e-03,  4.38109437e-03,\n",
       "         4.49057930e-03,  1.16706387e-03,  3.01341423e-05,\n",
       "         1.16739732e-03,  1.19638900e-02,  1.98282465e-02,\n",
       "         1.08875663e-02,  2.54200410e-03,  1.00852056e-02,\n",
       "         1.21399549e-02,  8.24631633e-04,  3.77413391e-04,\n",
       "         9.53058513e-03,  9.55096267e-03,  4.49176043e-03,\n",
       "         4.55218554e-03,  5.31871183e-03,  5.51609725e-03,\n",
       "         6.59232867e-03,  6.15962204e-03,  3.70027042e-03],\n",
       "       [-2.21269588e-03,  1.65207956e-03,  2.14605447e-03,\n",
       "         2.72037124e-03,  1.76013324e-03,  7.67965189e-04,\n",
       "         5.74439588e-04,  5.45189438e-03,  1.08875663e-02,\n",
       "         8.80575357e-03,  3.79925726e-03,  5.51661007e-03,\n",
       "         6.67629603e-03,  1.56672140e-03,  9.43030968e-04,\n",
       "         5.32878895e-03,  5.33626540e-03,  2.48159311e-03,\n",
       "         2.54352756e-03,  3.12518012e-03,  2.94367938e-03,\n",
       "         3.38940475e-03,  3.70355816e-03,  2.79169050e-03],\n",
       "       [-1.25272227e-03,  3.93593619e-03,  6.63435700e-03,\n",
       "         3.37494557e-03,  2.61244982e-03,  2.69396373e-03,\n",
       "         2.95221620e-03,  2.80194909e-03,  2.54200410e-03,\n",
       "         3.79925726e-03,  5.07542840e-03,  4.07580465e-03,\n",
       "         2.31577893e-03,  1.94358359e-03,  2.56951977e-03,\n",
       "         2.73836288e-03,  2.17239539e-03,  1.54605321e-03,\n",
       "         1.79802585e-03,  2.26828378e-03,  1.23396700e-03,\n",
       "         4.52563634e-04,  1.47984415e-03,  2.25205050e-03],\n",
       "       [-4.33312070e-03,  4.55515311e-03,  7.74801181e-03,\n",
       "         4.57769277e-03,  1.17189503e-03,  1.49206025e-03,\n",
       "         2.52921176e-03,  7.18198744e-03,  1.00852056e-02,\n",
       "         5.51661007e-03,  4.07580465e-03,  1.11224937e-02,\n",
       "         1.13462235e-02,  2.23712086e-03,  1.50279330e-03,\n",
       "         7.49499574e-03,  7.46946770e-03,  3.76545981e-03,\n",
       "         3.65153801e-03,  4.43464038e-03,  4.16721740e-03,\n",
       "         4.13439175e-03,  4.17073393e-03,  3.34615318e-03],\n",
       "       [-4.84518817e-03,  2.09018294e-03,  3.96005717e-03,\n",
       "         2.88084874e-03,  4.79369792e-04,  1.11282101e-03,\n",
       "         2.02406255e-03,  7.38540929e-03,  1.21399549e-02,\n",
       "         6.67629603e-03,  2.31577893e-03,  1.13462235e-02,\n",
       "         1.56136645e-02,  4.60862906e-03,  1.20711010e-03,\n",
       "         8.32910313e-03,  9.04406165e-03,  4.49059622e-03,\n",
       "         4.45492692e-03,  5.15216191e-03,  4.90824409e-03,\n",
       "         5.46558212e-03,  5.54428489e-03,  4.03796766e-03],\n",
       "       [-1.95811598e-03,  2.48182759e-03,  4.13626275e-03,\n",
       "         7.97645874e-04,  1.77157912e-03,  2.91914075e-03,\n",
       "         3.30960880e-03,  1.95009473e-03,  8.24631633e-04,\n",
       "         1.56672140e-03,  1.94358359e-03,  2.23712086e-03,\n",
       "         4.60862906e-03,  6.38449702e-03,  5.18111293e-03,\n",
       "         3.03222947e-03,  1.74950966e-03,  1.66846993e-03,\n",
       "         2.97029058e-03,  3.45447856e-03,  1.41434374e-03,\n",
       "         1.99711757e-04,  1.98841903e-03,  3.22093706e-03],\n",
       "       [-2.68207230e-03,  5.00715371e-03,  7.43665498e-03,\n",
       "         2.37535011e-03,  2.97876701e-03,  3.48750608e-03,\n",
       "         3.57231692e-03,  2.40353202e-03,  3.77413391e-04,\n",
       "         9.43030968e-04,  2.56951977e-03,  1.50279330e-03,\n",
       "         1.20711010e-03,  5.18111293e-03,  7.53561461e-03,\n",
       "         4.61121294e-03,  1.19604824e-03,  1.11926725e-03,\n",
       "         3.08329182e-03,  4.12707213e-03,  1.84952902e-03,\n",
       "        -2.54821252e-04,  1.41471897e-03,  3.29957999e-03],\n",
       "       [-4.59549058e-03,  4.73837554e-03,  7.04813919e-03,\n",
       "         4.20317509e-03,  2.74048407e-03,  2.45360789e-03,\n",
       "         2.62528463e-03,  6.80223972e-03,  9.53058513e-03,\n",
       "         5.32878895e-03,  2.73836288e-03,  7.49499574e-03,\n",
       "         8.32910313e-03,  3.03222947e-03,  4.61121294e-03,\n",
       "         9.61982978e-03,  7.67157590e-03,  3.65450945e-03,\n",
       "         4.36400129e-03,  5.59866131e-03,  4.83402952e-03,\n",
       "         4.17794999e-03,  4.29199534e-03,  3.84544141e-03],\n",
       "       [-2.72668050e-03,  3.30238917e-03,  4.94203983e-03,\n",
       "         3.43143284e-03,  1.74870762e-03,  1.85833629e-03,\n",
       "         2.54392764e-03,  6.61816475e-03,  9.55096267e-03,\n",
       "         5.33626540e-03,  2.17239539e-03,  7.46946770e-03,\n",
       "         9.04406165e-03,  1.74950966e-03,  1.19604824e-03,\n",
       "         7.67157590e-03,  8.63335225e-03,  4.97589209e-03,\n",
       "         4.18731663e-03,  4.33178209e-03,  3.99158442e-03,\n",
       "         4.43300337e-03,  4.47914698e-03,  3.20794433e-03],\n",
       "       [-8.51376339e-04,  3.27643229e-03,  4.80332014e-03,\n",
       "         2.57248932e-03,  1.71176744e-03,  2.21115902e-03,\n",
       "         3.06043672e-03,  4.35652012e-03,  4.49176043e-03,\n",
       "         2.48159311e-03,  1.54605321e-03,  3.76545981e-03,\n",
       "         4.49059622e-03,  1.66846993e-03,  1.11926725e-03,\n",
       "         3.65450945e-03,  4.97589209e-03,  4.35748649e-03,\n",
       "         3.82838054e-03,  3.05041889e-03,  1.75714625e-03,\n",
       "         1.76352814e-03,  2.72366960e-03,  2.52587391e-03],\n",
       "       [-2.22620083e-03,  4.29699397e-03,  6.60699063e-03,\n",
       "         3.43462161e-03,  2.94182232e-03,  3.31332597e-03,\n",
       "         3.86908355e-03,  4.85820688e-03,  4.55218554e-03,\n",
       "         2.54352756e-03,  1.79802585e-03,  3.65153801e-03,\n",
       "         4.45492692e-03,  2.97029058e-03,  3.08329182e-03,\n",
       "         4.36400129e-03,  4.18731663e-03,  3.82838054e-03,\n",
       "         4.75691951e-03,  4.51692025e-03,  2.29744152e-03,\n",
       "         1.41001225e-03,  2.77119407e-03,  3.28218924e-03],\n",
       "       [-3.29719906e-03,  4.71826900e-03,  7.35444244e-03,\n",
       "         3.61531302e-03,  2.91902865e-03,  3.42121239e-03,\n",
       "         4.04667864e-03,  5.37852666e-03,  5.31871183e-03,\n",
       "         3.12518012e-03,  2.26828378e-03,  4.43464038e-03,\n",
       "         5.15216191e-03,  3.45447856e-03,  4.12707213e-03,\n",
       "         5.59866131e-03,  4.33178209e-03,  3.05041889e-03,\n",
       "         4.51692025e-03,  5.38180922e-03,  3.44933911e-03,\n",
       "         1.99648896e-03,  2.92601943e-03,  3.54435790e-03],\n",
       "       [-3.10538730e-03,  2.06182187e-03,  2.63447113e-03,\n",
       "         1.32396343e-03,  2.53001481e-04,  5.65369451e-04,\n",
       "         1.37150978e-03,  4.07208598e-03,  5.51609725e-03,\n",
       "         2.94367938e-03,  1.23396700e-03,  4.16721740e-03,\n",
       "         4.90824409e-03,  1.41434374e-03,  1.84952902e-03,\n",
       "         4.83402952e-03,  3.99158442e-03,  1.75714625e-03,\n",
       "         2.29744152e-03,  3.44933911e-03,  3.68350919e-03,\n",
       "         3.22990300e-03,  2.51421290e-03,  1.86214023e-03],\n",
       "       [-2.93603402e-03,  4.17402067e-04, -4.60711869e-04,\n",
       "         1.17099936e-04, -9.80515377e-04, -1.09304707e-03,\n",
       "        -3.66417720e-04,  3.65173605e-03,  6.59232867e-03,\n",
       "         3.38940475e-03,  4.52563634e-04,  4.13439175e-03,\n",
       "         5.46558212e-03,  1.99711757e-04, -2.54821252e-04,\n",
       "         4.17794999e-03,  4.43300337e-03,  1.76352814e-03,\n",
       "         1.41001225e-03,  1.99648896e-03,  3.22990300e-03,\n",
       "         4.34047668e-03,  3.26851811e-03,  1.19857777e-03],\n",
       "       [-2.71759829e-03,  2.71433930e-03,  3.20102121e-03,\n",
       "         1.58520841e-03,  9.39308122e-04,  1.04776700e-03,\n",
       "         1.46402898e-03,  4.22651172e-03,  6.15962204e-03,\n",
       "         3.70355816e-03,  1.47984415e-03,  4.17073393e-03,\n",
       "         5.54428489e-03,  1.98841903e-03,  1.41471897e-03,\n",
       "         4.29199534e-03,  4.47914698e-03,  2.72366960e-03,\n",
       "         2.77119407e-03,  2.92601943e-03,  2.51421290e-03,\n",
       "         3.26851811e-03,  4.16592823e-03,  3.01096287e-03],\n",
       "       [-1.94824057e-03,  4.29424538e-03,  6.19581240e-03,\n",
       "         2.71104187e-03,  2.56518122e-03,  2.98415092e-03,\n",
       "         3.00514896e-03,  3.53088817e-03,  3.70027042e-03,\n",
       "         2.79169050e-03,  2.25205050e-03,  3.34615318e-03,\n",
       "         4.03796766e-03,  3.22093706e-03,  3.29957999e-03,\n",
       "         3.84544141e-03,  3.20794433e-03,  2.52587391e-03,\n",
       "         3.28218924e-03,  3.54435790e-03,  1.86214023e-03,\n",
       "         1.19857777e-03,  3.01096287e-03,  3.84593890e-03]])"
      ]
     },
     "execution_count": 11,
     "metadata": {},
     "output_type": "execute_result"
    }
   ],
   "source": [
    "res1_1_1 = my_cov(X_vec)\n",
    "res1_1_1"
   ]
  },
  {
   "cell_type": "code",
   "execution_count": 12,
   "metadata": {},
   "outputs": [
    {
     "data": {
      "text/plain": [
       "(24, 24)"
      ]
     },
     "execution_count": 12,
     "metadata": {},
     "output_type": "execute_result"
    }
   ],
   "source": [
    "res1_1_1_np = np.cov(X_vec.T)\n",
    "res1_1_1_np.shape"
   ]
  },
  {
   "cell_type": "code",
   "execution_count": 13,
   "metadata": {},
   "outputs": [
    {
     "data": {
      "text/plain": [
       "array([[ 2.18148335e-02, -4.37619788e-03, -5.91034314e-03,\n",
       "        -2.99273854e-03, -1.53964252e-03, -9.12451066e-04,\n",
       "        -1.26472019e-03, -3.86707941e-03, -4.84051355e-03,\n",
       "        -2.21269588e-03, -1.25272227e-03, -4.33312070e-03,\n",
       "        -4.84518817e-03, -1.95811598e-03, -2.68207230e-03,\n",
       "        -4.59549058e-03, -2.72668050e-03, -8.51376339e-04,\n",
       "        -2.22620083e-03, -3.29719906e-03, -3.10538730e-03,\n",
       "        -2.93603402e-03, -2.71759829e-03, -1.94824057e-03],\n",
       "       [-4.37619788e-03,  3.29611787e-02,  2.69499550e-02,\n",
       "         1.15202205e-02,  5.69689747e-03,  5.08680892e-03,\n",
       "         7.70573827e-03,  8.40170570e-03,  3.82535864e-03,\n",
       "         1.65207956e-03,  3.93593619e-03,  4.55515311e-03,\n",
       "         2.09018294e-03,  2.48182759e-03,  5.00715371e-03,\n",
       "         4.73837554e-03,  3.30238917e-03,  3.27643229e-03,\n",
       "         4.29699397e-03,  4.71826900e-03,  2.06182187e-03,\n",
       "         4.17402067e-04,  2.71433930e-03,  4.29424538e-03],\n",
       "       [-5.91034314e-03,  2.69499550e-02,  4.94143401e-02,\n",
       "         1.93302140e-02,  1.01528959e-02,  9.96341745e-03,\n",
       "         1.32582150e-02,  1.17718946e-02,  4.38109437e-03,\n",
       "         2.14605447e-03,  6.63435700e-03,  7.74801181e-03,\n",
       "         3.96005717e-03,  4.13626275e-03,  7.43665498e-03,\n",
       "         7.04813919e-03,  4.94203983e-03,  4.80332014e-03,\n",
       "         6.60699063e-03,  7.35444244e-03,  2.63447113e-03,\n",
       "        -4.60711869e-04,  3.20102121e-03,  6.19581240e-03],\n",
       "       [-2.99273854e-03,  1.15202205e-02,  1.93302140e-02,\n",
       "         2.46346715e-02,  1.04449656e-02,  7.76755457e-03,\n",
       "         7.24548945e-03,  6.61982059e-03,  4.49057930e-03,\n",
       "         2.72037124e-03,  3.37494557e-03,  4.57769277e-03,\n",
       "         2.88084874e-03,  7.97645874e-04,  2.37535011e-03,\n",
       "         4.20317509e-03,  3.43143284e-03,  2.57248932e-03,\n",
       "         3.43462161e-03,  3.61531302e-03,  1.32396343e-03,\n",
       "         1.17099936e-04,  1.58520841e-03,  2.71104187e-03],\n",
       "       [-1.53964252e-03,  5.69689747e-03,  1.01528959e-02,\n",
       "         1.04449656e-02,  2.55477628e-02,  1.24413298e-02,\n",
       "         7.33967691e-03,  3.30647005e-03,  1.16706387e-03,\n",
       "         1.76013324e-03,  2.61244982e-03,  1.17189503e-03,\n",
       "         4.79369792e-04,  1.77157912e-03,  2.97876701e-03,\n",
       "         2.74048407e-03,  1.74870762e-03,  1.71176744e-03,\n",
       "         2.94182232e-03,  2.91902865e-03,  2.53001481e-04,\n",
       "        -9.80515377e-04,  9.39308122e-04,  2.56518122e-03],\n",
       "       [-9.12451066e-04,  5.08680892e-03,  9.96341745e-03,\n",
       "         7.76755457e-03,  1.24413298e-02,  2.35887843e-02,\n",
       "         1.06619073e-02,  4.46722124e-03,  3.01341423e-05,\n",
       "         7.67965189e-04,  2.69396373e-03,  1.49206025e-03,\n",
       "         1.11282101e-03,  2.91914075e-03,  3.48750608e-03,\n",
       "         2.45360789e-03,  1.85833629e-03,  2.21115902e-03,\n",
       "         3.31332597e-03,  3.42121239e-03,  5.65369451e-04,\n",
       "        -1.09304707e-03,  1.04776700e-03,  2.98415092e-03],\n",
       "       [-1.26472019e-03,  7.70573827e-03,  1.32582150e-02,\n",
       "         7.24548945e-03,  7.33967691e-03,  1.06619073e-02,\n",
       "         2.30530507e-02,  8.03220083e-03,  1.16739732e-03,\n",
       "         5.74439588e-04,  2.95221620e-03,  2.52921176e-03,\n",
       "         2.02406255e-03,  3.30960880e-03,  3.57231692e-03,\n",
       "         2.62528463e-03,  2.54392764e-03,  3.06043672e-03,\n",
       "         3.86908355e-03,  4.04667864e-03,  1.37150978e-03,\n",
       "        -3.66417720e-04,  1.46402898e-03,  3.00514896e-03],\n",
       "       [-3.86707941e-03,  8.40170570e-03,  1.17718946e-02,\n",
       "         6.61982059e-03,  3.30647005e-03,  4.46722124e-03,\n",
       "         8.03220083e-03,  2.26811964e-02,  1.19638900e-02,\n",
       "         5.45189438e-03,  2.80194909e-03,  7.18198744e-03,\n",
       "         7.38540929e-03,  1.95009473e-03,  2.40353202e-03,\n",
       "         6.80223972e-03,  6.61816475e-03,  4.35652012e-03,\n",
       "         4.85820688e-03,  5.37852666e-03,  4.07208598e-03,\n",
       "         3.65173605e-03,  4.22651172e-03,  3.53088817e-03],\n",
       "       [-4.84051355e-03,  3.82535864e-03,  4.38109437e-03,\n",
       "         4.49057930e-03,  1.16706387e-03,  3.01341423e-05,\n",
       "         1.16739732e-03,  1.19638900e-02,  2.98282465e-02,\n",
       "         1.08875663e-02,  2.54200410e-03,  1.00852056e-02,\n",
       "         1.21399549e-02,  8.24631633e-04,  3.77413391e-04,\n",
       "         9.53058513e-03,  9.55096267e-03,  4.49176043e-03,\n",
       "         4.55218554e-03,  5.31871183e-03,  5.51609725e-03,\n",
       "         6.59232867e-03,  6.15962204e-03,  3.70027042e-03],\n",
       "       [-2.21269588e-03,  1.65207956e-03,  2.14605447e-03,\n",
       "         2.72037124e-03,  1.76013324e-03,  7.67965189e-04,\n",
       "         5.74439588e-04,  5.45189438e-03,  1.08875663e-02,\n",
       "         1.88057536e-02,  3.79925726e-03,  5.51661007e-03,\n",
       "         6.67629603e-03,  1.56672140e-03,  9.43030968e-04,\n",
       "         5.32878895e-03,  5.33626540e-03,  2.48159311e-03,\n",
       "         2.54352756e-03,  3.12518012e-03,  2.94367938e-03,\n",
       "         3.38940475e-03,  3.70355816e-03,  2.79169050e-03],\n",
       "       [-1.25272227e-03,  3.93593619e-03,  6.63435700e-03,\n",
       "         3.37494557e-03,  2.61244982e-03,  2.69396373e-03,\n",
       "         2.95221620e-03,  2.80194909e-03,  2.54200410e-03,\n",
       "         3.79925726e-03,  1.50754284e-02,  4.07580465e-03,\n",
       "         2.31577893e-03,  1.94358359e-03,  2.56951977e-03,\n",
       "         2.73836288e-03,  2.17239539e-03,  1.54605321e-03,\n",
       "         1.79802585e-03,  2.26828378e-03,  1.23396700e-03,\n",
       "         4.52563634e-04,  1.47984415e-03,  2.25205050e-03],\n",
       "       [-4.33312070e-03,  4.55515311e-03,  7.74801181e-03,\n",
       "         4.57769277e-03,  1.17189503e-03,  1.49206025e-03,\n",
       "         2.52921176e-03,  7.18198744e-03,  1.00852056e-02,\n",
       "         5.51661007e-03,  4.07580465e-03,  2.11224937e-02,\n",
       "         1.13462235e-02,  2.23712086e-03,  1.50279330e-03,\n",
       "         7.49499574e-03,  7.46946770e-03,  3.76545981e-03,\n",
       "         3.65153801e-03,  4.43464038e-03,  4.16721740e-03,\n",
       "         4.13439175e-03,  4.17073393e-03,  3.34615318e-03],\n",
       "       [-4.84518817e-03,  2.09018294e-03,  3.96005717e-03,\n",
       "         2.88084874e-03,  4.79369792e-04,  1.11282101e-03,\n",
       "         2.02406255e-03,  7.38540929e-03,  1.21399549e-02,\n",
       "         6.67629603e-03,  2.31577893e-03,  1.13462235e-02,\n",
       "         2.56136645e-02,  4.60862906e-03,  1.20711010e-03,\n",
       "         8.32910313e-03,  9.04406165e-03,  4.49059622e-03,\n",
       "         4.45492692e-03,  5.15216191e-03,  4.90824409e-03,\n",
       "         5.46558212e-03,  5.54428489e-03,  4.03796766e-03],\n",
       "       [-1.95811598e-03,  2.48182759e-03,  4.13626275e-03,\n",
       "         7.97645874e-04,  1.77157912e-03,  2.91914075e-03,\n",
       "         3.30960880e-03,  1.95009473e-03,  8.24631633e-04,\n",
       "         1.56672140e-03,  1.94358359e-03,  2.23712086e-03,\n",
       "         4.60862906e-03,  1.63844970e-02,  5.18111293e-03,\n",
       "         3.03222947e-03,  1.74950966e-03,  1.66846993e-03,\n",
       "         2.97029058e-03,  3.45447856e-03,  1.41434374e-03,\n",
       "         1.99711757e-04,  1.98841903e-03,  3.22093706e-03],\n",
       "       [-2.68207230e-03,  5.00715371e-03,  7.43665498e-03,\n",
       "         2.37535011e-03,  2.97876701e-03,  3.48750608e-03,\n",
       "         3.57231692e-03,  2.40353202e-03,  3.77413391e-04,\n",
       "         9.43030968e-04,  2.56951977e-03,  1.50279330e-03,\n",
       "         1.20711010e-03,  5.18111293e-03,  1.75356146e-02,\n",
       "         4.61121294e-03,  1.19604824e-03,  1.11926725e-03,\n",
       "         3.08329182e-03,  4.12707213e-03,  1.84952902e-03,\n",
       "        -2.54821252e-04,  1.41471897e-03,  3.29957999e-03],\n",
       "       [-4.59549058e-03,  4.73837554e-03,  7.04813919e-03,\n",
       "         4.20317509e-03,  2.74048407e-03,  2.45360789e-03,\n",
       "         2.62528463e-03,  6.80223972e-03,  9.53058513e-03,\n",
       "         5.32878895e-03,  2.73836288e-03,  7.49499574e-03,\n",
       "         8.32910313e-03,  3.03222947e-03,  4.61121294e-03,\n",
       "         1.96198298e-02,  7.67157590e-03,  3.65450945e-03,\n",
       "         4.36400129e-03,  5.59866131e-03,  4.83402952e-03,\n",
       "         4.17794999e-03,  4.29199534e-03,  3.84544141e-03],\n",
       "       [-2.72668050e-03,  3.30238917e-03,  4.94203983e-03,\n",
       "         3.43143284e-03,  1.74870762e-03,  1.85833629e-03,\n",
       "         2.54392764e-03,  6.61816475e-03,  9.55096267e-03,\n",
       "         5.33626540e-03,  2.17239539e-03,  7.46946770e-03,\n",
       "         9.04406165e-03,  1.74950966e-03,  1.19604824e-03,\n",
       "         7.67157590e-03,  1.86333523e-02,  4.97589209e-03,\n",
       "         4.18731663e-03,  4.33178209e-03,  3.99158442e-03,\n",
       "         4.43300337e-03,  4.47914698e-03,  3.20794433e-03],\n",
       "       [-8.51376339e-04,  3.27643229e-03,  4.80332014e-03,\n",
       "         2.57248932e-03,  1.71176744e-03,  2.21115902e-03,\n",
       "         3.06043672e-03,  4.35652012e-03,  4.49176043e-03,\n",
       "         2.48159311e-03,  1.54605321e-03,  3.76545981e-03,\n",
       "         4.49059622e-03,  1.66846993e-03,  1.11926725e-03,\n",
       "         3.65450945e-03,  4.97589209e-03,  1.43574865e-02,\n",
       "         3.82838054e-03,  3.05041889e-03,  1.75714625e-03,\n",
       "         1.76352814e-03,  2.72366960e-03,  2.52587391e-03],\n",
       "       [-2.22620083e-03,  4.29699397e-03,  6.60699063e-03,\n",
       "         3.43462161e-03,  2.94182232e-03,  3.31332597e-03,\n",
       "         3.86908355e-03,  4.85820688e-03,  4.55218554e-03,\n",
       "         2.54352756e-03,  1.79802585e-03,  3.65153801e-03,\n",
       "         4.45492692e-03,  2.97029058e-03,  3.08329182e-03,\n",
       "         4.36400129e-03,  4.18731663e-03,  3.82838054e-03,\n",
       "         1.47569195e-02,  4.51692025e-03,  2.29744152e-03,\n",
       "         1.41001225e-03,  2.77119407e-03,  3.28218924e-03],\n",
       "       [-3.29719906e-03,  4.71826900e-03,  7.35444244e-03,\n",
       "         3.61531302e-03,  2.91902865e-03,  3.42121239e-03,\n",
       "         4.04667864e-03,  5.37852666e-03,  5.31871183e-03,\n",
       "         3.12518012e-03,  2.26828378e-03,  4.43464038e-03,\n",
       "         5.15216191e-03,  3.45447856e-03,  4.12707213e-03,\n",
       "         5.59866131e-03,  4.33178209e-03,  3.05041889e-03,\n",
       "         4.51692025e-03,  1.53818092e-02,  3.44933911e-03,\n",
       "         1.99648896e-03,  2.92601943e-03,  3.54435790e-03],\n",
       "       [-3.10538730e-03,  2.06182187e-03,  2.63447113e-03,\n",
       "         1.32396343e-03,  2.53001481e-04,  5.65369451e-04,\n",
       "         1.37150978e-03,  4.07208598e-03,  5.51609725e-03,\n",
       "         2.94367938e-03,  1.23396700e-03,  4.16721740e-03,\n",
       "         4.90824409e-03,  1.41434374e-03,  1.84952902e-03,\n",
       "         4.83402952e-03,  3.99158442e-03,  1.75714625e-03,\n",
       "         2.29744152e-03,  3.44933911e-03,  1.36835092e-02,\n",
       "         3.22990300e-03,  2.51421290e-03,  1.86214023e-03],\n",
       "       [-2.93603402e-03,  4.17402067e-04, -4.60711869e-04,\n",
       "         1.17099936e-04, -9.80515377e-04, -1.09304707e-03,\n",
       "        -3.66417720e-04,  3.65173605e-03,  6.59232867e-03,\n",
       "         3.38940475e-03,  4.52563634e-04,  4.13439175e-03,\n",
       "         5.46558212e-03,  1.99711757e-04, -2.54821252e-04,\n",
       "         4.17794999e-03,  4.43300337e-03,  1.76352814e-03,\n",
       "         1.41001225e-03,  1.99648896e-03,  3.22990300e-03,\n",
       "         1.43404767e-02,  3.26851811e-03,  1.19857777e-03],\n",
       "       [-2.71759829e-03,  2.71433930e-03,  3.20102121e-03,\n",
       "         1.58520841e-03,  9.39308122e-04,  1.04776700e-03,\n",
       "         1.46402898e-03,  4.22651172e-03,  6.15962204e-03,\n",
       "         3.70355816e-03,  1.47984415e-03,  4.17073393e-03,\n",
       "         5.54428489e-03,  1.98841903e-03,  1.41471897e-03,\n",
       "         4.29199534e-03,  4.47914698e-03,  2.72366960e-03,\n",
       "         2.77119407e-03,  2.92601943e-03,  2.51421290e-03,\n",
       "         3.26851811e-03,  1.41659282e-02,  3.01096287e-03],\n",
       "       [-1.94824057e-03,  4.29424538e-03,  6.19581240e-03,\n",
       "         2.71104187e-03,  2.56518122e-03,  2.98415092e-03,\n",
       "         3.00514896e-03,  3.53088817e-03,  3.70027042e-03,\n",
       "         2.79169050e-03,  2.25205050e-03,  3.34615318e-03,\n",
       "         4.03796766e-03,  3.22093706e-03,  3.29957999e-03,\n",
       "         3.84544141e-03,  3.20794433e-03,  2.52587391e-03,\n",
       "         3.28218924e-03,  3.54435790e-03,  1.86214023e-03,\n",
       "         1.19857777e-03,  3.01096287e-03,  1.38459389e-02]])"
      ]
     },
     "execution_count": 13,
     "metadata": {},
     "output_type": "execute_result"
    }
   ],
   "source": [
    "res1_1_1 + 0.01*np.eye(24)"
   ]
  },
  {
   "cell_type": "code",
   "execution_count": 14,
   "metadata": {},
   "outputs": [],
   "source": [
    "res1_1_2 = np.corrcoef(X_vec.T)"
   ]
  },
  {
   "cell_type": "code",
   "execution_count": 15,
   "metadata": {},
   "outputs": [],
   "source": [
    "def my_corr_1(X):\n",
    "    c = my_cov(X)\n",
    "    try:\n",
    "        d = np.diag(c)\n",
    "    except ValueError:\n",
    "        # scalar covariance\n",
    "        # nan if incorrect value (nan, inf, 0), 1 otherwise\n",
    "        return c / c\n",
    "    stddev = np.sqrt(d.real)\n",
    "#     print(stddev)\n",
    "#     print(stddev[None, :])\n",
    "#     c /= stddev[:, None]\n",
    "#     c /= stddev[None, :]\n",
    "    c /= np.dot(stddev.T, stddev)\n",
    "    return c"
   ]
  },
  {
   "cell_type": "code",
   "execution_count": 18,
   "metadata": {},
   "outputs": [],
   "source": [
    "def my_corr(X):\n",
    "    c = my_cov(X)\n",
    "    try:\n",
    "        d = np.diag(c)\n",
    "    except ValueError:\n",
    "        # scalar covariance\n",
    "        # nan if incorrect value (nan, inf, 0), 1 otherwise\n",
    "        return c / c\n",
    "    stddev = np.sqrt(d.real)\n",
    "    c /= stddev.T @ stddev\n",
    "    #c /= np.sqrt((np.dot(d.T, d)).real)\n",
    "    return c"
   ]
  },
  {
   "cell_type": "code",
   "execution_count": 21,
   "metadata": {},
   "outputs": [
    {
     "data": {
      "text/plain": [
       "array([[ 4.42757229e-02, -1.63996662e-02, -2.21488280e-02,\n",
       "        -1.12151951e-02, -5.76976269e-03, -3.41938214e-03,\n",
       "        -4.73949978e-03, -1.44917604e-02, -1.81396747e-02,\n",
       "        -8.29200932e-03, -4.69453796e-03, -1.62382357e-02,\n",
       "        -1.81571927e-02, -7.33797905e-03, -1.00509829e-02,\n",
       "        -1.72214588e-02, -1.02181508e-02, -3.19050648e-03,\n",
       "        -8.34261873e-03, -1.23561514e-02, -1.16373428e-02,\n",
       "        -1.10026966e-02, -1.01841155e-02, -7.30097126e-03],\n",
       "       [-1.63996662e-02,  8.60463065e-02,  1.00994122e-01,\n",
       "         4.31716699e-02,  2.13489470e-02,  1.90626590e-02,\n",
       "         2.88770157e-02,  3.14851321e-02,  1.43354131e-02,\n",
       "         6.19111702e-03,  1.47497991e-02,  1.70702953e-02,\n",
       "         7.83289590e-03,  9.30057208e-03,  1.87641536e-02,\n",
       "         1.77569157e-02,  1.23756012e-02,  1.22783286e-02,\n",
       "         1.61028519e-02,  1.76815671e-02,  7.72661365e-03,\n",
       "         1.56420133e-03,  1.01719025e-02,  1.60925517e-02],\n",
       "       [-2.21488280e-02,  1.00994122e-01,  1.47704020e-01,\n",
       "         7.24393789e-02,  3.80476633e-02,  3.73375986e-02,\n",
       "         4.96847506e-02,  4.41148108e-02,  1.64180156e-02,\n",
       "         8.04227270e-03,  2.48620476e-02,  2.90354345e-02,\n",
       "         1.48401917e-02,  1.55005167e-02,  2.78686344e-02,\n",
       "         2.64126835e-02,  1.85201413e-02,  1.80002936e-02,\n",
       "         2.47594929e-02,  2.75605455e-02,  9.87259903e-03,\n",
       "        -1.72650347e-03,  1.19957279e-02,  2.32186152e-02],\n",
       "       [-1.12151951e-02,  4.31716699e-02,  7.24393789e-02,\n",
       "         5.48429787e-02,  3.91421853e-02,  2.91086704e-02,\n",
       "         2.71522475e-02,  2.48075728e-02,  1.68283070e-02,\n",
       "         1.01945071e-02,  1.26475041e-02,  1.71547620e-02,\n",
       "         1.07958915e-02,  2.98915323e-03,  8.90155104e-03,\n",
       "         1.57512686e-02,  1.28591884e-02,  9.64032413e-03,\n",
       "         1.28711382e-02,  1.35482737e-02,  4.96151199e-03,\n",
       "         4.38828387e-04,  5.94051945e-03,  1.01595455e-02],\n",
       "       [-5.76976269e-03,  2.13489470e-02,  3.80476633e-02,\n",
       "         3.91421853e-02,  5.82647601e-02,  4.66234985e-02,\n",
       "         2.75052121e-02,  1.23908942e-02,  4.37353574e-03,\n",
       "         6.59604485e-03,  9.79007485e-03,  4.39164037e-03,\n",
       "         1.79642346e-03,  6.63893794e-03,  1.11628372e-02,\n",
       "         1.02698793e-02,  6.55322769e-03,  6.41479550e-03,\n",
       "         1.10243881e-02,  1.09389695e-02,  9.48115222e-04,\n",
       "        -3.67445104e-03,  3.52002812e-03,  9.61293723e-03],\n",
       "       [-3.41938214e-03,  1.90626590e-02,  3.73375986e-02,\n",
       "         2.91086704e-02,  4.66234985e-02,  5.09235486e-02,\n",
       "         3.99551677e-02,  1.67407734e-02,  1.12926766e-04,\n",
       "         2.87792578e-03,  1.00955457e-02,  5.59144961e-03,\n",
       "         4.17026230e-03,  1.09393896e-02,  1.30693211e-02,\n",
       "         9.19481963e-03,  6.96405773e-03,  8.28625002e-03,\n",
       "         1.24165865e-02,  1.28208876e-02,  2.11870452e-03,\n",
       "        -4.09616007e-03,  3.92647442e-03,  1.11830132e-02],\n",
       "       [-4.73949978e-03,  2.88770157e-02,  4.96847506e-02,\n",
       "         2.71522475e-02,  2.75052121e-02,  3.99551677e-02,\n",
       "         4.89159036e-02,  3.01004241e-02,  4.37478532e-03,\n",
       "         2.15269458e-03,  1.10633389e-02,  9.47814281e-03,\n",
       "         7.58511177e-03,  1.24026566e-02,  1.33871471e-02,\n",
       "         9.83817291e-03,  9.53329010e-03,  1.14688919e-02,\n",
       "         1.44992709e-02,  1.51648030e-02,  5.13969044e-03,\n",
       "        -1.37313907e-03,  5.48640330e-03,  1.12617027e-02],\n",
       "       [-1.44917604e-02,  3.14851321e-02,  4.41148108e-02,\n",
       "         2.48075728e-02,  1.23908942e-02,  1.67407734e-02,\n",
       "         3.01004241e-02,  4.75223911e-02,  4.48343075e-02,\n",
       "         2.04308055e-02,  1.05002175e-02,  2.69142757e-02,\n",
       "         2.76765928e-02,  7.30791965e-03,  9.00716188e-03,\n",
       "         2.54911828e-02,  2.48013676e-02,  1.63259243e-02,\n",
       "         1.82059799e-02,  2.01558622e-02,  1.52600162e-02,\n",
       "         1.36847678e-02,  1.58387219e-02,  1.32318942e-02],\n",
       "       [-1.81396747e-02,  1.43354131e-02,  1.64180156e-02,\n",
       "         1.68283070e-02,  4.37353574e-03,  1.12926766e-04,\n",
       "         4.37478532e-03,  4.48343075e-02,  7.43057402e-02,\n",
       "         4.08008179e-02,  9.52608171e-03,  3.77939958e-02,\n",
       "         4.54941054e-02,  3.09028153e-03,  1.41434500e-03,\n",
       "         3.57155729e-02,  3.57919371e-02,  1.68327332e-02,\n",
       "         1.70591744e-02,  1.99317080e-02,  2.06714037e-02,\n",
       "         2.47045477e-02,  2.30829930e-02,  1.38666489e-02],\n",
       "       [-8.29200932e-03,  6.19111702e-03,  8.04227270e-03,\n",
       "         1.01945071e-02,  6.59604485e-03,  2.87792578e-03,\n",
       "         2.15269458e-03,  2.04308055e-02,  4.08008179e-02,\n",
       "         3.29992890e-02,  1.42375990e-02,  2.06733255e-02,\n",
       "         2.50192128e-02,  5.87123997e-03,  3.53397937e-03,\n",
       "         1.99694717e-02,  1.99974894e-02,  9.29969337e-03,\n",
       "         9.53179080e-03,  1.17115158e-02,  1.10313474e-02,\n",
       "         1.27016894e-02,  1.38789696e-02,  1.04617738e-02],\n",
       "       [-4.69453796e-03,  1.47497991e-02,  2.48620476e-02,\n",
       "         1.26475041e-02,  9.79007485e-03,  1.00955457e-02,\n",
       "         1.10633389e-02,  1.05002175e-02,  9.52608171e-03,\n",
       "         1.42375990e-02,  1.90200109e-02,  1.52739518e-02,\n",
       "         8.67830988e-03,  7.28351936e-03,  9.62919584e-03,\n",
       "         1.02619302e-02,  8.14098452e-03,  5.79378658e-03,\n",
       "         6.73804624e-03,  8.50032328e-03,  4.62425315e-03,\n",
       "         1.69596822e-03,  5.54567015e-03,  8.43948955e-03],\n",
       "       [-1.62382357e-02,  1.70702953e-02,  2.90354345e-02,\n",
       "         1.71547620e-02,  4.39164037e-03,  5.59144961e-03,\n",
       "         9.47814281e-03,  2.69142757e-02,  3.77939958e-02,\n",
       "         2.06733255e-02,  1.52739518e-02,  4.16812009e-02,\n",
       "         4.25196215e-02,  8.38354119e-03,  5.63167137e-03,\n",
       "         2.80872646e-02,  2.79915991e-02,  1.41109441e-02,\n",
       "         1.36840257e-02,  1.66186776e-02,  1.56165183e-02,\n",
       "         1.54935052e-02,  1.56296963e-02,  1.25396055e-02],\n",
       "       [-1.81571927e-02,  7.83289590e-03,  1.48401917e-02,\n",
       "         1.07958915e-02,  1.79642346e-03,  4.17026230e-03,\n",
       "         7.58511177e-03,  2.76765928e-02,  4.54941054e-02,\n",
       "         2.50192128e-02,  8.67830988e-03,  4.25196215e-02,\n",
       "         5.85117245e-02,  1.72706948e-02,  4.52360776e-03,\n",
       "         3.12130562e-02,  3.38923412e-02,  1.68283704e-02,\n",
       "         1.66947008e-02,  1.93075673e-02,  1.83934928e-02,\n",
       "         2.04820999e-02,  2.07770361e-02,  1.51321589e-02],\n",
       "       [-7.33797905e-03,  9.30057208e-03,  1.55005167e-02,\n",
       "         2.98915323e-03,  6.63893794e-03,  1.09393896e-02,\n",
       "         1.24026566e-02,  7.30791965e-03,  3.09028153e-03,\n",
       "         5.87123997e-03,  7.28351936e-03,  8.38354119e-03,\n",
       "         1.72706948e-02,  2.39257050e-02,  1.94160604e-02,\n",
       "         1.13631861e-02,  6.55623330e-03,  6.25253945e-03,\n",
       "         1.11310720e-02,  1.29455515e-02,  5.30020941e-03,\n",
       "         7.48413628e-04,  7.45153879e-03,  1.20703619e-02],\n",
       "       [-1.00509829e-02,  1.87641536e-02,  2.78686344e-02,\n",
       "         8.90155104e-03,  1.11628372e-02,  1.30693211e-02,\n",
       "         1.33871471e-02,  9.00716188e-03,  1.41434500e-03,\n",
       "         3.53397937e-03,  9.62919584e-03,  5.63167137e-03,\n",
       "         4.52360776e-03,  1.94160604e-02,  2.82394826e-02,\n",
       "         1.72803778e-02,  4.48215378e-03,  4.19441939e-03,\n",
       "         1.15545407e-02,  1.54660751e-02,  6.93105276e-03,\n",
       "        -9.54934755e-04,  5.30161555e-03,  1.23650739e-02],\n",
       "       [-1.72214588e-02,  1.77569157e-02,  2.64126835e-02,\n",
       "         1.57512686e-02,  1.02698793e-02,  9.19481963e-03,\n",
       "         9.83817291e-03,  2.54911828e-02,  3.57155729e-02,\n",
       "         1.99694717e-02,  1.02619302e-02,  2.80872646e-02,\n",
       "         3.12130562e-02,  1.13631861e-02,  1.72803778e-02,\n",
       "         3.60500144e-02,  2.87489933e-02,  1.36951611e-02,\n",
       "         1.63539598e-02,  2.09808100e-02,  1.81153761e-02,\n",
       "         1.56567383e-02,  1.60841197e-02,  1.44106727e-02],\n",
       "       [-1.02181508e-02,  1.23756012e-02,  1.85201413e-02,\n",
       "         1.28591884e-02,  6.55322769e-03,  6.96405773e-03,\n",
       "         9.53329010e-03,  2.48013676e-02,  3.57919371e-02,\n",
       "         1.99974894e-02,  8.14098452e-03,  2.79915991e-02,\n",
       "         3.38923412e-02,  6.55623330e-03,  4.48215378e-03,\n",
       "         2.87489933e-02,  3.23532204e-02,  1.86470016e-02,\n",
       "         1.56918395e-02,  1.62332193e-02,  1.49583391e-02,\n",
       "         1.66125429e-02,  1.67854647e-02,  1.20216721e-02],\n",
       "       [-3.19050648e-03,  1.22783286e-02,  1.80002936e-02,\n",
       "         9.64032413e-03,  6.41479550e-03,  8.28625002e-03,\n",
       "         1.14688919e-02,  1.63259243e-02,  1.68327332e-02,\n",
       "         9.29969337e-03,  5.79378658e-03,  1.41109441e-02,\n",
       "         1.68283704e-02,  6.25253945e-03,  4.19441939e-03,\n",
       "         1.36951611e-02,  1.86470016e-02,  1.63295458e-02,\n",
       "         1.43467376e-02,  1.14313504e-02,  6.58485119e-03,\n",
       "         6.60876712e-03,  1.02068675e-02,  9.46563432e-03],\n",
       "       [-8.34261873e-03,  1.61028519e-02,  2.47594929e-02,\n",
       "         1.28711382e-02,  1.10243881e-02,  1.24165865e-02,\n",
       "         1.44992709e-02,  1.82059799e-02,  1.70591744e-02,\n",
       "         9.53179080e-03,  6.73804624e-03,  1.36840257e-02,\n",
       "         1.66947008e-02,  1.11310720e-02,  1.15545407e-02,\n",
       "         1.63539598e-02,  1.56918395e-02,  1.43467376e-02,\n",
       "         1.78264087e-02,  1.69270189e-02,  8.60959100e-03,\n",
       "         5.28397729e-03,  1.03849640e-02,  1.22999026e-02],\n",
       "       [-1.23561514e-02,  1.76815671e-02,  2.75605455e-02,\n",
       "         1.35482737e-02,  1.09389695e-02,  1.28208876e-02,\n",
       "         1.51648030e-02,  2.01558622e-02,  1.99317080e-02,\n",
       "         1.17115158e-02,  8.50032328e-03,  1.66186776e-02,\n",
       "         1.93075673e-02,  1.29455515e-02,  1.54660751e-02,\n",
       "         2.09808100e-02,  1.62332193e-02,  1.14313504e-02,\n",
       "         1.69270189e-02,  2.01681635e-02,  1.29262916e-02,\n",
       "         7.48178060e-03,  1.09651673e-02,  1.32823716e-02],\n",
       "       [-1.16373428e-02,  7.72661365e-03,  9.87259903e-03,\n",
       "         4.96151199e-03,  9.48115222e-04,  2.11870452e-03,\n",
       "         5.13969044e-03,  1.52600162e-02,  2.06714037e-02,\n",
       "         1.10313474e-02,  4.62425315e-03,  1.56165183e-02,\n",
       "         1.83934928e-02,  5.30020941e-03,  6.93105276e-03,\n",
       "         1.81153761e-02,  1.49583391e-02,  6.58485119e-03,\n",
       "         8.60959100e-03,  1.29262916e-02,  1.38038367e-02,\n",
       "         1.21039615e-02,  9.42193502e-03,  6.97831290e-03],\n",
       "       [-1.10026966e-02,  1.56420133e-03, -1.72650347e-03,\n",
       "         4.38828387e-04, -3.67445104e-03, -4.09616007e-03,\n",
       "        -1.37313907e-03,  1.36847678e-02,  2.47045477e-02,\n",
       "         1.27016894e-02,  1.69596822e-03,  1.54935052e-02,\n",
       "         2.04820999e-02,  7.48413628e-04, -9.54934755e-04,\n",
       "         1.56567383e-02,  1.66125429e-02,  6.60876712e-03,\n",
       "         5.28397729e-03,  7.48178060e-03,  1.21039615e-02,\n",
       "         1.62658020e-02,  1.22486705e-02,  4.49163310e-03],\n",
       "       [-1.01841155e-02,  1.01719025e-02,  1.19957279e-02,\n",
       "         5.94051945e-03,  3.52002812e-03,  3.92647442e-03,\n",
       "         5.48640330e-03,  1.58387219e-02,  2.30829930e-02,\n",
       "         1.38789696e-02,  5.54567015e-03,  1.56296963e-02,\n",
       "         2.07770361e-02,  7.45153879e-03,  5.30161555e-03,\n",
       "         1.60841197e-02,  1.67854647e-02,  1.02068675e-02,\n",
       "         1.03849640e-02,  1.09651673e-02,  9.42193502e-03,\n",
       "         1.22486705e-02,  1.56116871e-02,  1.12834902e-02],\n",
       "       [-7.30097126e-03,  1.60925517e-02,  2.32186152e-02,\n",
       "         1.01595455e-02,  9.61293723e-03,  1.11830132e-02,\n",
       "         1.12617027e-02,  1.32318942e-02,  1.38666489e-02,\n",
       "         1.04617738e-02,  8.43948955e-03,  1.25396055e-02,\n",
       "         1.51321589e-02,  1.20703619e-02,  1.23650739e-02,\n",
       "         1.44106727e-02,  1.20216721e-02,  9.46563432e-03,\n",
       "         1.22999026e-02,  1.32823716e-02,  6.97831290e-03,\n",
       "         4.49163310e-03,  1.12834902e-02,  1.44125370e-02]])"
      ]
     },
     "execution_count": 21,
     "metadata": {},
     "output_type": "execute_result"
    }
   ],
   "source": [
    "my_corr_1(X_vec)"
   ]
  },
  {
   "cell_type": "code",
   "execution_count": 29,
   "metadata": {},
   "outputs": [
    {
     "data": {
      "text/plain": [
       "array([[ 1.        , -0.26569664, -0.27388722, -0.2275954 , -0.11359838,\n",
       "        -0.0720121 , -0.10184146, -0.31592877, -0.3162536 , -0.21693252,\n",
       "        -0.16177248, -0.37799487, -0.35673394, -0.22545572, -0.28424795,\n",
       "        -0.43105668, -0.26997946, -0.11865601, -0.29695295, -0.4134921 ,\n",
       "        -0.47072915, -0.40999501, -0.38736071, -0.2890198 ],\n",
       "       [-0.26569664,  1.        ,  0.89584696,  0.62845215,  0.30151392,\n",
       "         0.28797715,  0.44510365,  0.4923685 ,  0.17928044,  0.11618515,\n",
       "         0.36459827,  0.28503934,  0.11039129,  0.20497985,  0.38065759,\n",
       "         0.3188223 ,  0.23455324,  0.3275564 ,  0.41115422,  0.42444504,\n",
       "         0.22419358,  0.04181083,  0.27753078,  0.45697093],\n",
       "       [-0.27388722,  0.89584696,  1.        ,  0.80485574,  0.41013691,\n",
       "         0.43051758,  0.58452342,  0.5265494 ,  0.15671599,  0.11519413,\n",
       "         0.46906751,  0.37005141,  0.15963272,  0.26074599,  0.4315103 ,\n",
       "         0.36196256,  0.26791028,  0.3665189 ,  0.48251816,  0.50496174,\n",
       "         0.21864293, -0.03522359,  0.24980753,  0.50323396],\n",
       "       [-0.2275954 ,  0.62845215,  0.80485574,  1.        ,  0.69243908,\n",
       "         0.55081089,  0.52422802,  0.48593101,  0.26361415,  0.23963675,\n",
       "         0.39159662,  0.35880135,  0.19057966,  0.08251925,  0.22619177,\n",
       "         0.35424383,  0.30527714,  0.32213956,  0.41164658,  0.40737115,\n",
       "         0.18032404,  0.01469253,  0.20302008,  0.36136289],\n",
       "       [-0.11359838,  0.30151392,  0.41013691,  0.69243908,  1.        ,\n",
       "         0.85593847,  0.51521319,  0.2354781 ,  0.0664689 ,  0.15042788,\n",
       "         0.29408823,  0.08911559,  0.03076694,  0.1778129 ,  0.27519671,\n",
       "         0.22408337,  0.15093624,  0.20796621,  0.34207362,  0.31910988,\n",
       "         0.03343168, -0.11935806,  0.11671273,  0.33172859],\n",
       "       [-0.0720121 ,  0.28797715,  0.43051758,  0.55081089,  0.85593847,\n",
       "         1.        ,  0.80055023,  0.34030399,  0.0018358 ,  0.07020499,\n",
       "         0.32438823,  0.12136542,  0.07639811,  0.31340173,  0.34463972,\n",
       "         0.21460071,  0.17157115,  0.2873503 ,  0.41210792,  0.40006042,\n",
       "         0.07991184, -0.14232456,  0.13925748,  0.41279012],\n",
       "       [-0.10184146,  0.44510365,  0.58452342,  0.52422802,  0.51521319,\n",
       "         0.80055023,  1.        ,  0.62430733,  0.07256388,  0.05358029,\n",
       "         0.36270688,  0.20990757,  0.14178017,  0.36254115,  0.36019247,\n",
       "         0.2342808 ,  0.23963983,  0.4057975 ,  0.49100871,  0.48281256,\n",
       "         0.1977935 , -0.04868013,  0.19853532,  0.42413958],\n",
       "       [-0.31592877,  0.4923685 ,  0.5265494 ,  0.48593101,  0.2354781 ,\n",
       "         0.34030399,  0.62430733,  1.        ,  0.75448419,  0.51592201,\n",
       "         0.34925592,  0.60473269,  0.52485826,  0.21672662,  0.24587278,\n",
       "         0.61586869,  0.63251048,  0.58605933,  0.62550817,  0.65105707,\n",
       "         0.59580747,  0.49221013,  0.58149512,  0.50559487],\n",
       "       [-0.3162536 ,  0.17928044,  0.15671599,  0.26361415,  0.0664689 ,\n",
       "         0.0018358 ,  0.07256388,  0.75448419,  1.        ,  0.82395861,\n",
       "         0.25339482,  0.67911217,  0.68995775,  0.07329165,  0.03087563,\n",
       "         0.6900709 ,  0.72998723,  0.4832328 ,  0.46872153,  0.51487305,\n",
       "         0.64544446,  0.71060455,  0.67772892,  0.42373088],\n",
       "       [-0.21693252,  0.11618515,  0.11519413,  0.23963675,  0.15042788,\n",
       "         0.07020499,  0.05358029,  0.51592201,  0.82395861,  1.        ,\n",
       "         0.56830187,  0.55742692,  0.56937697,  0.20895134,  0.11576662,\n",
       "         0.57897733,  0.61201833,  0.40061692,  0.39299795,  0.45397051,\n",
       "         0.51686409,  0.54824093,  0.61147684,  0.47971447],\n",
       "       [-0.16177248,  0.36459827,  0.46906751,  0.39159662,  0.29408823,\n",
       "         0.32438823,  0.36270688,  0.34925592,  0.25339482,  0.56830187,\n",
       "         1.        ,  0.54247025,  0.26014071,  0.34143145,  0.41548588,\n",
       "         0.39189611,  0.32818051,  0.32875325,  0.36592887,  0.43400715,\n",
       "         0.2853884 ,  0.09642166,  0.32182793,  0.50973045],\n",
       "       [-0.37799487,  0.28503934,  0.37005141,  0.35880135,  0.08911559,\n",
       "         0.12136542,  0.20990757,  0.60473269,  0.67911217,  0.55742692,\n",
       "         0.54247025,  1.        ,  0.86098945,  0.26547585,  0.16414922,\n",
       "         0.72458045,  0.76225247,  0.54087749,  0.50200939,  0.57318283,\n",
       "         0.65104978,  0.59503406,  0.61271076,  0.51161532],\n",
       "       [-0.35673394,  0.11039129,  0.15963272,  0.19057966,  0.03076694,\n",
       "         0.07639811,  0.14178017,  0.52485826,  0.68995775,  0.56937697,\n",
       "         0.26014071,  0.86098945,  1.        ,  0.46158957,  0.11128461,\n",
       "         0.6796137 ,  0.77897113,  0.54441936,  0.51692229,  0.56204739,\n",
       "         0.64720647,  0.66391929,  0.68744384,  0.52108578],\n",
       "       [-0.22545572,  0.20497985,  0.26074599,  0.08251925,  0.1778129 ,\n",
       "         0.31340173,  0.36254115,  0.21672662,  0.07329165,  0.20895134,\n",
       "         0.34143145,  0.26547585,  0.46158957,  1.        ,  0.74696521,\n",
       "         0.38691452,  0.23564773,  0.31632755,  0.53898005,  0.58932519,\n",
       "         0.29164917,  0.03793775,  0.38555707,  0.65000651],\n",
       "       [-0.28424795,  0.38065759,  0.4315103 ,  0.22619177,  0.27519671,\n",
       "         0.34463972,  0.36019247,  0.24587278,  0.03087563,  0.11576662,\n",
       "         0.41548588,  0.16414922,  0.11128461,  0.74696521,  1.        ,\n",
       "         0.54159188,  0.14828582,  0.19532437,  0.5149824 ,  0.648065  ,\n",
       "         0.35105158, -0.04455614,  0.25249626,  0.61291201],\n",
       "       [-0.43105668,  0.3188223 ,  0.36196256,  0.35424383,  0.22408337,\n",
       "         0.21460071,  0.2342808 ,  0.61586869,  0.6900709 ,  0.57897733,\n",
       "         0.39189611,  0.72458045,  0.6796137 ,  0.38691452,  0.54159188,\n",
       "         1.        ,  0.84180434,  0.56445246,  0.64511669,  0.77810168,\n",
       "         0.81207235,  0.64656297,  0.67798433,  0.63220993],\n",
       "       [-0.26997946,  0.23455324,  0.26791028,  0.30527714,  0.15093624,\n",
       "         0.17157115,  0.23963983,  0.63251048,  0.72998723,  0.61201833,\n",
       "         0.32818051,  0.76225247,  0.77897113,  0.23564773,  0.14828582,\n",
       "         0.84180434,  1.        ,  0.81126586,  0.65340608,  0.63549585,\n",
       "         0.70782306,  0.72416848,  0.74687804,  0.55671882],\n",
       "       [-0.11865601,  0.3275564 ,  0.3665189 ,  0.32213956,  0.20796621,\n",
       "         0.2873503 ,  0.4057975 ,  0.58605933,  0.4832328 ,  0.40061692,\n",
       "         0.32875325,  0.54087749,  0.54441936,  0.31632755,  0.19532437,\n",
       "         0.56445246,  0.81126586,  1.        ,  0.84088029,  0.62990827,\n",
       "         0.43859028,  0.40550448,  0.63926438,  0.61701035],\n",
       "       [-0.29695295,  0.41115422,  0.48251816,  0.41164658,  0.34207362,\n",
       "         0.41210792,  0.49100871,  0.62550817,  0.46872153,  0.39299795,\n",
       "         0.36592887,  0.50200939,  0.51692229,  0.53898005,  0.5149824 ,\n",
       "         0.64511669,  0.65340608,  0.84088029,  1.        ,  0.89272022,\n",
       "         0.54884623,  0.31030679,  0.6225126 ,  0.76736065],\n",
       "       [-0.4134921 ,  0.42444504,  0.50496174,  0.40737115,  0.31910988,\n",
       "         0.40006042,  0.48281256,  0.65105707,  0.51487305,  0.45397051,\n",
       "         0.43400715,  0.57318283,  0.56204739,  0.58932519,  0.648065  ,\n",
       "         0.77810168,  0.63549585,  0.62990827,  0.89272022,  1.        ,\n",
       "         0.77471304,  0.41307989,  0.61795545,  0.77906237],\n",
       "       [-0.47072915,  0.22419358,  0.21864293,  0.18032404,  0.03343168,\n",
       "         0.07991184,  0.1977935 ,  0.59580747,  0.64544446,  0.51686409,\n",
       "         0.2853884 ,  0.65104978,  0.64720647,  0.29164917,  0.35105158,\n",
       "         0.81207235,  0.70782306,  0.43859028,  0.54884623,  0.77471304,\n",
       "         1.        ,  0.80777403,  0.641823  ,  0.49474375],\n",
       "       [-0.40999501,  0.04181083, -0.03522359,  0.01469253, -0.11935806,\n",
       "        -0.14232456, -0.04868013,  0.49221013,  0.71060455,  0.54824093,\n",
       "         0.09642166,  0.59503406,  0.66391929,  0.03793775, -0.04455614,\n",
       "         0.64656297,  0.72416848,  0.40550448,  0.31030679,  0.41307989,\n",
       "         0.80777403,  1.        ,  0.76864586,  0.2933569 ],\n",
       "       [-0.38736071,  0.27753078,  0.24980753,  0.20302008,  0.11671273,\n",
       "         0.13925748,  0.19853532,  0.58149512,  0.67772892,  0.61147684,\n",
       "         0.32182793,  0.61271076,  0.68744384,  0.38555707,  0.25249626,\n",
       "         0.67798433,  0.74687804,  0.63926438,  0.6225126 ,  0.61795545,\n",
       "         0.641823  ,  0.76864586,  1.        ,  0.75222596],\n",
       "       [-0.2890198 ,  0.45697093,  0.50323396,  0.36136289,  0.33172859,\n",
       "         0.41279012,  0.42413958,  0.50559487,  0.42373088,  0.47971447,\n",
       "         0.50973045,  0.51161532,  0.52108578,  0.65000651,  0.61291201,\n",
       "         0.63220993,  0.55671882,  0.61701035,  0.76736065,  0.77906237,\n",
       "         0.49474375,  0.2933569 ,  0.75222596,  1.        ]])"
      ]
     },
     "execution_count": 29,
     "metadata": {},
     "output_type": "execute_result"
    }
   ],
   "source": [
    "my_corr(X_vec)"
   ]
  },
  {
   "cell_type": "code",
   "execution_count": 30,
   "metadata": {},
   "outputs": [],
   "source": [
    "l = np.array([1,2,3])"
   ]
  },
  {
   "cell_type": "code",
   "execution_count": 31,
   "metadata": {},
   "outputs": [
    {
     "data": {
      "text/plain": [
       "array([[1, 2, 3]])"
      ]
     },
     "execution_count": 31,
     "metadata": {},
     "output_type": "execute_result"
    }
   ],
   "source": [
    "l[None, :]"
   ]
  },
  {
   "cell_type": "code",
   "execution_count": 32,
   "metadata": {},
   "outputs": [],
   "source": [
    "def my_corr_1(X):\n",
    "    c = my_cov(X)\n",
    "    \n",
    "    try:\n",
    "        d = np.diag(c)\n",
    "    except ValueError:\n",
    "        # scalar covariance\n",
    "        # nan if incorrect value (nan, inf, 0), 1 otherwise\n",
    "        return c / c\n",
    "    std_dev = np.sqrt(d.real)\n",
    "    c /= (std_dev[:, None] * std_dev[None, :])\n",
    "    \n",
    "    return c"
   ]
  },
  {
   "cell_type": "code",
   "execution_count": 33,
   "metadata": {},
   "outputs": [
    {
     "data": {
      "text/plain": [
       "array([[-1.11022302e-16,  5.55111512e-17,  5.55111512e-17,\n",
       "         0.00000000e+00,  1.38777878e-17,  0.00000000e+00,\n",
       "         1.38777878e-17,  5.55111512e-17,  5.55111512e-17,\n",
       "         5.55111512e-17,  5.55111512e-17,  0.00000000e+00,\n",
       "         5.55111512e-17,  5.55111512e-17,  5.55111512e-17,\n",
       "         0.00000000e+00,  0.00000000e+00,  2.77555756e-17,\n",
       "         5.55111512e-17,  5.55111512e-17,  1.11022302e-16,\n",
       "        -5.55111512e-17, -5.55111512e-17,  1.11022302e-16],\n",
       "       [ 0.00000000e+00,  1.11022302e-16,  1.11022302e-16,\n",
       "         1.11022302e-16,  0.00000000e+00,  0.00000000e+00,\n",
       "         0.00000000e+00,  0.00000000e+00, -2.77555756e-17,\n",
       "         1.38777878e-17, -1.11022302e-16,  0.00000000e+00,\n",
       "         0.00000000e+00,  2.77555756e-17,  0.00000000e+00,\n",
       "         0.00000000e+00,  0.00000000e+00,  0.00000000e+00,\n",
       "         0.00000000e+00,  0.00000000e+00,  0.00000000e+00,\n",
       "        -6.93889390e-18,  5.55111512e-17,  0.00000000e+00],\n",
       "       [ 5.55111512e-17,  1.11022302e-16,  1.11022302e-16,\n",
       "         0.00000000e+00, -5.55111512e-17, -5.55111512e-17,\n",
       "         0.00000000e+00,  0.00000000e+00,  2.77555756e-17,\n",
       "         0.00000000e+00, -1.11022302e-16,  0.00000000e+00,\n",
       "        -2.77555756e-17,  0.00000000e+00, -5.55111512e-17,\n",
       "         0.00000000e+00,  0.00000000e+00, -5.55111512e-17,\n",
       "         5.55111512e-17,  1.11022302e-16, -2.77555756e-17,\n",
       "         0.00000000e+00,  2.77555756e-17, -1.11022302e-16],\n",
       "       [ 2.77555756e-17,  2.22044605e-16,  0.00000000e+00,\n",
       "         2.22044605e-16,  1.11022302e-16, -1.11022302e-16,\n",
       "         1.11022302e-16,  0.00000000e+00,  5.55111512e-17,\n",
       "        -2.77555756e-17, -5.55111512e-17,  0.00000000e+00,\n",
       "         0.00000000e+00, -1.38777878e-17,  0.00000000e+00,\n",
       "         0.00000000e+00,  0.00000000e+00,  0.00000000e+00,\n",
       "         5.55111512e-17,  5.55111512e-17, -2.77555756e-17,\n",
       "         1.73472348e-18,  2.77555756e-17,  0.00000000e+00],\n",
       "       [ 2.77555756e-17,  0.00000000e+00,  0.00000000e+00,\n",
       "         0.00000000e+00,  0.00000000e+00,  0.00000000e+00,\n",
       "         0.00000000e+00, -2.77555756e-17,  0.00000000e+00,\n",
       "        -2.77555756e-17,  0.00000000e+00,  2.77555756e-17,\n",
       "         3.46944695e-18,  0.00000000e+00, -5.55111512e-17,\n",
       "         0.00000000e+00,  0.00000000e+00,  0.00000000e+00,\n",
       "         5.55111512e-17,  0.00000000e+00, -6.93889390e-18,\n",
       "         0.00000000e+00,  2.77555756e-17,  0.00000000e+00],\n",
       "       [ 1.38777878e-17,  0.00000000e+00, -5.55111512e-17,\n",
       "         0.00000000e+00,  0.00000000e+00,  2.22044605e-16,\n",
       "         2.22044605e-16, -5.55111512e-17,  0.00000000e+00,\n",
       "         0.00000000e+00, -5.55111512e-17,  0.00000000e+00,\n",
       "         1.38777878e-17, -5.55111512e-17,  0.00000000e+00,\n",
       "         2.77555756e-17,  0.00000000e+00,  0.00000000e+00,\n",
       "         5.55111512e-17,  0.00000000e+00,  0.00000000e+00,\n",
       "         0.00000000e+00,  2.77555756e-17,  5.55111512e-17],\n",
       "       [ 0.00000000e+00,  5.55111512e-17,  1.11022302e-16,\n",
       "         1.11022302e-16,  1.11022302e-16,  2.22044605e-16,\n",
       "         2.22044605e-16,  0.00000000e+00,  1.38777878e-17,\n",
       "         1.38777878e-17,  0.00000000e+00,  2.77555756e-17,\n",
       "         0.00000000e+00,  5.55111512e-17,  5.55111512e-17,\n",
       "         8.32667268e-17,  2.77555756e-17,  0.00000000e+00,\n",
       "         1.11022302e-16,  5.55111512e-17,  2.77555756e-17,\n",
       "        -6.93889390e-18,  2.77555756e-17,  0.00000000e+00],\n",
       "       [ 5.55111512e-17,  0.00000000e+00,  0.00000000e+00,\n",
       "         0.00000000e+00, -2.77555756e-17, -5.55111512e-17,\n",
       "         0.00000000e+00, -1.11022302e-16, -1.11022302e-16,\n",
       "        -1.11022302e-16,  0.00000000e+00, -1.11022302e-16,\n",
       "         0.00000000e+00, -2.77555756e-17, -2.77555756e-17,\n",
       "         0.00000000e+00, -1.11022302e-16, -1.11022302e-16,\n",
       "         0.00000000e+00, -2.22044605e-16, -1.11022302e-16,\n",
       "         0.00000000e+00,  0.00000000e+00, -1.11022302e-16],\n",
       "       [ 5.55111512e-17, -2.77555756e-17,  2.77555756e-17,\n",
       "         5.55111512e-17, -1.38777878e-17, -2.16840434e-19,\n",
       "         0.00000000e+00, -1.11022302e-16,  0.00000000e+00,\n",
       "        -1.11022302e-16,  0.00000000e+00,  0.00000000e+00,\n",
       "         0.00000000e+00, -1.38777878e-17,  3.46944695e-18,\n",
       "         0.00000000e+00, -1.11022302e-16, -5.55111512e-17,\n",
       "         0.00000000e+00,  0.00000000e+00, -1.11022302e-16,\n",
       "         1.11022302e-16,  0.00000000e+00,  0.00000000e+00],\n",
       "       [ 2.77555756e-17,  1.38777878e-17,  0.00000000e+00,\n",
       "         0.00000000e+00, -2.77555756e-17,  0.00000000e+00,\n",
       "         1.38777878e-17, -1.11022302e-16,  0.00000000e+00,\n",
       "         0.00000000e+00, -1.11022302e-16,  0.00000000e+00,\n",
       "        -1.11022302e-16,  0.00000000e+00, -2.77555756e-17,\n",
       "         0.00000000e+00,  1.11022302e-16,  0.00000000e+00,\n",
       "         0.00000000e+00,  0.00000000e+00, -1.11022302e-16,\n",
       "         1.11022302e-16,  2.22044605e-16,  5.55111512e-17],\n",
       "       [ 5.55111512e-17, -1.11022302e-16, -1.11022302e-16,\n",
       "        -5.55111512e-17, -5.55111512e-17, -5.55111512e-17,\n",
       "         0.00000000e+00, -5.55111512e-17,  0.00000000e+00,\n",
       "        -1.11022302e-16, -2.22044605e-16,  0.00000000e+00,\n",
       "         0.00000000e+00,  0.00000000e+00, -1.11022302e-16,\n",
       "         0.00000000e+00, -5.55111512e-17, -5.55111512e-17,\n",
       "        -5.55111512e-17, -1.11022302e-16, -1.11022302e-16,\n",
       "        -1.38777878e-17,  0.00000000e+00,  0.00000000e+00],\n",
       "       [ 5.55111512e-17,  0.00000000e+00,  0.00000000e+00,\n",
       "        -5.55111512e-17,  1.38777878e-17,  1.38777878e-17,\n",
       "         2.77555756e-17, -1.11022302e-16,  0.00000000e+00,\n",
       "         0.00000000e+00,  0.00000000e+00,  0.00000000e+00,\n",
       "         0.00000000e+00,  0.00000000e+00,  0.00000000e+00,\n",
       "         1.11022302e-16,  0.00000000e+00, -1.11022302e-16,\n",
       "         0.00000000e+00, -1.11022302e-16, -1.11022302e-16,\n",
       "         0.00000000e+00,  1.11022302e-16,  1.11022302e-16],\n",
       "       [ 5.55111512e-17,  0.00000000e+00, -2.77555756e-17,\n",
       "         0.00000000e+00,  3.46944695e-18,  1.38777878e-17,\n",
       "         2.77555756e-17,  0.00000000e+00,  0.00000000e+00,\n",
       "        -1.11022302e-16,  0.00000000e+00, -1.11022302e-16,\n",
       "         1.11022302e-16, -1.11022302e-16, -1.38777878e-17,\n",
       "         0.00000000e+00, -2.22044605e-16,  0.00000000e+00,\n",
       "        -1.11022302e-16, -1.11022302e-16, -1.11022302e-16,\n",
       "        -1.11022302e-16,  2.22044605e-16,  0.00000000e+00],\n",
       "       [ 5.55111512e-17,  0.00000000e+00,  0.00000000e+00,\n",
       "         0.00000000e+00,  0.00000000e+00,  0.00000000e+00,\n",
       "         0.00000000e+00, -5.55111512e-17, -1.38777878e-17,\n",
       "         0.00000000e+00, -5.55111512e-17,  0.00000000e+00,\n",
       "        -5.55111512e-17,  1.11022302e-16,  1.11022302e-16,\n",
       "         0.00000000e+00, -2.77555756e-17, -5.55111512e-17,\n",
       "         0.00000000e+00, -1.11022302e-16,  0.00000000e+00,\n",
       "         0.00000000e+00,  5.55111512e-17,  0.00000000e+00],\n",
       "       [ 5.55111512e-17, -5.55111512e-17,  0.00000000e+00,\n",
       "         2.77555756e-17,  0.00000000e+00,  0.00000000e+00,\n",
       "         0.00000000e+00, -5.55111512e-17,  3.46944695e-18,\n",
       "        -1.38777878e-17, -5.55111512e-17,  0.00000000e+00,\n",
       "        -1.38777878e-17,  0.00000000e+00,  0.00000000e+00,\n",
       "         0.00000000e+00, -2.77555756e-17, -5.55111512e-17,\n",
       "         0.00000000e+00,  0.00000000e+00,  0.00000000e+00,\n",
       "        -6.93889390e-18, -5.55111512e-17,  0.00000000e+00],\n",
       "       [ 5.55111512e-17,  5.55111512e-17,  5.55111512e-17,\n",
       "         5.55111512e-17,  0.00000000e+00,  2.77555756e-17,\n",
       "         5.55111512e-17,  0.00000000e+00,  0.00000000e+00,\n",
       "         0.00000000e+00, -5.55111512e-17,  1.11022302e-16,\n",
       "         0.00000000e+00,  0.00000000e+00,  0.00000000e+00,\n",
       "         1.11022302e-16,  1.11022302e-16,  0.00000000e+00,\n",
       "         1.11022302e-16,  1.11022302e-16,  0.00000000e+00,\n",
       "         1.11022302e-16,  0.00000000e+00,  0.00000000e+00],\n",
       "       [ 0.00000000e+00, -2.77555756e-17,  0.00000000e+00,\n",
       "         0.00000000e+00,  0.00000000e+00,  0.00000000e+00,\n",
       "         2.77555756e-17, -1.11022302e-16,  0.00000000e+00,\n",
       "         1.11022302e-16, -5.55111512e-17,  0.00000000e+00,\n",
       "        -1.11022302e-16,  0.00000000e+00,  0.00000000e+00,\n",
       "         0.00000000e+00, -2.22044605e-16, -1.11022302e-16,\n",
       "        -1.11022302e-16, -1.11022302e-16,  0.00000000e+00,\n",
       "         1.11022302e-16,  1.11022302e-16,  0.00000000e+00],\n",
       "       [ 2.77555756e-17,  0.00000000e+00, -1.11022302e-16,\n",
       "         5.55111512e-17, -2.77555756e-17, -5.55111512e-17,\n",
       "         0.00000000e+00, -1.11022302e-16,  0.00000000e+00,\n",
       "         0.00000000e+00, -5.55111512e-17, -1.11022302e-16,\n",
       "        -1.11022302e-16, -5.55111512e-17, -2.77555756e-17,\n",
       "         0.00000000e+00, -1.11022302e-16, -2.22044605e-16,\n",
       "         0.00000000e+00, -1.11022302e-16, -5.55111512e-17,\n",
       "        -5.55111512e-17,  0.00000000e+00,  0.00000000e+00],\n",
       "       [ 5.55111512e-17, -5.55111512e-17,  0.00000000e+00,\n",
       "         5.55111512e-17,  5.55111512e-17,  0.00000000e+00,\n",
       "         5.55111512e-17,  0.00000000e+00,  0.00000000e+00,\n",
       "         5.55111512e-17,  0.00000000e+00,  0.00000000e+00,\n",
       "        -1.11022302e-16,  0.00000000e+00,  0.00000000e+00,\n",
       "         1.11022302e-16, -1.11022302e-16,  0.00000000e+00,\n",
       "         0.00000000e+00,  2.22044605e-16,  0.00000000e+00,\n",
       "         0.00000000e+00,  2.22044605e-16,  1.11022302e-16],\n",
       "       [ 5.55111512e-17, -5.55111512e-17,  0.00000000e+00,\n",
       "         0.00000000e+00,  5.55111512e-17,  0.00000000e+00,\n",
       "         5.55111512e-17, -2.22044605e-16,  0.00000000e+00,\n",
       "         0.00000000e+00, -1.11022302e-16, -1.11022302e-16,\n",
       "         0.00000000e+00, -1.11022302e-16,  0.00000000e+00,\n",
       "         1.11022302e-16, -1.11022302e-16, -1.11022302e-16,\n",
       "         1.11022302e-16,  2.22044605e-16,  0.00000000e+00,\n",
       "         5.55111512e-17,  1.11022302e-16,  1.11022302e-16],\n",
       "       [ 1.11022302e-16, -2.77555756e-17, -2.77555756e-17,\n",
       "        -2.77555756e-17, -6.93889390e-18, -1.38777878e-17,\n",
       "         2.77555756e-17, -1.11022302e-16, -1.11022302e-16,\n",
       "        -1.11022302e-16, -5.55111512e-17, -1.11022302e-16,\n",
       "        -2.22044605e-16,  0.00000000e+00,  0.00000000e+00,\n",
       "         1.11022302e-16,  0.00000000e+00, -5.55111512e-17,\n",
       "         0.00000000e+00,  0.00000000e+00,  0.00000000e+00,\n",
       "        -1.11022302e-16,  1.11022302e-16, -5.55111512e-17],\n",
       "       [ 0.00000000e+00,  0.00000000e+00,  0.00000000e+00,\n",
       "         1.73472348e-18, -1.38777878e-17, -2.77555756e-17,\n",
       "         0.00000000e+00, -5.55111512e-17,  1.11022302e-16,\n",
       "         0.00000000e+00, -1.38777878e-17,  0.00000000e+00,\n",
       "        -1.11022302e-16, -6.93889390e-18,  0.00000000e+00,\n",
       "         1.11022302e-16,  1.11022302e-16, -5.55111512e-17,\n",
       "         0.00000000e+00,  0.00000000e+00,  0.00000000e+00,\n",
       "         2.22044605e-16,  2.22044605e-16,  0.00000000e+00],\n",
       "       [-5.55111512e-17,  5.55111512e-17,  8.32667268e-17,\n",
       "         2.77555756e-17,  1.38777878e-17,  0.00000000e+00,\n",
       "         2.77555756e-17,  0.00000000e+00,  0.00000000e+00,\n",
       "         1.11022302e-16,  0.00000000e+00,  0.00000000e+00,\n",
       "         2.22044605e-16,  0.00000000e+00, -5.55111512e-17,\n",
       "         1.11022302e-16,  1.11022302e-16,  0.00000000e+00,\n",
       "         2.22044605e-16,  1.11022302e-16,  1.11022302e-16,\n",
       "         2.22044605e-16,  4.44089210e-16,  1.11022302e-16],\n",
       "       [ 5.55111512e-17,  5.55111512e-17, -1.11022302e-16,\n",
       "         0.00000000e+00,  0.00000000e+00,  0.00000000e+00,\n",
       "         5.55111512e-17, -1.11022302e-16,  0.00000000e+00,\n",
       "         5.55111512e-17,  1.11022302e-16,  0.00000000e+00,\n",
       "         0.00000000e+00,  0.00000000e+00, -1.11022302e-16,\n",
       "         0.00000000e+00,  0.00000000e+00,  0.00000000e+00,\n",
       "         1.11022302e-16,  1.11022302e-16,  0.00000000e+00,\n",
       "         0.00000000e+00,  1.11022302e-16,  0.00000000e+00]])"
      ]
     },
     "execution_count": 33,
     "metadata": {},
     "output_type": "execute_result"
    }
   ],
   "source": [
    "my_corr_1(X_vec) - np.corrcoef(X_vec.T)"
   ]
  },
  {
   "cell_type": "code",
   "execution_count": 22,
   "metadata": {},
   "outputs": [],
   "source": [
    "import scipy.linalg as linalg"
   ]
  },
  {
   "cell_type": "code",
   "execution_count": 23,
   "metadata": {},
   "outputs": [],
   "source": [
    "eig_vals, eigen_vecs = linalg.eig(res1_1)"
   ]
  },
  {
   "cell_type": "code",
   "execution_count": 24,
   "metadata": {},
   "outputs": [
    {
     "data": {
      "text/plain": [
       "array([1.17617347e-01, 5.56809523e-02, 2.36916919e-02, 1.57641029e-02,\n",
       "       1.09351768e-02, 8.87613147e-03, 8.34353675e-03, 6.03674048e-03,\n",
       "       4.45411585e-03, 3.99328186e-03, 3.43976698e-03, 2.12816751e-03,\n",
       "       1.65638180e-03, 1.46650536e-03, 1.27367717e-03, 5.91667445e-04,\n",
       "       3.93182029e-04, 2.47898342e-04, 1.26810864e-04, 8.27694401e-05,\n",
       "       5.09398571e-05, 2.79905539e-05, 1.25722128e-05, 1.80733674e-05])"
      ]
     },
     "execution_count": 24,
     "metadata": {},
     "output_type": "execute_result"
    }
   ],
   "source": [
    "eig_vals.real"
   ]
  },
  {
   "cell_type": "code",
   "execution_count": 25,
   "metadata": {},
   "outputs": [],
   "source": [
    "eig_vals_np, eig_vecs_np = np.linalg.eig(res1_1)"
   ]
  },
  {
   "cell_type": "code",
   "execution_count": 26,
   "metadata": {},
   "outputs": [],
   "source": [
    "idx = np.argsort(eig_vals_np)[::-1]\n",
    "EVals = eig_vals_np[idx]\n",
    "EVecs = eig_vecs_np[:, idx]\n",
    "EVecs_1 = eig_vecs_np[:, idx]"
   ]
  },
  {
   "cell_type": "code",
   "execution_count": 27,
   "metadata": {},
   "outputs": [
    {
     "data": {
      "text/plain": [
       "array([[ 1.36684682e-01,  8.79561052e-02,  1.04043056e-01,\n",
       "         2.15364587e-01,  6.74122431e-01,  5.27498365e-01,\n",
       "         1.56956434e-01,  1.54107220e-01,  8.40722788e-02,\n",
       "         1.70873273e-01,  2.40028779e-01,  9.83511013e-02,\n",
       "         1.61402470e-01,  8.88755355e-03,  3.95240430e-02,\n",
       "         3.65798246e-02,  3.27355926e-02,  3.67559782e-02,\n",
       "         1.54202101e-02,  3.13612308e-03,  5.74640928e-03,\n",
       "         2.36421230e-03,  6.86891160e-04,  1.53160670e-03],\n",
       "       [-3.24468121e-01,  2.72571484e-01, -4.27963759e-01,\n",
       "         8.44055763e-04,  4.60949695e-02, -2.66832106e-02,\n",
       "         1.47972399e-01,  1.65109110e-01, -4.25561619e-01,\n",
       "        -1.89486558e-01,  3.99552368e-01, -1.77223964e-01,\n",
       "        -2.94207213e-02, -2.46094281e-01,  1.28477226e-01,\n",
       "        -2.93684795e-01,  6.21836116e-02,  1.87504696e-02,\n",
       "        -9.26299876e-02,  1.05489287e-02,  5.67150746e-03,\n",
       "        -6.00040090e-03, -2.82918830e-03, -6.95609696e-03],\n",
       "       [-4.72124233e-01,  4.05143681e-01, -3.71925312e-01,\n",
       "         1.37967754e-02,  2.79454337e-02,  1.18375485e-01,\n",
       "        -1.08725427e-01, -6.48665546e-02,  1.31142837e-01,\n",
       "         8.22410659e-02, -1.50110902e-01,  1.35350522e-01,\n",
       "         3.30436263e-03,  1.77679763e-01, -3.21242436e-01,\n",
       "         4.64807917e-01, -4.70301674e-02,  2.23223891e-02,\n",
       "         1.54212649e-01, -3.47855301e-02,  1.06166380e-02,\n",
       "        -2.89384205e-03,  4.29327165e-03,  1.16406458e-02],\n",
       "       [-2.65639362e-01,  1.99064481e-01,  4.07266752e-02,\n",
       "         3.40455534e-01, -2.42237734e-01,  1.72629532e-01,\n",
       "        -1.03725725e-01,  3.46504770e-02,  2.18204936e-01,\n",
       "         3.05014143e-01, -2.73554016e-01,  2.92076142e-01,\n",
       "        -7.31880359e-03, -9.19860703e-02,  2.72630204e-01,\n",
       "        -4.33129764e-01,  1.69060958e-01, -1.24100844e-01,\n",
       "        -2.10642345e-01,  1.07196950e-01, -2.02263359e-02,\n",
       "         1.30805877e-02, -4.36508528e-03, -1.12465365e-02],\n",
       "       [-1.81153443e-01,  2.15391655e-01,  5.04874292e-01,\n",
       "         2.15265262e-01, -3.63727941e-01,  1.42931363e-01,\n",
       "         9.39827576e-02,  1.84971061e-01, -1.65778949e-01,\n",
       "         9.97016285e-03,  1.35271707e-01, -1.64466431e-01,\n",
       "         7.91979296e-02, -2.59322990e-02,  2.61626565e-01,\n",
       "         2.55157524e-01, -3.04327200e-01,  1.08866397e-01,\n",
       "         2.30240861e-01, -2.18553929e-01,  6.00703457e-02,\n",
       "        -3.64509611e-02,  5.62535668e-03,  1.17278342e-02],\n",
       "       [-1.79437535e-01,  2.08850753e-01,  5.28790311e-01,\n",
       "         2.01398520e-02,  1.64202634e-02, -8.98652813e-02,\n",
       "        -7.89601065e-02, -2.70196226e-02, -1.02784029e-01,\n",
       "        -1.55393064e-01,  2.11881363e-01, -6.06111680e-02,\n",
       "         1.42523046e-02,  1.03943589e-01, -4.08551008e-01,\n",
       "         3.53664896e-02,  3.64572455e-01, -1.85534243e-01,\n",
       "        -2.49038793e-01,  3.27451543e-01, -1.50619582e-01,\n",
       "         8.37600057e-02,  3.50135778e-03, -1.01171201e-02],\n",
       "       [-2.10966743e-01,  1.84449397e-01,  2.88669868e-01,\n",
       "        -5.23280349e-02,  3.99957474e-01, -3.83597069e-01,\n",
       "        -1.68090784e-01, -2.38380968e-01,  8.06803505e-02,\n",
       "        -8.90866688e-02,  9.08122071e-03,  2.12283437e-01,\n",
       "        -1.37901574e-01, -1.04509900e-01,  5.42747328e-03,\n",
       "        -2.73694343e-01, -2.86160083e-02,  1.63391656e-01,\n",
       "         2.00033866e-01, -3.68899189e-01,  2.39283022e-01,\n",
       "        -1.31927532e-01, -1.98347404e-02,  8.36846887e-03],\n",
       "       [-2.64809279e-01, -1.10352850e-01,  5.58243898e-03,\n",
       "         1.66221305e-01,  3.02088771e-01, -4.36640440e-01,\n",
       "         9.63776375e-02, -1.25386064e-01,  8.09561285e-02,\n",
       "         1.80256058e-01,  1.52561211e-02, -1.47852358e-01,\n",
       "         1.88559806e-02,  9.78119721e-02,  3.70346441e-01,\n",
       "         1.59900742e-01, -2.85962690e-01, -7.73462754e-03,\n",
       "        -5.40428711e-02,  3.43650770e-01, -3.18639231e-01,\n",
       "         2.04793746e-01,  5.38928097e-02, -1.00637763e-02],\n",
       "       [-2.42480130e-01, -4.06017542e-01, -3.57239183e-02,\n",
       "         3.62740477e-01,  4.83465339e-03, -1.32470164e-01,\n",
       "         3.30300669e-01, -7.24787348e-02, -1.03814226e-01,\n",
       "         2.75708170e-01,  2.11260205e-02, -1.82185048e-01,\n",
       "        -9.19929991e-03,  1.44068252e-01, -1.85297873e-01,\n",
       "         6.47224915e-02,  2.02275470e-01, -1.56666253e-01,\n",
       "        -1.03077475e-01, -1.87683155e-01,  3.55858081e-01,\n",
       "        -2.86083224e-01, -1.06385573e-01,  2.59249892e-02],\n",
       "       [-1.40294549e-01, -2.28316634e-01,  5.46616287e-02,\n",
       "         1.67573319e-01, -5.46829354e-02,  1.98335178e-01,\n",
       "         4.06209475e-01, -3.42149445e-01, -1.54608476e-01,\n",
       "        -1.56955429e-01, -1.29678930e-01,  2.25213330e-01,\n",
       "        -1.59281971e-01, -2.76840224e-01, -2.24923740e-01,\n",
       "        -7.13550270e-02,  1.03794462e-02,  1.10878170e-01,\n",
       "         2.44614253e-01, -6.50079064e-02, -2.92846607e-01,\n",
       "         3.38911598e-01,  1.44995841e-01, -2.90343316e-02],\n",
       "       [-1.18141875e-01,  5.34733238e-03,  2.81199596e-02,\n",
       "        -5.28769615e-02,  6.48823341e-04,  2.73205999e-01,\n",
       "         1.40546627e-01, -4.74122522e-01,  1.81023115e-01,\n",
       "        -4.74489840e-01, -6.62035516e-02, -7.35441919e-02,\n",
       "         6.11333707e-02, -5.79996820e-02,  2.50164881e-01,\n",
       "         9.42361650e-02, -6.91505329e-02,  3.87429296e-02,\n",
       "        -1.95116349e-01,  2.59202195e-01,  1.54327012e-01,\n",
       "        -3.76652475e-01, -1.95175266e-01,  4.07142863e-02],\n",
       "       [-2.14099548e-01, -2.26536663e-01, -5.19752827e-02,\n",
       "         1.38238618e-02, -2.21597566e-02,  2.24219466e-01,\n",
       "        -3.78934031e-01, -2.35604238e-01,  2.02135588e-01,\n",
       "        -1.26086277e-01,  1.79649600e-01, -3.69350443e-01,\n",
       "         2.21221314e-01,  1.81643397e-01,  1.20041930e-01,\n",
       "        -1.07446458e-01,  1.58870639e-01, -5.87926460e-02,\n",
       "         2.46600938e-02, -2.93880375e-01,  4.24414632e-02,\n",
       "         3.62379855e-01,  2.54695885e-01, -5.55451158e-02],\n",
       "       [-2.10864193e-01, -3.50368105e-01,  4.36084389e-02,\n",
       "        -9.87885678e-02,  8.59358226e-03,  2.10590158e-01,\n",
       "        -5.00824224e-01, -9.11281053e-02, -2.97913174e-01,\n",
       "         2.75431872e-01,  1.26026065e-01,  4.59670465e-02,\n",
       "        -2.28726457e-02, -1.47654552e-01, -6.36806349e-02,\n",
       "        -3.50018809e-02, -7.32045309e-02,  1.43998526e-01,\n",
       "         1.76368544e-01,  1.75279043e-01, -2.24573299e-01,\n",
       "        -2.60834333e-01, -3.08661282e-01,  7.54176786e-02],\n",
       "       [-9.96288129e-02, -1.69572320e-02,  1.17930224e-01,\n",
       "        -4.68035125e-01,  5.57327028e-02,  1.41390606e-01,\n",
       "         3.33606314e-02, -1.69662796e-01, -2.97248470e-01,\n",
       "         3.14325948e-01, -3.87583067e-02,  1.43905182e-01,\n",
       "        -1.76743870e-01, -1.37078744e-01,  2.06302206e-01,\n",
       "         2.28327936e-01,  1.11268922e-02, -1.70127961e-01,\n",
       "        -2.65590165e-01,  8.52171069e-03,  2.98939978e-01,\n",
       "         1.03708347e-01,  3.66007305e-01, -1.26391260e-01],\n",
       "       [-1.23581061e-01,  6.26684040e-02,  5.97593159e-02,\n",
       "        -4.81490261e-01, -7.06454400e-02,  5.26714940e-02,\n",
       "         3.49618156e-01, -2.28610221e-02,  2.47704651e-01,\n",
       "         2.08828046e-01,  1.47571493e-01, -6.76002437e-02,\n",
       "        -1.24589245e-01,  1.58884211e-01,  1.76735065e-01,\n",
       "        -5.88707426e-02,  2.70754602e-01, -1.06038167e-01,\n",
       "         1.73204933e-01, -1.71565333e-01, -2.37878473e-01,\n",
       "         7.52044521e-02, -4.04840073e-01,  1.94859109e-01],\n",
       "       [-2.11615113e-01, -1.92395566e-01,  3.25449840e-02,\n",
       "        -1.44527278e-01, -1.12817552e-01,  5.96070490e-02,\n",
       "         1.20153462e-01,  2.58665972e-01,  4.11126018e-01,\n",
       "         1.08203346e-02,  2.80993946e-01,  1.67498836e-02,\n",
       "        -2.90163643e-01,  8.08120880e-02, -1.26879125e-01,\n",
       "        -1.45010466e-01, -8.51173927e-02,  3.05454545e-01,\n",
       "         9.33574958e-02,  2.49732534e-01,  6.98575394e-02,\n",
       "        -2.16802776e-01,  3.62212954e-01, -2.60167384e-01],\n",
       "       [-1.84530354e-01, -2.24899473e-01,  4.50034264e-02,\n",
       "         3.55030213e-02,  9.82942908e-02,  1.05081882e-01,\n",
       "        -1.18585171e-01,  3.42028389e-01,  1.20136366e-01,\n",
       "        -2.53632629e-01, -3.75323313e-02,  6.06916702e-02,\n",
       "        -4.39015128e-01, -7.10746859e-02, -4.92077633e-02,\n",
       "         8.58562124e-02, -2.58796028e-01, -1.07009476e-01,\n",
       "        -3.46339031e-01, -1.31619550e-01,  1.07896352e-01,\n",
       "         2.84205587e-01, -2.40948673e-01,  3.20513071e-01],\n",
       "       [-1.24379378e-01, -7.49157221e-02,  5.09014104e-02,\n",
       "        -2.64274033e-02,  2.15632871e-01,  6.36090042e-02,\n",
       "        -5.87623519e-02,  2.94609214e-01, -6.74033228e-02,\n",
       "        -2.36114341e-01, -4.05731859e-01, -1.98678216e-01,\n",
       "        -1.90649013e-01, -5.95247465e-02,  1.60011642e-01,\n",
       "         7.00904937e-02,  2.08343853e-01, -3.57594128e-01,\n",
       "         2.23538515e-01, -9.71424562e-02, -2.53544317e-01,\n",
       "        -2.66984699e-01,  8.35874197e-02, -3.56098776e-01],\n",
       "       [-1.51459033e-01, -4.50576330e-02,  8.00770722e-02,\n",
       "        -1.50356260e-01,  1.08915814e-01, -2.12831098e-03,\n",
       "         6.26324717e-02,  2.32180115e-01, -3.93893590e-02,\n",
       "         6.19761395e-03, -4.19304984e-01, -2.65558666e-01,\n",
       "         2.23406298e-01, -1.53363052e-01, -4.13271158e-03,\n",
       "        -4.73237251e-02,  2.39292902e-01,  3.52151457e-01,\n",
       "         1.81707660e-01,  2.75932120e-01,  2.71288148e-01,\n",
       "         1.45155982e-01,  8.70389548e-02,  4.00033177e-01],\n",
       "       [-1.70258890e-01, -6.34156547e-02,  6.71369519e-02,\n",
       "        -2.11296369e-01,  2.25711706e-02, -4.15548547e-02,\n",
       "         1.10359283e-01,  1.25326171e-01,  1.28679420e-01,\n",
       "         6.91324846e-02, -1.42290126e-01, -6.48496428e-02,\n",
       "         4.46880544e-01, -2.87819802e-01, -1.99193986e-01,\n",
       "        -1.03138421e-02, -1.58249574e-01,  2.00657351e-01,\n",
       "        -3.86731285e-01, -2.32899727e-01, -1.33973440e-01,\n",
       "         3.98757785e-02, -2.24005528e-01, -4.25171636e-01],\n",
       "       [-1.06203532e-01, -1.39444339e-01, -8.50904986e-03,\n",
       "        -9.16189608e-02, -4.33448971e-02, -1.11637306e-01,\n",
       "         2.67457387e-02,  1.05274244e-01,  2.09684691e-01,\n",
       "        -6.66688608e-02,  1.82131059e-01,  2.32731701e-01,\n",
       "         3.88341309e-01, -3.50927328e-01, -4.85163440e-02,\n",
       "         6.92304906e-02, -8.26446578e-02, -4.41153600e-01,\n",
       "         9.51221389e-02, -4.78905239e-02, -1.08586552e-01,\n",
       "        -2.18536307e-01,  2.97032139e-01,  3.96548277e-01],\n",
       "       [-7.40565602e-02, -2.06783974e-01, -3.78718178e-02,\n",
       "         3.82618068e-02, -5.85456176e-02, -1.29907599e-01,\n",
       "        -3.93095947e-02,  1.62782252e-01, -1.67392567e-03,\n",
       "        -2.01980109e-01,  1.75199714e-01,  4.45782111e-01,\n",
       "         1.86789685e-01, -2.06464548e-02,  2.32587479e-01,\n",
       "         2.26358366e-01,  2.82888213e-01, -1.35954164e-02,\n",
       "         2.25906916e-01,  1.70190819e-01,  2.94218176e-01,\n",
       "         2.57796613e-01, -2.81026767e-01, -3.12145624e-01],\n",
       "       [-1.18991263e-01, -1.41873928e-01,  9.49590394e-03,\n",
       "        -6.03477936e-02,  1.04317309e-02, -8.34321890e-03,\n",
       "         4.73014708e-02,  1.28226025e-01, -2.52381349e-01,\n",
       "        -1.88151623e-01, -7.47001595e-02,  3.57337520e-01,\n",
       "         1.58553756e-01,  4.92768538e-01,  1.71516025e-01,\n",
       "         1.47860533e-02,  1.33899295e-01,  3.17225272e-01,\n",
       "        -2.58777579e-01, -2.14586057e-01, -2.73922322e-01,\n",
       "        -1.80303858e-01,  2.00093092e-01,  1.84404175e-01],\n",
       "       [-1.33553826e-01, -3.31294845e-02,  5.31752197e-02,\n",
       "        -1.83049369e-01,  4.28094478e-02,  1.10530714e-01,\n",
       "         1.18768487e-01,  3.91634190e-02, -1.88025955e-01,\n",
       "        -6.93383843e-02, -1.35259599e-01,  7.59658147e-02,\n",
       "         2.19153521e-01,  4.24130598e-01, -1.49673908e-01,\n",
       "        -4.04342163e-01, -4.48992763e-01, -3.38102417e-01,\n",
       "         1.89785901e-01,  1.67210300e-01,  1.84913313e-01,\n",
       "         9.64802535e-02, -8.33163804e-02, -8.17042490e-02]])"
      ]
     },
     "execution_count": 27,
     "metadata": {},
     "output_type": "execute_result"
    }
   ],
   "source": [
    "for i in range(0, EVecs.shape[1]):\n",
    "    if EVecs[:, i][0] < 0:\n",
    "        EVecs[:, i] *= -1\n",
    "EVecs"
   ]
  },
  {
   "cell_type": "code",
   "execution_count": 30,
   "metadata": {},
   "outputs": [],
   "source": [
    "cum_var = np.cumsum(EVals)"
   ]
  },
  {
   "cell_type": "code",
   "execution_count": 31,
   "metadata": {},
   "outputs": [],
   "source": [
    "size = EVals.size - 1"
   ]
  },
  {
   "cell_type": "code",
   "execution_count": 32,
   "metadata": {},
   "outputs": [],
   "source": [
    "req_cov_lst = [0.70, 0.80, 0.90, 0.95]\n",
    "MinDims = np.zeros((len(req_cov_lst),), dtype=np.int32)\n",
    "for i, cov_for in enumerate(req_cov_lst):\n",
    "    for k in range(size):\n",
    "        if cum_var[k]/cum_var[size] >= cov_for:\n",
    "            MinDims[i] = k\n",
    "            break"
   ]
  },
  {
   "cell_type": "code",
   "execution_count": 33,
   "metadata": {},
   "outputs": [
    {
     "data": {
      "text/plain": [
       "array([2, 4, 6, 9], dtype=int32)"
      ]
     },
     "execution_count": 33,
     "metadata": {},
     "output_type": "execute_result"
    }
   ],
   "source": [
    "MinDims"
   ]
  },
  {
   "cell_type": "code",
   "execution_count": 34,
   "metadata": {},
   "outputs": [],
   "source": [
    "def task1_3(X):\n",
    "    # Input:\n",
    "    # X: N * D matrix (double)\n",
    "    # Output:\n",
    "    # Evecs: D-by-D matrix (double) contains all eigenvectors as columns\n",
    "    # NB: follow the Task 1.3 specifications on eigenvectors.\n",
    "    # EVals: Eigenvalues in descending order, D x 1 vector\n",
    "    # (Note that the i-th columns of Evecs should corresponds to the i-th element in EVals)\n",
    "\n",
    "    covar_mat = X\n",
    "    eigen_vals, eigen_vecs = np.linalg.eig(covar_mat)\n",
    "    idx = np.argsort(eigen_vals)[::-1]\n",
    "    EVals = eigen_vals[idx]\n",
    "    EVecs = eigen_vecs[:, idx]\n",
    "\n",
    "    # Change direction of negative evecs\n",
    "    np.apply_along_axis(lambda x : x*(-1) if x[0] < 0 else x, 0, EVecs)\n",
    "    # caluclate the cumulative variance\n",
    "    cum_var = np.cumsum(EVals)\n",
    "    # calculate min number of PCA dimensions required for the following percentages\n",
    "    req_cov_lst = [0.70, 0.80, 0.90, 0.95]\n",
    "    MinDims = np.zeros((len(req_cov_lst),), dtype=np.int32)\n",
    "    for i, cov_for in enumerate(req_cov_lst):\n",
    "        for k in range(EVals.size):\n",
    "            if cum_var[k]/cum_var[EVals.size - 1] >= cov_for:\n",
    "                MinDims[i] = k\n",
    "                break\n",
    "    sio.savemat('t1_EVecs.mat', mdict={'EVecs': EVecs})\n",
    "    sio.savemat('t1_EVals.mat', mdict={'EVals': EVals})\n",
    "    sio.savemat('t1_Cumvar.mat', mdict={'Cumvar': cum_var})\n",
    "    sio.savemat('t1_MinDims.mat', mdict={'MinDims': MinDims})\n",
    "\n"
   ]
  },
  {
   "cell_type": "code",
   "execution_count": 64,
   "metadata": {},
   "outputs": [],
   "source": [
    "#task1_3(res1_1)"
   ]
  },
  {
   "cell_type": "code",
   "execution_count": 35,
   "metadata": {},
   "outputs": [
    {
     "name": "stdout",
     "output_type": "stream",
     "text": [
      "[0.11761735 0.1732983  0.19698999 0.21275409 0.22368927 0.2325654\n",
      " 0.24090894 0.24694568 0.2513998  0.25539308 0.25883284 0.26096101\n",
      " 0.26261739 0.2640839  0.26535758 0.26594924 0.26634243 0.26659032\n",
      " 0.26671713 0.2667999  0.26685084 0.26687883 0.26689691 0.26690948]\n"
     ]
    },
    {
     "data": {
      "image/png": "[encoded data removed]",
      "text/plain": [
       "<Figure size 432x288 with 1 Axes>"
      ]
     },
     "metadata": {
      "needs_background": "light"
     },
     "output_type": "display_data"
    }
   ],
   "source": [
    "fig, ax = plt.subplots()\n",
    "print(cum_var)\n",
    "ax.plot(cum_var)\n",
    "# ax.axhline(y=0.27, linestyle=\"--\")\n",
    "plt.xlabel(\"Eigenvalues summed\")\n",
    "plt.ylabel(\"Cumulative sum\")\n",
    "plt.savefig('cumvar.png')"
   ]
  },
  {
   "cell_type": "code",
   "execution_count": 67,
   "metadata": {},
   "outputs": [],
   "source": [
    "X_mean = my_mean(X_vec)\n",
    "X_shifted = X_vec - X_mean\n",
    "P = eig_vecs_np.T.dot(X_shifted.T)"
   ]
  },
  {
   "cell_type": "code",
   "execution_count": 68,
   "metadata": {},
   "outputs": [
    {
     "ename": "TypeError",
     "evalue": "scatter() missing 1 required positional argument: 'y'",
     "output_type": "error",
     "traceback": [
      "\u001b[0;31m---------------------------------------------------------------------------\u001b[0m",
      "\u001b[0;31mTypeError\u001b[0m                                 Traceback (most recent call last)",
      "\u001b[0;32m<ipython-input-68-7c648de20713>\u001b[0m in \u001b[0;36m<module>\u001b[0;34m\u001b[0m\n\u001b[0;32m----> 1\u001b[0;31m \u001b[0mplt\u001b[0m\u001b[0;34m.\u001b[0m\u001b[0mscatter\u001b[0m\u001b[0;34m(\u001b[0m\u001b[0mP\u001b[0m\u001b[0;34m)\u001b[0m\u001b[0;34m\u001b[0m\u001b[0;34m\u001b[0m\u001b[0m\n\u001b[0m",
      "\u001b[0;31mTypeError\u001b[0m: scatter() missing 1 required positional argument: 'y'"
     ]
    }
   ],
   "source": [
    "plt.scatter(P)"
   ]
  },
  {
   "cell_type": "code",
   "execution_count": null,
   "metadata": {},
   "outputs": [],
   "source": [
    "P"
   ]
  },
  {
   "cell_type": "code",
   "execution_count": 36,
   "metadata": {},
   "outputs": [],
   "source": [
    "from sklearn.preprocessing import StandardScaler\n",
    "X_vec = StandardScaler().fit_transform(X_vec)"
   ]
  },
  {
   "cell_type": "code",
   "execution_count": 37,
   "metadata": {},
   "outputs": [
    {
     "name": "stdout",
     "output_type": "stream",
     "text": [
      "[[ 0.22549159 -1.5231426 ]\n",
      " [-0.83923136  1.07772884]\n",
      " [ 0.02887795 -1.6955516 ]\n",
      " ...\n",
      " [-2.44198877  1.94661572]\n",
      " [-1.82651049  0.941203  ]\n",
      " [-3.05941854  2.93123338]]\n"
     ]
    }
   ],
   "source": [
    "import pandas as pd\n",
    "from sklearn.decomposition import PCA\n",
    "pca = PCA(n_components=2)\n",
    "principalComponents = pca.fit_transform(X_vec)\n",
    "print(principalComponents)\n",
    "principalDf = pd.DataFrame(data = principalComponents\n",
    "             , columns = ['principal component 1', 'principal component 2'])\n",
    "target_class = pd.DataFrame(data = Y_species, columns= ['target'])"
   ]
  },
  {
   "cell_type": "code",
   "execution_count": 38,
   "metadata": {},
   "outputs": [],
   "source": [
    "finalDf = pd.concat([principalDf, target_class[['target']]], axis = 1)"
   ]
  },
  {
   "cell_type": "code",
   "execution_count": 39,
   "metadata": {
    "scrolled": false
   },
   "outputs": [
    {
     "data": {
      "text/html": [
       "<div>\n",
       "<style scoped>\n",
       "    .dataframe tbody tr th:only-of-type {\n",
       "        vertical-align: middle;\n",
       "    }\n",
       "\n",
       "    .dataframe tbody tr th {\n",
       "        vertical-align: top;\n",
       "    }\n",
       "\n",
       "    .dataframe thead th {\n",
       "        text-align: right;\n",
       "    }\n",
       "</style>\n",
       "<table border=\"1\" class=\"dataframe\">\n",
       "  <thead>\n",
       "    <tr style=\"text-align: right;\">\n",
       "      <th></th>\n",
       "      <th>principal component 1</th>\n",
       "      <th>principal component 2</th>\n",
       "      <th>target</th>\n",
       "    </tr>\n",
       "  </thead>\n",
       "  <tbody>\n",
       "    <tr>\n",
       "      <th>0</th>\n",
       "      <td>0.225492</td>\n",
       "      <td>-1.523143</td>\n",
       "      <td>2</td>\n",
       "    </tr>\n",
       "    <tr>\n",
       "      <th>1</th>\n",
       "      <td>-0.839231</td>\n",
       "      <td>1.077729</td>\n",
       "      <td>7</td>\n",
       "    </tr>\n",
       "    <tr>\n",
       "      <th>2</th>\n",
       "      <td>0.028878</td>\n",
       "      <td>-1.695552</td>\n",
       "      <td>2</td>\n",
       "    </tr>\n",
       "    <tr>\n",
       "      <th>3</th>\n",
       "      <td>-1.724178</td>\n",
       "      <td>1.435945</td>\n",
       "      <td>6</td>\n",
       "    </tr>\n",
       "    <tr>\n",
       "      <th>4</th>\n",
       "      <td>-1.417346</td>\n",
       "      <td>-1.569278</td>\n",
       "      <td>2</td>\n",
       "    </tr>\n",
       "  </tbody>\n",
       "</table>\n",
       "</div>"
      ],
      "text/plain": [
       "   principal component 1  principal component 2  target\n",
       "0               0.225492              -1.523143       2\n",
       "1              -0.839231               1.077729       7\n",
       "2               0.028878              -1.695552       2\n",
       "3              -1.724178               1.435945       6\n",
       "4              -1.417346              -1.569278       2"
      ]
     },
     "execution_count": 39,
     "metadata": {},
     "output_type": "execute_result"
    }
   ],
   "source": [
    "finalDf.head()"
   ]
  },
  {
   "cell_type": "code",
   "execution_count": 40,
   "metadata": {},
   "outputs": [
    {
     "data": {
      "text/plain": [
       "array([ 1,  2,  3,  4,  5,  6,  7,  8,  9, 10], dtype=int32)"
      ]
     },
     "execution_count": 40,
     "metadata": {},
     "output_type": "execute_result"
    }
   ],
   "source": [
    "np.unique(Y_species)"
   ]
  },
  {
   "cell_type": "code",
   "execution_count": 41,
   "metadata": {},
   "outputs": [],
   "source": [
    "import matplotlib.colors as mcolors"
   ]
  },
  {
   "cell_type": "code",
   "execution_count": 42,
   "metadata": {},
   "outputs": [
    {
     "data": {
      "image/png": "[encoded data removed]",
      "text/plain": [
       "<Figure size 576x576 with 1 Axes>"
      ]
     },
     "metadata": {
      "needs_background": "light"
     },
     "output_type": "display_data"
    }
   ],
   "source": [
    "fig = plt.figure(figsize = (8,8))\n",
    "ax = fig.add_subplot(1,1,1) \n",
    "ax.set_xlabel('Principal Component 1', fontsize = 15)\n",
    "ax.set_ylabel('Principal Component 2', fontsize = 15)\n",
    "ax.set_title('2 component PCA', fontsize = 20)\n",
    "targets = np.unique(Y_species)\n",
    "colors = mcolors.TABLEAU_COLORS\n",
    "\n",
    "for target, color in zip(targets,colors):\n",
    "    indicesToKeep = finalDf['target'] == target\n",
    "    ax.scatter(finalDf.loc[indicesToKeep, 'principal component 1']\n",
    "               , finalDf.loc[indicesToKeep, 'principal component 2']\n",
    "               , edgecolor='none'\n",
    "               , alpha=0.5\n",
    "               , s = 15\n",
    "              )\n",
    "ax.legend(targets)\n",
    "ax.grid()\n",
    "plt.savefig('2d-pca.png')"
   ]
  },
  {
   "cell_type": "code",
   "execution_count": 43,
   "metadata": {},
   "outputs": [
    {
     "data": {
      "text/plain": [
       "0"
      ]
     },
     "execution_count": 43,
     "metadata": {},
     "output_type": "execute_result"
    }
   ],
   "source": [
    "Nc = np.count_nonzero(Y_species == 11)\n",
    "Nc"
   ]
  },
  {
   "cell_type": "code",
   "execution_count": 44,
   "metadata": {},
   "outputs": [],
   "source": [
    "pmap = np.zeros((len(X_vec), 1))"
   ]
  },
  {
   "cell_type": "code",
   "execution_count": 45,
   "metadata": {},
   "outputs": [],
   "source": [
    "def my_k_folds(X, Y, k_folds):\n",
    "    # Assuming classes follow the pattern 1..C;\n",
    "    # C becomes the total no. of classes\n",
    "    no_of_classes = np.max(Y)\n",
    "    p_map = np.zeros((len(X), 1))\n",
    "    \n",
    "    for c in range(1, no_of_classes+1):\n",
    "        Nc = np.count_nonzero(Y == c)\n",
    "        Mc = int(np.floor(Nc / k_folds))\n",
    "        # find indexes of all places where the element is c\n",
    "        idxs = np.apply_along_axis(lambda x: x[0], 1, np.argwhere(Y == c))\n",
    "        # split the idxs based on k_folds and Mc\n",
    "        sub_arrs = _split(idxs, k_folds, Mc)\n",
    "        for i in range(len(sub_arrs)):\n",
    "            p_map[sub_arrs[i]] = i + 1\n",
    "            \n",
    "    return p_map"
   ]
  },
  {
   "cell_type": "code",
   "execution_count": 46,
   "metadata": {},
   "outputs": [],
   "source": [
    "def my_k_folds_1(X, Y, k_folds):\n",
    "    # Assuming classes follow the pattern 1..C;\n",
    "    # C becomes the total no. of classes\n",
    "    no_of_classes = np.max(Y)\n",
    "    p_map = np.zeros((len(X), 1))\n",
    "    \n",
    "    for c in range(1, no_of_classes+1):\n",
    "        Nc = sum(Y == c)[0]\n",
    "        Mc = int(np.floor(Nc / k_folds))\n",
    "        \n",
    "        currentIndexX = 0\n",
    "        \n",
    "        for k in range(1,k_folds):\n",
    "            currentIndexBin = 1\n",
    "\n",
    "            while currentIndexBin <= Mc:\n",
    "                if Y[currentIndexX] == c:\n",
    "                    p_map[currentIndexX] = k\n",
    "                    currentIndexBin = currentIndexBin + 1\n",
    "\n",
    "                currentIndexX = currentIndexX + 1\n",
    "\n",
    "        while currentIndexX < len(X):\n",
    "            if Y[currentIndexX] == c:\n",
    "                p_map[currentIndexX] = k_folds\n",
    "            currentIndexX = currentIndexX + 1\n",
    "    return p_map"
   ]
  },
  {
   "cell_type": "code",
   "execution_count": 273,
   "metadata": {},
   "outputs": [],
   "source": [
    "a = np.argwhere(Y_species == 1)"
   ]
  },
  {
   "cell_type": "code",
   "execution_count": 267,
   "metadata": {},
   "outputs": [],
   "source": [
    "ids = np.apply_along_axis(f, 1, a)"
   ]
  },
  {
   "cell_type": "code",
   "execution_count": 47,
   "metadata": {},
   "outputs": [],
   "source": [
    "def _split(X, k, mc):\n",
    "    curr = 1\n",
    "    sub_arrays = []\n",
    "    for i in range(k):\n",
    "        if curr != k:\n",
    "            start = i*mc\n",
    "            end = i*mc + mc\n",
    "            sub_arrays.append(X[start:end])\n",
    "        else:\n",
    "            start = i*mc\n",
    "            sub_arrays.append(X[start:])\n",
    "        curr += 1\n",
    "    return sub_arrays"
   ]
  },
  {
   "cell_type": "code",
   "execution_count": 48,
   "metadata": {
    "scrolled": false
   },
   "outputs": [],
   "source": [
    "p_map = my_k_folds(X_vec, Y_species, 5)"
   ]
  },
  {
   "cell_type": "code",
   "execution_count": 271,
   "metadata": {},
   "outputs": [],
   "source": [
    "p_map_1 = my_k_folds_1(X_vec, Y_species, 5)"
   ]
  },
  {
   "cell_type": "code",
   "execution_count": 272,
   "metadata": {},
   "outputs": [],
   "source": [
    "sio.savemat(\"t1_mgc_5cv_PMap.mat\", {\"PMap\": p_map})"
   ]
  },
  {
   "cell_type": "code",
   "execution_count": 49,
   "metadata": {},
   "outputs": [],
   "source": [
    "from scipy.stats import multivariate_normal"
   ]
  },
  {
   "cell_type": "code",
   "execution_count": 50,
   "metadata": {},
   "outputs": [],
   "source": [
    "def MyConfusionMatrix(y_actual, y_pred):\n",
    "    '''\n",
    "    Parameters:\n",
    "        y_actual: actual labels\n",
    "        y_pred: predicted labels of data\n",
    "    Returns:\n",
    "        CM: Confusion matrix for the data as a 2d numpy array\n",
    "    '''\n",
    "    if(y_actual.shape[0] != y_pred.shape[0]):\n",
    "        raise ValueError(\"Vectors supplied must be of same length\")\n",
    "    \n",
    "    # Convert the arrays to int32 to avoid indexing errors\n",
    "    y_actual = y_actual.astype(np.int32, copy=False)\n",
    "    y_pred = y_pred.astype(np.int32, copy=False)\n",
    "    \n",
    "    # Minimum and maximum values in order to know the size of the confusion matrix and how to access it\n",
    "    # Problems come from classes indexing beginning with 1 and data array indexing with 0\n",
    "    max_actual = np.max(y_actual)\n",
    "    max_predicted = np.max(y_pred)\n",
    "    min_actual = np.min(y_actual)\n",
    "    min_predicted = np.min(y_pred)\n",
    "\n",
    "    N = max_actual + 1 if min_actual == 0 else max_actual\n",
    "    M = max_predicted + 1 if min_predicted == 0 else max_predicted\n",
    "\n",
    "    confusion_matrix = np.zeros((N,M))\n",
    "\n",
    "    for index in range(y_pred.shape[0]):\n",
    "        i = y_actual[index] if min_actual == 0 else y_actual[index] - 1\n",
    "        j = y_pred[index] if min_predicted == 0 else y_pred[index] - 1\n",
    "        confusion_matrix[i,j] += 1\n",
    "\n",
    "    return confusion_matrix"
   ]
  },
  {
   "cell_type": "code",
   "execution_count": 257,
   "metadata": {},
   "outputs": [],
   "source": [
    "def task1_mgc_cv(X,Y,CovKind,epsilon,Kfolds):\n",
    "    PMap = my_k_folds(X, Y, Kfolds)\n",
    "    sio.savemat(f\"t1_mgc_{Kfolds}cv_PMap.mat\", {\"PMap\": PMap})\n",
    "    no_of_classes = np.max(Y)\n",
    "    total_cov_mat = np.zeros((no_of_classes, no_of_classes))\n",
    "    D = X[0].size\n",
    "    for p in range(1, Kfolds+1):\n",
    "        Ms = np.zeros((no_of_classes, D))\n",
    "        Covs = np.zeros((no_of_classes, D, D))\n",
    "        priors = np.zeros((1, no_of_classes))\n",
    "        \n",
    "        for c in range(1, no_of_classes+1):\n",
    "            train_data = X[np.where(np.logical_and(PMap != p, Y == c))[0]]\n",
    "            Ms[c-1] = my_mean(train_data)\n",
    "            \n",
    "            if CovKind == 1:\n",
    "                # Full covariance mat\n",
    "                Cov = my_cov(train_data)\n",
    "            elif CovKind == 2:\n",
    "                # Diagonal covariance mat\n",
    "                Cov = np.diag(np.diag(my_cov(train_data)))\n",
    "            else:\n",
    "                # Shared covariance mat\n",
    "                Cov = my_cov(X)\n",
    "            \n",
    "            standardised_cov = Cov + epsilon * np.eye(D)\n",
    "            Covs[c-1] = standardised_cov\n",
    "            \n",
    "            priors[:,c-1] = len(train_data) / len(X[np.where(PMap != p)[0]])\n",
    "            \n",
    "        sio.savemat(f\"t1_mgc_{Kfolds}cv{p}_Ms.mat\", {\"Ms\": Ms})\n",
    "        sio.savemat(f\"t1_mgc_{Kfolds}cv{p}_ck{CovKind}_Covs.mat\", {\"Covs\": Covs})\n",
    "        \n",
    "        \n",
    "        test_data = X[np.where(PMap == p)[0]]\n",
    "        test_likelihoods = np.zeros((len(test_data), no_of_classes))\n",
    "        \n",
    "        for i in range(len(test_data)):\n",
    "            for c in range(1, no_of_classes+1):\n",
    "                    test_likelihoods[i, c-1] = multivariate_normal.pdf(test_data[i]\n",
    "                                                            , Ms[c-1]\n",
    "                                                            , np.squeeze(Covs[c-1])\n",
    "                                                            )\n",
    "        test_probs = test_likelihoods * priors\n",
    "        test_preds = np.zeros((len(test_data), 1))\n",
    "        \n",
    "        for i in range(len(test_data)):\n",
    "            curr_row_vec = test_probs[i]\n",
    "            test_preds[i] = np.argmax(curr_row_vec, axis=0)\n",
    "\n",
    "        \n",
    "        CM = MyConfusionMatrix(Y[np.where(PMap == p)[0]], test_preds)\n",
    "                \n",
    "        sio.savemat(f\"t1_mgc_{Kfolds}cv{p}_ck{CovKind}_CM.mat\", {\"CM\": CM})\n",
    "        \n",
    "        total_cov_mat = total_cov_mat + (CM / (Kfolds * len(test_data)))\n",
    "    L = Kfolds + 1\n",
    "    sio.savemat(f\"t1_mgc_{Kfolds}cv{L}_ck{CovKind}_CM.mat\", {\"CM\": total_cov_mat})"
   ]
  },
  {
   "cell_type": "code",
   "execution_count": 265,
   "metadata": {},
   "outputs": [],
   "source": [
    "task1_mgc_cv(X_vec, Y_species, 3, 0.01, 5)"
   ]
  },
  {
   "cell_type": "code",
   "execution_count": 259,
   "metadata": {},
   "outputs": [
    {
     "data": {
      "text/plain": [
       "array([[8.10583844e-02, 0.00000000e+00, 9.44510035e-04, 0.00000000e+00,\n",
       "        0.00000000e+00, 0.00000000e+00, 0.00000000e+00, 1.41676505e-03,\n",
       "        0.00000000e+00, 0.00000000e+00],\n",
       "       [0.00000000e+00, 5.05903188e-01, 2.36127509e-04, 0.00000000e+00,\n",
       "        0.00000000e+00, 0.00000000e+00, 0.00000000e+00, 0.00000000e+00,\n",
       "        0.00000000e+00, 0.00000000e+00],\n",
       "       [0.00000000e+00, 0.00000000e+00, 8.83497734e-02, 0.00000000e+00,\n",
       "        0.00000000e+00, 0.00000000e+00, 0.00000000e+00, 0.00000000e+00,\n",
       "        0.00000000e+00, 0.00000000e+00],\n",
       "       [2.36127509e-04, 2.34984956e-03, 4.72255018e-04, 3.40499676e-02,\n",
       "        0.00000000e+00, 0.00000000e+00, 0.00000000e+00, 0.00000000e+00,\n",
       "        0.00000000e+00, 2.36127509e-04],\n",
       "       [0.00000000e+00, 4.72255018e-04, 0.00000000e+00, 0.00000000e+00,\n",
       "        6.90730091e-02, 0.00000000e+00, 0.00000000e+00, 2.36127509e-04,\n",
       "        0.00000000e+00, 0.00000000e+00],\n",
       "       [0.00000000e+00, 0.00000000e+00, 0.00000000e+00, 0.00000000e+00,\n",
       "        0.00000000e+00, 1.18183722e-01, 0.00000000e+00, 0.00000000e+00,\n",
       "        0.00000000e+00, 0.00000000e+00],\n",
       "       [2.36127509e-04, 0.00000000e+00, 4.72255018e-04, 0.00000000e+00,\n",
       "        0.00000000e+00, 0.00000000e+00, 3.38366912e-02, 6.96957002e-04,\n",
       "        2.36127509e-04, 0.00000000e+00],\n",
       "       [2.36127509e-04, 0.00000000e+00, 0.00000000e+00, 0.00000000e+00,\n",
       "        0.00000000e+00, 0.00000000e+00, 0.00000000e+00, 1.78485737e-02,\n",
       "        0.00000000e+00, 0.00000000e+00],\n",
       "       [0.00000000e+00, 0.00000000e+00, 4.72255018e-04, 2.30414747e-04,\n",
       "        0.00000000e+00, 0.00000000e+00, 0.00000000e+00, 0.00000000e+00,\n",
       "        2.46619949e-02, 0.00000000e+00],\n",
       "       [0.00000000e+00, 0.00000000e+00, 0.00000000e+00, 2.36127509e-04,\n",
       "        0.00000000e+00, 0.00000000e+00, 0.00000000e+00, 0.00000000e+00,\n",
       "        0.00000000e+00, 1.76181590e-02]])"
      ]
     },
     "execution_count": 259,
     "metadata": {},
     "output_type": "execute_result"
    }
   ],
   "source": [
    "cov1 = sio.loadmat(\"t1_mgc_5cv6_ck1_CM.mat\")['CM']\n",
    "np.diagonal(cov1).sum()"
   ]
  },
  {
   "cell_type": "code",
   "execution_count": 262,
   "metadata": {},
   "outputs": [
    {
     "data": {
      "text/plain": [
       "array([[2.42011654e-02, 0.00000000e+00, 7.99405873e-03, 4.72255018e-04,\n",
       "        0.00000000e+00, 0.00000000e+00, 0.00000000e+00, 5.07521804e-02,\n",
       "        0.00000000e+00, 0.00000000e+00],\n",
       "       [3.52477435e-03, 4.95795407e-01, 5.87462391e-03, 7.08382527e-04,\n",
       "        0.00000000e+00, 0.00000000e+00, 0.00000000e+00, 0.00000000e+00,\n",
       "        0.00000000e+00, 2.36127509e-04],\n",
       "       [1.73648932e-02, 0.00000000e+00, 7.07487527e-02, 2.36127509e-04,\n",
       "        0.00000000e+00, 0.00000000e+00, 0.00000000e+00, 0.00000000e+00,\n",
       "        0.00000000e+00, 0.00000000e+00],\n",
       "       [9.33084511e-04, 6.80199566e-03, 2.36127509e-04, 2.84286095e-02,\n",
       "        0.00000000e+00, 0.00000000e+00, 0.00000000e+00, 0.00000000e+00,\n",
       "        0.00000000e+00, 9.44510035e-04],\n",
       "       [5.64992193e-03, 0.00000000e+00, 0.00000000e+00, 9.38797273e-04,\n",
       "        5.98983128e-02, 0.00000000e+00, 0.00000000e+00, 2.82210458e-03,\n",
       "        4.72255018e-04, 0.00000000e+00],\n",
       "       [0.00000000e+00, 0.00000000e+00, 0.00000000e+00, 0.00000000e+00,\n",
       "        7.08382527e-04, 1.15833873e-01, 0.00000000e+00, 1.40533953e-03,\n",
       "        0.00000000e+00, 2.36127509e-04],\n",
       "       [9.44510035e-04, 0.00000000e+00, 2.36127509e-04, 2.36127509e-04,\n",
       "        0.00000000e+00, 0.00000000e+00, 2.89065773e-02, 3.04109380e-03,\n",
       "        1.64717980e-03, 4.66542255e-04],\n",
       "       [0.00000000e+00, 0.00000000e+00, 0.00000000e+00, 0.00000000e+00,\n",
       "        2.36127509e-04, 0.00000000e+00, 0.00000000e+00, 1.78485737e-02,\n",
       "        0.00000000e+00, 0.00000000e+00],\n",
       "       [9.44510035e-04, 0.00000000e+00, 4.66542255e-04, 9.33084511e-04,\n",
       "        0.00000000e+00, 0.00000000e+00, 0.00000000e+00, 0.00000000e+00,\n",
       "        2.27901131e-02, 2.30414747e-04],\n",
       "       [2.36127509e-04, 0.00000000e+00, 0.00000000e+00, 4.72255018e-04,\n",
       "        2.82210458e-03, 0.00000000e+00, 0.00000000e+00, 0.00000000e+00,\n",
       "        2.36127509e-04, 1.40876719e-02]])"
      ]
     },
     "execution_count": 262,
     "metadata": {},
     "output_type": "execute_result"
    }
   ],
   "source": [
    "cov2 = sio.loadmat(\"t1_mgc_5cv6_ck2_CM.mat\")['CM']\n",
    "np.diagonal(cov2).sum()"
   ]
  },
  {
   "cell_type": "code",
   "execution_count": 266,
   "metadata": {},
   "outputs": [
    {
     "data": {
      "text/plain": [
       "0.963329778725673"
      ]
     },
     "execution_count": 266,
     "metadata": {},
     "output_type": "execute_result"
    }
   ],
   "source": [
    "cov3 = sio.loadmat(\"t1_mgc_5cv6_ck3_CM.mat\")['CM']\n",
    "np.diagonal(cov3).sum()"
   ]
  },
  {
   "cell_type": "code",
   "execution_count": 264,
   "metadata": {},
   "outputs": [
    {
     "data": {
      "text/plain": [
       "0.8785390562516663"
      ]
     },
     "execution_count": 264,
     "metadata": {},
     "output_type": "execute_result"
    }
   ],
   "source": []
  },
  {
   "cell_type": "code",
   "execution_count": 139,
   "metadata": {},
   "outputs": [],
   "source": [
    "a = np.random.random_sample((10,10))"
   ]
  },
  {
   "cell_type": "code",
   "execution_count": 184,
   "metadata": {},
   "outputs": [],
   "source": [
    "b = np.random.random_sample((1,10))"
   ]
  },
  {
   "cell_type": "code",
   "execution_count": 189,
   "metadata": {},
   "outputs": [
    {
     "data": {
      "text/plain": [
       "(1, 10)"
      ]
     },
     "execution_count": 189,
     "metadata": {},
     "output_type": "execute_result"
    }
   ],
   "source": [
    "b.shape"
   ]
  },
  {
   "cell_type": "code",
   "execution_count": 188,
   "metadata": {},
   "outputs": [
    {
     "data": {
      "text/plain": [
       "(10, 10)"
      ]
     },
     "execution_count": 188,
     "metadata": {},
     "output_type": "execute_result"
    }
   ],
   "source": [
    "a.shape"
   ]
  },
  {
   "cell_type": "code",
   "execution_count": 190,
   "metadata": {},
   "outputs": [],
   "source": [
    "c = a * b"
   ]
  },
  {
   "cell_type": "code",
   "execution_count": 198,
   "metadata": {},
   "outputs": [
    {
     "data": {
      "text/plain": [
       "array([[7.48711012e-01, 9.17597025e-02, 1.26652386e-01, 5.55532781e-01,\n",
       "        1.27620939e-01, 1.22155854e-01, 5.76228364e-02, 7.02479397e-02,\n",
       "        3.82782636e-02, 1.74707421e-02],\n",
       "       [7.47636340e-01, 3.23506716e-01, 4.71751116e-02, 8.18627913e-02,\n",
       "        4.90142873e-02, 2.49768285e-01, 3.67541718e-01, 2.06745900e-02,\n",
       "        5.54884284e-02, 9.08871412e-03],\n",
       "       [1.07033616e-01, 4.04318579e-02, 1.20475277e-01, 4.36491700e-01,\n",
       "        7.72346340e-02, 3.94470424e-01, 1.83396734e-01, 6.54143573e-02,\n",
       "        1.87358892e-03, 1.64047518e-03],\n",
       "       [8.30858916e-01, 1.04328433e-01, 1.49032680e-01, 5.14951781e-01,\n",
       "        1.06037590e-01, 3.25583947e-01, 8.01584931e-03, 1.20288688e-02,\n",
       "        8.25402506e-02, 5.58397766e-03],\n",
       "       [2.29976087e-01, 1.80219978e-01, 1.41765776e-01, 1.24304889e-01,\n",
       "        1.01414824e-01, 1.07817217e-01, 5.91331610e-01, 4.34351282e-02,\n",
       "        8.61941676e-02, 5.92605191e-04],\n",
       "       [1.41916319e-01, 3.34906370e-01, 1.14916649e-01, 1.34134186e-01,\n",
       "        1.40427433e-01, 1.81435615e-01, 4.70040265e-01, 9.52764957e-03,\n",
       "        5.93257004e-02, 3.38103790e-03],\n",
       "       [2.66124668e-02, 1.15512326e-01, 1.59085220e-01, 3.49743528e-01,\n",
       "        6.07831330e-02, 1.27937051e-01, 5.23663654e-01, 6.83447491e-02,\n",
       "        4.52179404e-02, 1.28803449e-02],\n",
       "       [5.07345339e-01, 1.83281076e-01, 1.20100382e-01, 3.32208588e-01,\n",
       "        2.37619574e-01, 1.33855910e-01, 3.90792702e-01, 6.77431820e-02,\n",
       "        3.18273140e-02, 1.86779595e-02],\n",
       "       [1.98845026e-01, 1.67963064e-01, 1.83934643e-01, 4.16009584e-01,\n",
       "        1.49555525e-01, 4.44651198e-02, 3.65391632e-01, 8.96669429e-03,\n",
       "        8.34178538e-02, 8.22108359e-03],\n",
       "       [2.63469939e-01, 1.58700438e-01, 9.89496903e-02, 9.20514160e-02,\n",
       "        2.79128411e-01, 2.32954899e-02, 2.59885203e-01, 4.28069461e-02,\n",
       "        4.09022767e-02, 5.89205481e-03]])"
      ]
     },
     "execution_count": 198,
     "metadata": {},
     "output_type": "execute_result"
    }
   ],
   "source": [
    "c"
   ]
  },
  {
   "cell_type": "code",
   "execution_count": 199,
   "metadata": {},
   "outputs": [
    {
     "data": {
      "text/plain": [
       "0.43649170028232853"
      ]
     },
     "execution_count": 199,
     "metadata": {},
     "output_type": "execute_result"
    }
   ],
   "source": [
    "max(c[2])"
   ]
  },
  {
   "cell_type": "code",
   "execution_count": 193,
   "metadata": {},
   "outputs": [
    {
     "name": "stdout",
     "output_type": "stream",
     "text": [
      "0\n",
      "0\n",
      "3\n",
      "0\n",
      "6\n",
      "6\n",
      "6\n",
      "0\n",
      "3\n",
      "4\n"
     ]
    }
   ],
   "source": [
    "for i in range(10):\n",
    "    print(np.argmax(c[i], axis=0))"
   ]
  },
  {
   "cell_type": "code",
   "execution_count": 203,
   "metadata": {},
   "outputs": [],
   "source": [
    "d = np.asarray([9.42751857e-056, 1.54623660e+000, 3.57524306e-023, 2.78409786e-013,\n",
    " 1.27700789e-182, 3.49277054e-149, 1.09530105e-066, 7.87194041e-169,\n",
    " 7.77081281e-049, 7.56924907e-127])"
   ]
  },
  {
   "cell_type": "code",
   "execution_count": 205,
   "metadata": {},
   "outputs": [
    {
     "data": {
      "text/plain": [
       "1"
      ]
     },
     "execution_count": 205,
     "metadata": {},
     "output_type": "execute_result"
    }
   ],
   "source": [
    "np.argmax(d, axis=0\n",
    "         )"
   ]
  },
  {
   "cell_type": "code",
   "execution_count": 232,
   "metadata": {},
   "outputs": [
    {
     "data": {
      "text/plain": [
       "'\\n(847, 1)\\n(847, 1)\\n[[ 66   0   2   0   0   0   0   3   0   0]\\n [  0 430   0   0   0   0   0   0   0   0]\\n [  0   0  75   0   0   0   0   0   0   0]\\n [  0   4   0  27   0   0   0   0   0   0]\\n [  0   0   0   0  58   0   0   1   0   0]\\n [  0   0   0   0   0 100   0   0   0   0]\\n [  1   0   0   0   0   0  29   0   0   0]\\n [  0   0   0   0   0   0   0  15   0   0]\\n [  0   0   0   0   0   0   0   0  21   0]\\n [  0   0   0   0   0   0   0   0   0  15]]\\n(847, 1)\\n(847, 1)\\n[[ 70   0   1   0   0   0   0   0   0   0]\\n [  0 430   0   0   0   0   0   0   0   0]\\n [  0   0  75   0   0   0   0   0   0   0]\\n [  0   2   2  27   0   0   0   0   0   0]\\n [  0   0   0   0  59   0   0   0   0   0]\\n [  0   0   0   0   0 100   0   0   0   0]\\n [  0   0   0   0   0   0  30   0   0   0]\\n [  0   0   0   0   0   0   0  15   0   0]\\n [  0   0   0   0   0   0   0   0  21   0]\\n [  0   0   0   1   0   0   0   0   0  14]]\\n(847, 1)\\n(847, 1)\\n[[ 69   0   1   0   0   0   0   1   0   0]\\n [  0 429   1   0   0   0   0   0   0   0]\\n [  0   0  75   0   0   0   0   0   0   0]\\n [  0   1   0  29   0   0   0   0   0   1]\\n [  0   2   0   0  57   0   0   0   0   0]\\n [  0   0   0   0   0 100   0   0   0   0]\\n [  0   0   0   0   0   0  28   1   1   0]\\n [  0   0   0   0   0   0   0  15   0   0]\\n [  0   0   2   0   0   0   0   0  19   0]\\n [  0   0   0   0   0   0   0   0   0  15]]\\n(847, 1)\\n(847, 1)\\n[[ 69   0   0   0   0   0   0   2   0   0]\\n [  0 430   0   0   0   0   0   0   0   0]\\n [  0   0  75   0   0   0   0   0   0   0]\\n [  1   1   0  29   0   0   0   0   0   0]\\n [  0   0   0   0  59   0   0   0   0   0]\\n [  0   0   0   0   0 100   0   0   0   0]\\n [  0   0   2   0   0   0  28   0   0   0]\\n [  1   0   0   0   0   0   0  14   0   0]\\n [  0   0   0   0   0   0   0   0  21   0]\\n [  0   0   0   0   0   0   0   0   0  15]]\\n(868, 1)\\n(868, 1)\\n[[ 71   0   0   0   0   0   0   0   0   0]\\n [  0 434   0   0   0   0   0   0   0   0]\\n [  0   0  76   0   0   0   0   0   0   0]\\n [  0   2   0  33   0   0   0   0   0   0]\\n [  0   0   0   0  61   0   0   0   0   0]\\n [  0   0   0   0   0 103   0   0   0   0]\\n [  0   0   0   0   0   0  29   2   0   0]\\n [  0   0   0   0   0   0   0  17   0   0]\\n [  0   0   0   1   0   0   0   0  23   0]\\n [  0   0   0   0   0   0   0   0   0  16]]\\n'"
      ]
     },
     "execution_count": 232,
     "metadata": {},
     "output_type": "execute_result"
    }
   ],
   "source": [
    "\"\"\"\n",
    "(847, 1)\n",
    "(847, 1)\n",
    "[[ 66   0   2   0   0   0   0   3   0   0]\n",
    " [  0 430   0   0   0   0   0   0   0   0]\n",
    " [  0   0  75   0   0   0   0   0   0   0]\n",
    " [  0   4   0  27   0   0   0   0   0   0]\n",
    " [  0   0   0   0  58   0   0   1   0   0]\n",
    " [  0   0   0   0   0 100   0   0   0   0]\n",
    " [  1   0   0   0   0   0  29   0   0   0]\n",
    " [  0   0   0   0   0   0   0  15   0   0]\n",
    " [  0   0   0   0   0   0   0   0  21   0]\n",
    " [  0   0   0   0   0   0   0   0   0  15]]\n",
    "(847, 1)\n",
    "(847, 1)\n",
    "[[ 70   0   1   0   0   0   0   0   0   0]\n",
    " [  0 430   0   0   0   0   0   0   0   0]\n",
    " [  0   0  75   0   0   0   0   0   0   0]\n",
    " [  0   2   2  27   0   0   0   0   0   0]\n",
    " [  0   0   0   0  59   0   0   0   0   0]\n",
    " [  0   0   0   0   0 100   0   0   0   0]\n",
    " [  0   0   0   0   0   0  30   0   0   0]\n",
    " [  0   0   0   0   0   0   0  15   0   0]\n",
    " [  0   0   0   0   0   0   0   0  21   0]\n",
    " [  0   0   0   1   0   0   0   0   0  14]]\n",
    "(847, 1)\n",
    "(847, 1)\n",
    "[[ 69   0   1   0   0   0   0   1   0   0]\n",
    " [  0 429   1   0   0   0   0   0   0   0]\n",
    " [  0   0  75   0   0   0   0   0   0   0]\n",
    " [  0   1   0  29   0   0   0   0   0   1]\n",
    " [  0   2   0   0  57   0   0   0   0   0]\n",
    " [  0   0   0   0   0 100   0   0   0   0]\n",
    " [  0   0   0   0   0   0  28   1   1   0]\n",
    " [  0   0   0   0   0   0   0  15   0   0]\n",
    " [  0   0   2   0   0   0   0   0  19   0]\n",
    " [  0   0   0   0   0   0   0   0   0  15]]\n",
    "(847, 1)\n",
    "(847, 1)\n",
    "[[ 69   0   0   0   0   0   0   2   0   0]\n",
    " [  0 430   0   0   0   0   0   0   0   0]\n",
    " [  0   0  75   0   0   0   0   0   0   0]\n",
    " [  1   1   0  29   0   0   0   0   0   0]\n",
    " [  0   0   0   0  59   0   0   0   0   0]\n",
    " [  0   0   0   0   0 100   0   0   0   0]\n",
    " [  0   0   2   0   0   0  28   0   0   0]\n",
    " [  1   0   0   0   0   0   0  14   0   0]\n",
    " [  0   0   0   0   0   0   0   0  21   0]\n",
    " [  0   0   0   0   0   0   0   0   0  15]]\n",
    "(868, 1)\n",
    "(868, 1)\n",
    "[[ 71   0   0   0   0   0   0   0   0   0]\n",
    " [  0 434   0   0   0   0   0   0   0   0]\n",
    " [  0   0  76   0   0   0   0   0   0   0]\n",
    " [  0   2   0  33   0   0   0   0   0   0]\n",
    " [  0   0   0   0  61   0   0   0   0   0]\n",
    " [  0   0   0   0   0 103   0   0   0   0]\n",
    " [  0   0   0   0   0   0  29   2   0   0]\n",
    " [  0   0   0   0   0   0   0  17   0   0]\n",
    " [  0   0   0   1   0   0   0   0  23   0]\n",
    " [  0   0   0   0   0   0   0   0   0  16]]\n",
    "\"\"\""
   ]
  },
  {
   "cell_type": "code",
   "execution_count": 51,
   "metadata": {},
   "outputs": [],
   "source": [
    "def classification_accuracy(confusion_matrix):\n",
    "    return np.diagonal(confusion_matrix).sum()"
   ]
  },
  {
   "cell_type": "code",
   "execution_count": 70,
   "metadata": {},
   "outputs": [],
   "source": [
    "PMap = my_k_folds(X_vec, Y_species,5)\n",
    "# no_of_classes = np.max(Y_species)\n",
    "# D = X_vec[0].size\n",
    "# Ms = np.zeros((no_of_classes, D))\n",
    "# Covs = np.zeros((no_of_classes, D, D))\n",
    "# priors = np.zeros((1, no_of_classes))\n",
    "# for p in range(1, 5+1):\n",
    "#     for c in range(1, no_of_classes+1):\n",
    "#         train_data = X_vec[np.where(np.logical_and(PMap != p, Y_species == c))[0]]\n",
    "#         Ms[c-1] = my_mean(train_data)\n",
    "#         # Full covariance mat\n",
    "#         Cov = my_cov(train_data)\n",
    "#         Covs[c-1] = Cov\n",
    "#         priors[:,c-1] = len(train_data) / len(X_vec[np.where(PMap != p)[0]])   "
   ]
  },
  {
   "cell_type": "code",
   "execution_count": 72,
   "metadata": {},
   "outputs": [],
   "source": [
    "from functools import lru_cache"
   ]
  },
  {
   "cell_type": "code",
   "execution_count": 88,
   "metadata": {},
   "outputs": [],
   "source": [
    "def train_and_test_get_accuracy(X, Y, CovKind, epsilon, Kfolds):\n",
    "    no_of_classes = np.max(Y)\n",
    "    total_cov_mat = np.zeros((no_of_classes, no_of_classes))\n",
    "    D = X[0].size\n",
    "    for p in range(1, Kfolds+1):\n",
    "        Ms = np.zeros((no_of_classes, D))\n",
    "        Covs = np.zeros((no_of_classes, D, D))\n",
    "        priors = np.zeros((1, no_of_classes))\n",
    "        \n",
    "        for c in range(1, no_of_classes+1):\n",
    "            train_data = X[np.where(np.logical_and(PMap != p, Y == c))[0]]\n",
    "            Ms[c-1] = my_mean(train_data)\n",
    "            \n",
    "            if CovKind == 1:\n",
    "                # Full covariance mat\n",
    "                Cov = my_cov(train_data)\n",
    "            elif CovKind == 2:\n",
    "                # Diagonal covariance mat\n",
    "                Cov = np.diag(np.diag(my_cov(train_data)))\n",
    "            else:\n",
    "                # Shared covariance mat\n",
    "                Cov = my_cov(X)\n",
    "            \n",
    "            standardised_cov = Cov + epsilon * np.eye(D)\n",
    "            Covs[c-1] = standardised_cov\n",
    "            \n",
    "            priors[:,c-1] = len(train_data) / len(X[np.where(PMap != p)[0]])        \n",
    "        \n",
    "        test_data = X[np.where(PMap == p)[0]]\n",
    "        test_likelihoods = np.zeros((len(test_data), no_of_classes))\n",
    "        \n",
    "        for i in range(len(test_data)):\n",
    "            for c in range(1, no_of_classes+1):\n",
    "                    test_likelihoods[i, c-1] = multivariate_normal.pdf(test_data[i]\n",
    "                                                            , Ms[c-1]\n",
    "                                                            , np.squeeze(Covs[c-1])\n",
    "                                                            )\n",
    "        test_probs = test_likelihoods * priors\n",
    "        test_preds = np.zeros((len(test_data), 1))\n",
    "        \n",
    "        for i in range(len(test_data)):\n",
    "            curr_row_vec = test_probs[i]\n",
    "            test_preds[i] = np.argmax(curr_row_vec, axis=0)\n",
    "\n",
    "        \n",
    "        CM = MyConfusionMatrix(Y[np.where(PMap == p)[0]], test_preds)\n",
    "        total_cov_mat = total_cov_mat + (CM / (Kfolds * len(test_data)))\n",
    "    \n",
    "    return np.diagonal(total_cov_mat).sum()"
   ]
  },
  {
   "cell_type": "code",
   "execution_count": 89,
   "metadata": {},
   "outputs": [],
   "source": [
    "@lru_cache(maxsize=None)\n",
    "def experiment():\n",
    "    obs = {}\n",
    "    start = 0.001\n",
    "    step = 0.001\n",
    "    stop = 0.2\n",
    "    \n",
    "    for i in np.arange(start, stop, step):\n",
    "        print(i)\n",
    "        res = train_and_test_get_accuracy(X_vec, Y_species, 1, i, 5)\n",
    "        print(res)\n",
    "        obs[i] = res\n",
    "        print(i, obs[i])"
   ]
  },
  {
   "cell_type": "code",
   "execution_count": 91,
   "metadata": {},
   "outputs": [],
   "source": [
    "#experiment()"
   ]
  },
  {
   "cell_type": "code",
   "execution_count": 94,
   "metadata": {},
   "outputs": [],
   "source": [
    "res = \"\"\"0.001 0.9893914003884677\n",
    "0.002 0.9900940701527211\n",
    "0.003 0.9910385801881404\n",
    "0.004 0.9910442929504514\n",
    "0.005 0.9908138782039076\n",
    "0.006 0.9905777506950527\n",
    "0.007 0.9905777506950527\n",
    "0.008 0.9910557184750733\n",
    "0.009000000000000001 0.9908195909662185\n",
    "0.010000000000000002 0.9905834634573638\n",
    "0.011 0.9908195909662185\n",
    "0.012 0.99035304871082\n",
    "0.013000000000000001 0.9898922192177324\n",
    "0.014000000000000002 0.9887230071980805\n",
    "0.015 0.988250752180371\n",
    "0.016 0.9859009026164451\n",
    "0.017 0.984023308070229\n",
    "0.018000000000000002 0.9826179685417222\n",
    "0.019000000000000003 0.9805099592489621\n",
    "0.02 0.9783962371938911\n",
    "0.021 0.9765129298853639\n",
    "0.022000000000000002 0.97533229234109\n",
    "0.023 0.974157367559127\n",
    "0.024 0.9718075179952012\n",
    "0.025 0.9706325932132384\n",
    "0.026000000000000002 0.9685188711581673\n",
    "0.027000000000000003 0.9673439463762044\n",
    "0.028 0.9659386068476978\n",
    "0.029 0.9647579693034238\n",
    "0.030000000000000002 0.9631222150283735\n",
    "0.031 0.9621777049929543\n",
    "0.032 0.9619415774840996\n",
    "0.033 0.961475035228701\n",
    "0.034 0.9607666527021367\n",
    "0.035 0.9598221426667175\n",
    "0.036000000000000004 0.9584168031382108\n",
    "0.037000000000000005 0.9579445481205012\n",
    "0.038 0.9572418783562479\n",
    "0.039 0.9567753361008493\n",
    "0.04 0.9558308260654302\n",
    "0.041 0.954892028792322\n",
    "0.042 0.9541950717903798\n",
    "0.043000000000000003 0.9534866892638154\n",
    "0.044000000000000004 0.9527783067372511\n",
    "0.045 0.9520699242106867\n",
    "0.046 0.9513672544464334\n",
    "0.047 0.9504284571733254\n",
    "0.048 0.9487869901359639\n",
    "0.049 0.9487869901359639\n",
    "0.05 0.9478424801005447\n",
    "0.051000000000000004 0.9469093955897475\n",
    "0.052000000000000005 0.9466732680808928\n",
    "0.053000000000000005 0.9466732680808928\n",
    "0.054 0.946437140572038\n",
    "0.055 0.946437140572038\n",
    "0.056 0.9462010130631833\n",
    "0.057 0.9459705983166395\n",
    "0.058 0.9452736413146972\n",
    "0.059000000000000004 0.9452736413146972\n",
    "0.060000000000000005 0.9448070990592985\n",
    "0.061 0.944334844041589\n",
    "0.062 0.9440987165327341\n",
    "0.063 0.9438625890238793\n",
    "0.064 0.9436264615150246\n",
    "0.065 0.9431599192596261\n",
    "0.066 0.9431599192596261\n",
    "0.067 0.9426933770042275\n",
    "0.068 0.9426933770042275\n",
    "0.069 0.9426876642419165\n",
    "0.07 0.9426876642419165\n",
    "0.07100000000000001 0.942226834748829\n",
    "0.07200000000000001 0.9424629622576838\n",
    "0.07300000000000001 0.9424629622576838\n",
    "0.074 0.9419907072399741\n",
    "0.075 0.9417545797311194\n",
    "0.076 0.9417545797311194\n",
    "0.077 0.9412823247134098\n",
    "0.078 0.9412823247134098\n",
    "0.079 0.9410461972045551\n",
    "0.08 0.9410461972045551\n",
    "0.081 0.9408100696957004\n",
    "0.082 0.9408100696957004\n",
    "0.083 0.9405796549491565\n",
    "0.084 0.9405796549491565\n",
    "0.085 0.9405796549491565\n",
    "0.08600000000000001 0.9405796549491565\n",
    "0.08700000000000001 0.9405796549491565\n",
    "0.08800000000000001 0.9405796549491565\n",
    "0.089 0.940107399931447\n",
    "0.09 0.940107399931447\n",
    "0.091 0.940107399931447\n",
    "0.092 0.9398712724225922\n",
    "0.093 0.9398712724225922\n",
    "0.094 0.9396351449137373\n",
    "0.095 0.9396351449137373\n",
    "0.096 0.9396351449137373\n",
    "0.097 0.9396351449137373\n",
    "0.098 0.9396351449137373\n",
    "0.099 0.9396351449137373\n",
    "0.1 0.9396351449137373\n",
    "0.101 0.9391686026583388\n",
    "0.10200000000000001 0.9391686026583388\n",
    "0.10300000000000001 0.9391686026583388\n",
    "0.10400000000000001 0.9391686026583388\n",
    "0.10500000000000001 0.9391686026583388\n",
    "0.106 0.9391686026583388\n",
    "0.107 0.9389324751494841\n",
    "0.108 0.9386963476406293\n",
    "0.109 0.9384659328940854\n",
    "0.11 0.9384659328940854\n",
    "0.111 0.9382298053852306\n",
    "0.112 0.9379936778763759\n",
    "0.113 0.9379936778763759\n",
    "0.114 0.9379936778763759\n",
    "0.115 0.9379936778763759\n",
    "0.116 0.9379936778763759\n",
    "0.117 0.9379936778763759\n",
    "0.11800000000000001 0.9377575503675212\n",
    "0.11900000000000001 0.9377575503675212\n",
    "0.12000000000000001 0.9377575503675212\n",
    "0.121 0.9375214228586664\n",
    "0.122 0.9375214228586664\n",
    "0.123 0.9375214228586664\n",
    "0.124 0.9375214228586664\n",
    "0.125 0.9372852953498115\n",
    "0.126 0.9375157100963553\n",
    "0.127 0.9375157100963553\n",
    "0.128 0.9375157100963553\n",
    "0.129 0.9375157100963553\n",
    "0.13 0.9375157100963553\n",
    "0.131 0.9375157100963553\n",
    "0.132 0.9375157100963553\n",
    "0.133 0.9375157100963553\n",
    "0.134 0.9375157100963553\n",
    "0.135 0.9375157100963553\n",
    "0.136 0.9375157100963553\n",
    "0.137 0.9375157100963553\n",
    "0.138 0.9375157100963553\n",
    "0.139 0.9375157100963553\n",
    "0.14 0.9372852953498115\n",
    "0.14100000000000001 0.9368187530944129\n",
    "0.14200000000000002 0.9368187530944129\n",
    "0.14300000000000002 0.9368187530944129\n",
    "0.14400000000000002 0.9368187530944129\n",
    "0.14500000000000002 0.9368187530944129\n",
    "0.146 0.9368187530944129\n",
    "0.147 0.9368187530944129\n",
    "0.148 0.9365826255855582\n",
    "0.149 0.9363464980767034\n",
    "0.15 0.9363464980767034\n",
    "0.151 0.9363464980767034\n",
    "0.152 0.9363464980767034\n",
    "0.153 0.9361103705678485\n",
    "0.154 0.9358742430589937\n",
    "0.155 0.9358742430589937\n",
    "0.156 0.935638115550139\n",
    "0.157 0.935638115550139\n",
    "0.158 0.935638115550139\n",
    "0.159 0.935638115550139\n",
    "0.16 0.935638115550139\n",
    "0.161 0.935638115550139\n",
    "0.162 0.935638115550139\n",
    "0.163 0.935638115550139\n",
    "0.164 0.935638115550139\n",
    "0.165 0.935638115550139\n",
    "0.166 0.935638115550139\n",
    "0.167 0.9349354457858856\n",
    "0.168 0.9349354457858856\n",
    "0.169 0.9349354457858856\n",
    "0.17 0.9349354457858856\n",
    "0.171 0.9349354457858856\n",
    "0.17200000000000001 0.9349354457858856\n",
    "0.17300000000000001 0.9349354457858856\n",
    "0.17400000000000002 0.9349354457858856\n",
    "0.17500000000000002 0.9349354457858856\n",
    "0.17600000000000002 0.9346993182770309\n",
    "0.177 0.9346993182770309\n",
    "0.178 0.9346993182770309\n",
    "0.179 0.9346993182770309\n",
    "0.18 0.9346993182770309\n",
    "0.181 0.9346993182770309\n",
    "0.182 0.9346993182770309\n",
    "0.183 0.9346993182770309\n",
    "0.184 0.9344689035304872\n",
    "0.185 0.9344689035304872\n",
    "0.186 0.9344689035304872\n",
    "0.187 0.9344689035304872\n",
    "0.188 0.9344689035304872\n",
    "0.189 0.9344689035304872\n",
    "0.19 0.9344689035304872\n",
    "0.191 0.9344689035304872\n",
    "0.192 0.9344689035304872\n",
    "0.193 0.9344689035304872\n",
    "0.194 0.9344689035304872\n",
    "0.195 0.9344689035304872\n",
    "0.196 0.9344689035304872\n",
    "0.197 0.9344689035304872\n",
    "0.198 0.9344689035304872\n",
    "0.199 0.9344689035304872\n",
    "\"\"\""
   ]
  },
  {
   "cell_type": "code",
   "execution_count": 104,
   "metadata": {},
   "outputs": [],
   "source": [
    "a = res.splitlines()"
   ]
  },
  {
   "cell_type": "code",
   "execution_count": 105,
   "metadata": {},
   "outputs": [],
   "source": [
    "arr = list(map(lambda x : x.split(\" \"), a))"
   ]
  },
  {
   "cell_type": "code",
   "execution_count": 108,
   "metadata": {},
   "outputs": [],
   "source": [
    "arr = np.array(arr, dtype=np.float64)"
   ]
  },
  {
   "cell_type": "code",
   "execution_count": 118,
   "metadata": {},
   "outputs": [],
   "source": [
    "epsilon, acccuracy = arr.T"
   ]
  },
  {
   "cell_type": "code",
   "execution_count": 119,
   "metadata": {},
   "outputs": [
    {
     "data": {
      "text/plain": [
       "array([0.001, 0.002, 0.003, 0.004, 0.005, 0.006, 0.007, 0.008, 0.009,\n",
       "       0.01 , 0.011, 0.012, 0.013, 0.014, 0.015, 0.016, 0.017, 0.018,\n",
       "       0.019, 0.02 , 0.021, 0.022, 0.023, 0.024, 0.025, 0.026, 0.027,\n",
       "       0.028, 0.029, 0.03 , 0.031, 0.032, 0.033, 0.034, 0.035, 0.036,\n",
       "       0.037, 0.038, 0.039, 0.04 , 0.041, 0.042, 0.043, 0.044, 0.045,\n",
       "       0.046, 0.047, 0.048, 0.049, 0.05 , 0.051, 0.052, 0.053, 0.054,\n",
       "       0.055, 0.056, 0.057, 0.058, 0.059, 0.06 , 0.061, 0.062, 0.063,\n",
       "       0.064, 0.065, 0.066, 0.067, 0.068, 0.069, 0.07 , 0.071, 0.072,\n",
       "       0.073, 0.074, 0.075, 0.076, 0.077, 0.078, 0.079, 0.08 , 0.081,\n",
       "       0.082, 0.083, 0.084, 0.085, 0.086, 0.087, 0.088, 0.089, 0.09 ,\n",
       "       0.091, 0.092, 0.093, 0.094, 0.095, 0.096, 0.097, 0.098, 0.099,\n",
       "       0.1  , 0.101, 0.102, 0.103, 0.104, 0.105, 0.106, 0.107, 0.108,\n",
       "       0.109, 0.11 , 0.111, 0.112, 0.113, 0.114, 0.115, 0.116, 0.117,\n",
       "       0.118, 0.119, 0.12 , 0.121, 0.122, 0.123, 0.124, 0.125, 0.126,\n",
       "       0.127, 0.128, 0.129, 0.13 , 0.131, 0.132, 0.133, 0.134, 0.135,\n",
       "       0.136, 0.137, 0.138, 0.139, 0.14 , 0.141, 0.142, 0.143, 0.144,\n",
       "       0.145, 0.146, 0.147, 0.148, 0.149, 0.15 , 0.151, 0.152, 0.153,\n",
       "       0.154, 0.155, 0.156, 0.157, 0.158, 0.159, 0.16 , 0.161, 0.162,\n",
       "       0.163, 0.164, 0.165, 0.166, 0.167, 0.168, 0.169, 0.17 , 0.171,\n",
       "       0.172, 0.173, 0.174, 0.175, 0.176, 0.177, 0.178, 0.179, 0.18 ,\n",
       "       0.181, 0.182, 0.183, 0.184, 0.185, 0.186, 0.187, 0.188, 0.189,\n",
       "       0.19 , 0.191, 0.192, 0.193, 0.194, 0.195, 0.196, 0.197, 0.198,\n",
       "       0.199])"
      ]
     },
     "execution_count": 119,
     "metadata": {},
     "output_type": "execute_result"
    }
   ],
   "source": [
    "epsilon"
   ]
  },
  {
   "cell_type": "code",
   "execution_count": 120,
   "metadata": {},
   "outputs": [
    {
     "data": {
      "text/plain": [
       "array([0.9893914 , 0.99009407, 0.99103858, 0.99104429, 0.99081388,\n",
       "       0.99057775, 0.99057775, 0.99105572, 0.99081959, 0.99058346,\n",
       "       0.99081959, 0.99035305, 0.98989222, 0.98872301, 0.98825075,\n",
       "       0.9859009 , 0.98402331, 0.98261797, 0.98050996, 0.97839624,\n",
       "       0.97651293, 0.97533229, 0.97415737, 0.97180752, 0.97063259,\n",
       "       0.96851887, 0.96734395, 0.96593861, 0.96475797, 0.96312222,\n",
       "       0.9621777 , 0.96194158, 0.96147504, 0.96076665, 0.95982214,\n",
       "       0.9584168 , 0.95794455, 0.95724188, 0.95677534, 0.95583083,\n",
       "       0.95489203, 0.95419507, 0.95348669, 0.95277831, 0.95206992,\n",
       "       0.95136725, 0.95042846, 0.94878699, 0.94878699, 0.94784248,\n",
       "       0.9469094 , 0.94667327, 0.94667327, 0.94643714, 0.94643714,\n",
       "       0.94620101, 0.9459706 , 0.94527364, 0.94527364, 0.9448071 ,\n",
       "       0.94433484, 0.94409872, 0.94386259, 0.94362646, 0.94315992,\n",
       "       0.94315992, 0.94269338, 0.94269338, 0.94268766, 0.94268766,\n",
       "       0.94222683, 0.94246296, 0.94246296, 0.94199071, 0.94175458,\n",
       "       0.94175458, 0.94128232, 0.94128232, 0.9410462 , 0.9410462 ,\n",
       "       0.94081007, 0.94081007, 0.94057965, 0.94057965, 0.94057965,\n",
       "       0.94057965, 0.94057965, 0.94057965, 0.9401074 , 0.9401074 ,\n",
       "       0.9401074 , 0.93987127, 0.93987127, 0.93963514, 0.93963514,\n",
       "       0.93963514, 0.93963514, 0.93963514, 0.93963514, 0.93963514,\n",
       "       0.9391686 , 0.9391686 , 0.9391686 , 0.9391686 , 0.9391686 ,\n",
       "       0.9391686 , 0.93893248, 0.93869635, 0.93846593, 0.93846593,\n",
       "       0.93822981, 0.93799368, 0.93799368, 0.93799368, 0.93799368,\n",
       "       0.93799368, 0.93799368, 0.93775755, 0.93775755, 0.93775755,\n",
       "       0.93752142, 0.93752142, 0.93752142, 0.93752142, 0.9372853 ,\n",
       "       0.93751571, 0.93751571, 0.93751571, 0.93751571, 0.93751571,\n",
       "       0.93751571, 0.93751571, 0.93751571, 0.93751571, 0.93751571,\n",
       "       0.93751571, 0.93751571, 0.93751571, 0.93751571, 0.9372853 ,\n",
       "       0.93681875, 0.93681875, 0.93681875, 0.93681875, 0.93681875,\n",
       "       0.93681875, 0.93681875, 0.93658263, 0.9363465 , 0.9363465 ,\n",
       "       0.9363465 , 0.9363465 , 0.93611037, 0.93587424, 0.93587424,\n",
       "       0.93563812, 0.93563812, 0.93563812, 0.93563812, 0.93563812,\n",
       "       0.93563812, 0.93563812, 0.93563812, 0.93563812, 0.93563812,\n",
       "       0.93563812, 0.93493545, 0.93493545, 0.93493545, 0.93493545,\n",
       "       0.93493545, 0.93493545, 0.93493545, 0.93493545, 0.93493545,\n",
       "       0.93469932, 0.93469932, 0.93469932, 0.93469932, 0.93469932,\n",
       "       0.93469932, 0.93469932, 0.93469932, 0.9344689 , 0.9344689 ,\n",
       "       0.9344689 , 0.9344689 , 0.9344689 , 0.9344689 , 0.9344689 ,\n",
       "       0.9344689 , 0.9344689 , 0.9344689 , 0.9344689 , 0.9344689 ,\n",
       "       0.9344689 , 0.9344689 , 0.9344689 , 0.9344689 ])"
      ]
     },
     "execution_count": 120,
     "metadata": {},
     "output_type": "execute_result"
    }
   ],
   "source": [
    "acccuracy"
   ]
  },
  {
   "cell_type": "code",
   "execution_count": 125,
   "metadata": {},
   "outputs": [
    {
     "data": {
      "text/plain": [
       "Text(0, 0.5, 'Accuracy of predictions')"
      ]
     },
     "execution_count": 125,
     "metadata": {},
     "output_type": "execute_result"
    },
    {
     "data": {
      "image/png": "[encoded data removed]",
      "text/plain": [
       "<Figure size 432x288 with 1 Axes>"
      ]
     },
     "metadata": {
      "needs_background": "light"
     },
     "output_type": "display_data"
    }
   ],
   "source": [
    "plt.plot(epsilon, acccuracy)\n",
    "plt.ylim(bottom=0.9)\n",
    "plt.xlabel(\"Epsilon value\")\n",
    "plt.ylabel(\"Accuracy of predictions\")\n"
   ]
  },
  {
   "cell_type": "code",
   "execution_count": null,
   "metadata": {},
   "outputs": [],
   "source": []
  }
 ],
 "metadata": {
  "kernelspec": {
   "display_name": "Python 3",
   "language": "python",
   "name": "python3"
  },
  "language_info": {
   "codemirror_mode": {
    "name": "ipython",
    "version": 3
   },
   "file_extension": ".py",
   "mimetype": "text/x-python",
   "name": "python",
   "nbconvert_exporter": "python",
   "pygments_lexer": "ipython3",
   "version": "3.7.7"
  }
 },
 "nbformat": 4,
 "nbformat_minor": 2
}
