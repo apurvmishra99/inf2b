{
 "cells": [
  {
   "cell_type": "code",
   "execution_count": 1,
   "metadata": {},
   "outputs": [],
   "source": [
    "import scipy.io as sio\n",
    "import numpy as np\n",
    "import scipy\n",
    "import matplotlib.pyplot as plt"
   ]
  },
  {
   "cell_type": "code",
   "execution_count": 2,
   "metadata": {},
   "outputs": [],
   "source": [
    "data = sio.loadmat('data/dset.mat')"
   ]
  },
  {
   "cell_type": "code",
   "execution_count": 3,
   "metadata": {},
   "outputs": [
    {
     "data": {
      "text/plain": [
       "dict_keys(['__header__', '__version__', '__globals__', 'list_family', 'list_genus', 'list_species', 'X', 'Y_family', 'Y_genus', 'Y_species'])"
      ]
     },
     "execution_count": 3,
     "metadata": {},
     "output_type": "execute_result"
    }
   ],
   "source": [
    "data.keys()"
   ]
  },
  {
   "cell_type": "code",
   "execution_count": 4,
   "metadata": {},
   "outputs": [],
   "source": [
    "Y_species = data.get('Y_species')"
   ]
  },
  {
   "cell_type": "code",
   "execution_count": 5,
   "metadata": {},
   "outputs": [
    {
     "data": {
      "text/plain": [
       "array([[ 2],\n",
       "       [ 7],\n",
       "       [ 2],\n",
       "       ...,\n",
       "       [ 1],\n",
       "       [10],\n",
       "       [ 5]], dtype=int32)"
      ]
     },
     "execution_count": 5,
     "metadata": {},
     "output_type": "execute_result"
    }
   ],
   "source": [
    "Y_species"
   ]
  },
  {
   "cell_type": "code",
   "execution_count": 6,
   "metadata": {},
   "outputs": [
    {
     "data": {
      "text/plain": [
       "array([2], dtype=int32)"
      ]
     },
     "execution_count": 6,
     "metadata": {},
     "output_type": "execute_result"
    }
   ],
   "source": [
    "Y_species[0]"
   ]
  },
  {
   "cell_type": "code",
   "execution_count": 7,
   "metadata": {},
   "outputs": [],
   "source": [
    "Y_genus = data.get('Y_genus')"
   ]
  },
  {
   "cell_type": "code",
   "execution_count": 8,
   "metadata": {},
   "outputs": [
    {
     "data": {
      "text/plain": [
       "array([[1],\n",
       "       [5],\n",
       "       [1],\n",
       "       ...,\n",
       "       [1],\n",
       "       [8],\n",
       "       [4]], dtype=int32)"
      ]
     },
     "execution_count": 8,
     "metadata": {},
     "output_type": "execute_result"
    }
   ],
   "source": [
    "Y_genus"
   ]
  },
  {
   "cell_type": "code",
   "execution_count": 9,
   "metadata": {},
   "outputs": [],
   "source": [
    "X_vec = data.get('X')"
   ]
  },
  {
   "cell_type": "code",
   "execution_count": 10,
   "metadata": {},
   "outputs": [
    {
     "data": {
      "text/plain": [
       "array([[-1.        , -0.85208478, -0.5446153 , ...,  0.03081446,\n",
       "        -0.04646877, -0.10260198],\n",
       "       [-1.        , -0.83122403, -0.35381633, ..., -0.05976682,\n",
       "        -0.04458574,  0.01394643],\n",
       "       [-1.        , -0.87307382, -0.50275353, ...,  0.08532905,\n",
       "        -0.01570336, -0.07587386],\n",
       "       ...,\n",
       "       [-1.        , -0.52845271, -0.09051293, ...,  0.00273226,\n",
       "        -0.0143477 , -0.00636827],\n",
       "       [-1.        , -0.8586075 , -0.27509567, ..., -0.00910596,\n",
       "        -0.00653614, -0.01747479],\n",
       "       [-1.        , -0.44213437,  0.002258  , ..., -0.0188348 ,\n",
       "         0.01213924,  0.01604267]])"
      ]
     },
     "execution_count": 10,
     "metadata": {},
     "output_type": "execute_result"
    }
   ],
   "source": [
    "X_vec"
   ]
  },
  {
   "cell_type": "code",
   "execution_count": 11,
   "metadata": {},
   "outputs": [
    {
     "data": {
      "text/plain": [
       "array([-1.        , -0.85208478, -0.5446153 , -0.23023933, -0.15827164,\n",
       "       -0.10030244, -0.11154368, -0.04217562,  0.05429012, -0.01039922,\n",
       "       -0.10284336, -0.02367292,  0.00542988, -0.13799486, -0.15663055,\n",
       "       -0.03263575,  0.02750404,  0.01395437, -0.01718162, -0.04397875,\n",
       "       -0.0025327 ,  0.03081446, -0.04646877, -0.10260198])"
      ]
     },
     "execution_count": 11,
     "metadata": {},
     "output_type": "execute_result"
    }
   ],
   "source": [
    "X_vec[0]"
   ]
  },
  {
   "cell_type": "code",
   "execution_count": 12,
   "metadata": {},
   "outputs": [],
   "source": [
    "lst_species = data.get('list_species')"
   ]
  },
  {
   "cell_type": "code",
   "execution_count": 13,
   "metadata": {},
   "outputs": [
    {
     "data": {
      "text/plain": [
       "array([[array(['AdenomeraAndre'], dtype='<U14')],\n",
       "       [array(['AdenomeraHylaedactylus'], dtype='<U22')],\n",
       "       [array(['Ameeregatrivittata'], dtype='<U18')],\n",
       "       [array(['HylaMinuta'], dtype='<U10')],\n",
       "       [array(['HypsiboasCinerascens'], dtype='<U20')],\n",
       "       [array(['HypsiboasCordobae'], dtype='<U17')],\n",
       "       [array(['LeptodactylusFuscus'], dtype='<U19')],\n",
       "       [array(['OsteocephalusOophagus'], dtype='<U21')],\n",
       "       [array(['Rhinellagranulosa'], dtype='<U17')],\n",
       "       [array(['ScinaxRuber'], dtype='<U11')]], dtype=object)"
      ]
     },
     "execution_count": 13,
     "metadata": {},
     "output_type": "execute_result"
    }
   ],
   "source": [
    "lst_species"
   ]
  },
  {
   "cell_type": "code",
   "execution_count": 14,
   "metadata": {},
   "outputs": [
    {
     "data": {
      "text/plain": [
       "10"
      ]
     },
     "execution_count": 14,
     "metadata": {},
     "output_type": "execute_result"
    }
   ],
   "source": [
    "lst_species.size"
   ]
  },
  {
   "cell_type": "code",
   "execution_count": 15,
   "metadata": {},
   "outputs": [
    {
     "data": {
      "text/plain": [
       "array([-0.06518501, -0.00566386,  0.0225601 , -0.02728495,  0.00883526,\n",
       "       -0.035951  , -0.00905752,  0.02149183,  0.00160741,  0.05329145])"
      ]
     },
     "execution_count": 15,
     "metadata": {},
     "output_type": "execute_result"
    }
   ],
   "source": [
    "x = np.random.random((10, 5))\n",
    "y = np.random.random((10, 5))\n",
    "\n",
    "n = x.shape[1]\n",
    "cov_bias = np.mean(x * y, axis=1) - np.mean(x, axis=1) * np.mean(y, axis=1)\n",
    "cov_bias * n / (n-1)"
   ]
  },
  {
   "cell_type": "code",
   "execution_count": 16,
   "metadata": {},
   "outputs": [
    {
     "ename": "SyntaxError",
     "evalue": "invalid syntax (<ipython-input-16-4e90967b6924>, line 2)",
     "output_type": "error",
     "traceback": [
      "\u001b[0;36m  File \u001b[0;32m\"<ipython-input-16-4e90967b6924>\"\u001b[0;36m, line \u001b[0;32m2\u001b[0m\n\u001b[0;31m    for i in range(X_vec.shape[]):\u001b[0m\n\u001b[0m                               ^\u001b[0m\n\u001b[0;31mSyntaxError\u001b[0m\u001b[0;31m:\u001b[0m invalid syntax\n"
     ]
    }
   ],
   "source": [
    "s = np.empty((X_vec.shape[0], 1))\n",
    "for i in range(X_vec.shape[]):\n",
    "    print(np.cov(X_vec[i]))"
   ]
  },
  {
   "cell_type": "code",
   "execution_count": 34,
   "metadata": {},
   "outputs": [],
   "source": [
    "res1_1 = np.cov(X_vec.T)"
   ]
  },
  {
   "cell_type": "code",
   "execution_count": 35,
   "metadata": {},
   "outputs": [
    {
     "data": {
      "text/plain": [
       "<matplotlib.image.AxesImage at 0x7f1e186b35d0>"
      ]
     },
     "execution_count": 35,
     "metadata": {},
     "output_type": "execute_result"
    },
    {
     "data": {
      "image/png": "[encoded data removed]",
      "text/plain": [
       "<Figure size 288x288 with 1 Axes>"
      ]
     },
     "metadata": {
      "needs_background": "light"
     },
     "output_type": "display_data"
    }
   ],
   "source": [
    "plt.matshow(res1_1)"
   ]
  },
  {
   "cell_type": "code",
   "execution_count": 36,
   "metadata": {},
   "outputs": [
    {
     "data": {
      "text/plain": [
       "<matplotlib.image.AxesImage at 0x7f1e1845eed0>"
      ]
     },
     "execution_count": 36,
     "metadata": {},
     "output_type": "execute_result"
    },
    {
     "data": {
      "image/png": "[encoded data removed]",
      "text/plain": [
       "<Figure size 432x288 with 1 Axes>"
      ]
     },
     "metadata": {
      "needs_background": "light"
     },
     "output_type": "display_data"
    }
   ],
   "source": [
    "plt.imshow(res1_1,cmap='hot')"
   ]
  },
  {
   "cell_type": "code",
   "execution_count": 37,
   "metadata": {},
   "outputs": [],
   "source": [
    "def my_mean(matrix):\n",
    "    \"\"\"\n",
    "    Calculates mean values in a matrix\n",
    "    Parameters:\n",
    "      matrix: N-by-D data matrix\n",
    "    Returns:\n",
    "      mu: D-by-1 column vector of sample mean values, where mu(i) = mean(matrix(:,i)).\n",
    "    \"\"\"\n",
    "    \n",
    "    # Check if the matrix is not empty to make sure we do not divide by 0.\n",
    "    if matrix.shape[0] == 0:\n",
    "        s = 1\n",
    "    else: \n",
    "        s = matrix.shape[0]\n",
    "    \n",
    "    # Compute sample mean vector\n",
    "    mu = (np.sum(matrix, axis=0) / s).T \n",
    "\n",
    "    return mu"
   ]
  },
  {
   "cell_type": "code",
   "execution_count": 38,
   "metadata": {},
   "outputs": [
    {
     "data": {
      "text/plain": [
       "array([-9.74023093e-01, -8.23533833e-01, -4.52956670e-01, -1.52934802e-01,\n",
       "       -1.13522768e-01, -6.70683332e-02, -7.01563139e-02, -7.87939721e-02,\n",
       "       -3.39201905e-02, -3.41943458e-02, -6.79849815e-02, -3.06505621e-02,\n",
       "       -6.81939029e-04, -5.15607191e-02, -7.30336627e-02, -3.58473314e-02,\n",
       "       -1.59155014e-02, -3.17948169e-02, -4.57046675e-02, -4.37078192e-02,\n",
       "       -1.10627371e-02,  7.34052998e-03, -2.26644598e-02, -5.04837882e-02])"
      ]
     },
     "execution_count": 38,
     "metadata": {},
     "output_type": "execute_result"
    }
   ],
   "source": [
    "my_mean(X_vec)"
   ]
  },
  {
   "cell_type": "code",
   "execution_count": 39,
   "metadata": {},
   "outputs": [
    {
     "data": {
      "text/plain": [
       "array([-9.74023093e-01, -8.23533833e-01, -4.52956670e-01, -1.52934802e-01,\n",
       "       -1.13522768e-01, -6.70683332e-02, -7.01563139e-02, -7.87939721e-02,\n",
       "       -3.39201905e-02, -3.41943458e-02, -6.79849815e-02, -3.06505621e-02,\n",
       "       -6.81939029e-04, -5.15607191e-02, -7.30336627e-02, -3.58473314e-02,\n",
       "       -1.59155014e-02, -3.17948169e-02, -4.57046675e-02, -4.37078192e-02,\n",
       "       -1.10627371e-02,  7.34052998e-03, -2.26644598e-02, -5.04837882e-02])"
      ]
     },
     "execution_count": 39,
     "metadata": {},
     "output_type": "execute_result"
    }
   ],
   "source": [
    "np.mean(X_vec, axis=0)"
   ]
  },
  {
   "cell_type": "code",
   "execution_count": 40,
   "metadata": {},
   "outputs": [],
   "source": [
    "def my_cov(X):\n",
    "    \"\"\"\n",
    "    Calculates covariance of a NxD matrix.\n",
    "    Parameters:\n",
    "      matrix: N-by-D data matrix\n",
    "    Returns:\n",
    "      cov: D-by-D covariance matrix.\n",
    "    \"\"\"\n",
    "    X_mean = my_mean(X)\n",
    "    X_shifted = X - X_mean\n",
    "    # Using Maximum Likelihood Estimation so divide by N\n",
    "    cov = np.matmul(X_shifted.T, X_shifted) / X.shape[0]\n",
    "    return cov"
   ]
  },
  {
   "cell_type": "code",
   "execution_count": 41,
   "metadata": {},
   "outputs": [],
   "source": [
    "res1_1_1 = my_cov(X_vec)"
   ]
  },
  {
   "cell_type": "code",
   "execution_count": 42,
   "metadata": {},
   "outputs": [],
   "source": [
    "res1_1_2 = np.corrcoef(X_vec.T)"
   ]
  },
  {
   "cell_type": "code",
   "execution_count": 43,
   "metadata": {},
   "outputs": [],
   "source": [
    "def my_corr_1(X):\n",
    "    c = my_cov(X)\n",
    "    try:\n",
    "        d = np.diag(c)\n",
    "    except ValueError:\n",
    "        # scalar covariance\n",
    "        # nan if incorrect value (nan, inf, 0), 1 otherwise\n",
    "        return c / c\n",
    "    stddev = np.sqrt(d.real)\n",
    "#     print(stddev)\n",
    "#     print(stddev[None, :])\n",
    "#     c /= stddev[:, None]\n",
    "#     c /= stddev[None, :]\n",
    "    c /= np.dot(stddev.T, stddev)\n",
    "    return c"
   ]
  },
  {
   "cell_type": "code",
   "execution_count": 44,
   "metadata": {},
   "outputs": [],
   "source": [
    "def my_corr(X):\n",
    "    c = my_cov(X)\n",
    "    try:\n",
    "        d = np.diag(c)\n",
    "    except ValueError:\n",
    "        # scalar covariance\n",
    "        # nan if incorrect value (nan, inf, 0), 1 otherwise\n",
    "        return c / c\n",
    "    stddev = np.sqrt(d.real)\n",
    "    c /= stddev[:, None]\n",
    "    c /= stddev[None, :]\n",
    "    #c /= np.sqrt((np.dot(d.T, d)).real)\n",
    "    return c"
   ]
  },
  {
   "cell_type": "code",
   "execution_count": 45,
   "metadata": {},
   "outputs": [
    {
     "data": {
      "text/plain": [
       "array([[-1.11022302e-16,  5.55111512e-17,  5.55111512e-17,\n",
       "         0.00000000e+00,  0.00000000e+00,  0.00000000e+00,\n",
       "         1.38777878e-17,  5.55111512e-17,  5.55111512e-17,\n",
       "         5.55111512e-17,  8.32667268e-17,  0.00000000e+00,\n",
       "         5.55111512e-17,  8.32667268e-17,  5.55111512e-17,\n",
       "         5.55111512e-17,  5.55111512e-17,  2.77555756e-17,\n",
       "         0.00000000e+00,  5.55111512e-17,  1.11022302e-16,\n",
       "         0.00000000e+00, -5.55111512e-17,  1.11022302e-16],\n",
       "       [ 0.00000000e+00,  2.22044605e-16,  1.11022302e-16,\n",
       "         1.11022302e-16,  0.00000000e+00,  0.00000000e+00,\n",
       "         0.00000000e+00, -5.55111512e-17,  0.00000000e+00,\n",
       "         1.38777878e-17, -1.11022302e-16,  0.00000000e+00,\n",
       "         0.00000000e+00,  2.77555756e-17,  5.55111512e-17,\n",
       "         5.55111512e-17,  0.00000000e+00, -5.55111512e-17,\n",
       "         0.00000000e+00,  0.00000000e+00,  0.00000000e+00,\n",
       "         0.00000000e+00,  0.00000000e+00,  0.00000000e+00],\n",
       "       [ 0.00000000e+00,  1.11022302e-16,  0.00000000e+00,\n",
       "         1.11022302e-16, -5.55111512e-17,  0.00000000e+00,\n",
       "        -1.11022302e-16, -1.11022302e-16,  2.77555756e-17,\n",
       "         1.38777878e-17, -5.55111512e-17,  0.00000000e+00,\n",
       "        -2.77555756e-17,  0.00000000e+00, -1.11022302e-16,\n",
       "         5.55111512e-17,  0.00000000e+00, -5.55111512e-17,\n",
       "         0.00000000e+00,  1.11022302e-16, -5.55111512e-17,\n",
       "         6.93889390e-18,  2.77555756e-17, -1.11022302e-16],\n",
       "       [ 0.00000000e+00,  2.22044605e-16,  1.11022302e-16,\n",
       "         2.22044605e-16,  1.11022302e-16,  0.00000000e+00,\n",
       "         1.11022302e-16, -5.55111512e-17,  0.00000000e+00,\n",
       "         0.00000000e+00, -5.55111512e-17,  0.00000000e+00,\n",
       "         0.00000000e+00,  0.00000000e+00,  2.77555756e-17,\n",
       "         0.00000000e+00,  5.55111512e-17,  0.00000000e+00,\n",
       "         5.55111512e-17,  0.00000000e+00, -2.77555756e-17,\n",
       "         1.73472348e-18,  2.77555756e-17,  0.00000000e+00],\n",
       "       [ 1.38777878e-17,  0.00000000e+00,  0.00000000e+00,\n",
       "         0.00000000e+00,  0.00000000e+00,  0.00000000e+00,\n",
       "         0.00000000e+00, -2.77555756e-17,  0.00000000e+00,\n",
       "        -2.77555756e-17,  0.00000000e+00,  2.77555756e-17,\n",
       "         0.00000000e+00, -2.77555756e-17, -5.55111512e-17,\n",
       "         0.00000000e+00,  0.00000000e+00,  0.00000000e+00,\n",
       "         5.55111512e-17,  0.00000000e+00,  0.00000000e+00,\n",
       "         0.00000000e+00,  2.77555756e-17,  0.00000000e+00],\n",
       "       [ 0.00000000e+00,  0.00000000e+00,  5.55111512e-17,\n",
       "         1.11022302e-16,  0.00000000e+00,  2.22044605e-16,\n",
       "         2.22044605e-16, -5.55111512e-17,  0.00000000e+00,\n",
       "         0.00000000e+00, -5.55111512e-17,  0.00000000e+00,\n",
       "         1.38777878e-17, -5.55111512e-17,  0.00000000e+00,\n",
       "         0.00000000e+00,  0.00000000e+00, -5.55111512e-17,\n",
       "         5.55111512e-17,  0.00000000e+00,  1.38777878e-17,\n",
       "         0.00000000e+00,  2.77555756e-17,  5.55111512e-17],\n",
       "       [ 0.00000000e+00,  0.00000000e+00,  0.00000000e+00,\n",
       "         2.22044605e-16,  2.22044605e-16,  1.11022302e-16,\n",
       "         2.22044605e-16,  0.00000000e+00,  1.38777878e-17,\n",
       "         6.93889390e-18, -5.55111512e-17,  2.77555756e-17,\n",
       "         2.77555756e-17,  5.55111512e-17,  0.00000000e+00,\n",
       "         5.55111512e-17,  2.77555756e-17,  0.00000000e+00,\n",
       "         1.66533454e-16,  5.55111512e-17,  2.77555756e-17,\n",
       "        -6.93889390e-18,  5.55111512e-17, -5.55111512e-17],\n",
       "       [ 5.55111512e-17,  0.00000000e+00,  0.00000000e+00,\n",
       "         0.00000000e+00, -2.77555756e-17, -5.55111512e-17,\n",
       "         0.00000000e+00, -1.11022302e-16, -1.11022302e-16,\n",
       "         0.00000000e+00,  0.00000000e+00, -1.11022302e-16,\n",
       "         0.00000000e+00, -2.77555756e-17, -2.77555756e-17,\n",
       "         0.00000000e+00,  0.00000000e+00, -1.11022302e-16,\n",
       "         0.00000000e+00, -1.11022302e-16, -2.22044605e-16,\n",
       "         0.00000000e+00,  0.00000000e+00, -1.11022302e-16],\n",
       "       [ 1.11022302e-16, -2.77555756e-17,  2.77555756e-17,\n",
       "         0.00000000e+00, -1.38777878e-17,  0.00000000e+00,\n",
       "         0.00000000e+00, -1.11022302e-16,  0.00000000e+00,\n",
       "        -1.11022302e-16,  0.00000000e+00,  1.11022302e-16,\n",
       "        -1.11022302e-16, -1.38777878e-17,  0.00000000e+00,\n",
       "         1.11022302e-16,  0.00000000e+00, -1.11022302e-16,\n",
       "        -5.55111512e-17,  0.00000000e+00, -1.11022302e-16,\n",
       "         1.11022302e-16,  1.11022302e-16, -5.55111512e-17],\n",
       "       [ 5.55111512e-17,  1.38777878e-17,  0.00000000e+00,\n",
       "         0.00000000e+00, -2.77555756e-17, -1.38777878e-17,\n",
       "         6.93889390e-18,  0.00000000e+00,  0.00000000e+00,\n",
       "         0.00000000e+00, -1.11022302e-16,  0.00000000e+00,\n",
       "        -1.11022302e-16,  0.00000000e+00, -1.38777878e-17,\n",
       "         0.00000000e+00,  1.11022302e-16,  0.00000000e+00,\n",
       "         0.00000000e+00,  5.55111512e-17, -1.11022302e-16,\n",
       "         0.00000000e+00,  2.22044605e-16,  0.00000000e+00],\n",
       "       [ 5.55111512e-17, -5.55111512e-17, -1.11022302e-16,\n",
       "        -5.55111512e-17, -5.55111512e-17, -5.55111512e-17,\n",
       "        -5.55111512e-17, -5.55111512e-17,  0.00000000e+00,\n",
       "        -1.11022302e-16, -2.22044605e-16,  0.00000000e+00,\n",
       "        -5.55111512e-17,  0.00000000e+00, -1.11022302e-16,\n",
       "         0.00000000e+00, -5.55111512e-17, -1.11022302e-16,\n",
       "        -5.55111512e-17, -1.11022302e-16, -1.11022302e-16,\n",
       "         0.00000000e+00,  0.00000000e+00,  0.00000000e+00],\n",
       "       [ 5.55111512e-17,  0.00000000e+00,  0.00000000e+00,\n",
       "         0.00000000e+00,  0.00000000e+00,  1.38777878e-17,\n",
       "         5.55111512e-17, -1.11022302e-16,  1.11022302e-16,\n",
       "         0.00000000e+00, -1.11022302e-16,  2.22044605e-16,\n",
       "         0.00000000e+00,  0.00000000e+00,  0.00000000e+00,\n",
       "         1.11022302e-16,  0.00000000e+00,  0.00000000e+00,\n",
       "         0.00000000e+00, -1.11022302e-16, -1.11022302e-16,\n",
       "         0.00000000e+00,  1.11022302e-16,  1.11022302e-16],\n",
       "       [ 5.55111512e-17,  0.00000000e+00, -2.77555756e-17,\n",
       "        -2.77555756e-17,  0.00000000e+00,  1.38777878e-17,\n",
       "         2.77555756e-17,  0.00000000e+00, -1.11022302e-16,\n",
       "        -1.11022302e-16, -5.55111512e-17, -1.11022302e-16,\n",
       "         1.11022302e-16, -1.11022302e-16,  0.00000000e+00,\n",
       "         0.00000000e+00, -1.11022302e-16, -1.11022302e-16,\n",
       "        -1.11022302e-16,  0.00000000e+00, -1.11022302e-16,\n",
       "        -1.11022302e-16,  1.11022302e-16,  0.00000000e+00],\n",
       "       [ 8.32667268e-17, -2.77555756e-17,  0.00000000e+00,\n",
       "         0.00000000e+00, -2.77555756e-17,  5.55111512e-17,\n",
       "         0.00000000e+00, -5.55111512e-17,  0.00000000e+00,\n",
       "        -2.77555756e-17, -5.55111512e-17,  0.00000000e+00,\n",
       "        -5.55111512e-17,  0.00000000e+00,  1.11022302e-16,\n",
       "         0.00000000e+00, -2.77555756e-17, -5.55111512e-17,\n",
       "         0.00000000e+00, -1.11022302e-16,  5.55111512e-17,\n",
       "         0.00000000e+00,  5.55111512e-17,  0.00000000e+00],\n",
       "       [ 5.55111512e-17, -5.55111512e-17, -1.11022302e-16,\n",
       "         2.77555756e-17,  0.00000000e+00,  5.55111512e-17,\n",
       "         0.00000000e+00, -5.55111512e-17, -3.46944695e-18,\n",
       "         0.00000000e+00, -5.55111512e-17,  0.00000000e+00,\n",
       "        -1.38777878e-17,  0.00000000e+00,  0.00000000e+00,\n",
       "         0.00000000e+00, -5.55111512e-17, -2.77555756e-17,\n",
       "         0.00000000e+00,  0.00000000e+00,  0.00000000e+00,\n",
       "        -6.93889390e-18,  0.00000000e+00,  0.00000000e+00],\n",
       "       [ 1.11022302e-16,  5.55111512e-17,  1.11022302e-16,\n",
       "         5.55111512e-17,  0.00000000e+00,  2.77555756e-17,\n",
       "         2.77555756e-17,  0.00000000e+00,  0.00000000e+00,\n",
       "         0.00000000e+00, -5.55111512e-17,  1.11022302e-16,\n",
       "         0.00000000e+00,  0.00000000e+00,  0.00000000e+00,\n",
       "         1.11022302e-16,  0.00000000e+00,  0.00000000e+00,\n",
       "         1.11022302e-16,  1.11022302e-16,  0.00000000e+00,\n",
       "         0.00000000e+00,  1.11022302e-16,  0.00000000e+00],\n",
       "       [ 5.55111512e-17, -5.55111512e-17,  0.00000000e+00,\n",
       "         0.00000000e+00,  0.00000000e+00,  0.00000000e+00,\n",
       "         2.77555756e-17,  0.00000000e+00,  0.00000000e+00,\n",
       "         1.11022302e-16, -5.55111512e-17, -1.11022302e-16,\n",
       "        -1.11022302e-16,  0.00000000e+00,  0.00000000e+00,\n",
       "         1.11022302e-16, -1.11022302e-16, -2.22044605e-16,\n",
       "         0.00000000e+00, -1.11022302e-16,  0.00000000e+00,\n",
       "         0.00000000e+00,  0.00000000e+00,  0.00000000e+00],\n",
       "       [ 2.77555756e-17,  0.00000000e+00, -1.11022302e-16,\n",
       "         5.55111512e-17, -2.77555756e-17, -5.55111512e-17,\n",
       "         5.55111512e-17, -1.11022302e-16, -5.55111512e-17,\n",
       "         0.00000000e+00, -1.11022302e-16,  0.00000000e+00,\n",
       "        -2.22044605e-16, -5.55111512e-17, -2.77555756e-17,\n",
       "         0.00000000e+00, -2.22044605e-16, -2.22044605e-16,\n",
       "         0.00000000e+00,  0.00000000e+00, -5.55111512e-17,\n",
       "        -5.55111512e-17,  0.00000000e+00,  0.00000000e+00],\n",
       "       [ 5.55111512e-17,  0.00000000e+00,  0.00000000e+00,\n",
       "         5.55111512e-17,  5.55111512e-17,  5.55111512e-17,\n",
       "         5.55111512e-17,  0.00000000e+00,  0.00000000e+00,\n",
       "         5.55111512e-17,  5.55111512e-17,  0.00000000e+00,\n",
       "        -1.11022302e-16,  0.00000000e+00,  0.00000000e+00,\n",
       "         1.11022302e-16, -1.11022302e-16,  0.00000000e+00,\n",
       "         0.00000000e+00,  1.11022302e-16, -1.11022302e-16,\n",
       "         0.00000000e+00,  1.11022302e-16,  0.00000000e+00],\n",
       "       [ 5.55111512e-17, -5.55111512e-17,  0.00000000e+00,\n",
       "         0.00000000e+00,  5.55111512e-17,  0.00000000e+00,\n",
       "         1.11022302e-16, -2.22044605e-16,  1.11022302e-16,\n",
       "        -5.55111512e-17, -5.55111512e-17, -1.11022302e-16,\n",
       "         1.11022302e-16,  0.00000000e+00,  0.00000000e+00,\n",
       "         1.11022302e-16, -1.11022302e-16, -1.11022302e-16,\n",
       "         1.11022302e-16,  2.22044605e-16,  0.00000000e+00,\n",
       "         5.55111512e-17,  1.11022302e-16,  0.00000000e+00],\n",
       "       [ 1.11022302e-16, -2.77555756e-17, -2.77555756e-17,\n",
       "        -2.77555756e-17,  0.00000000e+00,  0.00000000e+00,\n",
       "         0.00000000e+00, -1.11022302e-16, -1.11022302e-16,\n",
       "         0.00000000e+00, -5.55111512e-17,  0.00000000e+00,\n",
       "        -2.22044605e-16,  0.00000000e+00,  0.00000000e+00,\n",
       "         2.22044605e-16, -1.11022302e-16, -5.55111512e-17,\n",
       "        -1.11022302e-16,  0.00000000e+00,  0.00000000e+00,\n",
       "         0.00000000e+00,  1.11022302e-16, -5.55111512e-17],\n",
       "       [ 0.00000000e+00,  0.00000000e+00,  0.00000000e+00,\n",
       "         1.73472348e-18,  0.00000000e+00, -2.77555756e-17,\n",
       "         0.00000000e+00, -5.55111512e-17,  0.00000000e+00,\n",
       "         0.00000000e+00,  0.00000000e+00,  1.11022302e-16,\n",
       "        -1.11022302e-16, -6.93889390e-18, -6.93889390e-18,\n",
       "         1.11022302e-16,  1.11022302e-16, -5.55111512e-17,\n",
       "         0.00000000e+00,  0.00000000e+00,  1.11022302e-16,\n",
       "         2.22044605e-16,  1.11022302e-16,  0.00000000e+00],\n",
       "       [ 0.00000000e+00,  0.00000000e+00,  8.32667268e-17,\n",
       "         2.77555756e-17,  1.38777878e-17,  0.00000000e+00,\n",
       "         2.77555756e-17,  0.00000000e+00,  1.11022302e-16,\n",
       "         1.11022302e-16,  5.55111512e-17,  1.11022302e-16,\n",
       "         1.11022302e-16,  0.00000000e+00, -5.55111512e-17,\n",
       "         2.22044605e-16,  1.11022302e-16,  0.00000000e+00,\n",
       "         1.11022302e-16,  0.00000000e+00,  1.11022302e-16,\n",
       "         1.11022302e-16,  4.44089210e-16,  1.11022302e-16],\n",
       "       [ 5.55111512e-17,  5.55111512e-17, -1.11022302e-16,\n",
       "         5.55111512e-17, -5.55111512e-17,  0.00000000e+00,\n",
       "         5.55111512e-17, -1.11022302e-16,  0.00000000e+00,\n",
       "         0.00000000e+00,  1.11022302e-16,  0.00000000e+00,\n",
       "         1.11022302e-16,  0.00000000e+00, -1.11022302e-16,\n",
       "         0.00000000e+00,  0.00000000e+00, -1.11022302e-16,\n",
       "         1.11022302e-16,  0.00000000e+00,  0.00000000e+00,\n",
       "         0.00000000e+00,  1.11022302e-16,  0.00000000e+00]])"
      ]
     },
     "execution_count": 45,
     "metadata": {},
     "output_type": "execute_result"
    }
   ],
   "source": [
    "my_corr(X_vec) - res1_1_2"
   ]
  },
  {
   "cell_type": "code",
   "execution_count": 46,
   "metadata": {},
   "outputs": [
    {
     "data": {
      "text/plain": [
       "array([[ 1.        , -0.26569664, -0.27388722, -0.2275954 , -0.11359838,\n",
       "        -0.0720121 , -0.10184146, -0.31592877, -0.3162536 , -0.21693252,\n",
       "        -0.16177248, -0.37799487, -0.35673394, -0.22545572, -0.28424795,\n",
       "        -0.43105668, -0.26997946, -0.11865601, -0.29695295, -0.4134921 ,\n",
       "        -0.47072915, -0.40999501, -0.38736071, -0.2890198 ],\n",
       "       [-0.26569664,  1.        ,  0.89584696,  0.62845215,  0.30151392,\n",
       "         0.28797715,  0.44510365,  0.4923685 ,  0.17928044,  0.11618515,\n",
       "         0.36459827,  0.28503934,  0.11039129,  0.20497985,  0.38065759,\n",
       "         0.3188223 ,  0.23455324,  0.3275564 ,  0.41115422,  0.42444504,\n",
       "         0.22419358,  0.04181083,  0.27753078,  0.45697093],\n",
       "       [-0.27388722,  0.89584696,  1.        ,  0.80485574,  0.41013691,\n",
       "         0.43051758,  0.58452342,  0.5265494 ,  0.15671599,  0.11519413,\n",
       "         0.46906751,  0.37005141,  0.15963272,  0.26074599,  0.4315103 ,\n",
       "         0.36196256,  0.26791028,  0.3665189 ,  0.48251816,  0.50496174,\n",
       "         0.21864293, -0.03522359,  0.24980753,  0.50323396],\n",
       "       [-0.2275954 ,  0.62845215,  0.80485574,  1.        ,  0.69243908,\n",
       "         0.55081089,  0.52422802,  0.48593101,  0.26361415,  0.23963675,\n",
       "         0.39159662,  0.35880135,  0.19057966,  0.08251925,  0.22619177,\n",
       "         0.35424383,  0.30527714,  0.32213956,  0.41164658,  0.40737115,\n",
       "         0.18032404,  0.01469253,  0.20302008,  0.36136289],\n",
       "       [-0.11359838,  0.30151392,  0.41013691,  0.69243908,  1.        ,\n",
       "         0.85593847,  0.51521319,  0.2354781 ,  0.0664689 ,  0.15042788,\n",
       "         0.29408823,  0.08911559,  0.03076694,  0.1778129 ,  0.27519671,\n",
       "         0.22408337,  0.15093624,  0.20796621,  0.34207362,  0.31910988,\n",
       "         0.03343168, -0.11935806,  0.11671273,  0.33172859],\n",
       "       [-0.0720121 ,  0.28797715,  0.43051758,  0.55081089,  0.85593847,\n",
       "         1.        ,  0.80055023,  0.34030399,  0.0018358 ,  0.07020499,\n",
       "         0.32438823,  0.12136542,  0.07639811,  0.31340173,  0.34463972,\n",
       "         0.21460071,  0.17157115,  0.2873503 ,  0.41210792,  0.40006042,\n",
       "         0.07991184, -0.14232456,  0.13925748,  0.41279012],\n",
       "       [-0.10184146,  0.44510365,  0.58452342,  0.52422802,  0.51521319,\n",
       "         0.80055023,  1.        ,  0.62430733,  0.07256388,  0.05358029,\n",
       "         0.36270688,  0.20990757,  0.14178017,  0.36254115,  0.36019247,\n",
       "         0.2342808 ,  0.23963983,  0.4057975 ,  0.49100871,  0.48281256,\n",
       "         0.1977935 , -0.04868013,  0.19853532,  0.42413958],\n",
       "       [-0.31592877,  0.4923685 ,  0.5265494 ,  0.48593101,  0.2354781 ,\n",
       "         0.34030399,  0.62430733,  1.        ,  0.75448419,  0.51592201,\n",
       "         0.34925592,  0.60473269,  0.52485826,  0.21672662,  0.24587278,\n",
       "         0.61586869,  0.63251048,  0.58605933,  0.62550817,  0.65105707,\n",
       "         0.59580747,  0.49221013,  0.58149512,  0.50559487],\n",
       "       [-0.3162536 ,  0.17928044,  0.15671599,  0.26361415,  0.0664689 ,\n",
       "         0.0018358 ,  0.07256388,  0.75448419,  1.        ,  0.82395861,\n",
       "         0.25339482,  0.67911217,  0.68995775,  0.07329165,  0.03087563,\n",
       "         0.6900709 ,  0.72998723,  0.4832328 ,  0.46872153,  0.51487305,\n",
       "         0.64544446,  0.71060455,  0.67772892,  0.42373088],\n",
       "       [-0.21693252,  0.11618515,  0.11519413,  0.23963675,  0.15042788,\n",
       "         0.07020499,  0.05358029,  0.51592201,  0.82395861,  1.        ,\n",
       "         0.56830187,  0.55742692,  0.56937697,  0.20895134,  0.11576662,\n",
       "         0.57897733,  0.61201833,  0.40061692,  0.39299795,  0.45397051,\n",
       "         0.51686409,  0.54824093,  0.61147684,  0.47971447],\n",
       "       [-0.16177248,  0.36459827,  0.46906751,  0.39159662,  0.29408823,\n",
       "         0.32438823,  0.36270688,  0.34925592,  0.25339482,  0.56830187,\n",
       "         1.        ,  0.54247025,  0.26014071,  0.34143145,  0.41548588,\n",
       "         0.39189611,  0.32818051,  0.32875325,  0.36592887,  0.43400715,\n",
       "         0.2853884 ,  0.09642166,  0.32182793,  0.50973045],\n",
       "       [-0.37799487,  0.28503934,  0.37005141,  0.35880135,  0.08911559,\n",
       "         0.12136542,  0.20990757,  0.60473269,  0.67911217,  0.55742692,\n",
       "         0.54247025,  1.        ,  0.86098945,  0.26547585,  0.16414922,\n",
       "         0.72458045,  0.76225247,  0.54087749,  0.50200939,  0.57318283,\n",
       "         0.65104978,  0.59503406,  0.61271076,  0.51161532],\n",
       "       [-0.35673394,  0.11039129,  0.15963272,  0.19057966,  0.03076694,\n",
       "         0.07639811,  0.14178017,  0.52485826,  0.68995775,  0.56937697,\n",
       "         0.26014071,  0.86098945,  1.        ,  0.46158957,  0.11128461,\n",
       "         0.6796137 ,  0.77897113,  0.54441936,  0.51692229,  0.56204739,\n",
       "         0.64720647,  0.66391929,  0.68744384,  0.52108578],\n",
       "       [-0.22545572,  0.20497985,  0.26074599,  0.08251925,  0.1778129 ,\n",
       "         0.31340173,  0.36254115,  0.21672662,  0.07329165,  0.20895134,\n",
       "         0.34143145,  0.26547585,  0.46158957,  1.        ,  0.74696521,\n",
       "         0.38691452,  0.23564773,  0.31632755,  0.53898005,  0.58932519,\n",
       "         0.29164917,  0.03793775,  0.38555707,  0.65000651],\n",
       "       [-0.28424795,  0.38065759,  0.4315103 ,  0.22619177,  0.27519671,\n",
       "         0.34463972,  0.36019247,  0.24587278,  0.03087563,  0.11576662,\n",
       "         0.41548588,  0.16414922,  0.11128461,  0.74696521,  1.        ,\n",
       "         0.54159188,  0.14828582,  0.19532437,  0.5149824 ,  0.648065  ,\n",
       "         0.35105158, -0.04455614,  0.25249626,  0.61291201],\n",
       "       [-0.43105668,  0.3188223 ,  0.36196256,  0.35424383,  0.22408337,\n",
       "         0.21460071,  0.2342808 ,  0.61586869,  0.6900709 ,  0.57897733,\n",
       "         0.39189611,  0.72458045,  0.6796137 ,  0.38691452,  0.54159188,\n",
       "         1.        ,  0.84180434,  0.56445246,  0.64511669,  0.77810168,\n",
       "         0.81207235,  0.64656297,  0.67798433,  0.63220993],\n",
       "       [-0.26997946,  0.23455324,  0.26791028,  0.30527714,  0.15093624,\n",
       "         0.17157115,  0.23963983,  0.63251048,  0.72998723,  0.61201833,\n",
       "         0.32818051,  0.76225247,  0.77897113,  0.23564773,  0.14828582,\n",
       "         0.84180434,  1.        ,  0.81126586,  0.65340608,  0.63549585,\n",
       "         0.70782306,  0.72416848,  0.74687804,  0.55671882],\n",
       "       [-0.11865601,  0.3275564 ,  0.3665189 ,  0.32213956,  0.20796621,\n",
       "         0.2873503 ,  0.4057975 ,  0.58605933,  0.4832328 ,  0.40061692,\n",
       "         0.32875325,  0.54087749,  0.54441936,  0.31632755,  0.19532437,\n",
       "         0.56445246,  0.81126586,  1.        ,  0.84088029,  0.62990827,\n",
       "         0.43859028,  0.40550448,  0.63926438,  0.61701035],\n",
       "       [-0.29695295,  0.41115422,  0.48251816,  0.41164658,  0.34207362,\n",
       "         0.41210792,  0.49100871,  0.62550817,  0.46872153,  0.39299795,\n",
       "         0.36592887,  0.50200939,  0.51692229,  0.53898005,  0.5149824 ,\n",
       "         0.64511669,  0.65340608,  0.84088029,  1.        ,  0.89272022,\n",
       "         0.54884623,  0.31030679,  0.6225126 ,  0.76736065],\n",
       "       [-0.4134921 ,  0.42444504,  0.50496174,  0.40737115,  0.31910988,\n",
       "         0.40006042,  0.48281256,  0.65105707,  0.51487305,  0.45397051,\n",
       "         0.43400715,  0.57318283,  0.56204739,  0.58932519,  0.648065  ,\n",
       "         0.77810168,  0.63549585,  0.62990827,  0.89272022,  1.        ,\n",
       "         0.77471304,  0.41307989,  0.61795545,  0.77906237],\n",
       "       [-0.47072915,  0.22419358,  0.21864293,  0.18032404,  0.03343168,\n",
       "         0.07991184,  0.1977935 ,  0.59580747,  0.64544446,  0.51686409,\n",
       "         0.2853884 ,  0.65104978,  0.64720647,  0.29164917,  0.35105158,\n",
       "         0.81207235,  0.70782306,  0.43859028,  0.54884623,  0.77471304,\n",
       "         1.        ,  0.80777403,  0.641823  ,  0.49474375],\n",
       "       [-0.40999501,  0.04181083, -0.03522359,  0.01469253, -0.11935806,\n",
       "        -0.14232456, -0.04868013,  0.49221013,  0.71060455,  0.54824093,\n",
       "         0.09642166,  0.59503406,  0.66391929,  0.03793775, -0.04455614,\n",
       "         0.64656297,  0.72416848,  0.40550448,  0.31030679,  0.41307989,\n",
       "         0.80777403,  1.        ,  0.76864586,  0.2933569 ],\n",
       "       [-0.38736071,  0.27753078,  0.24980753,  0.20302008,  0.11671273,\n",
       "         0.13925748,  0.19853532,  0.58149512,  0.67772892,  0.61147684,\n",
       "         0.32182793,  0.61271076,  0.68744384,  0.38555707,  0.25249626,\n",
       "         0.67798433,  0.74687804,  0.63926438,  0.6225126 ,  0.61795545,\n",
       "         0.641823  ,  0.76864586,  1.        ,  0.75222596],\n",
       "       [-0.2890198 ,  0.45697093,  0.50323396,  0.36136289,  0.33172859,\n",
       "         0.41279012,  0.42413958,  0.50559487,  0.42373088,  0.47971447,\n",
       "         0.50973045,  0.51161532,  0.52108578,  0.65000651,  0.61291201,\n",
       "         0.63220993,  0.55671882,  0.61701035,  0.76736065,  0.77906237,\n",
       "         0.49474375,  0.2933569 ,  0.75222596,  1.        ]])"
      ]
     },
     "execution_count": 46,
     "metadata": {},
     "output_type": "execute_result"
    }
   ],
   "source": [
    "my_corr(X_vec)"
   ]
  },
  {
   "cell_type": "code",
   "execution_count": 47,
   "metadata": {},
   "outputs": [],
   "source": [
    "l = np.array([1,2,3])"
   ]
  },
  {
   "cell_type": "code",
   "execution_count": 48,
   "metadata": {},
   "outputs": [
    {
     "data": {
      "text/plain": [
       "array([[1, 2, 3]])"
      ]
     },
     "execution_count": 48,
     "metadata": {},
     "output_type": "execute_result"
    }
   ],
   "source": [
    "l[None, :]"
   ]
  },
  {
   "cell_type": "code",
   "execution_count": 49,
   "metadata": {},
   "outputs": [],
   "source": [
    "def my_corr_1(X):\n",
    "    c = my_cov(X)\n",
    "    \n",
    "    try:\n",
    "        d = np.diag(c)\n",
    "    except ValueError:\n",
    "        # scalar covariance\n",
    "        # nan if incorrect value (nan, inf, 0), 1 otherwise\n",
    "        return c / c\n",
    "    std_dev = np.sqrt(d.real)\n",
    "    c /= (std_dev[:, None] * std_dev[None, :])\n",
    "    \n",
    "    return c"
   ]
  },
  {
   "cell_type": "code",
   "execution_count": 50,
   "metadata": {},
   "outputs": [
    {
     "data": {
      "text/plain": [
       "array([[-1.11022302e-16,  5.55111512e-17,  5.55111512e-17,\n",
       "         0.00000000e+00,  1.38777878e-17,  0.00000000e+00,\n",
       "         1.38777878e-17,  5.55111512e-17,  5.55111512e-17,\n",
       "         5.55111512e-17,  5.55111512e-17,  0.00000000e+00,\n",
       "         5.55111512e-17,  5.55111512e-17,  5.55111512e-17,\n",
       "         0.00000000e+00,  0.00000000e+00,  2.77555756e-17,\n",
       "         5.55111512e-17,  5.55111512e-17,  1.11022302e-16,\n",
       "        -5.55111512e-17, -5.55111512e-17,  1.11022302e-16],\n",
       "       [ 0.00000000e+00,  1.11022302e-16,  1.11022302e-16,\n",
       "         1.11022302e-16,  0.00000000e+00,  0.00000000e+00,\n",
       "         0.00000000e+00,  0.00000000e+00, -2.77555756e-17,\n",
       "         1.38777878e-17, -1.11022302e-16,  0.00000000e+00,\n",
       "         0.00000000e+00,  2.77555756e-17,  0.00000000e+00,\n",
       "         0.00000000e+00,  0.00000000e+00,  0.00000000e+00,\n",
       "         0.00000000e+00,  0.00000000e+00,  0.00000000e+00,\n",
       "        -6.93889390e-18,  5.55111512e-17,  0.00000000e+00],\n",
       "       [ 5.55111512e-17,  1.11022302e-16,  1.11022302e-16,\n",
       "         0.00000000e+00, -5.55111512e-17, -5.55111512e-17,\n",
       "         0.00000000e+00,  0.00000000e+00,  2.77555756e-17,\n",
       "         0.00000000e+00, -1.11022302e-16,  0.00000000e+00,\n",
       "        -2.77555756e-17,  0.00000000e+00, -5.55111512e-17,\n",
       "         0.00000000e+00,  0.00000000e+00, -5.55111512e-17,\n",
       "         5.55111512e-17,  1.11022302e-16, -2.77555756e-17,\n",
       "         0.00000000e+00,  2.77555756e-17, -1.11022302e-16],\n",
       "       [ 2.77555756e-17,  2.22044605e-16,  0.00000000e+00,\n",
       "         2.22044605e-16,  1.11022302e-16, -1.11022302e-16,\n",
       "         1.11022302e-16,  0.00000000e+00,  5.55111512e-17,\n",
       "        -2.77555756e-17, -5.55111512e-17,  0.00000000e+00,\n",
       "         0.00000000e+00, -1.38777878e-17,  0.00000000e+00,\n",
       "         0.00000000e+00,  0.00000000e+00,  0.00000000e+00,\n",
       "         5.55111512e-17,  5.55111512e-17, -2.77555756e-17,\n",
       "         1.73472348e-18,  2.77555756e-17,  0.00000000e+00],\n",
       "       [ 2.77555756e-17,  0.00000000e+00,  0.00000000e+00,\n",
       "         0.00000000e+00,  0.00000000e+00,  0.00000000e+00,\n",
       "         0.00000000e+00, -2.77555756e-17,  0.00000000e+00,\n",
       "        -2.77555756e-17,  0.00000000e+00,  2.77555756e-17,\n",
       "         3.46944695e-18,  0.00000000e+00, -5.55111512e-17,\n",
       "         0.00000000e+00,  0.00000000e+00,  0.00000000e+00,\n",
       "         5.55111512e-17,  0.00000000e+00, -6.93889390e-18,\n",
       "         0.00000000e+00,  2.77555756e-17,  0.00000000e+00],\n",
       "       [ 1.38777878e-17,  0.00000000e+00, -5.55111512e-17,\n",
       "         0.00000000e+00,  0.00000000e+00,  2.22044605e-16,\n",
       "         2.22044605e-16, -5.55111512e-17,  0.00000000e+00,\n",
       "         0.00000000e+00, -5.55111512e-17,  0.00000000e+00,\n",
       "         1.38777878e-17, -5.55111512e-17,  0.00000000e+00,\n",
       "         2.77555756e-17,  0.00000000e+00,  0.00000000e+00,\n",
       "         5.55111512e-17,  0.00000000e+00,  0.00000000e+00,\n",
       "         0.00000000e+00,  2.77555756e-17,  5.55111512e-17],\n",
       "       [ 0.00000000e+00,  5.55111512e-17,  1.11022302e-16,\n",
       "         1.11022302e-16,  1.11022302e-16,  2.22044605e-16,\n",
       "         2.22044605e-16,  0.00000000e+00,  1.38777878e-17,\n",
       "         1.38777878e-17,  0.00000000e+00,  2.77555756e-17,\n",
       "         0.00000000e+00,  5.55111512e-17,  5.55111512e-17,\n",
       "         8.32667268e-17,  2.77555756e-17,  0.00000000e+00,\n",
       "         1.11022302e-16,  5.55111512e-17,  2.77555756e-17,\n",
       "        -6.93889390e-18,  2.77555756e-17,  0.00000000e+00],\n",
       "       [ 5.55111512e-17,  0.00000000e+00,  0.00000000e+00,\n",
       "         0.00000000e+00, -2.77555756e-17, -5.55111512e-17,\n",
       "         0.00000000e+00, -1.11022302e-16, -1.11022302e-16,\n",
       "        -1.11022302e-16,  0.00000000e+00, -1.11022302e-16,\n",
       "         0.00000000e+00, -2.77555756e-17, -2.77555756e-17,\n",
       "         0.00000000e+00, -1.11022302e-16, -1.11022302e-16,\n",
       "         0.00000000e+00, -2.22044605e-16, -1.11022302e-16,\n",
       "         0.00000000e+00,  0.00000000e+00, -1.11022302e-16],\n",
       "       [ 5.55111512e-17, -2.77555756e-17,  2.77555756e-17,\n",
       "         5.55111512e-17, -1.38777878e-17, -2.16840434e-19,\n",
       "         0.00000000e+00, -1.11022302e-16,  0.00000000e+00,\n",
       "        -1.11022302e-16,  0.00000000e+00,  0.00000000e+00,\n",
       "         0.00000000e+00, -1.38777878e-17,  3.46944695e-18,\n",
       "         0.00000000e+00, -1.11022302e-16, -5.55111512e-17,\n",
       "         0.00000000e+00,  0.00000000e+00, -1.11022302e-16,\n",
       "         1.11022302e-16,  0.00000000e+00,  0.00000000e+00],\n",
       "       [ 2.77555756e-17,  1.38777878e-17,  0.00000000e+00,\n",
       "         0.00000000e+00, -2.77555756e-17,  0.00000000e+00,\n",
       "         1.38777878e-17, -1.11022302e-16,  0.00000000e+00,\n",
       "         0.00000000e+00, -1.11022302e-16,  0.00000000e+00,\n",
       "        -1.11022302e-16,  0.00000000e+00, -2.77555756e-17,\n",
       "         0.00000000e+00,  1.11022302e-16,  0.00000000e+00,\n",
       "         0.00000000e+00,  0.00000000e+00, -1.11022302e-16,\n",
       "         1.11022302e-16,  2.22044605e-16,  5.55111512e-17],\n",
       "       [ 5.55111512e-17, -1.11022302e-16, -1.11022302e-16,\n",
       "        -5.55111512e-17, -5.55111512e-17, -5.55111512e-17,\n",
       "         0.00000000e+00, -5.55111512e-17,  0.00000000e+00,\n",
       "        -1.11022302e-16, -2.22044605e-16,  0.00000000e+00,\n",
       "         0.00000000e+00,  0.00000000e+00, -1.11022302e-16,\n",
       "         0.00000000e+00, -5.55111512e-17, -5.55111512e-17,\n",
       "        -5.55111512e-17, -1.11022302e-16, -1.11022302e-16,\n",
       "        -1.38777878e-17,  0.00000000e+00,  0.00000000e+00],\n",
       "       [ 5.55111512e-17,  0.00000000e+00,  0.00000000e+00,\n",
       "        -5.55111512e-17,  1.38777878e-17,  1.38777878e-17,\n",
       "         2.77555756e-17, -1.11022302e-16,  0.00000000e+00,\n",
       "         0.00000000e+00,  0.00000000e+00,  0.00000000e+00,\n",
       "         0.00000000e+00,  0.00000000e+00,  0.00000000e+00,\n",
       "         1.11022302e-16,  0.00000000e+00, -1.11022302e-16,\n",
       "         0.00000000e+00, -1.11022302e-16, -1.11022302e-16,\n",
       "         0.00000000e+00,  1.11022302e-16,  1.11022302e-16],\n",
       "       [ 5.55111512e-17,  0.00000000e+00, -2.77555756e-17,\n",
       "         0.00000000e+00,  3.46944695e-18,  1.38777878e-17,\n",
       "         2.77555756e-17,  0.00000000e+00,  0.00000000e+00,\n",
       "        -1.11022302e-16,  0.00000000e+00, -1.11022302e-16,\n",
       "         1.11022302e-16, -1.11022302e-16, -1.38777878e-17,\n",
       "         0.00000000e+00, -2.22044605e-16,  0.00000000e+00,\n",
       "        -1.11022302e-16, -1.11022302e-16, -1.11022302e-16,\n",
       "        -1.11022302e-16,  2.22044605e-16,  0.00000000e+00],\n",
       "       [ 5.55111512e-17,  0.00000000e+00,  0.00000000e+00,\n",
       "         0.00000000e+00,  0.00000000e+00,  0.00000000e+00,\n",
       "         0.00000000e+00, -5.55111512e-17, -1.38777878e-17,\n",
       "         0.00000000e+00, -5.55111512e-17,  0.00000000e+00,\n",
       "        -5.55111512e-17,  1.11022302e-16,  1.11022302e-16,\n",
       "         0.00000000e+00, -2.77555756e-17, -5.55111512e-17,\n",
       "         0.00000000e+00, -1.11022302e-16,  0.00000000e+00,\n",
       "         0.00000000e+00,  5.55111512e-17,  0.00000000e+00],\n",
       "       [ 5.55111512e-17, -5.55111512e-17,  0.00000000e+00,\n",
       "         2.77555756e-17,  0.00000000e+00,  0.00000000e+00,\n",
       "         0.00000000e+00, -5.55111512e-17,  3.46944695e-18,\n",
       "        -1.38777878e-17, -5.55111512e-17,  0.00000000e+00,\n",
       "        -1.38777878e-17,  0.00000000e+00,  0.00000000e+00,\n",
       "         0.00000000e+00, -2.77555756e-17, -5.55111512e-17,\n",
       "         0.00000000e+00,  0.00000000e+00,  0.00000000e+00,\n",
       "        -6.93889390e-18, -5.55111512e-17,  0.00000000e+00],\n",
       "       [ 5.55111512e-17,  5.55111512e-17,  5.55111512e-17,\n",
       "         5.55111512e-17,  0.00000000e+00,  2.77555756e-17,\n",
       "         5.55111512e-17,  0.00000000e+00,  0.00000000e+00,\n",
       "         0.00000000e+00, -5.55111512e-17,  1.11022302e-16,\n",
       "         0.00000000e+00,  0.00000000e+00,  0.00000000e+00,\n",
       "         1.11022302e-16,  1.11022302e-16,  0.00000000e+00,\n",
       "         1.11022302e-16,  1.11022302e-16,  0.00000000e+00,\n",
       "         1.11022302e-16,  0.00000000e+00,  0.00000000e+00],\n",
       "       [ 0.00000000e+00, -2.77555756e-17,  0.00000000e+00,\n",
       "         0.00000000e+00,  0.00000000e+00,  0.00000000e+00,\n",
       "         2.77555756e-17, -1.11022302e-16,  0.00000000e+00,\n",
       "         1.11022302e-16, -5.55111512e-17,  0.00000000e+00,\n",
       "        -1.11022302e-16,  0.00000000e+00,  0.00000000e+00,\n",
       "         0.00000000e+00, -2.22044605e-16, -1.11022302e-16,\n",
       "        -1.11022302e-16, -1.11022302e-16,  0.00000000e+00,\n",
       "         1.11022302e-16,  1.11022302e-16,  0.00000000e+00],\n",
       "       [ 2.77555756e-17,  0.00000000e+00, -1.11022302e-16,\n",
       "         5.55111512e-17, -2.77555756e-17, -5.55111512e-17,\n",
       "         0.00000000e+00, -1.11022302e-16,  0.00000000e+00,\n",
       "         0.00000000e+00, -5.55111512e-17, -1.11022302e-16,\n",
       "        -1.11022302e-16, -5.55111512e-17, -2.77555756e-17,\n",
       "         0.00000000e+00, -1.11022302e-16, -2.22044605e-16,\n",
       "         0.00000000e+00, -1.11022302e-16, -5.55111512e-17,\n",
       "        -5.55111512e-17,  0.00000000e+00,  0.00000000e+00],\n",
       "       [ 5.55111512e-17, -5.55111512e-17,  0.00000000e+00,\n",
       "         5.55111512e-17,  5.55111512e-17,  0.00000000e+00,\n",
       "         5.55111512e-17,  0.00000000e+00,  0.00000000e+00,\n",
       "         5.55111512e-17,  0.00000000e+00,  0.00000000e+00,\n",
       "        -1.11022302e-16,  0.00000000e+00,  0.00000000e+00,\n",
       "         1.11022302e-16, -1.11022302e-16,  0.00000000e+00,\n",
       "         0.00000000e+00,  2.22044605e-16,  0.00000000e+00,\n",
       "         0.00000000e+00,  2.22044605e-16,  1.11022302e-16],\n",
       "       [ 5.55111512e-17, -5.55111512e-17,  0.00000000e+00,\n",
       "         0.00000000e+00,  5.55111512e-17,  0.00000000e+00,\n",
       "         5.55111512e-17, -2.22044605e-16,  0.00000000e+00,\n",
       "         0.00000000e+00, -1.11022302e-16, -1.11022302e-16,\n",
       "         0.00000000e+00, -1.11022302e-16,  0.00000000e+00,\n",
       "         1.11022302e-16, -1.11022302e-16, -1.11022302e-16,\n",
       "         1.11022302e-16,  2.22044605e-16,  0.00000000e+00,\n",
       "         5.55111512e-17,  1.11022302e-16,  1.11022302e-16],\n",
       "       [ 1.11022302e-16, -2.77555756e-17, -2.77555756e-17,\n",
       "        -2.77555756e-17, -6.93889390e-18, -1.38777878e-17,\n",
       "         2.77555756e-17, -1.11022302e-16, -1.11022302e-16,\n",
       "        -1.11022302e-16, -5.55111512e-17, -1.11022302e-16,\n",
       "        -2.22044605e-16,  0.00000000e+00,  0.00000000e+00,\n",
       "         1.11022302e-16,  0.00000000e+00, -5.55111512e-17,\n",
       "         0.00000000e+00,  0.00000000e+00,  0.00000000e+00,\n",
       "        -1.11022302e-16,  1.11022302e-16, -5.55111512e-17],\n",
       "       [ 0.00000000e+00,  0.00000000e+00,  0.00000000e+00,\n",
       "         1.73472348e-18, -1.38777878e-17, -2.77555756e-17,\n",
       "         0.00000000e+00, -5.55111512e-17,  1.11022302e-16,\n",
       "         0.00000000e+00, -1.38777878e-17,  0.00000000e+00,\n",
       "        -1.11022302e-16, -6.93889390e-18,  0.00000000e+00,\n",
       "         1.11022302e-16,  1.11022302e-16, -5.55111512e-17,\n",
       "         0.00000000e+00,  0.00000000e+00,  0.00000000e+00,\n",
       "         2.22044605e-16,  2.22044605e-16,  0.00000000e+00],\n",
       "       [-5.55111512e-17,  5.55111512e-17,  8.32667268e-17,\n",
       "         2.77555756e-17,  1.38777878e-17,  0.00000000e+00,\n",
       "         2.77555756e-17,  0.00000000e+00,  0.00000000e+00,\n",
       "         1.11022302e-16,  0.00000000e+00,  0.00000000e+00,\n",
       "         2.22044605e-16,  0.00000000e+00, -5.55111512e-17,\n",
       "         1.11022302e-16,  1.11022302e-16,  0.00000000e+00,\n",
       "         2.22044605e-16,  1.11022302e-16,  1.11022302e-16,\n",
       "         2.22044605e-16,  4.44089210e-16,  1.11022302e-16],\n",
       "       [ 5.55111512e-17,  5.55111512e-17, -1.11022302e-16,\n",
       "         0.00000000e+00,  0.00000000e+00,  0.00000000e+00,\n",
       "         5.55111512e-17, -1.11022302e-16,  0.00000000e+00,\n",
       "         5.55111512e-17,  1.11022302e-16,  0.00000000e+00,\n",
       "         0.00000000e+00,  0.00000000e+00, -1.11022302e-16,\n",
       "         0.00000000e+00,  0.00000000e+00,  0.00000000e+00,\n",
       "         1.11022302e-16,  1.11022302e-16,  0.00000000e+00,\n",
       "         0.00000000e+00,  1.11022302e-16,  0.00000000e+00]])"
      ]
     },
     "execution_count": 50,
     "metadata": {},
     "output_type": "execute_result"
    }
   ],
   "source": [
    "my_corr_1(X_vec) - np.corrcoef(X_vec.T)"
   ]
  },
  {
   "cell_type": "code",
   "execution_count": 51,
   "metadata": {},
   "outputs": [],
   "source": [
    "import scipy.linalg as linalg"
   ]
  },
  {
   "cell_type": "code",
   "execution_count": 52,
   "metadata": {},
   "outputs": [],
   "source": [
    "eig_vals, eigen_vecs = linalg.eig(res1_1)"
   ]
  },
  {
   "cell_type": "code",
   "execution_count": 53,
   "metadata": {},
   "outputs": [
    {
     "data": {
      "text/plain": [
       "array([1.17617347e-01, 5.56809523e-02, 2.36916919e-02, 1.57641029e-02,\n",
       "       1.09351768e-02, 8.87613147e-03, 8.34353675e-03, 6.03674048e-03,\n",
       "       4.45411585e-03, 3.99328186e-03, 3.43976698e-03, 2.12816751e-03,\n",
       "       1.65638180e-03, 1.46650536e-03, 1.27367717e-03, 5.91667445e-04,\n",
       "       3.93182029e-04, 2.47898342e-04, 1.26810864e-04, 8.27694401e-05,\n",
       "       5.09398571e-05, 2.79905539e-05, 1.25722128e-05, 1.80733674e-05])"
      ]
     },
     "execution_count": 53,
     "metadata": {},
     "output_type": "execute_result"
    }
   ],
   "source": [
    "eig_vals.real"
   ]
  },
  {
   "cell_type": "code",
   "execution_count": 54,
   "metadata": {},
   "outputs": [],
   "source": [
    "eig_vals_np, eig_vecs_np = np.linalg.eig(res1_1)"
   ]
  },
  {
   "cell_type": "code",
   "execution_count": 55,
   "metadata": {},
   "outputs": [],
   "source": [
    "idx = np.argsort(eig_vals_np)[::-1]\n",
    "EVals = eig_vals_np[idx]\n",
    "EVecs = eig_vecs_np[:, idx]\n",
    "EVecs_1 = eig_vecs_np[:, idx]"
   ]
  },
  {
   "cell_type": "code",
   "execution_count": 56,
   "metadata": {},
   "outputs": [
    {
     "data": {
      "text/plain": [
       "array([[ 1.36684682e-01,  8.79561052e-02,  1.04043056e-01,\n",
       "         2.15364587e-01,  6.74122431e-01,  5.27498365e-01,\n",
       "         1.56956434e-01,  1.54107220e-01,  8.40722788e-02,\n",
       "         1.70873273e-01,  2.40028779e-01,  9.83511013e-02,\n",
       "         1.61402470e-01,  8.88755355e-03,  3.95240430e-02,\n",
       "         3.65798246e-02,  3.27355926e-02,  3.67559782e-02,\n",
       "         1.54202101e-02,  3.13612308e-03,  5.74640928e-03,\n",
       "         2.36421230e-03,  6.86891160e-04,  1.53160670e-03],\n",
       "       [-3.24468121e-01,  2.72571484e-01, -4.27963759e-01,\n",
       "         8.44055763e-04,  4.60949695e-02, -2.66832106e-02,\n",
       "         1.47972399e-01,  1.65109110e-01, -4.25561619e-01,\n",
       "        -1.89486558e-01,  3.99552368e-01, -1.77223964e-01,\n",
       "        -2.94207213e-02, -2.46094281e-01,  1.28477226e-01,\n",
       "        -2.93684795e-01,  6.21836116e-02,  1.87504696e-02,\n",
       "        -9.26299876e-02,  1.05489287e-02,  5.67150746e-03,\n",
       "        -6.00040090e-03, -2.82918830e-03, -6.95609696e-03],\n",
       "       [-4.72124233e-01,  4.05143681e-01, -3.71925312e-01,\n",
       "         1.37967754e-02,  2.79454337e-02,  1.18375485e-01,\n",
       "        -1.08725427e-01, -6.48665546e-02,  1.31142837e-01,\n",
       "         8.22410659e-02, -1.50110902e-01,  1.35350522e-01,\n",
       "         3.30436263e-03,  1.77679763e-01, -3.21242436e-01,\n",
       "         4.64807917e-01, -4.70301674e-02,  2.23223891e-02,\n",
       "         1.54212649e-01, -3.47855301e-02,  1.06166380e-02,\n",
       "        -2.89384205e-03,  4.29327165e-03,  1.16406458e-02],\n",
       "       [-2.65639362e-01,  1.99064481e-01,  4.07266752e-02,\n",
       "         3.40455534e-01, -2.42237734e-01,  1.72629532e-01,\n",
       "        -1.03725725e-01,  3.46504770e-02,  2.18204936e-01,\n",
       "         3.05014143e-01, -2.73554016e-01,  2.92076142e-01,\n",
       "        -7.31880359e-03, -9.19860703e-02,  2.72630204e-01,\n",
       "        -4.33129764e-01,  1.69060958e-01, -1.24100844e-01,\n",
       "        -2.10642345e-01,  1.07196950e-01, -2.02263359e-02,\n",
       "         1.30805877e-02, -4.36508528e-03, -1.12465365e-02],\n",
       "       [-1.81153443e-01,  2.15391655e-01,  5.04874292e-01,\n",
       "         2.15265262e-01, -3.63727941e-01,  1.42931363e-01,\n",
       "         9.39827576e-02,  1.84971061e-01, -1.65778949e-01,\n",
       "         9.97016285e-03,  1.35271707e-01, -1.64466431e-01,\n",
       "         7.91979296e-02, -2.59322990e-02,  2.61626565e-01,\n",
       "         2.55157524e-01, -3.04327200e-01,  1.08866397e-01,\n",
       "         2.30240861e-01, -2.18553929e-01,  6.00703457e-02,\n",
       "        -3.64509611e-02,  5.62535668e-03,  1.17278342e-02],\n",
       "       [-1.79437535e-01,  2.08850753e-01,  5.28790311e-01,\n",
       "         2.01398520e-02,  1.64202634e-02, -8.98652813e-02,\n",
       "        -7.89601065e-02, -2.70196226e-02, -1.02784029e-01,\n",
       "        -1.55393064e-01,  2.11881363e-01, -6.06111680e-02,\n",
       "         1.42523046e-02,  1.03943589e-01, -4.08551008e-01,\n",
       "         3.53664896e-02,  3.64572455e-01, -1.85534243e-01,\n",
       "        -2.49038793e-01,  3.27451543e-01, -1.50619582e-01,\n",
       "         8.37600057e-02,  3.50135778e-03, -1.01171201e-02],\n",
       "       [-2.10966743e-01,  1.84449397e-01,  2.88669868e-01,\n",
       "        -5.23280349e-02,  3.99957474e-01, -3.83597069e-01,\n",
       "        -1.68090784e-01, -2.38380968e-01,  8.06803505e-02,\n",
       "        -8.90866688e-02,  9.08122071e-03,  2.12283437e-01,\n",
       "        -1.37901574e-01, -1.04509900e-01,  5.42747328e-03,\n",
       "        -2.73694343e-01, -2.86160083e-02,  1.63391656e-01,\n",
       "         2.00033866e-01, -3.68899189e-01,  2.39283022e-01,\n",
       "        -1.31927532e-01, -1.98347404e-02,  8.36846887e-03],\n",
       "       [-2.64809279e-01, -1.10352850e-01,  5.58243898e-03,\n",
       "         1.66221305e-01,  3.02088771e-01, -4.36640440e-01,\n",
       "         9.63776375e-02, -1.25386064e-01,  8.09561285e-02,\n",
       "         1.80256058e-01,  1.52561211e-02, -1.47852358e-01,\n",
       "         1.88559806e-02,  9.78119721e-02,  3.70346441e-01,\n",
       "         1.59900742e-01, -2.85962690e-01, -7.73462754e-03,\n",
       "        -5.40428711e-02,  3.43650770e-01, -3.18639231e-01,\n",
       "         2.04793746e-01,  5.38928097e-02, -1.00637763e-02],\n",
       "       [-2.42480130e-01, -4.06017542e-01, -3.57239183e-02,\n",
       "         3.62740477e-01,  4.83465339e-03, -1.32470164e-01,\n",
       "         3.30300669e-01, -7.24787348e-02, -1.03814226e-01,\n",
       "         2.75708170e-01,  2.11260205e-02, -1.82185048e-01,\n",
       "        -9.19929991e-03,  1.44068252e-01, -1.85297873e-01,\n",
       "         6.47224915e-02,  2.02275470e-01, -1.56666253e-01,\n",
       "        -1.03077475e-01, -1.87683155e-01,  3.55858081e-01,\n",
       "        -2.86083224e-01, -1.06385573e-01,  2.59249892e-02],\n",
       "       [-1.40294549e-01, -2.28316634e-01,  5.46616287e-02,\n",
       "         1.67573319e-01, -5.46829354e-02,  1.98335178e-01,\n",
       "         4.06209475e-01, -3.42149445e-01, -1.54608476e-01,\n",
       "        -1.56955429e-01, -1.29678930e-01,  2.25213330e-01,\n",
       "        -1.59281971e-01, -2.76840224e-01, -2.24923740e-01,\n",
       "        -7.13550270e-02,  1.03794462e-02,  1.10878170e-01,\n",
       "         2.44614253e-01, -6.50079064e-02, -2.92846607e-01,\n",
       "         3.38911598e-01,  1.44995841e-01, -2.90343316e-02],\n",
       "       [-1.18141875e-01,  5.34733238e-03,  2.81199596e-02,\n",
       "        -5.28769615e-02,  6.48823341e-04,  2.73205999e-01,\n",
       "         1.40546627e-01, -4.74122522e-01,  1.81023115e-01,\n",
       "        -4.74489840e-01, -6.62035516e-02, -7.35441919e-02,\n",
       "         6.11333707e-02, -5.79996820e-02,  2.50164881e-01,\n",
       "         9.42361650e-02, -6.91505329e-02,  3.87429296e-02,\n",
       "        -1.95116349e-01,  2.59202195e-01,  1.54327012e-01,\n",
       "        -3.76652475e-01, -1.95175266e-01,  4.07142863e-02],\n",
       "       [-2.14099548e-01, -2.26536663e-01, -5.19752827e-02,\n",
       "         1.38238618e-02, -2.21597566e-02,  2.24219466e-01,\n",
       "        -3.78934031e-01, -2.35604238e-01,  2.02135588e-01,\n",
       "        -1.26086277e-01,  1.79649600e-01, -3.69350443e-01,\n",
       "         2.21221314e-01,  1.81643397e-01,  1.20041930e-01,\n",
       "        -1.07446458e-01,  1.58870639e-01, -5.87926460e-02,\n",
       "         2.46600938e-02, -2.93880375e-01,  4.24414632e-02,\n",
       "         3.62379855e-01,  2.54695885e-01, -5.55451158e-02],\n",
       "       [-2.10864193e-01, -3.50368105e-01,  4.36084389e-02,\n",
       "        -9.87885678e-02,  8.59358226e-03,  2.10590158e-01,\n",
       "        -5.00824224e-01, -9.11281053e-02, -2.97913174e-01,\n",
       "         2.75431872e-01,  1.26026065e-01,  4.59670465e-02,\n",
       "        -2.28726457e-02, -1.47654552e-01, -6.36806349e-02,\n",
       "        -3.50018809e-02, -7.32045309e-02,  1.43998526e-01,\n",
       "         1.76368544e-01,  1.75279043e-01, -2.24573299e-01,\n",
       "        -2.60834333e-01, -3.08661282e-01,  7.54176786e-02],\n",
       "       [-9.96288129e-02, -1.69572320e-02,  1.17930224e-01,\n",
       "        -4.68035125e-01,  5.57327028e-02,  1.41390606e-01,\n",
       "         3.33606314e-02, -1.69662796e-01, -2.97248470e-01,\n",
       "         3.14325948e-01, -3.87583067e-02,  1.43905182e-01,\n",
       "        -1.76743870e-01, -1.37078744e-01,  2.06302206e-01,\n",
       "         2.28327936e-01,  1.11268922e-02, -1.70127961e-01,\n",
       "        -2.65590165e-01,  8.52171069e-03,  2.98939978e-01,\n",
       "         1.03708347e-01,  3.66007305e-01, -1.26391260e-01],\n",
       "       [-1.23581061e-01,  6.26684040e-02,  5.97593159e-02,\n",
       "        -4.81490261e-01, -7.06454400e-02,  5.26714940e-02,\n",
       "         3.49618156e-01, -2.28610221e-02,  2.47704651e-01,\n",
       "         2.08828046e-01,  1.47571493e-01, -6.76002437e-02,\n",
       "        -1.24589245e-01,  1.58884211e-01,  1.76735065e-01,\n",
       "        -5.88707426e-02,  2.70754602e-01, -1.06038167e-01,\n",
       "         1.73204933e-01, -1.71565333e-01, -2.37878473e-01,\n",
       "         7.52044521e-02, -4.04840073e-01,  1.94859109e-01],\n",
       "       [-2.11615113e-01, -1.92395566e-01,  3.25449840e-02,\n",
       "        -1.44527278e-01, -1.12817552e-01,  5.96070490e-02,\n",
       "         1.20153462e-01,  2.58665972e-01,  4.11126018e-01,\n",
       "         1.08203346e-02,  2.80993946e-01,  1.67498836e-02,\n",
       "        -2.90163643e-01,  8.08120880e-02, -1.26879125e-01,\n",
       "        -1.45010466e-01, -8.51173927e-02,  3.05454545e-01,\n",
       "         9.33574958e-02,  2.49732534e-01,  6.98575394e-02,\n",
       "        -2.16802776e-01,  3.62212954e-01, -2.60167384e-01],\n",
       "       [-1.84530354e-01, -2.24899473e-01,  4.50034264e-02,\n",
       "         3.55030213e-02,  9.82942908e-02,  1.05081882e-01,\n",
       "        -1.18585171e-01,  3.42028389e-01,  1.20136366e-01,\n",
       "        -2.53632629e-01, -3.75323313e-02,  6.06916702e-02,\n",
       "        -4.39015128e-01, -7.10746859e-02, -4.92077633e-02,\n",
       "         8.58562124e-02, -2.58796028e-01, -1.07009476e-01,\n",
       "        -3.46339031e-01, -1.31619550e-01,  1.07896352e-01,\n",
       "         2.84205587e-01, -2.40948673e-01,  3.20513071e-01],\n",
       "       [-1.24379378e-01, -7.49157221e-02,  5.09014104e-02,\n",
       "        -2.64274033e-02,  2.15632871e-01,  6.36090042e-02,\n",
       "        -5.87623519e-02,  2.94609214e-01, -6.74033228e-02,\n",
       "        -2.36114341e-01, -4.05731859e-01, -1.98678216e-01,\n",
       "        -1.90649013e-01, -5.95247465e-02,  1.60011642e-01,\n",
       "         7.00904937e-02,  2.08343853e-01, -3.57594128e-01,\n",
       "         2.23538515e-01, -9.71424562e-02, -2.53544317e-01,\n",
       "        -2.66984699e-01,  8.35874197e-02, -3.56098776e-01],\n",
       "       [-1.51459033e-01, -4.50576330e-02,  8.00770722e-02,\n",
       "        -1.50356260e-01,  1.08915814e-01, -2.12831098e-03,\n",
       "         6.26324717e-02,  2.32180115e-01, -3.93893590e-02,\n",
       "         6.19761395e-03, -4.19304984e-01, -2.65558666e-01,\n",
       "         2.23406298e-01, -1.53363052e-01, -4.13271158e-03,\n",
       "        -4.73237251e-02,  2.39292902e-01,  3.52151457e-01,\n",
       "         1.81707660e-01,  2.75932120e-01,  2.71288148e-01,\n",
       "         1.45155982e-01,  8.70389548e-02,  4.00033177e-01],\n",
       "       [-1.70258890e-01, -6.34156547e-02,  6.71369519e-02,\n",
       "        -2.11296369e-01,  2.25711706e-02, -4.15548547e-02,\n",
       "         1.10359283e-01,  1.25326171e-01,  1.28679420e-01,\n",
       "         6.91324846e-02, -1.42290126e-01, -6.48496428e-02,\n",
       "         4.46880544e-01, -2.87819802e-01, -1.99193986e-01,\n",
       "        -1.03138421e-02, -1.58249574e-01,  2.00657351e-01,\n",
       "        -3.86731285e-01, -2.32899727e-01, -1.33973440e-01,\n",
       "         3.98757785e-02, -2.24005528e-01, -4.25171636e-01],\n",
       "       [-1.06203532e-01, -1.39444339e-01, -8.50904986e-03,\n",
       "        -9.16189608e-02, -4.33448971e-02, -1.11637306e-01,\n",
       "         2.67457387e-02,  1.05274244e-01,  2.09684691e-01,\n",
       "        -6.66688608e-02,  1.82131059e-01,  2.32731701e-01,\n",
       "         3.88341309e-01, -3.50927328e-01, -4.85163440e-02,\n",
       "         6.92304906e-02, -8.26446578e-02, -4.41153600e-01,\n",
       "         9.51221389e-02, -4.78905239e-02, -1.08586552e-01,\n",
       "        -2.18536307e-01,  2.97032139e-01,  3.96548277e-01],\n",
       "       [-7.40565602e-02, -2.06783974e-01, -3.78718178e-02,\n",
       "         3.82618068e-02, -5.85456176e-02, -1.29907599e-01,\n",
       "        -3.93095947e-02,  1.62782252e-01, -1.67392567e-03,\n",
       "        -2.01980109e-01,  1.75199714e-01,  4.45782111e-01,\n",
       "         1.86789685e-01, -2.06464548e-02,  2.32587479e-01,\n",
       "         2.26358366e-01,  2.82888213e-01, -1.35954164e-02,\n",
       "         2.25906916e-01,  1.70190819e-01,  2.94218176e-01,\n",
       "         2.57796613e-01, -2.81026767e-01, -3.12145624e-01],\n",
       "       [-1.18991263e-01, -1.41873928e-01,  9.49590394e-03,\n",
       "        -6.03477936e-02,  1.04317309e-02, -8.34321890e-03,\n",
       "         4.73014708e-02,  1.28226025e-01, -2.52381349e-01,\n",
       "        -1.88151623e-01, -7.47001595e-02,  3.57337520e-01,\n",
       "         1.58553756e-01,  4.92768538e-01,  1.71516025e-01,\n",
       "         1.47860533e-02,  1.33899295e-01,  3.17225272e-01,\n",
       "        -2.58777579e-01, -2.14586057e-01, -2.73922322e-01,\n",
       "        -1.80303858e-01,  2.00093092e-01,  1.84404175e-01],\n",
       "       [-1.33553826e-01, -3.31294845e-02,  5.31752197e-02,\n",
       "        -1.83049369e-01,  4.28094478e-02,  1.10530714e-01,\n",
       "         1.18768487e-01,  3.91634190e-02, -1.88025955e-01,\n",
       "        -6.93383843e-02, -1.35259599e-01,  7.59658147e-02,\n",
       "         2.19153521e-01,  4.24130598e-01, -1.49673908e-01,\n",
       "        -4.04342163e-01, -4.48992763e-01, -3.38102417e-01,\n",
       "         1.89785901e-01,  1.67210300e-01,  1.84913313e-01,\n",
       "         9.64802535e-02, -8.33163804e-02, -8.17042490e-02]])"
      ]
     },
     "execution_count": 56,
     "metadata": {},
     "output_type": "execute_result"
    }
   ],
   "source": [
    "for i in range(0, EVecs.shape[1]):\n",
    "    if EVecs[:, i][0] < 0:\n",
    "        EVecs[:, i] *= -1\n",
    "EVecs"
   ]
  },
  {
   "cell_type": "code",
   "execution_count": 57,
   "metadata": {},
   "outputs": [
    {
     "data": {
      "text/plain": [
       "[array([0.13668468, 0.08795611, 0.10404306, 0.21536459, 0.67412243,\n",
       "        0.52749837, 0.15695643, 0.15410722, 0.08407228, 0.17087327,\n",
       "        0.24002878, 0.0983511 , 0.16140247, 0.00888755, 0.03952404,\n",
       "        0.03657982, 0.03273559, 0.03675598, 0.01542021, 0.00313612,\n",
       "        0.00574641, 0.00236421, 0.00068689, 0.00153161]),\n",
       " array([ 0.32446812, -0.27257148,  0.42796376, -0.00084406, -0.04609497,\n",
       "         0.02668321, -0.1479724 , -0.16510911,  0.42556162,  0.18948656,\n",
       "        -0.39955237,  0.17722396,  0.02942072,  0.24609428, -0.12847723,\n",
       "         0.29368479, -0.06218361, -0.01875047,  0.09262999, -0.01054893,\n",
       "        -0.00567151,  0.0060004 ,  0.00282919,  0.0069561 ]),\n",
       " array([ 0.47212423, -0.40514368,  0.37192531, -0.01379678, -0.02794543,\n",
       "        -0.11837548,  0.10872543,  0.06486655, -0.13114284, -0.08224107,\n",
       "         0.1501109 , -0.13535052, -0.00330436, -0.17767976,  0.32124244,\n",
       "        -0.46480792,  0.04703017, -0.02232239, -0.15421265,  0.03478553,\n",
       "        -0.01061664,  0.00289384, -0.00429327, -0.01164065]),\n",
       " array([ 0.26563936, -0.19906448, -0.04072668, -0.34045553,  0.24223773,\n",
       "        -0.17262953,  0.10372573, -0.03465048, -0.21820494, -0.30501414,\n",
       "         0.27355402, -0.29207614,  0.0073188 ,  0.09198607, -0.2726302 ,\n",
       "         0.43312976, -0.16906096,  0.12410084,  0.21064235, -0.10719695,\n",
       "         0.02022634, -0.01308059,  0.00436509,  0.01124654]),\n",
       " array([ 0.18115344, -0.21539166, -0.50487429, -0.21526526,  0.36372794,\n",
       "        -0.14293136, -0.09398276, -0.18497106,  0.16577895, -0.00997016,\n",
       "        -0.13527171,  0.16446643, -0.07919793,  0.0259323 , -0.26162656,\n",
       "        -0.25515752,  0.3043272 , -0.1088664 , -0.23024086,  0.21855393,\n",
       "        -0.06007035,  0.03645096, -0.00562536, -0.01172783]),\n",
       " array([ 0.17943753, -0.20885075, -0.52879031, -0.02013985, -0.01642026,\n",
       "         0.08986528,  0.07896011,  0.02701962,  0.10278403,  0.15539306,\n",
       "        -0.21188136,  0.06061117, -0.0142523 , -0.10394359,  0.40855101,\n",
       "        -0.03536649, -0.36457245,  0.18553424,  0.24903879, -0.32745154,\n",
       "         0.15061958, -0.08376001, -0.00350136,  0.01011712]),\n",
       " array([ 0.21096674, -0.1844494 , -0.28866987,  0.05232803, -0.39995747,\n",
       "         0.38359707,  0.16809078,  0.23838097, -0.08068035,  0.08908667,\n",
       "        -0.00908122, -0.21228344,  0.13790157,  0.1045099 , -0.00542747,\n",
       "         0.27369434,  0.02861601, -0.16339166, -0.20003387,  0.36889919,\n",
       "        -0.23928302,  0.13192753,  0.01983474, -0.00836847]),\n",
       " array([ 0.26480928,  0.11035285, -0.00558244, -0.1662213 , -0.30208877,\n",
       "         0.43664044, -0.09637764,  0.12538606, -0.08095613, -0.18025606,\n",
       "        -0.01525612,  0.14785236, -0.01885598, -0.09781197, -0.37034644,\n",
       "        -0.15990074,  0.28596269,  0.00773463,  0.05404287, -0.34365077,\n",
       "         0.31863923, -0.20479375, -0.05389281,  0.01006378]),\n",
       " array([ 0.24248013,  0.40601754,  0.03572392, -0.36274048, -0.00483465,\n",
       "         0.13247016, -0.33030067,  0.07247873,  0.10381423, -0.27570817,\n",
       "        -0.02112602,  0.18218505,  0.0091993 , -0.14406825,  0.18529787,\n",
       "        -0.06472249, -0.20227547,  0.15666625,  0.10307748,  0.18768316,\n",
       "        -0.35585808,  0.28608322,  0.10638557, -0.02592499]),\n",
       " array([ 0.14029455,  0.22831663, -0.05466163, -0.16757332,  0.05468294,\n",
       "        -0.19833518, -0.40620948,  0.34214944,  0.15460848,  0.15695543,\n",
       "         0.12967893, -0.22521333,  0.15928197,  0.27684022,  0.22492374,\n",
       "         0.07135503, -0.01037945, -0.11087817, -0.24461425,  0.06500791,\n",
       "         0.29284661, -0.3389116 , -0.14499584,  0.02903433]),\n",
       " array([ 0.11814188, -0.00534733, -0.02811996,  0.05287696, -0.00064882,\n",
       "        -0.273206  , -0.14054663,  0.47412252, -0.18102312,  0.47448984,\n",
       "         0.06620355,  0.07354419, -0.06113337,  0.05799968, -0.25016488,\n",
       "        -0.09423617,  0.06915053, -0.03874293,  0.19511635, -0.2592022 ,\n",
       "        -0.15432701,  0.37665248,  0.19517527, -0.04071429]),\n",
       " array([ 0.21409955,  0.22653666,  0.05197528, -0.01382386,  0.02215976,\n",
       "        -0.22421947,  0.37893403,  0.23560424, -0.20213559,  0.12608628,\n",
       "        -0.1796496 ,  0.36935044, -0.22122131, -0.1816434 , -0.12004193,\n",
       "         0.10744646, -0.15887064,  0.05879265, -0.02466009,  0.29388038,\n",
       "        -0.04244146, -0.36237985, -0.25469589,  0.05554512]),\n",
       " array([ 0.21086419,  0.35036811, -0.04360844,  0.09878857, -0.00859358,\n",
       "        -0.21059016,  0.50082422,  0.09112811,  0.29791317, -0.27543187,\n",
       "        -0.12602606, -0.04596705,  0.02287265,  0.14765455,  0.06368063,\n",
       "         0.03500188,  0.07320453, -0.14399853, -0.17636854, -0.17527904,\n",
       "         0.2245733 ,  0.26083433,  0.30866128, -0.07541768]),\n",
       " array([ 0.09962881,  0.01695723, -0.11793022,  0.46803513, -0.0557327 ,\n",
       "        -0.14139061, -0.03336063,  0.1696628 ,  0.29724847, -0.31432595,\n",
       "         0.03875831, -0.14390518,  0.17674387,  0.13707874, -0.20630221,\n",
       "        -0.22832794, -0.01112689,  0.17012796,  0.26559017, -0.00852171,\n",
       "        -0.29893998, -0.10370835, -0.3660073 ,  0.12639126]),\n",
       " array([ 0.12358106, -0.0626684 , -0.05975932,  0.48149026,  0.07064544,\n",
       "        -0.05267149, -0.34961816,  0.02286102, -0.24770465, -0.20882805,\n",
       "        -0.14757149,  0.06760024,  0.12458924, -0.15888421, -0.17673507,\n",
       "         0.05887074, -0.2707546 ,  0.10603817, -0.17320493,  0.17156533,\n",
       "         0.23787847, -0.07520445,  0.40484007, -0.19485911]),\n",
       " array([ 0.21161511,  0.19239557, -0.03254498,  0.14452728,  0.11281755,\n",
       "        -0.05960705, -0.12015346, -0.25866597, -0.41112602, -0.01082033,\n",
       "        -0.28099395, -0.01674988,  0.29016364, -0.08081209,  0.12687912,\n",
       "         0.14501047,  0.08511739, -0.30545454, -0.0933575 , -0.24973253,\n",
       "        -0.06985754,  0.21680278, -0.36221295,  0.26016738]),\n",
       " array([ 0.18453035,  0.22489947, -0.04500343, -0.03550302, -0.09829429,\n",
       "        -0.10508188,  0.11858517, -0.34202839, -0.12013637,  0.25363263,\n",
       "         0.03753233, -0.06069167,  0.43901513,  0.07107469,  0.04920776,\n",
       "        -0.08585621,  0.25879603,  0.10700948,  0.34633903,  0.13161955,\n",
       "        -0.10789635, -0.28420559,  0.24094867, -0.32051307]),\n",
       " array([ 0.12437938,  0.07491572, -0.05090141,  0.0264274 , -0.21563287,\n",
       "        -0.063609  ,  0.05876235, -0.29460921,  0.06740332,  0.23611434,\n",
       "         0.40573186,  0.19867822,  0.19064901,  0.05952475, -0.16001164,\n",
       "        -0.07009049, -0.20834385,  0.35759413, -0.22353851,  0.09714246,\n",
       "         0.25354432,  0.2669847 , -0.08358742,  0.35609878]),\n",
       " array([ 0.15145903,  0.04505763, -0.08007707,  0.15035626, -0.10891581,\n",
       "         0.00212831, -0.06263247, -0.23218012,  0.03938936, -0.00619761,\n",
       "         0.41930498,  0.26555867, -0.2234063 ,  0.15336305,  0.00413271,\n",
       "         0.04732373, -0.2392929 , -0.35215146, -0.18170766, -0.27593212,\n",
       "        -0.27128815, -0.14515598, -0.08703895, -0.40003318]),\n",
       " array([ 0.17025889,  0.06341565, -0.06713695,  0.21129637, -0.02257117,\n",
       "         0.04155485, -0.11035928, -0.12532617, -0.12867942, -0.06913248,\n",
       "         0.14229013,  0.06484964, -0.44688054,  0.2878198 ,  0.19919399,\n",
       "         0.01031384,  0.15824957, -0.20065735,  0.38673128,  0.23289973,\n",
       "         0.13397344, -0.03987578,  0.22400553,  0.42517164]),\n",
       " array([ 0.10620353,  0.13944434,  0.00850905,  0.09161896,  0.0433449 ,\n",
       "         0.11163731, -0.02674574, -0.10527424, -0.20968469,  0.06666886,\n",
       "        -0.18213106, -0.2327317 , -0.38834131,  0.35092733,  0.04851634,\n",
       "        -0.06923049,  0.08264466,  0.4411536 , -0.09512214,  0.04789052,\n",
       "         0.10858655,  0.21853631, -0.29703214, -0.39654828]),\n",
       " array([ 0.07405656,  0.20678397,  0.03787182, -0.03826181,  0.05854562,\n",
       "         0.1299076 ,  0.03930959, -0.16278225,  0.00167393,  0.20198011,\n",
       "        -0.17519971, -0.44578211, -0.18678968,  0.02064645, -0.23258748,\n",
       "        -0.22635837, -0.28288821,  0.01359542, -0.22590692, -0.17019082,\n",
       "        -0.29421818, -0.25779661,  0.28102677,  0.31214562]),\n",
       " array([ 0.11899126,  0.14187393, -0.0094959 ,  0.06034779, -0.01043173,\n",
       "         0.00834322, -0.04730147, -0.12822602,  0.25238135,  0.18815162,\n",
       "         0.07470016, -0.35733752, -0.15855376, -0.49276854, -0.17151602,\n",
       "        -0.01478605, -0.13389929, -0.31722527,  0.25877758,  0.21458606,\n",
       "         0.27392232,  0.18030386, -0.20009309, -0.18440418]),\n",
       " array([ 0.13355383,  0.03312948, -0.05317522,  0.18304937, -0.04280945,\n",
       "        -0.11053071, -0.11876849, -0.03916342,  0.18802596,  0.06933838,\n",
       "         0.1352596 , -0.07596581, -0.21915352, -0.4241306 ,  0.14967391,\n",
       "         0.40434216,  0.44899276,  0.33810242, -0.1897859 , -0.1672103 ,\n",
       "        -0.18491331, -0.09648025,  0.08331638,  0.08170425])]"
      ]
     },
     "execution_count": 57,
     "metadata": {},
     "output_type": "execute_result"
    }
   ],
   "source": [
    "[ev*(-1) if ev[0] < 0 else ev for ev in EVecs  ]"
   ]
  },
  {
   "cell_type": "code",
   "execution_count": 58,
   "metadata": {},
   "outputs": [
    {
     "ename": "NameError",
     "evalue": "name 'eigen_vecs_np' is not defined",
     "output_type": "error",
     "traceback": [
      "\u001b[0;31m---------------------------------------------------------------------------\u001b[0m",
      "\u001b[0;31mNameError\u001b[0m                                 Traceback (most recent call last)",
      "\u001b[0;32m<ipython-input-58-ea8721111510>\u001b[0m in \u001b[0;36m<module>\u001b[0;34m\u001b[0m\n\u001b[0;32m----> 1\u001b[0;31m \u001b[0meigen_vecs\u001b[0m\u001b[0;34m-\u001b[0m\u001b[0meigen_vecs_np\u001b[0m\u001b[0;34m\u001b[0m\u001b[0;34m\u001b[0m\u001b[0m\n\u001b[0m",
      "\u001b[0;31mNameError\u001b[0m: name 'eigen_vecs_np' is not defined"
     ]
    }
   ],
   "source": [
    "eigen_vecs-eigen_vecs_np"
   ]
  },
  {
   "cell_type": "code",
   "execution_count": 59,
   "metadata": {},
   "outputs": [],
   "source": [
    "cum_var = np.cumsum(EVals)"
   ]
  },
  {
   "cell_type": "code",
   "execution_count": 60,
   "metadata": {},
   "outputs": [],
   "source": [
    "size = EVals.size - 1"
   ]
  },
  {
   "cell_type": "code",
   "execution_count": 61,
   "metadata": {},
   "outputs": [],
   "source": [
    "req_cov_lst = [0.70, 0.80, 0.90, 0.95]\n",
    "MinDims = np.zeros((len(req_cov_lst),), dtype=np.int32)\n",
    "for i, cov_for in enumerate(req_cov_lst):\n",
    "    for k in range(size):\n",
    "        if cum_var[k]/cum_var[size] >= cov_for:\n",
    "            MinDims[i] = k\n",
    "            break"
   ]
  },
  {
   "cell_type": "code",
   "execution_count": 62,
   "metadata": {},
   "outputs": [
    {
     "data": {
      "text/plain": [
       "array([2, 4, 6, 9], dtype=int32)"
      ]
     },
     "execution_count": 62,
     "metadata": {},
     "output_type": "execute_result"
    }
   ],
   "source": [
    "MinDims"
   ]
  },
  {
   "cell_type": "code",
   "execution_count": 63,
   "metadata": {},
   "outputs": [],
   "source": [
    "def task1_3(X):\n",
    "    # Input:\n",
    "    # X: N * D matrix (double)\n",
    "    # Output:\n",
    "    # Evecs: D-by-D matrix (double) contains all eigenvectors as columns\n",
    "    # NB: follow the Task 1.3 specifications on eigenvectors.\n",
    "    # EVals: Eigenvalues in descending order, D x 1 vector\n",
    "    # (Note that the i-th columns of Evecs should corresponds to the i-th element in EVals)\n",
    "\n",
    "    covar_mat = X\n",
    "    eigen_vals, eigen_vecs = np.linalg.eig(covar_mat)\n",
    "    idx = np.argsort(eigen_vals)[::-1]\n",
    "    EVals = eigen_vals[idx]\n",
    "    EVecs = eigen_vecs[:, idx]\n",
    "\n",
    "    # Change direction of negative evecs\n",
    "    np.apply_along_axis(lambda x : x*(-1) if x[0] < 0 else x, 0, EVecs)\n",
    "    # caluclate the cumulative variance\n",
    "    cum_var = np.cumsum(EVals)\n",
    "    # calculate min number of PCA dimensions required for the following percentages\n",
    "    req_cov_lst = [0.70, 0.80, 0.90, 0.95]\n",
    "    MinDims = np.zeros((len(req_cov_lst),), dtype=np.int32)\n",
    "    for i, cov_for in enumerate(req_cov_lst):\n",
    "        for k in range(EVals.size):\n",
    "            if cum_var[k]/cum_var[EVals.size - 1] >= cov_for:\n",
    "                MinDims[i] = k\n",
    "                break\n",
    "    sio.savemat('t1_EVecs.mat', mdict={'EVecs': EVecs})\n",
    "    sio.savemat('t1_EVals.mat', mdict={'EVals': EVals})\n",
    "    sio.savemat('t1_Cumvar.mat', mdict={'Cumvar': cum_var})\n",
    "    sio.savemat('t1_MinDims.mat', mdict={'MinDims': MinDims})\n",
    "\n"
   ]
  },
  {
   "cell_type": "code",
   "execution_count": 64,
   "metadata": {},
   "outputs": [],
   "source": [
    "#task1_3(res1_1)"
   ]
  },
  {
   "cell_type": "code",
   "execution_count": 65,
   "metadata": {},
   "outputs": [
    {
     "data": {
      "text/plain": [
       "array([[ 1.18148335e-02, -4.37619788e-03, -5.91034314e-03,\n",
       "        -2.99273854e-03, -1.53964252e-03, -9.12451066e-04,\n",
       "        -1.26472019e-03, -3.86707941e-03, -4.84051355e-03,\n",
       "        -2.21269588e-03, -1.25272227e-03, -4.33312070e-03,\n",
       "        -4.84518817e-03, -1.95811598e-03, -2.68207230e-03,\n",
       "        -4.59549058e-03, -2.72668050e-03, -8.51376339e-04,\n",
       "        -2.22620083e-03, -3.29719906e-03, -3.10538730e-03,\n",
       "        -2.93603402e-03, -2.71759829e-03, -1.94824057e-03],\n",
       "       [-4.37619788e-03,  2.29611787e-02,  2.69499550e-02,\n",
       "         1.15202205e-02,  5.69689747e-03,  5.08680892e-03,\n",
       "         7.70573827e-03,  8.40170570e-03,  3.82535864e-03,\n",
       "         1.65207956e-03,  3.93593619e-03,  4.55515311e-03,\n",
       "         2.09018294e-03,  2.48182759e-03,  5.00715371e-03,\n",
       "         4.73837554e-03,  3.30238917e-03,  3.27643229e-03,\n",
       "         4.29699397e-03,  4.71826900e-03,  2.06182187e-03,\n",
       "         4.17402067e-04,  2.71433930e-03,  4.29424538e-03],\n",
       "       [-5.91034314e-03,  2.69499550e-02,  3.94143401e-02,\n",
       "         1.93302140e-02,  1.01528959e-02,  9.96341745e-03,\n",
       "         1.32582150e-02,  1.17718946e-02,  4.38109437e-03,\n",
       "         2.14605447e-03,  6.63435700e-03,  7.74801181e-03,\n",
       "         3.96005717e-03,  4.13626275e-03,  7.43665498e-03,\n",
       "         7.04813919e-03,  4.94203983e-03,  4.80332014e-03,\n",
       "         6.60699063e-03,  7.35444244e-03,  2.63447113e-03,\n",
       "        -4.60711869e-04,  3.20102121e-03,  6.19581240e-03],\n",
       "       [-2.99273854e-03,  1.15202205e-02,  1.93302140e-02,\n",
       "         1.46346715e-02,  1.04449656e-02,  7.76755457e-03,\n",
       "         7.24548945e-03,  6.61982059e-03,  4.49057930e-03,\n",
       "         2.72037124e-03,  3.37494557e-03,  4.57769277e-03,\n",
       "         2.88084874e-03,  7.97645874e-04,  2.37535011e-03,\n",
       "         4.20317509e-03,  3.43143284e-03,  2.57248932e-03,\n",
       "         3.43462161e-03,  3.61531302e-03,  1.32396343e-03,\n",
       "         1.17099936e-04,  1.58520841e-03,  2.71104187e-03],\n",
       "       [-1.53964252e-03,  5.69689747e-03,  1.01528959e-02,\n",
       "         1.04449656e-02,  1.55477628e-02,  1.24413298e-02,\n",
       "         7.33967691e-03,  3.30647005e-03,  1.16706387e-03,\n",
       "         1.76013324e-03,  2.61244982e-03,  1.17189503e-03,\n",
       "         4.79369792e-04,  1.77157912e-03,  2.97876701e-03,\n",
       "         2.74048407e-03,  1.74870762e-03,  1.71176744e-03,\n",
       "         2.94182232e-03,  2.91902865e-03,  2.53001481e-04,\n",
       "        -9.80515377e-04,  9.39308122e-04,  2.56518122e-03],\n",
       "       [-9.12451066e-04,  5.08680892e-03,  9.96341745e-03,\n",
       "         7.76755457e-03,  1.24413298e-02,  1.35887843e-02,\n",
       "         1.06619073e-02,  4.46722124e-03,  3.01341423e-05,\n",
       "         7.67965189e-04,  2.69396373e-03,  1.49206025e-03,\n",
       "         1.11282101e-03,  2.91914075e-03,  3.48750608e-03,\n",
       "         2.45360789e-03,  1.85833629e-03,  2.21115902e-03,\n",
       "         3.31332597e-03,  3.42121239e-03,  5.65369451e-04,\n",
       "        -1.09304707e-03,  1.04776700e-03,  2.98415092e-03],\n",
       "       [-1.26472019e-03,  7.70573827e-03,  1.32582150e-02,\n",
       "         7.24548945e-03,  7.33967691e-03,  1.06619073e-02,\n",
       "         1.30530507e-02,  8.03220083e-03,  1.16739732e-03,\n",
       "         5.74439588e-04,  2.95221620e-03,  2.52921176e-03,\n",
       "         2.02406255e-03,  3.30960880e-03,  3.57231692e-03,\n",
       "         2.62528463e-03,  2.54392764e-03,  3.06043672e-03,\n",
       "         3.86908355e-03,  4.04667864e-03,  1.37150978e-03,\n",
       "        -3.66417720e-04,  1.46402898e-03,  3.00514896e-03],\n",
       "       [-3.86707941e-03,  8.40170570e-03,  1.17718946e-02,\n",
       "         6.61982059e-03,  3.30647005e-03,  4.46722124e-03,\n",
       "         8.03220083e-03,  1.26811964e-02,  1.19638900e-02,\n",
       "         5.45189438e-03,  2.80194909e-03,  7.18198744e-03,\n",
       "         7.38540929e-03,  1.95009473e-03,  2.40353202e-03,\n",
       "         6.80223972e-03,  6.61816475e-03,  4.35652012e-03,\n",
       "         4.85820688e-03,  5.37852666e-03,  4.07208598e-03,\n",
       "         3.65173605e-03,  4.22651172e-03,  3.53088817e-03],\n",
       "       [-4.84051355e-03,  3.82535864e-03,  4.38109437e-03,\n",
       "         4.49057930e-03,  1.16706387e-03,  3.01341423e-05,\n",
       "         1.16739732e-03,  1.19638900e-02,  1.98282465e-02,\n",
       "         1.08875663e-02,  2.54200410e-03,  1.00852056e-02,\n",
       "         1.21399549e-02,  8.24631633e-04,  3.77413391e-04,\n",
       "         9.53058513e-03,  9.55096267e-03,  4.49176043e-03,\n",
       "         4.55218554e-03,  5.31871183e-03,  5.51609725e-03,\n",
       "         6.59232867e-03,  6.15962204e-03,  3.70027042e-03],\n",
       "       [-2.21269588e-03,  1.65207956e-03,  2.14605447e-03,\n",
       "         2.72037124e-03,  1.76013324e-03,  7.67965189e-04,\n",
       "         5.74439588e-04,  5.45189438e-03,  1.08875663e-02,\n",
       "         8.80575357e-03,  3.79925726e-03,  5.51661007e-03,\n",
       "         6.67629603e-03,  1.56672140e-03,  9.43030968e-04,\n",
       "         5.32878895e-03,  5.33626540e-03,  2.48159311e-03,\n",
       "         2.54352756e-03,  3.12518012e-03,  2.94367938e-03,\n",
       "         3.38940475e-03,  3.70355816e-03,  2.79169050e-03],\n",
       "       [-1.25272227e-03,  3.93593619e-03,  6.63435700e-03,\n",
       "         3.37494557e-03,  2.61244982e-03,  2.69396373e-03,\n",
       "         2.95221620e-03,  2.80194909e-03,  2.54200410e-03,\n",
       "         3.79925726e-03,  5.07542840e-03,  4.07580465e-03,\n",
       "         2.31577893e-03,  1.94358359e-03,  2.56951977e-03,\n",
       "         2.73836288e-03,  2.17239539e-03,  1.54605321e-03,\n",
       "         1.79802585e-03,  2.26828378e-03,  1.23396700e-03,\n",
       "         4.52563634e-04,  1.47984415e-03,  2.25205050e-03],\n",
       "       [-4.33312070e-03,  4.55515311e-03,  7.74801181e-03,\n",
       "         4.57769277e-03,  1.17189503e-03,  1.49206025e-03,\n",
       "         2.52921176e-03,  7.18198744e-03,  1.00852056e-02,\n",
       "         5.51661007e-03,  4.07580465e-03,  1.11224937e-02,\n",
       "         1.13462235e-02,  2.23712086e-03,  1.50279330e-03,\n",
       "         7.49499574e-03,  7.46946770e-03,  3.76545981e-03,\n",
       "         3.65153801e-03,  4.43464038e-03,  4.16721740e-03,\n",
       "         4.13439175e-03,  4.17073393e-03,  3.34615318e-03],\n",
       "       [-4.84518817e-03,  2.09018294e-03,  3.96005717e-03,\n",
       "         2.88084874e-03,  4.79369792e-04,  1.11282101e-03,\n",
       "         2.02406255e-03,  7.38540929e-03,  1.21399549e-02,\n",
       "         6.67629603e-03,  2.31577893e-03,  1.13462235e-02,\n",
       "         1.56136645e-02,  4.60862906e-03,  1.20711010e-03,\n",
       "         8.32910313e-03,  9.04406165e-03,  4.49059622e-03,\n",
       "         4.45492692e-03,  5.15216191e-03,  4.90824409e-03,\n",
       "         5.46558212e-03,  5.54428489e-03,  4.03796766e-03],\n",
       "       [-1.95811598e-03,  2.48182759e-03,  4.13626275e-03,\n",
       "         7.97645874e-04,  1.77157912e-03,  2.91914075e-03,\n",
       "         3.30960880e-03,  1.95009473e-03,  8.24631633e-04,\n",
       "         1.56672140e-03,  1.94358359e-03,  2.23712086e-03,\n",
       "         4.60862906e-03,  6.38449702e-03,  5.18111293e-03,\n",
       "         3.03222947e-03,  1.74950966e-03,  1.66846993e-03,\n",
       "         2.97029058e-03,  3.45447856e-03,  1.41434374e-03,\n",
       "         1.99711757e-04,  1.98841903e-03,  3.22093706e-03],\n",
       "       [-2.68207230e-03,  5.00715371e-03,  7.43665498e-03,\n",
       "         2.37535011e-03,  2.97876701e-03,  3.48750608e-03,\n",
       "         3.57231692e-03,  2.40353202e-03,  3.77413391e-04,\n",
       "         9.43030968e-04,  2.56951977e-03,  1.50279330e-03,\n",
       "         1.20711010e-03,  5.18111293e-03,  7.53561461e-03,\n",
       "         4.61121294e-03,  1.19604824e-03,  1.11926725e-03,\n",
       "         3.08329182e-03,  4.12707213e-03,  1.84952902e-03,\n",
       "        -2.54821252e-04,  1.41471897e-03,  3.29957999e-03],\n",
       "       [-4.59549058e-03,  4.73837554e-03,  7.04813919e-03,\n",
       "         4.20317509e-03,  2.74048407e-03,  2.45360789e-03,\n",
       "         2.62528463e-03,  6.80223972e-03,  9.53058513e-03,\n",
       "         5.32878895e-03,  2.73836288e-03,  7.49499574e-03,\n",
       "         8.32910313e-03,  3.03222947e-03,  4.61121294e-03,\n",
       "         9.61982978e-03,  7.67157590e-03,  3.65450945e-03,\n",
       "         4.36400129e-03,  5.59866131e-03,  4.83402952e-03,\n",
       "         4.17794999e-03,  4.29199534e-03,  3.84544141e-03],\n",
       "       [-2.72668050e-03,  3.30238917e-03,  4.94203983e-03,\n",
       "         3.43143284e-03,  1.74870762e-03,  1.85833629e-03,\n",
       "         2.54392764e-03,  6.61816475e-03,  9.55096267e-03,\n",
       "         5.33626540e-03,  2.17239539e-03,  7.46946770e-03,\n",
       "         9.04406165e-03,  1.74950966e-03,  1.19604824e-03,\n",
       "         7.67157590e-03,  8.63335225e-03,  4.97589209e-03,\n",
       "         4.18731663e-03,  4.33178209e-03,  3.99158442e-03,\n",
       "         4.43300337e-03,  4.47914698e-03,  3.20794433e-03],\n",
       "       [-8.51376339e-04,  3.27643229e-03,  4.80332014e-03,\n",
       "         2.57248932e-03,  1.71176744e-03,  2.21115902e-03,\n",
       "         3.06043672e-03,  4.35652012e-03,  4.49176043e-03,\n",
       "         2.48159311e-03,  1.54605321e-03,  3.76545981e-03,\n",
       "         4.49059622e-03,  1.66846993e-03,  1.11926725e-03,\n",
       "         3.65450945e-03,  4.97589209e-03,  4.35748649e-03,\n",
       "         3.82838054e-03,  3.05041889e-03,  1.75714625e-03,\n",
       "         1.76352814e-03,  2.72366960e-03,  2.52587391e-03],\n",
       "       [-2.22620083e-03,  4.29699397e-03,  6.60699063e-03,\n",
       "         3.43462161e-03,  2.94182232e-03,  3.31332597e-03,\n",
       "         3.86908355e-03,  4.85820688e-03,  4.55218554e-03,\n",
       "         2.54352756e-03,  1.79802585e-03,  3.65153801e-03,\n",
       "         4.45492692e-03,  2.97029058e-03,  3.08329182e-03,\n",
       "         4.36400129e-03,  4.18731663e-03,  3.82838054e-03,\n",
       "         4.75691951e-03,  4.51692025e-03,  2.29744152e-03,\n",
       "         1.41001225e-03,  2.77119407e-03,  3.28218924e-03],\n",
       "       [-3.29719906e-03,  4.71826900e-03,  7.35444244e-03,\n",
       "         3.61531302e-03,  2.91902865e-03,  3.42121239e-03,\n",
       "         4.04667864e-03,  5.37852666e-03,  5.31871183e-03,\n",
       "         3.12518012e-03,  2.26828378e-03,  4.43464038e-03,\n",
       "         5.15216191e-03,  3.45447856e-03,  4.12707213e-03,\n",
       "         5.59866131e-03,  4.33178209e-03,  3.05041889e-03,\n",
       "         4.51692025e-03,  5.38180922e-03,  3.44933911e-03,\n",
       "         1.99648896e-03,  2.92601943e-03,  3.54435790e-03],\n",
       "       [-3.10538730e-03,  2.06182187e-03,  2.63447113e-03,\n",
       "         1.32396343e-03,  2.53001481e-04,  5.65369451e-04,\n",
       "         1.37150978e-03,  4.07208598e-03,  5.51609725e-03,\n",
       "         2.94367938e-03,  1.23396700e-03,  4.16721740e-03,\n",
       "         4.90824409e-03,  1.41434374e-03,  1.84952902e-03,\n",
       "         4.83402952e-03,  3.99158442e-03,  1.75714625e-03,\n",
       "         2.29744152e-03,  3.44933911e-03,  3.68350919e-03,\n",
       "         3.22990300e-03,  2.51421290e-03,  1.86214023e-03],\n",
       "       [-2.93603402e-03,  4.17402067e-04, -4.60711869e-04,\n",
       "         1.17099936e-04, -9.80515377e-04, -1.09304707e-03,\n",
       "        -3.66417720e-04,  3.65173605e-03,  6.59232867e-03,\n",
       "         3.38940475e-03,  4.52563634e-04,  4.13439175e-03,\n",
       "         5.46558212e-03,  1.99711757e-04, -2.54821252e-04,\n",
       "         4.17794999e-03,  4.43300337e-03,  1.76352814e-03,\n",
       "         1.41001225e-03,  1.99648896e-03,  3.22990300e-03,\n",
       "         4.34047668e-03,  3.26851811e-03,  1.19857777e-03],\n",
       "       [-2.71759829e-03,  2.71433930e-03,  3.20102121e-03,\n",
       "         1.58520841e-03,  9.39308122e-04,  1.04776700e-03,\n",
       "         1.46402898e-03,  4.22651172e-03,  6.15962204e-03,\n",
       "         3.70355816e-03,  1.47984415e-03,  4.17073393e-03,\n",
       "         5.54428489e-03,  1.98841903e-03,  1.41471897e-03,\n",
       "         4.29199534e-03,  4.47914698e-03,  2.72366960e-03,\n",
       "         2.77119407e-03,  2.92601943e-03,  2.51421290e-03,\n",
       "         3.26851811e-03,  4.16592823e-03,  3.01096287e-03],\n",
       "       [-1.94824057e-03,  4.29424538e-03,  6.19581240e-03,\n",
       "         2.71104187e-03,  2.56518122e-03,  2.98415092e-03,\n",
       "         3.00514896e-03,  3.53088817e-03,  3.70027042e-03,\n",
       "         2.79169050e-03,  2.25205050e-03,  3.34615318e-03,\n",
       "         4.03796766e-03,  3.22093706e-03,  3.29957999e-03,\n",
       "         3.84544141e-03,  3.20794433e-03,  2.52587391e-03,\n",
       "         3.28218924e-03,  3.54435790e-03,  1.86214023e-03,\n",
       "         1.19857777e-03,  3.01096287e-03,  3.84593890e-03]])"
      ]
     },
     "execution_count": 65,
     "metadata": {},
     "output_type": "execute_result"
    }
   ],
   "source": [
    "my_cov(X_vec)"
   ]
  },
  {
   "cell_type": "code",
   "execution_count": 66,
   "metadata": {},
   "outputs": [
    {
     "name": "stdout",
     "output_type": "stream",
     "text": [
      "[0.11761735 0.1732983  0.19698999 0.21275409 0.22368927 0.2325654\n",
      " 0.24090894 0.24694568 0.2513998  0.25539308 0.25883284 0.26096101\n",
      " 0.26261739 0.2640839  0.26535758 0.26594924 0.26634243 0.26659032\n",
      " 0.26671713 0.2667999  0.26685084 0.26687883 0.26689691 0.26690948]\n"
     ]
    },
    {
     "data": {
      "image/png": "[encoded data removed]",
      "text/plain": [
       "<Figure size 432x288 with 1 Axes>"
      ]
     },
     "metadata": {
      "needs_background": "light"
     },
     "output_type": "display_data"
    }
   ],
   "source": [
    "fig, ax = plt.subplots()\n",
    "print(cum_var)\n",
    "ax.plot(cum_var)\n",
    "ax.axhline(y=0.27, linestyle=\"--\")\n",
    "plt.xlabel(\"Eigenvalues summed\")\n",
    "plt.ylabel(\"Cumulative sum\")\n",
    "plt.savefig('cumvar.png')"
   ]
  },
  {
   "cell_type": "code",
   "execution_count": 67,
   "metadata": {},
   "outputs": [],
   "source": [
    "X_mean = my_mean(X_vec)\n",
    "X_shifted = X_vec - X_mean\n",
    "P = eig_vecs_np.T.dot(X_shifted.T)"
   ]
  },
  {
   "cell_type": "code",
   "execution_count": 68,
   "metadata": {},
   "outputs": [
    {
     "ename": "TypeError",
     "evalue": "scatter() missing 1 required positional argument: 'y'",
     "output_type": "error",
     "traceback": [
      "\u001b[0;31m---------------------------------------------------------------------------\u001b[0m",
      "\u001b[0;31mTypeError\u001b[0m                                 Traceback (most recent call last)",
      "\u001b[0;32m<ipython-input-68-7c648de20713>\u001b[0m in \u001b[0;36m<module>\u001b[0;34m\u001b[0m\n\u001b[0;32m----> 1\u001b[0;31m \u001b[0mplt\u001b[0m\u001b[0;34m.\u001b[0m\u001b[0mscatter\u001b[0m\u001b[0;34m(\u001b[0m\u001b[0mP\u001b[0m\u001b[0;34m)\u001b[0m\u001b[0;34m\u001b[0m\u001b[0;34m\u001b[0m\u001b[0m\n\u001b[0m",
      "\u001b[0;31mTypeError\u001b[0m: scatter() missing 1 required positional argument: 'y'"
     ]
    }
   ],
   "source": [
    "plt.scatter(P)"
   ]
  },
  {
   "cell_type": "code",
   "execution_count": null,
   "metadata": {},
   "outputs": [],
   "source": [
    "P"
   ]
  },
  {
   "cell_type": "code",
   "execution_count": 69,
   "metadata": {},
   "outputs": [],
   "source": [
    "from sklearn.preprocessing import StandardScaler\n",
    "X_vec = StandardScaler().fit_transform(X_vec)"
   ]
  },
  {
   "cell_type": "code",
   "execution_count": 70,
   "metadata": {},
   "outputs": [
    {
     "name": "stdout",
     "output_type": "stream",
     "text": [
      "[[ 0.22549159 -1.5231426 ]\n",
      " [-0.83923136  1.07772884]\n",
      " [ 0.02887795 -1.6955516 ]\n",
      " ...\n",
      " [-2.44198877  1.94661572]\n",
      " [-1.82651049  0.941203  ]\n",
      " [-3.05941854  2.93123337]]\n"
     ]
    }
   ],
   "source": [
    "import pandas as pd\n",
    "from sklearn.decomposition import PCA\n",
    "pca = PCA(n_components=2)\n",
    "principalComponents = pca.fit_transform(X_vec)\n",
    "print(principalComponents)\n",
    "principalDf = pd.DataFrame(data = principalComponents\n",
    "             , columns = ['principal component 1', 'principal component 2'])\n",
    "target_class = pd.DataFrame(data = Y_species, columns= ['target'])"
   ]
  },
  {
   "cell_type": "code",
   "execution_count": 71,
   "metadata": {},
   "outputs": [],
   "source": [
    "finalDf = pd.concat([principalDf, target_class[['target']]], axis = 1)"
   ]
  },
  {
   "cell_type": "code",
   "execution_count": 72,
   "metadata": {
    "scrolled": false
   },
   "outputs": [
    {
     "data": {
      "text/html": [
       "<div>\n",
       "<style scoped>\n",
       "    .dataframe tbody tr th:only-of-type {\n",
       "        vertical-align: middle;\n",
       "    }\n",
       "\n",
       "    .dataframe tbody tr th {\n",
       "        vertical-align: top;\n",
       "    }\n",
       "\n",
       "    .dataframe thead th {\n",
       "        text-align: right;\n",
       "    }\n",
       "</style>\n",
       "<table border=\"1\" class=\"dataframe\">\n",
       "  <thead>\n",
       "    <tr style=\"text-align: right;\">\n",
       "      <th></th>\n",
       "      <th>principal component 1</th>\n",
       "      <th>principal component 2</th>\n",
       "      <th>target</th>\n",
       "    </tr>\n",
       "  </thead>\n",
       "  <tbody>\n",
       "    <tr>\n",
       "      <th>0</th>\n",
       "      <td>0.225492</td>\n",
       "      <td>-1.523143</td>\n",
       "      <td>2</td>\n",
       "    </tr>\n",
       "    <tr>\n",
       "      <th>1</th>\n",
       "      <td>-0.839231</td>\n",
       "      <td>1.077729</td>\n",
       "      <td>7</td>\n",
       "    </tr>\n",
       "    <tr>\n",
       "      <th>2</th>\n",
       "      <td>0.028878</td>\n",
       "      <td>-1.695552</td>\n",
       "      <td>2</td>\n",
       "    </tr>\n",
       "    <tr>\n",
       "      <th>3</th>\n",
       "      <td>-1.724178</td>\n",
       "      <td>1.435945</td>\n",
       "      <td>6</td>\n",
       "    </tr>\n",
       "    <tr>\n",
       "      <th>4</th>\n",
       "      <td>-1.417346</td>\n",
       "      <td>-1.569278</td>\n",
       "      <td>2</td>\n",
       "    </tr>\n",
       "    <tr>\n",
       "      <th>5</th>\n",
       "      <td>-0.799497</td>\n",
       "      <td>-2.246400</td>\n",
       "      <td>2</td>\n",
       "    </tr>\n",
       "    <tr>\n",
       "      <th>6</th>\n",
       "      <td>-0.477780</td>\n",
       "      <td>-1.762568</td>\n",
       "      <td>2</td>\n",
       "    </tr>\n",
       "    <tr>\n",
       "      <th>7</th>\n",
       "      <td>-0.215250</td>\n",
       "      <td>-1.836961</td>\n",
       "      <td>2</td>\n",
       "    </tr>\n",
       "    <tr>\n",
       "      <th>8</th>\n",
       "      <td>-1.998266</td>\n",
       "      <td>2.449468</td>\n",
       "      <td>6</td>\n",
       "    </tr>\n",
       "    <tr>\n",
       "      <th>9</th>\n",
       "      <td>1.712360</td>\n",
       "      <td>-4.123751</td>\n",
       "      <td>2</td>\n",
       "    </tr>\n",
       "    <tr>\n",
       "      <th>10</th>\n",
       "      <td>-1.317919</td>\n",
       "      <td>1.460957</td>\n",
       "      <td>4</td>\n",
       "    </tr>\n",
       "    <tr>\n",
       "      <th>11</th>\n",
       "      <td>2.601614</td>\n",
       "      <td>1.256039</td>\n",
       "      <td>3</td>\n",
       "    </tr>\n",
       "    <tr>\n",
       "      <th>12</th>\n",
       "      <td>-0.710525</td>\n",
       "      <td>-2.823150</td>\n",
       "      <td>2</td>\n",
       "    </tr>\n",
       "    <tr>\n",
       "      <th>13</th>\n",
       "      <td>-1.162751</td>\n",
       "      <td>-0.894133</td>\n",
       "      <td>2</td>\n",
       "    </tr>\n",
       "    <tr>\n",
       "      <th>14</th>\n",
       "      <td>0.178429</td>\n",
       "      <td>-2.756284</td>\n",
       "      <td>2</td>\n",
       "    </tr>\n",
       "    <tr>\n",
       "      <th>15</th>\n",
       "      <td>0.389630</td>\n",
       "      <td>-1.204834</td>\n",
       "      <td>1</td>\n",
       "    </tr>\n",
       "    <tr>\n",
       "      <th>16</th>\n",
       "      <td>3.563291</td>\n",
       "      <td>-0.328816</td>\n",
       "      <td>3</td>\n",
       "    </tr>\n",
       "    <tr>\n",
       "      <th>17</th>\n",
       "      <td>-0.199250</td>\n",
       "      <td>-0.065582</td>\n",
       "      <td>2</td>\n",
       "    </tr>\n",
       "    <tr>\n",
       "      <th>18</th>\n",
       "      <td>-0.850520</td>\n",
       "      <td>-2.430570</td>\n",
       "      <td>2</td>\n",
       "    </tr>\n",
       "    <tr>\n",
       "      <th>19</th>\n",
       "      <td>-1.892314</td>\n",
       "      <td>1.404137</td>\n",
       "      <td>8</td>\n",
       "    </tr>\n",
       "    <tr>\n",
       "      <th>20</th>\n",
       "      <td>13.096471</td>\n",
       "      <td>1.569261</td>\n",
       "      <td>3</td>\n",
       "    </tr>\n",
       "    <tr>\n",
       "      <th>21</th>\n",
       "      <td>-2.127096</td>\n",
       "      <td>2.390832</td>\n",
       "      <td>6</td>\n",
       "    </tr>\n",
       "    <tr>\n",
       "      <th>22</th>\n",
       "      <td>0.267294</td>\n",
       "      <td>-3.175269</td>\n",
       "      <td>2</td>\n",
       "    </tr>\n",
       "    <tr>\n",
       "      <th>23</th>\n",
       "      <td>-0.570006</td>\n",
       "      <td>1.381282</td>\n",
       "      <td>9</td>\n",
       "    </tr>\n",
       "    <tr>\n",
       "      <th>24</th>\n",
       "      <td>-1.179389</td>\n",
       "      <td>-1.147427</td>\n",
       "      <td>2</td>\n",
       "    </tr>\n",
       "    <tr>\n",
       "      <th>25</th>\n",
       "      <td>1.729222</td>\n",
       "      <td>-3.367302</td>\n",
       "      <td>2</td>\n",
       "    </tr>\n",
       "    <tr>\n",
       "      <th>26</th>\n",
       "      <td>-1.455838</td>\n",
       "      <td>0.608436</td>\n",
       "      <td>10</td>\n",
       "    </tr>\n",
       "    <tr>\n",
       "      <th>27</th>\n",
       "      <td>13.963821</td>\n",
       "      <td>1.922923</td>\n",
       "      <td>3</td>\n",
       "    </tr>\n",
       "    <tr>\n",
       "      <th>28</th>\n",
       "      <td>-0.220358</td>\n",
       "      <td>0.580389</td>\n",
       "      <td>7</td>\n",
       "    </tr>\n",
       "    <tr>\n",
       "      <th>29</th>\n",
       "      <td>-1.846782</td>\n",
       "      <td>2.537281</td>\n",
       "      <td>4</td>\n",
       "    </tr>\n",
       "    <tr>\n",
       "      <th>...</th>\n",
       "      <td>...</td>\n",
       "      <td>...</td>\n",
       "      <td>...</td>\n",
       "    </tr>\n",
       "    <tr>\n",
       "      <th>4226</th>\n",
       "      <td>-1.580428</td>\n",
       "      <td>0.962084</td>\n",
       "      <td>7</td>\n",
       "    </tr>\n",
       "    <tr>\n",
       "      <th>4227</th>\n",
       "      <td>-0.089144</td>\n",
       "      <td>-1.025079</td>\n",
       "      <td>2</td>\n",
       "    </tr>\n",
       "    <tr>\n",
       "      <th>4228</th>\n",
       "      <td>-0.959068</td>\n",
       "      <td>-1.190201</td>\n",
       "      <td>2</td>\n",
       "    </tr>\n",
       "    <tr>\n",
       "      <th>4229</th>\n",
       "      <td>-0.877061</td>\n",
       "      <td>-1.125652</td>\n",
       "      <td>4</td>\n",
       "    </tr>\n",
       "    <tr>\n",
       "      <th>4230</th>\n",
       "      <td>-0.773547</td>\n",
       "      <td>0.057302</td>\n",
       "      <td>2</td>\n",
       "    </tr>\n",
       "    <tr>\n",
       "      <th>4231</th>\n",
       "      <td>0.779158</td>\n",
       "      <td>-0.379696</td>\n",
       "      <td>2</td>\n",
       "    </tr>\n",
       "    <tr>\n",
       "      <th>4232</th>\n",
       "      <td>-1.808578</td>\n",
       "      <td>1.645827</td>\n",
       "      <td>1</td>\n",
       "    </tr>\n",
       "    <tr>\n",
       "      <th>4233</th>\n",
       "      <td>10.763020</td>\n",
       "      <td>1.849324</td>\n",
       "      <td>3</td>\n",
       "    </tr>\n",
       "    <tr>\n",
       "      <th>4234</th>\n",
       "      <td>-0.514360</td>\n",
       "      <td>-2.327329</td>\n",
       "      <td>2</td>\n",
       "    </tr>\n",
       "    <tr>\n",
       "      <th>4235</th>\n",
       "      <td>-0.214295</td>\n",
       "      <td>-0.005522</td>\n",
       "      <td>2</td>\n",
       "    </tr>\n",
       "    <tr>\n",
       "      <th>4236</th>\n",
       "      <td>-0.971813</td>\n",
       "      <td>0.460990</td>\n",
       "      <td>4</td>\n",
       "    </tr>\n",
       "    <tr>\n",
       "      <th>4237</th>\n",
       "      <td>-2.767699</td>\n",
       "      <td>2.446988</td>\n",
       "      <td>5</td>\n",
       "    </tr>\n",
       "    <tr>\n",
       "      <th>4238</th>\n",
       "      <td>2.384323</td>\n",
       "      <td>-2.762981</td>\n",
       "      <td>2</td>\n",
       "    </tr>\n",
       "    <tr>\n",
       "      <th>4239</th>\n",
       "      <td>-2.231239</td>\n",
       "      <td>1.616770</td>\n",
       "      <td>5</td>\n",
       "    </tr>\n",
       "    <tr>\n",
       "      <th>4240</th>\n",
       "      <td>-0.623713</td>\n",
       "      <td>-2.675074</td>\n",
       "      <td>2</td>\n",
       "    </tr>\n",
       "    <tr>\n",
       "      <th>4241</th>\n",
       "      <td>0.651957</td>\n",
       "      <td>-1.770516</td>\n",
       "      <td>2</td>\n",
       "    </tr>\n",
       "    <tr>\n",
       "      <th>4242</th>\n",
       "      <td>-0.724585</td>\n",
       "      <td>-2.019402</td>\n",
       "      <td>2</td>\n",
       "    </tr>\n",
       "    <tr>\n",
       "      <th>4243</th>\n",
       "      <td>-1.368403</td>\n",
       "      <td>-0.748738</td>\n",
       "      <td>2</td>\n",
       "    </tr>\n",
       "    <tr>\n",
       "      <th>4244</th>\n",
       "      <td>-2.954238</td>\n",
       "      <td>2.819109</td>\n",
       "      <td>5</td>\n",
       "    </tr>\n",
       "    <tr>\n",
       "      <th>4245</th>\n",
       "      <td>-2.942645</td>\n",
       "      <td>2.635297</td>\n",
       "      <td>1</td>\n",
       "    </tr>\n",
       "    <tr>\n",
       "      <th>4246</th>\n",
       "      <td>-0.988292</td>\n",
       "      <td>-1.966457</td>\n",
       "      <td>2</td>\n",
       "    </tr>\n",
       "    <tr>\n",
       "      <th>4247</th>\n",
       "      <td>0.615564</td>\n",
       "      <td>-1.077894</td>\n",
       "      <td>2</td>\n",
       "    </tr>\n",
       "    <tr>\n",
       "      <th>4248</th>\n",
       "      <td>-1.135934</td>\n",
       "      <td>-1.156726</td>\n",
       "      <td>2</td>\n",
       "    </tr>\n",
       "    <tr>\n",
       "      <th>4249</th>\n",
       "      <td>0.336800</td>\n",
       "      <td>-0.841912</td>\n",
       "      <td>2</td>\n",
       "    </tr>\n",
       "    <tr>\n",
       "      <th>4250</th>\n",
       "      <td>-2.182787</td>\n",
       "      <td>2.718990</td>\n",
       "      <td>6</td>\n",
       "    </tr>\n",
       "    <tr>\n",
       "      <th>4251</th>\n",
       "      <td>1.377687</td>\n",
       "      <td>1.006462</td>\n",
       "      <td>3</td>\n",
       "    </tr>\n",
       "    <tr>\n",
       "      <th>4252</th>\n",
       "      <td>-2.894475</td>\n",
       "      <td>2.754036</td>\n",
       "      <td>1</td>\n",
       "    </tr>\n",
       "    <tr>\n",
       "      <th>4253</th>\n",
       "      <td>-2.441989</td>\n",
       "      <td>1.946616</td>\n",
       "      <td>1</td>\n",
       "    </tr>\n",
       "    <tr>\n",
       "      <th>4254</th>\n",
       "      <td>-1.826510</td>\n",
       "      <td>0.941203</td>\n",
       "      <td>10</td>\n",
       "    </tr>\n",
       "    <tr>\n",
       "      <th>4255</th>\n",
       "      <td>-3.059419</td>\n",
       "      <td>2.931233</td>\n",
       "      <td>5</td>\n",
       "    </tr>\n",
       "  </tbody>\n",
       "</table>\n",
       "<p>4256 rows × 3 columns</p>\n",
       "</div>"
      ],
      "text/plain": [
       "      principal component 1  principal component 2  target\n",
       "0                  0.225492              -1.523143       2\n",
       "1                 -0.839231               1.077729       7\n",
       "2                  0.028878              -1.695552       2\n",
       "3                 -1.724178               1.435945       6\n",
       "4                 -1.417346              -1.569278       2\n",
       "5                 -0.799497              -2.246400       2\n",
       "6                 -0.477780              -1.762568       2\n",
       "7                 -0.215250              -1.836961       2\n",
       "8                 -1.998266               2.449468       6\n",
       "9                  1.712360              -4.123751       2\n",
       "10                -1.317919               1.460957       4\n",
       "11                 2.601614               1.256039       3\n",
       "12                -0.710525              -2.823150       2\n",
       "13                -1.162751              -0.894133       2\n",
       "14                 0.178429              -2.756284       2\n",
       "15                 0.389630              -1.204834       1\n",
       "16                 3.563291              -0.328816       3\n",
       "17                -0.199250              -0.065582       2\n",
       "18                -0.850520              -2.430570       2\n",
       "19                -1.892314               1.404137       8\n",
       "20                13.096471               1.569261       3\n",
       "21                -2.127096               2.390832       6\n",
       "22                 0.267294              -3.175269       2\n",
       "23                -0.570006               1.381282       9\n",
       "24                -1.179389              -1.147427       2\n",
       "25                 1.729222              -3.367302       2\n",
       "26                -1.455838               0.608436      10\n",
       "27                13.963821               1.922923       3\n",
       "28                -0.220358               0.580389       7\n",
       "29                -1.846782               2.537281       4\n",
       "...                     ...                    ...     ...\n",
       "4226              -1.580428               0.962084       7\n",
       "4227              -0.089144              -1.025079       2\n",
       "4228              -0.959068              -1.190201       2\n",
       "4229              -0.877061              -1.125652       4\n",
       "4230              -0.773547               0.057302       2\n",
       "4231               0.779158              -0.379696       2\n",
       "4232              -1.808578               1.645827       1\n",
       "4233              10.763020               1.849324       3\n",
       "4234              -0.514360              -2.327329       2\n",
       "4235              -0.214295              -0.005522       2\n",
       "4236              -0.971813               0.460990       4\n",
       "4237              -2.767699               2.446988       5\n",
       "4238               2.384323              -2.762981       2\n",
       "4239              -2.231239               1.616770       5\n",
       "4240              -0.623713              -2.675074       2\n",
       "4241               0.651957              -1.770516       2\n",
       "4242              -0.724585              -2.019402       2\n",
       "4243              -1.368403              -0.748738       2\n",
       "4244              -2.954238               2.819109       5\n",
       "4245              -2.942645               2.635297       1\n",
       "4246              -0.988292              -1.966457       2\n",
       "4247               0.615564              -1.077894       2\n",
       "4248              -1.135934              -1.156726       2\n",
       "4249               0.336800              -0.841912       2\n",
       "4250              -2.182787               2.718990       6\n",
       "4251               1.377687               1.006462       3\n",
       "4252              -2.894475               2.754036       1\n",
       "4253              -2.441989               1.946616       1\n",
       "4254              -1.826510               0.941203      10\n",
       "4255              -3.059419               2.931233       5\n",
       "\n",
       "[4256 rows x 3 columns]"
      ]
     },
     "execution_count": 72,
     "metadata": {},
     "output_type": "execute_result"
    }
   ],
   "source": [
    "finalDf"
   ]
  },
  {
   "cell_type": "code",
   "execution_count": 75,
   "metadata": {},
   "outputs": [
    {
     "data": {
      "text/plain": [
       "array([ 1,  2,  3,  4,  5,  6,  7,  8,  9, 10], dtype=int32)"
      ]
     },
     "execution_count": 75,
     "metadata": {},
     "output_type": "execute_result"
    }
   ],
   "source": [
    "np.unique(Y_species)"
   ]
  },
  {
   "cell_type": "code",
   "execution_count": 73,
   "metadata": {},
   "outputs": [],
   "source": [
    "import matplotlib.colors as mcolors"
   ]
  },
  {
   "cell_type": "code",
   "execution_count": 93,
   "metadata": {},
   "outputs": [
    {
     "data": {
      "image/png": "[encoded data removed]",
      "text/plain": [
       "<Figure size 576x576 with 1 Axes>"
      ]
     },
     "metadata": {
      "needs_background": "light"
     },
     "output_type": "display_data"
    },
    {
     "data": {
      "text/plain": [
       "<Figure size 432x288 with 0 Axes>"
      ]
     },
     "metadata": {},
     "output_type": "display_data"
    }
   ],
   "source": [
    "fig = plt.figure(figsize = (8,8))\n",
    "ax = fig.add_subplot(1,1,1) \n",
    "ax.set_xlabel('Principal Component 1', fontsize = 15)\n",
    "ax.set_ylabel('Principal Component 2', fontsize = 15)\n",
    "ax.set_title('2 component PCA', fontsize = 20)\n",
    "targets = np.unique(Y_species)\n",
    "colors = mcolors.TABLEAU_COLORS\n",
    "\n",
    "for target, color in zip(targets,colors):\n",
    "    indicesToKeep = finalDf['target'] == target\n",
    "    ax.scatter(finalDf.loc[indicesToKeep, 'principal component 1']\n",
    "               , finalDf.loc[indicesToKeep, 'principal component 2']\n",
    "               , edgecolor='none'\n",
    "               , alpha=0.5\n",
    "               , s = 15\n",
    "              )\n",
    "ax.legend(targets)\n",
    "ax.grid()\n",
    "plt.show()\n",
    "plt.savefig('2d-pca.png')"
   ]
  },
  {
   "cell_type": "code",
   "execution_count": 30,
   "metadata": {},
   "outputs": [
    {
     "data": {
      "text/plain": [
       "0"
      ]
     },
     "execution_count": 30,
     "metadata": {},
     "output_type": "execute_result"
    }
   ],
   "source": [
    "Nc = np.count_nonzero(Y_species == 11)\n",
    "Nc"
   ]
  },
  {
   "cell_type": "code",
   "execution_count": 130,
   "metadata": {},
   "outputs": [],
   "source": [
    "pmap = np.zeros((len(X_vec), 1))"
   ]
  },
  {
   "cell_type": "code",
   "execution_count": 263,
   "metadata": {},
   "outputs": [],
   "source": [
    "def my_k_folds(X, Y, k_folds):\n",
    "    # Assuming classes follow the pattern 1..C;\n",
    "    # C becomes the total no. of classes\n",
    "    no_of_classes = np.max(Y)\n",
    "    p_map = np.zeros((len(X), 1))\n",
    "    \n",
    "    for c in range(1, no_of_classes+1):\n",
    "        Nc = np.count_nonzero(Y == c)\n",
    "        Mc = int(np.floor(Nc / k_folds))\n",
    "        # find indexes of all places where the element is c\n",
    "        idxs = np.apply_along_axis(lambda x: x[0], 1, np.argwhere(Y == c))\n",
    "        # split the idxs based on k_folds and Mc\n",
    "        sub_arrs = _split(idxs, k_folds, Mc)\n",
    "        for i in range(len(sub_arrs)):\n",
    "            p_map[sub_arrs[i]] = i + 1\n",
    "            \n",
    "    return p_map"
   ]
  },
  {
   "cell_type": "code",
   "execution_count": 265,
   "metadata": {},
   "outputs": [],
   "source": [
    "def my_k_folds_1(X, Y, k_folds):\n",
    "    # Assuming classes follow the pattern 1..C;\n",
    "    # C becomes the total no. of classes\n",
    "    no_of_classes = np.max(Y)\n",
    "    p_map = np.zeros((len(X), 1))\n",
    "    \n",
    "    for c in range(1, no_of_classes+1):\n",
    "        Nc = sum(Y == c)[0]\n",
    "        Mc = int(np.floor(Nc / k_folds))\n",
    "        \n",
    "        currentIndexX = 0\n",
    "        \n",
    "        for k in range(1,k_folds):\n",
    "            currentIndexBin = 1\n",
    "\n",
    "            while currentIndexBin <= Mc:\n",
    "                if Y[currentIndexX] == c:\n",
    "                    p_map[currentIndexX] = k\n",
    "                    currentIndexBin = currentIndexBin + 1\n",
    "\n",
    "                currentIndexX = currentIndexX + 1\n",
    "\n",
    "        while currentIndexX < len(X):\n",
    "            if Y[currentIndexX] == c:\n",
    "                p_map[currentIndexX] = k_folds\n",
    "            currentIndexX = currentIndexX + 1\n",
    "    return p_map"
   ]
  },
  {
   "cell_type": "code",
   "execution_count": 273,
   "metadata": {},
   "outputs": [],
   "source": [
    "a = np.argwhere(Y_species == 1)"
   ]
  },
  {
   "cell_type": "code",
   "execution_count": 267,
   "metadata": {},
   "outputs": [],
   "source": [
    "ids = np.apply_along_axis(f, 1, a)"
   ]
  },
  {
   "cell_type": "code",
   "execution_count": 269,
   "metadata": {},
   "outputs": [],
   "source": [
    "def _split(X, k, mc):\n",
    "    curr = 1\n",
    "    sub_arrays = []\n",
    "    for i in range(k):\n",
    "        if curr != k:\n",
    "            start = i*mc\n",
    "            end = i*mc + mc\n",
    "            sub_arrays.append(X[start:end])\n",
    "        else:\n",
    "            start = i*mc\n",
    "            sub_arrays.append(X[start:])\n",
    "        curr += 1\n",
    "    return sub_arrays"
   ]
  },
  {
   "cell_type": "code",
   "execution_count": 270,
   "metadata": {
    "scrolled": false
   },
   "outputs": [],
   "source": [
    "p_map = my_k_folds(X_vec, Y_species, 5)"
   ]
  },
  {
   "cell_type": "code",
   "execution_count": 271,
   "metadata": {},
   "outputs": [],
   "source": [
    "p_map_1 = my_k_folds_1(X_vec, Y_species, 5)"
   ]
  },
  {
   "cell_type": "code",
   "execution_count": 272,
   "metadata": {},
   "outputs": [],
   "source": [
    "sio.savemat(\"t1_mgc_5cv_PMap.mat\", {\"PMap\": p_map})"
   ]
  },
  {
   "cell_type": "code",
   "execution_count": 337,
   "metadata": {},
   "outputs": [],
   "source": [
    "from scipy.stats import multivariate_normal"
   ]
  },
  {
   "cell_type": "code",
   "execution_count": 423,
   "metadata": {},
   "outputs": [],
   "source": [
    "def task1_mgc_cv(X,Y,CovKind,epsilon,Kfolds):\n",
    "    PMap = my_k_folds(X, Y, Kfolds)\n",
    "    sio.savemat(f\"t1_mgc_{Kfolds}cv_PMap.mat\", {\"PMap\": PMap})\n",
    "    no_of_classes = np.max(Y)\n",
    "    total_cov_mat = np.zeros((no_of_classes, no_of_classes))\n",
    "    D = X[0].size\n",
    "    for p in range(1, Kfolds+1):\n",
    "        Ms = np.zeros((no_of_classes, D))\n",
    "        Covs = np.zeros((no_of_classes, D, D))\n",
    "        priors = np.zeros((1, no_of_classes))\n",
    "        \n",
    "        for c in range(1, no_of_classes+1):\n",
    "            train_data = X[np.where(np.logical_and(PMap != p, Y == c))[0]]\n",
    "            Ms[c-1] = my_mean(train_data)\n",
    "            \n",
    "            if CovKind == 1:\n",
    "                # Full covariance mat\n",
    "                Cov = my_cov(train_data)\n",
    "            elif CovKind == 2:\n",
    "                # Diagonal covariance mat\n",
    "                Cov = np.diag(np.diag(my_cov(train_data)))\n",
    "            else:\n",
    "                # Shared covariance mat\n",
    "                Cov = my_cov(X)\n",
    "            \n",
    "            standardised_cov = Cov + np.dot(epsilon, np.eye(D)) \n",
    "            Covs[c-1] = standardised_cov\n",
    "            \n",
    "            priors[:,c-1] = len(train_data) / len(X[np.where(PMap != p)[0]])\n",
    "            \n",
    "        sio.savemat(f\"t1_mgc_{Kfolds}cv{p}_Ms.mat\", {\"Ms\": Ms})\n",
    "        sio.savemat(f\"t1_mgc_{Kfolds}cv{p}_ck{CovKind}_Covs.mat\", {\"Covs\": Covs})\n",
    "        \n",
    "        \n",
    "        test_data = X[np.where(PMap == p)[0]]\n",
    "        test_likelihoods = np.zeros((len(test_data), no_of_classes))\n",
    "        \n",
    "        for i in range(len(test_data)):\n",
    "            for c in range(1, no_of_classes+1):\n",
    "                try:\n",
    "                    test_likelihoods[i, c-1] = multivariate_normal(test_data[i]\n",
    "                                                            , Ms[c-1]\n",
    "                                                            , np.squeeze(Covs[c-1])\n",
    "                                                            )\n",
    "        \n",
    "                except Exception as e:\n",
    "                    pass\n",
    "        test_probs = test_likelihoods * priors\n",
    "        \n",
    "        test_preds = np.zeros((len(test_data), 10))\n",
    "        for i in range(len(test_data)):\n",
    "            curr_row_vec = test_probs[i]\n",
    "            try:\n",
    "                test_preds[i] =  np.where(np.in1d(curr_row_vec, max(curr_row_vec)))[0]\n",
    "            except Exception as e:\n",
    "                print(test_preds[i], np.where(np.in1d(curr_row_vec, max(curr_row_vec)))[0])\n",
    "        \n",
    "        CM = np.zeros((no_of_classes, no_of_classes))\n",
    "        p_idx = 0\n",
    "        x_idx = 0\n",
    "        while p_idx < len(test_data):\n",
    "            if PMap[x_idx] == p:\n",
    "                i = int(Y[x_idx][0])\n",
    "                j = int(test_preds[p_idx][0])\n",
    "                CM[i-1,j-1] = CM[i-1, j-1] + 1\n",
    "                p_idx += 1\n",
    "            x_idx += 1\n",
    "        \n",
    "#         CM = confusion_matrix(Y, test_preds)\n",
    "        \n",
    "        sio.savemat(f\"t1_mgc_{Kfolds}cv{p}_ck{CovKind}_CM.mat\", {\"CM\": CM})\n",
    "        \n",
    "        total_cov_mat = total_cov_mat + CM / (Kfolds * len(test_data))\n",
    "        \n",
    "        L = Kfolds + 1\n",
    "        \n",
    "        sio.savemat(f\"t1_mgc_{Kfolds}cv{L}_ck{CovKind}_CM.mat\", {\"Covs\": CM})\n",
    "    return CM"
   ]
  },
  {
   "cell_type": "code",
   "execution_count": 404,
   "metadata": {},
   "outputs": [
    {
     "data": {
      "text/plain": [
       "(24, 24)"
      ]
     },
     "execution_count": 404,
     "metadata": {},
     "output_type": "execute_result"
    }
   ],
   "source": [
    "np.zeros((10,24,24))[0].shape"
   ]
  },
  {
   "cell_type": "code",
   "execution_count": 347,
   "metadata": {},
   "outputs": [
    {
     "data": {
      "text/plain": [
       "array([[0., 0., 0., 0., 0., 0., 0., 0., 0., 0.]])"
      ]
     },
     "execution_count": 347,
     "metadata": {},
     "output_type": "execute_result"
    }
   ],
   "source": [
    "np.zeros((1, 10))"
   ]
  },
  {
   "cell_type": "code",
   "execution_count": 336,
   "metadata": {},
   "outputs": [
    {
     "data": {
      "text/plain": [
       "3409"
      ]
     },
     "execution_count": 336,
     "metadata": {},
     "output_type": "execute_result"
    }
   ],
   "source": [
    "test_data = X[np.where(PMap == 1)[0]]\n"
   ]
  },
  {
   "cell_type": "code",
   "execution_count": 377,
   "metadata": {},
   "outputs": [
    {
     "data": {
      "text/plain": [
       "array([  0,   1,   2,   3,   4,   5,   6,   7,   8,   9,  10,  11,  12,\n",
       "        13,  14,  15,  16,  17,  18,  19,  20,  21,  22,  23,  24,  25,\n",
       "        26,  27,  28,  29,  30,  31,  32,  33,  34,  35,  36,  37,  38,\n",
       "        39,  40,  41,  42,  43,  44,  45,  46,  47,  48,  49,  50,  51,\n",
       "        52,  53,  54,  55,  56,  57,  58,  59,  60,  61,  62,  63,  64,\n",
       "        65,  66,  67,  68,  69,  70,  71,  72,  73,  74,  75,  76,  77,\n",
       "        78,  79,  80,  81,  82,  83,  84,  85,  86,  87,  88,  89,  90,\n",
       "        91,  92,  93,  94,  95,  96,  97,  98,  99, 100, 101, 102, 103,\n",
       "       104, 105, 106, 107, 108, 109, 110, 111, 112, 113, 114, 115, 116,\n",
       "       117, 118, 119, 120, 121, 122, 123, 124, 125, 126, 127, 128, 129,\n",
       "       130, 131, 132, 133, 134, 135, 136, 137, 138, 139, 140, 141, 142,\n",
       "       143, 144, 145, 146, 147, 148, 149, 150, 151, 152, 153, 154, 155,\n",
       "       156, 157, 158, 159, 160, 161, 162, 163, 164, 165, 166, 167, 168,\n",
       "       169, 170, 171, 172, 173, 174, 175, 176, 177, 178, 179, 180, 181,\n",
       "       182, 183, 184, 185, 186, 187, 188, 189, 190, 191, 192, 193, 194,\n",
       "       195, 196, 197, 198, 199, 200, 201, 202, 203, 204, 205, 206, 207,\n",
       "       208, 209, 210, 211, 212, 213, 214, 215, 216, 217, 218, 219, 220,\n",
       "       221, 222, 223, 224, 225, 226, 227, 228, 229, 230, 231, 232, 233,\n",
       "       234, 235, 236, 237, 238, 239, 240, 241, 242, 243, 244, 245, 246,\n",
       "       247, 248, 249, 250, 251, 252, 253, 254, 255, 256, 257, 258, 259,\n",
       "       260, 261, 262, 263, 264, 265, 266, 267, 268, 269, 270, 271, 272,\n",
       "       273, 274, 275, 276, 277, 278, 279, 280, 281, 282, 283, 284, 285,\n",
       "       286, 287, 288, 289, 290, 291, 292, 293, 294, 295, 296, 297, 298,\n",
       "       299, 300, 301, 302, 303, 304, 305, 306, 307, 308, 309, 310, 311,\n",
       "       312, 313, 314, 315, 316, 317, 318, 319, 320, 321, 322, 323, 324,\n",
       "       325, 326, 327, 328, 329, 330, 331, 332, 333, 334, 335, 336, 337,\n",
       "       338, 339, 340, 341, 342, 343, 344, 345, 346, 347, 348, 349, 350,\n",
       "       351, 352, 353, 354, 355, 356, 357, 358, 359, 360, 361, 362, 363,\n",
       "       364, 365, 366, 367, 368, 369, 370, 371, 372, 373, 374, 375, 376,\n",
       "       377, 378, 379, 380, 381, 382, 383, 384, 385, 386, 387, 388, 389,\n",
       "       390, 391, 392, 393, 394, 395, 396, 397, 398, 399, 400, 401, 402,\n",
       "       403, 404, 405, 406, 407, 408, 409, 410, 411, 412, 413, 414, 415,\n",
       "       416, 417, 418, 419, 420, 421, 422, 423, 424, 425, 426, 427, 428,\n",
       "       429, 430, 431, 432, 433, 434, 435, 436, 437, 438, 439, 440, 441,\n",
       "       442, 443, 444, 445, 446, 447, 448, 449, 450, 451, 452, 453, 454,\n",
       "       455, 456, 457, 458, 459, 460, 461, 462, 463, 464, 465, 466, 467,\n",
       "       468, 469, 470, 471, 472, 473, 474, 475, 476, 477, 478, 479, 480,\n",
       "       481, 482, 483, 484, 485, 486, 487, 488, 489, 490, 491, 492, 493,\n",
       "       494, 495, 496, 497, 498, 499, 500, 501, 502, 503, 504, 505, 506,\n",
       "       507, 508, 509, 510, 511, 512, 513, 514, 515, 516, 517, 518, 519,\n",
       "       520, 521, 522, 523, 524, 525, 526, 527, 528, 529, 530, 531, 532,\n",
       "       533, 534, 535, 536, 537, 538, 539, 540, 541, 542, 543, 544, 545,\n",
       "       546, 547, 548, 549, 550, 551, 552, 553, 554, 555, 556, 557, 558,\n",
       "       559, 560, 561, 562, 563, 564, 565, 566, 567, 568, 569, 570, 571,\n",
       "       572, 573, 574, 575, 576, 577, 578, 579, 580, 581, 582, 583, 584,\n",
       "       585, 586, 587, 588, 589, 590, 591, 592, 593, 594, 595, 596, 597,\n",
       "       598, 599, 600, 601, 602, 603, 604, 605, 606, 607, 608, 609, 610,\n",
       "       611, 612, 613, 614, 615, 616, 617, 618, 619, 620, 621, 622, 623,\n",
       "       624, 625, 626, 627, 628, 629, 630, 631, 632, 633, 634, 635, 636,\n",
       "       637, 638, 639, 640, 641, 642, 643, 644, 645, 646, 647, 648, 649,\n",
       "       650, 651, 652, 653, 654, 655, 656, 657, 658, 659, 660, 661, 662,\n",
       "       663, 664, 665, 666, 667, 668, 669, 670, 671, 672, 673, 674, 675,\n",
       "       676, 677, 678, 679, 680, 681, 682, 683, 685, 686, 687, 688, 689,\n",
       "       690, 691, 692, 693, 694, 695, 696, 697, 698, 699, 700, 701, 702,\n",
       "       703, 704, 706, 707, 708, 709, 710, 711, 712, 713, 714, 715, 716,\n",
       "       717, 718, 720, 721, 722, 723, 724, 725, 726, 727, 728, 729, 730,\n",
       "       731, 732, 733, 734, 735, 736, 737, 738, 739, 740, 741, 742, 743,\n",
       "       744, 745, 746, 748, 749, 750, 751, 752, 753, 754, 755, 756, 757,\n",
       "       758, 759, 760, 761, 762, 763, 764, 765, 766, 767, 768, 769, 770,\n",
       "       771, 772, 773, 774, 775, 776, 777, 778, 779, 780, 781, 782, 783,\n",
       "       784, 785, 786, 787, 789, 790, 791, 792, 793, 795, 796, 797, 798,\n",
       "       799, 800, 801, 802, 803, 805, 806, 807, 808, 809, 810, 811, 812,\n",
       "       813, 814, 815, 816, 819, 820, 821, 822, 823, 824, 825, 826, 827,\n",
       "       828, 829, 832, 833, 836, 837, 838, 839, 843, 845, 847, 848, 852,\n",
       "       863, 874, 882, 886, 896, 904, 912, 921, 923, 925, 930, 947, 949,\n",
       "       953, 964])"
      ]
     },
     "execution_count": 377,
     "metadata": {},
     "output_type": "execute_result"
    }
   ],
   "source": [
    "np.where(p_map == 1)[0]"
   ]
  },
  {
   "cell_type": "code",
   "execution_count": 312,
   "metadata": {},
   "outputs": [],
   "source": [
    "cond = np.all([p_map != 1, Y_species == 1], axis=0)\n"
   ]
  },
  {
   "cell_type": "code",
   "execution_count": 322,
   "metadata": {},
   "outputs": [
    {
     "data": {
      "text/plain": [
       "array([[-0.23898665,  1.44077377,  1.23841075, ...,  0.00418604,\n",
       "         0.16654003,  0.6097773 ],\n",
       "       [-0.23898665,  2.09775515,  1.87129749, ..., -0.13414743,\n",
       "         0.1506262 ,  0.75204537],\n",
       "       [-0.23898665,  2.17966189,  2.14752623, ...,  0.03508879,\n",
       "         0.22500627,  0.73379153],\n",
       "       ...,\n",
       "       [-0.23898665,  2.25691961,  2.28493188, ..., -0.10632463,\n",
       "         0.28670954,  0.84131789],\n",
       "       [-0.23898665,  2.40706823,  2.38440679, ..., -0.09445333,\n",
       "         0.16592731,  0.70696499],\n",
       "       [-0.23898665,  1.94735147,  1.82563299, ..., -0.06994705,\n",
       "         0.12885416,  0.71136126]])"
      ]
     },
     "execution_count": 322,
     "metadata": {},
     "output_type": "execute_result"
    }
   ],
   "source": [
    "X_vec[cond_idx]"
   ]
  },
  {
   "cell_type": "code",
   "execution_count": 321,
   "metadata": {},
   "outputs": [],
   "source": [
    "cond_idx = np.flatnonzero(cond)"
   ]
  },
  {
   "cell_type": "code",
   "execution_count": 318,
   "metadata": {},
   "outputs": [
    {
     "data": {
      "text/plain": [
       "array([[-0.23898665,  1.44077377,  1.23841075, ...,  0.00418604,\n",
       "         0.16654003,  0.6097773 ],\n",
       "       [-0.23898665,  2.09775515,  1.87129749, ..., -0.13414743,\n",
       "         0.1506262 ,  0.75204537],\n",
       "       [-0.23898665,  2.17966189,  2.14752623, ...,  0.03508879,\n",
       "         0.22500627,  0.73379153],\n",
       "       ...,\n",
       "       [-0.23898665,  2.25691961,  2.28493188, ..., -0.10632463,\n",
       "         0.28670954,  0.84131789],\n",
       "       [-0.23898665,  2.40706823,  2.38440679, ..., -0.09445333,\n",
       "         0.16592731,  0.70696499],\n",
       "       [-0.23898665,  1.94735147,  1.82563299, ..., -0.06994705,\n",
       "         0.12885416,  0.71136126]])"
      ]
     },
     "execution_count": 318,
     "metadata": {},
     "output_type": "execute_result"
    }
   ],
   "source": [
    "X_vec[np.where(np.logical_and(p_map != 1, Y_species == 1))[0]]"
   ]
  },
  {
   "cell_type": "code",
   "execution_count": 424,
   "metadata": {},
   "outputs": [
    {
     "data": {
      "text/plain": [
       "array([[  0.,   0.,   0.,   0.,   0.,   0.,   0.,   0.,   0.,  71.],\n",
       "       [  0.,   0.,   0.,   0.,   0.,   0.,   0.,   0.,   0., 434.],\n",
       "       [  0.,   0.,   0.,   0.,   0.,   0.,   0.,   0.,   0.,  76.],\n",
       "       [  0.,   0.,   0.,   0.,   0.,   0.,   0.,   0.,   0.,  35.],\n",
       "       [  0.,   0.,   0.,   0.,   0.,   0.,   0.,   0.,   0.,  61.],\n",
       "       [  0.,   0.,   0.,   0.,   0.,   0.,   0.,   0.,   0., 103.],\n",
       "       [  0.,   0.,   0.,   0.,   0.,   0.,   0.,   0.,   0.,  31.],\n",
       "       [  0.,   0.,   0.,   0.,   0.,   0.,   0.,   0.,   0.,  17.],\n",
       "       [  0.,   0.,   0.,   0.,   0.,   0.,   0.,   0.,   0.,  24.],\n",
       "       [  0.,   0.,   0.,   0.,   0.,   0.,   0.,   0.,   0.,  16.]])"
      ]
     },
     "execution_count": 424,
     "metadata": {},
     "output_type": "execute_result"
    }
   ],
   "source": [
    "task1_mgc_cv(X_vec, Y_species, 3, 0.01, 5)"
   ]
  },
  {
   "cell_type": "code",
   "execution_count": 394,
   "metadata": {},
   "outputs": [
    {
     "data": {
      "text/plain": [
       "array([[0., 0., 0., 0., 0., 0., 0., 0., 0., 0.],\n",
       "       [0., 0., 0., 0., 0., 0., 0., 0., 0., 0.],\n",
       "       [0., 0., 0., 0., 0., 0., 0., 0., 0., 0.],\n",
       "       [0., 0., 0., 0., 0., 0., 0., 0., 0., 0.],\n",
       "       [0., 0., 0., 0., 0., 0., 0., 0., 0., 0.],\n",
       "       [0., 0., 0., 0., 0., 0., 0., 0., 0., 0.],\n",
       "       [0., 0., 0., 0., 0., 0., 0., 0., 0., 0.],\n",
       "       [0., 0., 0., 0., 0., 0., 0., 0., 0., 0.],\n",
       "       [0., 0., 0., 0., 0., 0., 0., 0., 0., 0.],\n",
       "       [0., 0., 0., 0., 0., 0., 0., 0., 0., 0.]])"
      ]
     },
     "execution_count": 394,
     "metadata": {},
     "output_type": "execute_result"
    }
   ],
   "source": [
    "np.zeros((10, 10))"
   ]
  },
  {
   "cell_type": "code",
   "execution_count": 401,
   "metadata": {},
   "outputs": [],
   "source": [
    "from sklearn.metrics import confusion_matrix"
   ]
  },
  {
   "cell_type": "code",
   "execution_count": null,
   "metadata": {},
   "outputs": [],
   "source": []
  }
 ],
 "metadata": {
  "kernelspec": {
   "display_name": "Python 3",
   "language": "python",
   "name": "python3"
  },
  "language_info": {
   "codemirror_mode": {
    "name": "ipython",
    "version": 3
   },
   "file_extension": ".py",
   "mimetype": "text/x-python",
   "name": "python",
   "nbconvert_exporter": "python",
   "pygments_lexer": "ipython3",
   "version": "3.7.7"
  }
 },
 "nbformat": 4,
 "nbformat_minor": 2
}
