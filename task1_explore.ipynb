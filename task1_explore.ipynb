{
 "cells": [
  {
   "cell_type": "code",
   "execution_count": 1,
   "metadata": {},
   "outputs": [],
   "source": [
    "import scipy.io as sio\n",
    "import numpy as np\n",
    "import scipy\n",
    "import matplotlib.pyplot as plt"
   ]
  },
  {
   "cell_type": "code",
   "execution_count": 2,
   "metadata": {},
   "outputs": [],
   "source": [
    "import pandas as pd"
   ]
  },
  {
   "cell_type": "code",
   "execution_count": 10,
   "metadata": {},
   "outputs": [
    {
     "data": {
      "text/plain": [
       "0.8489183836691168"
      ]
     },
     "execution_count": 10,
     "metadata": {},
     "output_type": "execute_result"
    }
   ],
   "source": [
    "full_cov = sio.loadmat('CM/t1_mgc_5cv6_ck3_CM.mat')[\"CM\"]\n",
    "np.diagonal(full_cov).sum()"
   ]
  },
  {
   "cell_type": "code",
   "execution_count": 3,
   "metadata": {},
   "outputs": [],
   "source": [
    "data = sio.loadmat('data/dset.mat')"
   ]
  },
  {
   "cell_type": "code",
   "execution_count": 4,
   "metadata": {},
   "outputs": [
    {
     "data": {
      "text/plain": [
       "dict_keys(['__header__', '__version__', '__globals__', 'list_family', 'list_genus', 'list_species', 'X', 'Y_family', 'Y_genus', 'Y_species'])"
      ]
     },
     "execution_count": 4,
     "metadata": {},
     "output_type": "execute_result"
    }
   ],
   "source": [
    "data.keys()"
   ]
  },
  {
   "cell_type": "code",
   "execution_count": 5,
   "metadata": {},
   "outputs": [],
   "source": [
    "Y_species = data.get('Y_species')"
   ]
  },
  {
   "cell_type": "code",
   "execution_count": 6,
   "metadata": {},
   "outputs": [
    {
     "data": {
      "text/plain": [
       "array([[2],\n",
       "       [6],\n",
       "       [2],\n",
       "       ...,\n",
       "       [2],\n",
       "       [2],\n",
       "       [4]], dtype=int32)"
      ]
     },
     "execution_count": 6,
     "metadata": {},
     "output_type": "execute_result"
    }
   ],
   "source": [
    "Y_species"
   ]
  },
  {
   "cell_type": "code",
   "execution_count": 7,
   "metadata": {},
   "outputs": [
    {
     "data": {
      "text/plain": [
       "array([2], dtype=int32)"
      ]
     },
     "execution_count": 7,
     "metadata": {},
     "output_type": "execute_result"
    }
   ],
   "source": [
    "Y_species[0]"
   ]
  },
  {
   "cell_type": "code",
   "execution_count": 8,
   "metadata": {},
   "outputs": [],
   "source": [
    "Y_genus = data.get('Y_genus')"
   ]
  },
  {
   "cell_type": "code",
   "execution_count": 9,
   "metadata": {},
   "outputs": [
    {
     "data": {
      "text/plain": [
       "array([[1],\n",
       "       [4],\n",
       "       [1],\n",
       "       ...,\n",
       "       [1],\n",
       "       [1],\n",
       "       [3]], dtype=int32)"
      ]
     },
     "execution_count": 9,
     "metadata": {},
     "output_type": "execute_result"
    }
   ],
   "source": [
    "Y_genus"
   ]
  },
  {
   "cell_type": "code",
   "execution_count": 10,
   "metadata": {},
   "outputs": [],
   "source": [
    "X_vec = data.get('X')"
   ]
  },
  {
   "cell_type": "code",
   "execution_count": 11,
   "metadata": {},
   "outputs": [
    {
     "data": {
      "text/plain": [
       "array([[-1.        , -0.79157901, -0.47132089, ...,  0.03387781,\n",
       "        -0.00885281, -0.0672629 ],\n",
       "       [-1.        , -0.75100887, -0.29692549, ..., -0.0089381 ,\n",
       "        -0.02778902, -0.02381729],\n",
       "       [-1.        , -0.72247261, -0.33725829, ...,  0.04813121,\n",
       "        -0.00157088, -0.0427371 ],\n",
       "       ...,\n",
       "       [-1.        , -0.93564477, -0.68621927, ...,  0.11352948,\n",
       "         0.05300872, -0.0535954 ],\n",
       "       [-1.        , -0.8340381 , -0.49843611, ...,  0.05572848,\n",
       "        -0.01579687, -0.08851126],\n",
       "       [-0.12638951, -1.        , -0.72838576, ..., -0.07915977,\n",
       "        -0.02215331, -0.01018295]])"
      ]
     },
     "execution_count": 11,
     "metadata": {},
     "output_type": "execute_result"
    }
   ],
   "source": [
    "X_vec"
   ]
  },
  {
   "cell_type": "code",
   "execution_count": 12,
   "metadata": {},
   "outputs": [
    {
     "data": {
      "text/plain": [
       "array([-1.        , -0.79157901, -0.47132089, -0.14234067, -0.14411304,\n",
       "       -0.09044529, -0.04172556, -0.03841969, -0.00846288, -0.0190544 ,\n",
       "       -0.05571323,  0.02356341,  0.08313416, -0.00232663, -0.10304176,\n",
       "       -0.06014365,  0.01142573,  0.024184  , -0.00698871, -0.04246828,\n",
       "       -0.00465208,  0.03387781, -0.00885281, -0.0672629 ])"
      ]
     },
     "execution_count": 12,
     "metadata": {},
     "output_type": "execute_result"
    }
   ],
   "source": [
    "X_vec[0]"
   ]
  },
  {
   "cell_type": "code",
   "execution_count": 13,
   "metadata": {},
   "outputs": [],
   "source": [
    "lst_species = data.get('list_species')"
   ]
  },
  {
   "cell_type": "code",
   "execution_count": 14,
   "metadata": {},
   "outputs": [
    {
     "data": {
      "text/plain": [
       "array([[array(['AdenomeraAndre'], dtype='<U14')],\n",
       "       [array(['AdenomeraHylaedactylus'], dtype='<U22')],\n",
       "       [array(['Ameeregatrivittata'], dtype='<U18')],\n",
       "       [array(['HylaMinuta'], dtype='<U10')],\n",
       "       [array(['HypsiboasCinerascens'], dtype='<U20')],\n",
       "       [array(['HypsiboasCordobae'], dtype='<U17')],\n",
       "       [array(['LeptodactylusFuscus'], dtype='<U19')],\n",
       "       [array(['OsteocephalusOophagus'], dtype='<U21')],\n",
       "       [array(['Rhinellagranulosa'], dtype='<U17')],\n",
       "       [array(['ScinaxRuber'], dtype='<U11')]], dtype=object)"
      ]
     },
     "execution_count": 14,
     "metadata": {},
     "output_type": "execute_result"
    }
   ],
   "source": [
    "lst_species"
   ]
  },
  {
   "cell_type": "code",
   "execution_count": 15,
   "metadata": {},
   "outputs": [
    {
     "data": {
      "text/plain": [
       "10"
      ]
     },
     "execution_count": 15,
     "metadata": {},
     "output_type": "execute_result"
    }
   ],
   "source": [
    "lst_species.size"
   ]
  },
  {
   "cell_type": "code",
   "execution_count": 16,
   "metadata": {},
   "outputs": [
    {
     "data": {
      "text/plain": [
       "array([-0.06655594,  0.0026686 ,  0.07183098, -0.00988846,  0.123628  ,\n",
       "       -0.03452711,  0.03299877,  0.00193611,  0.04113855,  0.05289635])"
      ]
     },
     "execution_count": 16,
     "metadata": {},
     "output_type": "execute_result"
    }
   ],
   "source": [
    "x = np.random.random((10, 5))\n",
    "y = np.random.random((10, 5))\n",
    "\n",
    "n = x.shape[1]\n",
    "cov_bias = np.mean(x * y, axis=1) - np.mean(x, axis=1) * np.mean(y, axis=1)\n",
    "cov_bias * n / (n-1)"
   ]
  },
  {
   "cell_type": "code",
   "execution_count": 17,
   "metadata": {},
   "outputs": [
    {
     "ename": "SyntaxError",
     "evalue": "invalid syntax (<ipython-input-17-4e90967b6924>, line 2)",
     "output_type": "error",
     "traceback": [
      "\u001b[0;36m  File \u001b[0;32m\"<ipython-input-17-4e90967b6924>\"\u001b[0;36m, line \u001b[0;32m2\u001b[0m\n\u001b[0;31m    for i in range(X_vec.shape[]):\u001b[0m\n\u001b[0m                               ^\u001b[0m\n\u001b[0;31mSyntaxError\u001b[0m\u001b[0;31m:\u001b[0m invalid syntax\n"
     ]
    }
   ],
   "source": [
    "s = np.empty((X_vec.shape[0], 1))\n",
    "for i in range(X_vec.shape[]):\n",
    "    print(np.cov(X_vec[i]))"
   ]
  },
  {
   "cell_type": "code",
   "execution_count": 18,
   "metadata": {},
   "outputs": [],
   "source": [
    "res1_1 = np.cov(X_vec.T)"
   ]
  },
  {
   "cell_type": "code",
   "execution_count": 19,
   "metadata": {},
   "outputs": [
    {
     "data": {
      "text/plain": [
       "<matplotlib.image.AxesImage at 0x7fd2d233a250>"
      ]
     },
     "execution_count": 19,
     "metadata": {},
     "output_type": "execute_result"
    },
    {
     "data": {
      "image/png": "[encoded data removed]",
      "text/plain": [
       "<Figure size 288x288 with 1 Axes>"
      ]
     },
     "metadata": {
      "needs_background": "light"
     },
     "output_type": "display_data"
    }
   ],
   "source": [
    "plt.matshow(res1_1)"
   ]
  },
  {
   "cell_type": "code",
   "execution_count": 20,
   "metadata": {},
   "outputs": [
    {
     "data": {
      "text/plain": [
       "<matplotlib.image.AxesImage at 0x7fd2d22c6c50>"
      ]
     },
     "execution_count": 20,
     "metadata": {},
     "output_type": "execute_result"
    },
    {
     "data": {
      "image/png": "[encoded data removed]",
      "text/plain": [
       "<Figure size 432x288 with 1 Axes>"
      ]
     },
     "metadata": {
      "needs_background": "light"
     },
     "output_type": "display_data"
    }
   ],
   "source": [
    "plt.imshow(res1_1,cmap='hot')"
   ]
  },
  {
   "cell_type": "code",
   "execution_count": 21,
   "metadata": {},
   "outputs": [],
   "source": [
    "def my_mean(matrix):\n",
    "    \"\"\"\n",
    "    Calculates mean values in a matrix\n",
    "    Parameters:\n",
    "      matrix: N-by-D data matrix\n",
    "    Returns:\n",
    "      mu: D-by-1 column vector of sample mean values, where mu(i) = mean(matrix(:,i)).\n",
    "    \"\"\"\n",
    "    \n",
    "    # Check if the matrix is not empty to make sure we do not divide by 0.\n",
    "    if matrix.shape[0] == 0:\n",
    "        s = 1\n",
    "    else: \n",
    "        s = matrix.shape[0]\n",
    "    \n",
    "    # Compute sample mean vector\n",
    "    mu = (np.sum(matrix, axis=0) / s).T \n",
    "\n",
    "    return mu"
   ]
  },
  {
   "cell_type": "code",
   "execution_count": 22,
   "metadata": {},
   "outputs": [
    {
     "data": {
      "text/plain": [
       "array([-0.97318788, -0.82319933, -0.45284141, -0.15350882, -0.11334353,\n",
       "       -0.06535949, -0.06740966, -0.07754996, -0.03475564, -0.03487282,\n",
       "       -0.06777123, -0.03136216, -0.00152586, -0.05064469, -0.07172993,\n",
       "       -0.03564018, -0.01567488, -0.03093575, -0.04516246, -0.0435331 ,\n",
       "       -0.01132622,  0.00686621, -0.02225735, -0.0495312 ])"
      ]
     },
     "execution_count": 22,
     "metadata": {},
     "output_type": "execute_result"
    }
   ],
   "source": [
    "my_mean(X_vec)"
   ]
  },
  {
   "cell_type": "code",
   "execution_count": 23,
   "metadata": {},
   "outputs": [
    {
     "data": {
      "text/plain": [
       "array([-0.97318788, -0.82319933, -0.45284141, -0.15350882, -0.11334353,\n",
       "       -0.06535949, -0.06740966, -0.07754996, -0.03475564, -0.03487282,\n",
       "       -0.06777123, -0.03136216, -0.00152586, -0.05064469, -0.07172993,\n",
       "       -0.03564018, -0.01567488, -0.03093575, -0.04516246, -0.0435331 ,\n",
       "       -0.01132622,  0.00686621, -0.02225735, -0.0495312 ])"
      ]
     },
     "execution_count": 23,
     "metadata": {},
     "output_type": "execute_result"
    }
   ],
   "source": [
    "np.mean(X_vec, axis=0)"
   ]
  },
  {
   "cell_type": "code",
   "execution_count": 24,
   "metadata": {},
   "outputs": [],
   "source": [
    "def my_cov(X):\n",
    "    \"\"\"\n",
    "    Calculates covariance of a NxD matrix.\n",
    "    Parameters:\n",
    "      matrix: N-by-D data matrix\n",
    "    Returns:\n",
    "      cov: D-by-D covariance matrix.\n",
    "    \"\"\"\n",
    "    X_mean = my_mean(X)\n",
    "    X_shifted = X - X_mean\n",
    "    # Using Maximum Likelihood Estimation so divide by N\n",
    "    cov = (X_shifted.T @ X_shifted) / X.shape[0]\n",
    "    return cov"
   ]
  },
  {
   "cell_type": "code",
   "execution_count": 25,
   "metadata": {},
   "outputs": [
    {
     "data": {
      "text/plain": [
       "array([[ 0.01336069, -0.00436693, -0.00612976, -0.00285904, -0.00151266,\n",
       "        -0.00076932, -0.00105396, -0.00383583, -0.00472881, -0.00201655,\n",
       "        -0.00133025, -0.00444689, -0.00455238, -0.00152822, -0.00253963,\n",
       "        -0.00454821, -0.00247017, -0.00050222, -0.00194453, -0.00315423,\n",
       "        -0.00319055, -0.00307368, -0.00263878, -0.00172507],\n",
       "       [-0.00436693,  0.02330341,  0.02742464,  0.01173026,  0.00558805,\n",
       "         0.00484419,  0.00752413,  0.00836625,  0.00394996,  0.00181396,\n",
       "         0.00410486,  0.00464275,  0.00206434,  0.0024231 ,  0.0050273 ,\n",
       "         0.0047873 ,  0.00326046,  0.00317226,  0.0042075 ,  0.00472027,\n",
       "         0.00214996,  0.00049349,  0.00270272,  0.0042717 ],\n",
       "       [-0.00612976,  0.02742464,  0.04016468,  0.01964739,  0.01004831,\n",
       "         0.00960635,  0.0129171 ,  0.01157223,  0.00439349,  0.00225425,\n",
       "         0.00682279,  0.00783548,  0.00387532,  0.0040101 ,  0.00740469,\n",
       "         0.00705408,  0.00488247,  0.00471466,  0.00655595,  0.00738152,\n",
       "         0.00274562, -0.00035693,  0.00319239,  0.00616146],\n",
       "       [-0.00285904,  0.01173026,  0.01964739,  0.01484387,  0.01054471,\n",
       "         0.00765035,  0.00705234,  0.0065186 ,  0.00459763,  0.00290688,\n",
       "         0.00348815,  0.00453319,  0.00281841,  0.00080832,  0.00240289,\n",
       "         0.00421634,  0.00343582,  0.00258444,  0.00349695,  0.0037317 ,\n",
       "         0.00140407,  0.00016549,  0.00164944,  0.00276636],\n",
       "       [-0.00151266,  0.00558805,  0.01004831,  0.01054471,  0.01558784,\n",
       "         0.01228272,  0.00709251,  0.00321677,  0.00140994,  0.00200313,\n",
       "         0.002618  ,  0.00114009,  0.0005141 ,  0.00174093,  0.0029085 ,\n",
       "         0.00267302,  0.00163618,  0.00155344,  0.00282854,  0.00292366,\n",
       "         0.0003183 , -0.0009217 ,  0.00096254,  0.00254281],\n",
       "       [-0.00076932,  0.00484419,  0.00960635,  0.00765035,  0.01228272,\n",
       "         0.01346111,  0.01051555,  0.00438119,  0.00014989,  0.00089802,\n",
       "         0.00261534,  0.00134805,  0.00106653,  0.00284992,  0.00329966,\n",
       "         0.00218612,  0.00160893,  0.00199472,  0.00311539,  0.00331051,\n",
       "         0.00057757, -0.00107639,  0.00095714,  0.00286219],\n",
       "       [-0.00105396,  0.00752413,  0.0129171 ,  0.00705234,  0.00709251,\n",
       "         0.01051555,  0.0130338 ,  0.0079347 ,  0.00098184,  0.00048045,\n",
       "         0.0028644 ,  0.00230387,  0.00187163,  0.00327878,  0.00340372,\n",
       "         0.00225903,  0.00224718,  0.0029036 ,  0.00370044,  0.00388502,\n",
       "         0.00131852, -0.00041721,  0.00128581,  0.00283659],\n",
       "       [-0.00383583,  0.00836625,  0.01157223,  0.0065186 ,  0.00321677,\n",
       "         0.00438119,  0.0079347 ,  0.01247504,  0.01172749,  0.00541425,\n",
       "         0.00283398,  0.00701885,  0.00723248,  0.00190093,  0.00230559,\n",
       "         0.00659875,  0.00652793,  0.00440281,  0.00488867,  0.0053597 ,\n",
       "         0.00405776,  0.00367677,  0.00421124,  0.00347528],\n",
       "       [-0.00472881,  0.00394996,  0.00439349,  0.00459763,  0.00140994,\n",
       "         0.00014989,  0.00098184,  0.01172749,  0.01984746,  0.01114305,\n",
       "         0.00269546,  0.00995462,  0.01200271,  0.0007501 ,  0.00034753,\n",
       "         0.00957058,  0.00973262,  0.0047416 ,  0.00481772,  0.00553257,\n",
       "         0.00558604,  0.00667438,  0.00631972,  0.00379866],\n",
       "       [-0.00201655,  0.00181396,  0.00225425,  0.00290688,  0.00200313,\n",
       "         0.00089802,  0.00048045,  0.00541425,  0.01114305,  0.0091517 ,\n",
       "         0.00394685,  0.00549153,  0.00665499,  0.00152009,  0.00096089,\n",
       "         0.00551293,  0.00561665,  0.00274732,  0.00279723,  0.003345  ,\n",
       "         0.00304291,  0.00347949,  0.0038691 ,  0.00290084],\n",
       "       [-0.00133025,  0.00410486,  0.00682279,  0.00348815,  0.002618  ,\n",
       "         0.00261534,  0.0028644 ,  0.00283398,  0.00269546,  0.00394685,\n",
       "         0.00521662,  0.00420392,  0.00233816,  0.00187074,  0.00263274,\n",
       "         0.00296373,  0.00236463,  0.00165848,  0.00190014,  0.00236955,\n",
       "         0.00131755,  0.00054018,  0.00156478,  0.00229566],\n",
       "       [-0.00444689,  0.00464275,  0.00783548,  0.00453319,  0.00114009,\n",
       "         0.00134805,  0.00230387,  0.00701885,  0.00995462,  0.00549153,\n",
       "         0.00420392,  0.01117527,  0.01121409,  0.00209685,  0.00156871,\n",
       "         0.00765303,  0.00757103,  0.00381249,  0.00371232,  0.00450967,\n",
       "         0.00422493,  0.00420905,  0.00421356,  0.00334754],\n",
       "       [-0.00455238,  0.00206434,  0.00387532,  0.00281841,  0.0005141 ,\n",
       "         0.00106653,  0.00187163,  0.00723248,  0.01200271,  0.00665499,\n",
       "         0.00233816,  0.01121409,  0.01539611,  0.00446973,  0.00118421,\n",
       "         0.00831887,  0.00906935,  0.00453864,  0.00447322,  0.00516795,\n",
       "         0.00490083,  0.00546354,  0.00550289,  0.00397713],\n",
       "       [-0.00152822,  0.0024231 ,  0.0040101 ,  0.00080832,  0.00174093,\n",
       "         0.00284992,  0.00327878,  0.00190093,  0.0007501 ,  0.00152009,\n",
       "         0.00187074,  0.00209685,  0.00446973,  0.00626988,  0.00504732,\n",
       "         0.00289338,  0.00170181,  0.0016901 ,  0.00289547,  0.00331786,\n",
       "         0.0013131 ,  0.00010864,  0.00183513,  0.00309749],\n",
       "       [-0.00253963,  0.0050273 ,  0.00740469,  0.00240289,  0.0029085 ,\n",
       "         0.00329966,  0.00340372,  0.00230559,  0.00034753,  0.00096089,\n",
       "         0.00263274,  0.00156871,  0.00118421,  0.00504732,  0.00744981,\n",
       "         0.0045997 ,  0.00120018,  0.00114129,  0.003051  ,  0.00404607,\n",
       "         0.00180842, -0.00029572,  0.00131347,  0.00323307],\n",
       "       [-0.00454821,  0.0047873 ,  0.00705408,  0.00421634,  0.00267302,\n",
       "         0.00218612,  0.00225903,  0.00659875,  0.00957058,  0.00551293,\n",
       "         0.00296373,  0.00765303,  0.00831887,  0.00289338,  0.0045997 ,\n",
       "         0.00975086,  0.00780001,  0.00374735,  0.00443865,  0.0056476 ,\n",
       "         0.00485598,  0.00419961,  0.00430724,  0.0038647 ],\n",
       "       [-0.00247017,  0.00326046,  0.00488247,  0.00343582,  0.00163618,\n",
       "         0.00160893,  0.00224718,  0.00652793,  0.00973262,  0.00561665,\n",
       "         0.00236463,  0.00757103,  0.00906935,  0.00170181,  0.00120018,\n",
       "         0.00780001,  0.00881035,  0.00510848,  0.00428626,  0.00438775,\n",
       "         0.00397377,  0.00443082,  0.00451449,  0.00323583],\n",
       "       [-0.00050222,  0.00317226,  0.00471466,  0.00258444,  0.00155344,\n",
       "         0.00199472,  0.0029036 ,  0.00440281,  0.0047416 ,  0.00274732,\n",
       "         0.00165848,  0.00381249,  0.00453864,  0.0016901 ,  0.00114129,\n",
       "         0.00374735,  0.00510848,  0.00445127,  0.0038799 ,  0.00305687,\n",
       "         0.00170497,  0.00171623,  0.00270523,  0.00252335],\n",
       "       [-0.00194453,  0.0042075 ,  0.00655595,  0.00349695,  0.00282854,\n",
       "         0.00311539,  0.00370044,  0.00488867,  0.00481772,  0.00279723,\n",
       "         0.00190014,  0.00371232,  0.00447322,  0.00289547,  0.003051  ,\n",
       "         0.00443865,  0.00428626,  0.0038799 ,  0.00477921,  0.00453567,\n",
       "         0.00230987,  0.00141746,  0.00275597,  0.00326646],\n",
       "       [-0.00315423,  0.00472027,  0.00738152,  0.0037317 ,  0.00292366,\n",
       "         0.00331051,  0.00388502,  0.0053597 ,  0.00553257,  0.003345  ,\n",
       "         0.00236955,  0.00450967,  0.00516795,  0.00331786,  0.00404607,\n",
       "         0.0056476 ,  0.00438775,  0.00305687,  0.00453567,  0.0054446 ,\n",
       "         0.00354182,  0.00208231,  0.00294889,  0.0035469 ],\n",
       "       [-0.00319055,  0.00214996,  0.00274562,  0.00140407,  0.0003183 ,\n",
       "         0.00057757,  0.00131852,  0.00405776,  0.00558604,  0.00304291,\n",
       "         0.00131755,  0.00422493,  0.00490083,  0.0013131 ,  0.00180842,\n",
       "         0.00485598,  0.00397377,  0.00170497,  0.00230987,  0.00354182,\n",
       "         0.00380231,  0.00333089,  0.00255505,  0.00187767],\n",
       "       [-0.00307368,  0.00049349, -0.00035693,  0.00016549, -0.0009217 ,\n",
       "        -0.00107639, -0.00041721,  0.00367677,  0.00667438,  0.00347949,\n",
       "         0.00054018,  0.00420905,  0.00546354,  0.00010864, -0.00029572,\n",
       "         0.00419961,  0.00443082,  0.00171623,  0.00141746,  0.00208231,\n",
       "         0.00333089,  0.00443906,  0.00332731,  0.00121574],\n",
       "       [-0.00263878,  0.00270272,  0.00319239,  0.00164944,  0.00096254,\n",
       "         0.00095714,  0.00128581,  0.00421124,  0.00631972,  0.0038691 ,\n",
       "         0.00156478,  0.00421356,  0.00550289,  0.00183513,  0.00131347,\n",
       "         0.00430724,  0.00451449,  0.00270523,  0.00275597,  0.00294889,\n",
       "         0.00255505,  0.00332731,  0.00419982,  0.00301606],\n",
       "       [-0.00172507,  0.0042717 ,  0.00616146,  0.00276636,  0.00254281,\n",
       "         0.00286219,  0.00283659,  0.00347528,  0.00379866,  0.00290084,\n",
       "         0.00229566,  0.00334754,  0.00397713,  0.00309749,  0.00323307,\n",
       "         0.0038647 ,  0.00323583,  0.00252335,  0.00326646,  0.0035469 ,\n",
       "         0.00187767,  0.00121574,  0.00301606,  0.00385579]])"
      ]
     },
     "execution_count": 25,
     "metadata": {},
     "output_type": "execute_result"
    }
   ],
   "source": [
    "res1_1_1 = my_cov(X_vec)\n",
    "res1_1_1"
   ]
  },
  {
   "cell_type": "code",
   "execution_count": 26,
   "metadata": {},
   "outputs": [
    {
     "data": {
      "text/plain": [
       "(24, 24)"
      ]
     },
     "execution_count": 26,
     "metadata": {},
     "output_type": "execute_result"
    }
   ],
   "source": [
    "res1_1_1_np = np.cov(X_vec.T)\n",
    "res1_1_1_np.shape"
   ]
  },
  {
   "cell_type": "code",
   "execution_count": 27,
   "metadata": {},
   "outputs": [
    {
     "data": {
      "text/plain": [
       "array([[-3.20477139e-06,  1.04747720e-06,  1.47031877e-06,\n",
       "         6.85784823e-07,  3.62834302e-07,  1.84533949e-07,\n",
       "         2.52808218e-07,  9.20082981e-07,  1.13427864e-06,\n",
       "         4.83700127e-07,  3.19082204e-07,  1.06665634e-06,\n",
       "         1.09195876e-06,  3.66566625e-07,  6.09170100e-07,\n",
       "         1.09095865e-06,  5.92510068e-07,  1.20466136e-07,\n",
       "         4.66426659e-07,  7.56590871e-07,  7.65303505e-07,\n",
       "         7.37270465e-07,  6.32952383e-07,  4.13784147e-07],\n",
       "       [ 1.04747720e-06, -5.58968890e-06, -6.57823023e-06,\n",
       "        -2.81368764e-06, -1.34038042e-06, -1.16195583e-06,\n",
       "        -1.80478144e-06, -2.00677585e-06, -9.47460639e-07,\n",
       "        -4.35107345e-07, -9.84614771e-07, -1.11363529e-06,\n",
       "        -4.95163923e-07, -5.81217709e-07, -1.20587622e-06,\n",
       "        -1.14830887e-06, -7.82071774e-07, -7.60916953e-07,\n",
       "        -1.00923393e-06, -1.13223035e-06, -5.15700509e-07,\n",
       "        -1.18372377e-07, -6.48288811e-07, -1.02463408e-06],\n",
       "       [ 1.47031877e-06, -6.57823023e-06, -9.63412776e-06,\n",
       "        -4.71273538e-06, -2.41024446e-06, -2.30423377e-06,\n",
       "        -3.09836941e-06, -2.77578075e-06, -1.05384686e-06,\n",
       "        -5.40717156e-07, -1.63655428e-06, -1.87946186e-06,\n",
       "        -9.29555484e-07, -9.61885198e-07, -1.77613215e-06,\n",
       "        -1.69203252e-06, -1.17113580e-06, -1.13088394e-06,\n",
       "        -1.57254680e-06, -1.77057399e-06, -6.58579552e-07,\n",
       "         8.56156350e-08, -7.65745181e-07, -1.47792313e-06],\n",
       "       [ 6.85784823e-07, -2.81368764e-06, -4.71273538e-06,\n",
       "        -3.56053570e-06, -2.52931492e-06, -1.83505545e-06,\n",
       "        -1.69161458e-06, -1.56358957e-06, -1.10281323e-06,\n",
       "        -6.97259646e-07, -8.36687302e-07, -1.08735613e-06,\n",
       "        -6.76040156e-07, -1.93887903e-07, -5.76371082e-07,\n",
       "        -1.01135414e-06, -8.24134094e-07, -6.19918304e-07,\n",
       "        -8.38797514e-07, -8.95106199e-07, -3.36788845e-07,\n",
       "        -3.96945917e-08, -3.95644783e-07, -6.63555922e-07],\n",
       "       [ 3.62834302e-07, -1.34038042e-06, -2.41024446e-06,\n",
       "        -2.52931492e-06, -3.73898758e-06, -2.94620217e-06,\n",
       "        -1.70124988e-06, -7.71591515e-07, -3.38195098e-07,\n",
       "        -4.80481270e-07, -6.27969008e-07, -2.73469438e-07,\n",
       "        -1.23314891e-07, -4.17588865e-07, -6.97648809e-07,\n",
       "        -6.41165954e-07, -3.92464362e-07, -3.72617146e-07,\n",
       "        -6.78470592e-07, -7.01284638e-07, -7.63488028e-08,\n",
       "         2.21083413e-07, -2.30879577e-07, -6.09933931e-07],\n",
       "       [ 1.84533949e-07, -1.16195583e-06, -2.30423377e-06,\n",
       "        -1.83505545e-06, -2.94620217e-06, -3.22885844e-06,\n",
       "        -2.52231842e-06, -1.05089784e-06, -3.59531579e-08,\n",
       "        -2.15405089e-07, -6.27329177e-07, -3.23351066e-07,\n",
       "        -2.55823081e-07, -6.83598883e-07, -7.91474191e-07,\n",
       "        -5.24376200e-07, -3.85926438e-07, -4.78465785e-07,\n",
       "        -7.47276293e-07, -7.94077037e-07, -1.38539868e-07,\n",
       "         2.58188807e-07, -2.29584429e-07, -6.86541119e-07],\n",
       "       [ 2.52808218e-07, -1.80478144e-06, -3.09836941e-06,\n",
       "        -1.69161458e-06, -1.70124988e-06, -2.52231842e-06,\n",
       "        -3.12636214e-06, -1.90326203e-06, -2.35510233e-07,\n",
       "        -1.15243018e-07, -6.87071509e-07, -5.52618507e-07,\n",
       "        -4.48940198e-07, -7.86466045e-07, -8.16435989e-07,\n",
       "        -5.41864519e-07, -5.39020878e-07, -6.96474512e-07,\n",
       "        -8.87608031e-07, -9.31883416e-07, -3.16266859e-07,\n",
       "         1.00075551e-07, -3.08422569e-07, -6.80399835e-07],\n",
       "       [ 9.20082981e-07, -2.00677585e-06, -2.77578075e-06,\n",
       "        -1.56358957e-06, -7.71591515e-07, -1.05089784e-06,\n",
       "        -1.90326203e-06, -2.99233299e-06, -2.81302184e-06,\n",
       "        -1.29869320e-06, -6.79773755e-07, -1.68358032e-06,\n",
       "        -1.73482330e-06, -4.55968385e-07, -5.53032047e-07,\n",
       "        -1.58281415e-06, -1.56582583e-06, -1.05608262e-06,\n",
       "        -1.17262339e-06, -1.28560848e-06, -9.73316479e-07,\n",
       "        -8.81929901e-07, -1.01013295e-06, -8.33600286e-07],\n",
       "       [ 1.13427864e-06, -9.47460639e-07, -1.05384686e-06,\n",
       "        -1.10281323e-06, -3.38195098e-07, -3.59531579e-08,\n",
       "        -2.35510233e-07, -2.81302184e-06, -4.76072479e-06,\n",
       "        -2.67283404e-06, -6.46547996e-07, -2.38777273e-06,\n",
       "        -2.87903838e-06, -1.79924099e-07, -8.33613923e-08,\n",
       "        -2.29565291e-06, -2.33452160e-06, -1.13734825e-06,\n",
       "        -1.15560506e-06, -1.32707400e-06, -1.33989843e-06,\n",
       "        -1.60095356e-06, -1.51588312e-06, -9.11168968e-07],\n",
       "       [ 4.83700127e-07, -4.35107345e-07, -5.40717156e-07,\n",
       "        -6.97259646e-07, -4.80481270e-07, -2.15405089e-07,\n",
       "        -1.15243018e-07, -1.29869320e-06, -2.67283404e-06,\n",
       "        -2.19517962e-06, -9.46713867e-07, -1.31722867e-06,\n",
       "        -1.59630417e-06, -3.64617947e-07, -2.30485349e-07,\n",
       "        -1.32236309e-06, -1.34724220e-06, -6.58988324e-07,\n",
       "        -6.70958560e-07, -8.02350637e-07, -7.29890381e-07,\n",
       "        -8.34609823e-07, -9.28065344e-07, -6.95812571e-07],\n",
       "       [ 3.19082204e-07, -9.84614771e-07, -1.63655428e-06,\n",
       "        -8.36687302e-07, -6.27969008e-07, -6.27329177e-07,\n",
       "        -6.87071509e-07, -6.79773755e-07, -6.46547996e-07,\n",
       "        -9.46713867e-07, -1.25128797e-06, -1.00837596e-06,\n",
       "        -5.60845430e-07, -4.48726500e-07, -6.31504433e-07,\n",
       "        -7.10898159e-07, -5.67194215e-07, -3.97811754e-07,\n",
       "        -4.55778723e-07, -5.68372661e-07, -3.16035001e-07,\n",
       "        -1.29571385e-07, -3.75336219e-07, -5.50650897e-07],\n",
       "       [ 1.06665634e-06, -1.11363529e-06, -1.87946186e-06,\n",
       "        -1.08735613e-06, -2.73469438e-07, -3.23351066e-07,\n",
       "        -5.52618507e-07, -1.68358032e-06, -2.38777273e-06,\n",
       "        -1.31722867e-06, -1.00837596e-06, -2.68056478e-06,\n",
       "        -2.68987645e-06, -5.02962215e-07, -3.76278752e-07,\n",
       "        -1.83569821e-06, -1.81602996e-06, -9.14486336e-07,\n",
       "        -8.90458856e-07, -1.08171450e-06, -1.01341687e-06,\n",
       "        -1.00960674e-06, -1.01068923e-06, -8.02960606e-07],\n",
       "       [ 1.09195876e-06, -4.95163923e-07, -9.29555484e-07,\n",
       "        -6.76040156e-07, -1.23314891e-07, -2.55823081e-07,\n",
       "        -4.48940198e-07, -1.73482330e-06, -2.87903838e-06,\n",
       "        -1.59630417e-06, -5.60845430e-07, -2.68987645e-06,\n",
       "        -3.69299825e-06, -1.07213462e-06, -2.84050243e-07,\n",
       "        -1.99541059e-06, -2.17542548e-06, -1.08866394e-06,\n",
       "        -1.07297309e-06, -1.23961371e-06, -1.17554203e-06,\n",
       "        -1.31051522e-06, -1.31995374e-06, -9.53976621e-07],\n",
       "       [ 3.66566625e-07, -5.81217709e-07, -9.61885198e-07,\n",
       "        -1.93887903e-07, -4.17588865e-07, -6.83598883e-07,\n",
       "        -7.86466045e-07, -4.55968385e-07, -1.79924099e-07,\n",
       "        -3.64617947e-07, -4.48726500e-07, -5.02962215e-07,\n",
       "        -1.07213462e-06, -1.50392957e-06, -1.21067922e-06,\n",
       "        -6.94022054e-07, -4.08206853e-07, -4.05397218e-07,\n",
       "        -6.94524625e-07, -7.95840315e-07, -3.14966607e-07,\n",
       "        -2.60580623e-08, -4.40183535e-07, -7.42981444e-07],\n",
       "       [ 6.09170100e-07, -1.20587622e-06, -1.77613215e-06,\n",
       "        -5.76371082e-07, -6.97648809e-07, -7.91474191e-07,\n",
       "        -8.16435989e-07, -5.53032047e-07, -8.33613923e-08,\n",
       "        -2.30485349e-07, -6.31504433e-07, -3.76278752e-07,\n",
       "        -2.84050243e-07, -1.21067922e-06, -1.78695320e-06,\n",
       "        -1.10330929e-06, -2.87882582e-07, -2.73755823e-07,\n",
       "        -7.31829628e-07, -9.70512456e-07, -4.33778441e-07,\n",
       "         7.09338088e-08, -3.15056014e-07, -7.75501471e-07],\n",
       "       [ 1.09095865e-06, -1.14830887e-06, -1.69203252e-06,\n",
       "        -1.01135414e-06, -6.41165954e-07, -5.24376200e-07,\n",
       "        -5.41864519e-07, -1.58281415e-06, -2.29565291e-06,\n",
       "        -1.32236309e-06, -7.10898159e-07, -1.83569821e-06,\n",
       "        -1.99541059e-06, -6.94022054e-07, -1.10330929e-06,\n",
       "        -2.33889647e-06, -1.87095385e-06, -8.98859736e-07,\n",
       "        -1.06468059e-06, -1.35466624e-06, -1.16478271e-06,\n",
       "        -1.00734206e-06, -1.03315821e-06, -9.27007690e-07],\n",
       "       [ 5.92510068e-07, -7.82071774e-07, -1.17113580e-06,\n",
       "        -8.24134094e-07, -3.92464362e-07, -3.85926438e-07,\n",
       "        -5.39020878e-07, -1.56582583e-06, -2.33452160e-06,\n",
       "        -1.34724220e-06, -5.67194215e-07, -1.81602996e-06,\n",
       "        -2.17542548e-06, -4.08206853e-07, -2.87882582e-07,\n",
       "        -1.87095385e-06, -2.11330150e-06, -1.22534939e-06,\n",
       "        -1.02812617e-06, -1.05247126e-06, -9.53170408e-07,\n",
       "        -1.06280177e-06, -1.08287182e-06, -7.76163703e-07],\n",
       "       [ 1.20466136e-07, -7.60916953e-07, -1.13088394e-06,\n",
       "        -6.19918304e-07, -3.72617146e-07, -4.78465785e-07,\n",
       "        -6.96474512e-07, -1.05608262e-06, -1.13734825e-06,\n",
       "        -6.58988324e-07, -3.97811754e-07, -9.14486336e-07,\n",
       "        -1.08866394e-06, -4.05397218e-07, -2.73755823e-07,\n",
       "        -8.98859736e-07, -1.22534939e-06, -1.06770782e-06,\n",
       "        -9.30654145e-07, -7.33239087e-07, -4.08963215e-07,\n",
       "        -4.11664406e-07, -6.48891121e-07, -6.05264962e-07],\n",
       "       [ 4.66426659e-07, -1.00923393e-06, -1.57254680e-06,\n",
       "        -8.38797514e-07, -6.78470592e-07, -7.47276293e-07,\n",
       "        -8.87608031e-07, -1.17262339e-06, -1.15560506e-06,\n",
       "        -6.70958560e-07, -4.55778723e-07, -8.90458856e-07,\n",
       "        -1.07297309e-06, -6.94524625e-07, -7.31829628e-07,\n",
       "        -1.06468059e-06, -1.02812617e-06, -9.30654145e-07,\n",
       "        -1.14636935e-06, -1.08795074e-06, -5.54058985e-07,\n",
       "        -3.39998818e-07, -6.61062164e-07, -7.83511466e-07],\n",
       "       [ 7.56590871e-07, -1.13223035e-06, -1.77057399e-06,\n",
       "        -8.95106199e-07, -7.01284638e-07, -7.94077037e-07,\n",
       "        -9.31883416e-07, -1.28560848e-06, -1.32707400e-06,\n",
       "        -8.02350637e-07, -5.68372661e-07, -1.08171450e-06,\n",
       "        -1.23961371e-06, -7.95840315e-07, -9.70512456e-07,\n",
       "        -1.35466624e-06, -1.05247126e-06, -7.33239087e-07,\n",
       "        -1.08795074e-06, -1.30597268e-06, -8.49560838e-07,\n",
       "        -4.99475575e-07, -7.07337068e-07, -8.50779596e-07],\n",
       "       [ 7.65303505e-07, -5.15700509e-07, -6.58579552e-07,\n",
       "        -3.36788845e-07, -7.63488028e-08, -1.38539868e-07,\n",
       "        -3.16266859e-07, -9.73316479e-07, -1.33989843e-06,\n",
       "        -7.29890381e-07, -3.16035001e-07, -1.01341687e-06,\n",
       "        -1.17554203e-06, -3.14966607e-07, -4.33778441e-07,\n",
       "        -1.16478271e-06, -9.53170408e-07, -4.08963215e-07,\n",
       "        -5.54058985e-07, -8.49560838e-07, -9.12044794e-07,\n",
       "        -7.98965034e-07, -6.12869619e-07, -4.50389507e-07],\n",
       "       [ 7.37270465e-07, -1.18372377e-07,  8.56156350e-08,\n",
       "        -3.96945917e-08,  2.21083413e-07,  2.58188807e-07,\n",
       "         1.00075551e-07, -8.81929901e-07, -1.60095356e-06,\n",
       "        -8.34609823e-07, -1.29571385e-07, -1.00960674e-06,\n",
       "        -1.31051522e-06, -2.60580623e-08,  7.09338088e-08,\n",
       "        -1.00734206e-06, -1.06280177e-06, -4.11664406e-07,\n",
       "        -3.39998818e-07, -4.99475575e-07, -7.98965034e-07,\n",
       "        -1.06477901e-06, -7.98107189e-07, -2.91615294e-07],\n",
       "       [ 6.32952383e-07, -6.48288811e-07, -7.65745181e-07,\n",
       "        -3.95644783e-07, -2.30879577e-07, -2.29584429e-07,\n",
       "        -3.08422569e-07, -1.01013295e-06, -1.51588312e-06,\n",
       "        -9.28065344e-07, -3.75336219e-07, -1.01068923e-06,\n",
       "        -1.31995374e-06, -4.40183535e-07, -3.15056014e-07,\n",
       "        -1.03315821e-06, -1.08287182e-06, -6.48891121e-07,\n",
       "        -6.61062164e-07, -7.07337068e-07, -6.12869619e-07,\n",
       "        -7.98107189e-07, -1.00739263e-06, -7.23450273e-07],\n",
       "       [ 4.13784147e-07, -1.02463408e-06, -1.47792313e-06,\n",
       "        -6.63555922e-07, -6.09933931e-07, -6.86541119e-07,\n",
       "        -6.80399835e-07, -8.33600286e-07, -9.11168968e-07,\n",
       "        -6.95812571e-07, -5.50650897e-07, -8.02960606e-07,\n",
       "        -9.53976621e-07, -7.42981444e-07, -7.75501471e-07,\n",
       "        -9.27007690e-07, -7.76163703e-07, -6.05264962e-07,\n",
       "        -7.83511466e-07, -8.50779596e-07, -4.50389507e-07,\n",
       "        -2.91615294e-07, -7.23450273e-07, -9.24871082e-07]])"
      ]
     },
     "execution_count": 27,
     "metadata": {},
     "output_type": "execute_result"
    }
   ],
   "source": [
    "res1_1_1 - res1_1_1_np"
   ]
  },
  {
   "cell_type": "code",
   "execution_count": 28,
   "metadata": {},
   "outputs": [],
   "source": [
    "res1_1_2 = np.corrcoef(X_vec.T)"
   ]
  },
  {
   "cell_type": "code",
   "execution_count": 29,
   "metadata": {},
   "outputs": [],
   "source": [
    "def my_corr_1(X):\n",
    "    c = my_cov(X)\n",
    "    try:\n",
    "        d = np.diag(c)\n",
    "    except ValueError:\n",
    "        # scalar covariance\n",
    "        # nan if incorrect value (nan, inf, 0), 1 otherwise\n",
    "        return c / c\n",
    "    stddev = np.sqrt(d.real)\n",
    "#     print(stddev)\n",
    "#     print(stddev[None, :])\n",
    "#     c /= stddev[:, None]\n",
    "#     c /= stddev[None, :]\n",
    "    c /= np.dot(stddev.T, stddev)\n",
    "    return c"
   ]
  },
  {
   "cell_type": "code",
   "execution_count": 30,
   "metadata": {},
   "outputs": [],
   "source": [
    "def my_corr(X):\n",
    "    c = my_cov(X)\n",
    "    try:\n",
    "        d = np.diag(c)\n",
    "    except ValueError:\n",
    "        # scalar covariance\n",
    "        # nan if incorrect value (nan, inf, 0), 1 otherwise\n",
    "        return c / c\n",
    "    stddev = np.sqrt(d.real)\n",
    "    c /= stddev[:, None] @ stddev[None, :]\n",
    "    #c /= np.sqrt((np.dot(d.T, d)).real)\n",
    "    return c"
   ]
  },
  {
   "cell_type": "code",
   "execution_count": 31,
   "metadata": {},
   "outputs": [
    {
     "data": {
      "text/plain": [
       "array([[ 3.33066907e-16,  0.00000000e+00,  0.00000000e+00,\n",
       "         0.00000000e+00,  1.38777878e-17,  0.00000000e+00,\n",
       "        -1.38777878e-17, -5.55111512e-17, -5.55111512e-17,\n",
       "         0.00000000e+00, -2.77555756e-17,  0.00000000e+00,\n",
       "         0.00000000e+00, -2.77555756e-17, -1.11022302e-16,\n",
       "         5.55111512e-17,  0.00000000e+00,  1.38777878e-17,\n",
       "        -2.77555756e-17, -5.55111512e-17,  5.55111512e-17,\n",
       "         0.00000000e+00, -5.55111512e-17,  0.00000000e+00],\n",
       "       [ 0.00000000e+00, -1.11022302e-16, -1.11022302e-16,\n",
       "        -1.11022302e-16,  0.00000000e+00,  5.55111512e-17,\n",
       "        -5.55111512e-17, -5.55111512e-17, -2.77555756e-17,\n",
       "        -1.38777878e-17,  1.11022302e-16, -5.55111512e-17,\n",
       "        -1.38777878e-17, -5.55111512e-17, -5.55111512e-17,\n",
       "        -5.55111512e-17, -5.55111512e-17,  0.00000000e+00,\n",
       "         0.00000000e+00,  0.00000000e+00, -2.77555756e-17,\n",
       "        -6.93889390e-18,  0.00000000e+00,  0.00000000e+00],\n",
       "       [ 0.00000000e+00, -1.11022302e-16,  0.00000000e+00,\n",
       "         0.00000000e+00,  0.00000000e+00,  0.00000000e+00,\n",
       "         0.00000000e+00,  0.00000000e+00,  0.00000000e+00,\n",
       "         1.38777878e-17,  5.55111512e-17,  0.00000000e+00,\n",
       "         0.00000000e+00,  0.00000000e+00,  0.00000000e+00,\n",
       "        -5.55111512e-17, -5.55111512e-17,  5.55111512e-17,\n",
       "        -5.55111512e-17,  5.55111512e-17, -2.77555756e-17,\n",
       "         3.46944695e-18,  2.77555756e-17,  0.00000000e+00],\n",
       "       [ 0.00000000e+00, -1.11022302e-16,  0.00000000e+00,\n",
       "         0.00000000e+00,  0.00000000e+00,  0.00000000e+00,\n",
       "         0.00000000e+00,  0.00000000e+00,  0.00000000e+00,\n",
       "        -5.55111512e-17,  0.00000000e+00,  5.55111512e-17,\n",
       "        -2.77555756e-17, -1.38777878e-17,  0.00000000e+00,\n",
       "         0.00000000e+00,  0.00000000e+00,  0.00000000e+00,\n",
       "        -5.55111512e-17,  0.00000000e+00, -2.77555756e-17,\n",
       "        -3.46944695e-18,  0.00000000e+00,  0.00000000e+00],\n",
       "       [ 0.00000000e+00, -5.55111512e-17,  0.00000000e+00,\n",
       "         1.11022302e-16,  0.00000000e+00,  1.11022302e-16,\n",
       "         0.00000000e+00,  2.77555756e-17,  0.00000000e+00,\n",
       "         0.00000000e+00,  5.55111512e-17,  0.00000000e+00,\n",
       "         0.00000000e+00, -2.77555756e-17,  0.00000000e+00,\n",
       "         0.00000000e+00,  0.00000000e+00,  2.77555756e-17,\n",
       "        -5.55111512e-17,  0.00000000e+00,  6.93889390e-18,\n",
       "         0.00000000e+00,  1.38777878e-17,  5.55111512e-17],\n",
       "       [ 0.00000000e+00,  0.00000000e+00,  5.55111512e-17,\n",
       "         0.00000000e+00,  1.11022302e-16,  2.22044605e-16,\n",
       "         1.11022302e-16, -5.55111512e-17,  3.46944695e-18,\n",
       "         0.00000000e+00,  5.55111512e-17,  1.38777878e-17,\n",
       "         1.38777878e-17,  0.00000000e+00,  5.55111512e-17,\n",
       "         0.00000000e+00,  0.00000000e+00,  0.00000000e+00,\n",
       "         0.00000000e+00,  5.55111512e-17,  0.00000000e+00,\n",
       "         0.00000000e+00,  0.00000000e+00,  5.55111512e-17],\n",
       "       [-1.38777878e-17, -5.55111512e-17,  0.00000000e+00,\n",
       "         0.00000000e+00,  0.00000000e+00,  1.11022302e-16,\n",
       "         1.11022302e-16,  0.00000000e+00, -1.38777878e-17,\n",
       "         6.93889390e-18,  0.00000000e+00,  2.77555756e-17,\n",
       "         0.00000000e+00,  5.55111512e-17,  0.00000000e+00,\n",
       "        -2.77555756e-17,  0.00000000e+00, -5.55111512e-17,\n",
       "         5.55111512e-17,  0.00000000e+00,  0.00000000e+00,\n",
       "         0.00000000e+00,  0.00000000e+00,  1.11022302e-16],\n",
       "       [ 0.00000000e+00, -5.55111512e-17,  0.00000000e+00,\n",
       "         0.00000000e+00,  2.77555756e-17, -5.55111512e-17,\n",
       "        -1.11022302e-16,  0.00000000e+00,  0.00000000e+00,\n",
       "        -1.11022302e-16,  0.00000000e+00,  1.11022302e-16,\n",
       "         0.00000000e+00,  2.77555756e-17, -2.77555756e-17,\n",
       "        -1.11022302e-16,  0.00000000e+00,  0.00000000e+00,\n",
       "         0.00000000e+00,  1.11022302e-16,  0.00000000e+00,\n",
       "         0.00000000e+00,  0.00000000e+00,  0.00000000e+00],\n",
       "       [-5.55111512e-17, -2.77555756e-17,  0.00000000e+00,\n",
       "        -5.55111512e-17,  0.00000000e+00,  1.73472348e-18,\n",
       "        -6.93889390e-18,  1.11022302e-16,  0.00000000e+00,\n",
       "        -1.11022302e-16,  0.00000000e+00,  1.11022302e-16,\n",
       "         0.00000000e+00,  0.00000000e+00,  0.00000000e+00,\n",
       "        -1.11022302e-16,  1.11022302e-16,  0.00000000e+00,\n",
       "         5.55111512e-17,  1.11022302e-16,  0.00000000e+00,\n",
       "        -1.11022302e-16, -1.11022302e-16,  0.00000000e+00],\n",
       "       [ 0.00000000e+00, -2.77555756e-17,  0.00000000e+00,\n",
       "        -2.77555756e-17, -2.77555756e-17,  1.38777878e-17,\n",
       "         0.00000000e+00, -1.11022302e-16, -1.11022302e-16,\n",
       "         0.00000000e+00,  1.11022302e-16,  0.00000000e+00,\n",
       "        -1.11022302e-16,  0.00000000e+00,  2.77555756e-17,\n",
       "        -1.11022302e-16, -1.11022302e-16,  0.00000000e+00,\n",
       "         0.00000000e+00,  5.55111512e-17,  0.00000000e+00,\n",
       "        -1.11022302e-16,  1.11022302e-16, -5.55111512e-17],\n",
       "       [-2.77555756e-17,  1.11022302e-16,  5.55111512e-17,\n",
       "         0.00000000e+00,  5.55111512e-17,  1.11022302e-16,\n",
       "         5.55111512e-17,  0.00000000e+00,  0.00000000e+00,\n",
       "         1.11022302e-16,  2.22044605e-16,  1.11022302e-16,\n",
       "         5.55111512e-17,  1.11022302e-16,  5.55111512e-17,\n",
       "         5.55111512e-17,  5.55111512e-17,  0.00000000e+00,\n",
       "         1.11022302e-16,  1.11022302e-16,  0.00000000e+00,\n",
       "         0.00000000e+00,  0.00000000e+00,  1.11022302e-16],\n",
       "       [-5.55111512e-17, -5.55111512e-17,  0.00000000e+00,\n",
       "         5.55111512e-17,  1.38777878e-17,  1.38777878e-17,\n",
       "         2.77555756e-17,  1.11022302e-16,  1.11022302e-16,\n",
       "        -1.11022302e-16,  1.11022302e-16,  1.11022302e-16,\n",
       "         0.00000000e+00,  5.55111512e-17,  0.00000000e+00,\n",
       "         1.11022302e-16,  0.00000000e+00,  0.00000000e+00,\n",
       "         1.11022302e-16,  1.11022302e-16,  1.11022302e-16,\n",
       "         0.00000000e+00,  0.00000000e+00,  1.11022302e-16],\n",
       "       [-5.55111512e-17, -2.77555756e-17,  0.00000000e+00,\n",
       "        -2.77555756e-17,  0.00000000e+00,  0.00000000e+00,\n",
       "         0.00000000e+00,  0.00000000e+00,  1.11022302e-16,\n",
       "        -1.11022302e-16,  5.55111512e-17,  0.00000000e+00,\n",
       "         0.00000000e+00,  0.00000000e+00,  1.38777878e-17,\n",
       "         0.00000000e+00,  0.00000000e+00,  1.11022302e-16,\n",
       "         0.00000000e+00,  1.11022302e-16, -1.11022302e-16,\n",
       "         0.00000000e+00,  0.00000000e+00,  1.11022302e-16],\n",
       "       [ 0.00000000e+00, -2.77555756e-17,  0.00000000e+00,\n",
       "        -1.38777878e-17,  0.00000000e+00,  5.55111512e-17,\n",
       "         5.55111512e-17,  0.00000000e+00,  0.00000000e+00,\n",
       "         0.00000000e+00,  1.11022302e-16,  5.55111512e-17,\n",
       "         0.00000000e+00,  2.22044605e-16,  0.00000000e+00,\n",
       "         0.00000000e+00,  0.00000000e+00,  5.55111512e-17,\n",
       "         1.11022302e-16,  1.11022302e-16, -5.55111512e-17,\n",
       "        -3.46944695e-18,  5.55111512e-17,  0.00000000e+00],\n",
       "       [-5.55111512e-17,  0.00000000e+00,  0.00000000e+00,\n",
       "         0.00000000e+00, -5.55111512e-17,  5.55111512e-17,\n",
       "         0.00000000e+00, -2.77555756e-17,  3.46944695e-18,\n",
       "         1.38777878e-17,  0.00000000e+00,  0.00000000e+00,\n",
       "         2.77555756e-17,  0.00000000e+00, -1.11022302e-16,\n",
       "         0.00000000e+00,  0.00000000e+00,  2.77555756e-17,\n",
       "         0.00000000e+00,  0.00000000e+00,  0.00000000e+00,\n",
       "         6.93889390e-18,  2.77555756e-17,  0.00000000e+00],\n",
       "       [ 0.00000000e+00, -5.55111512e-17,  0.00000000e+00,\n",
       "         0.00000000e+00,  2.77555756e-17, -2.77555756e-17,\n",
       "         0.00000000e+00,  0.00000000e+00,  0.00000000e+00,\n",
       "        -1.11022302e-16,  0.00000000e+00,  1.11022302e-16,\n",
       "         0.00000000e+00,  0.00000000e+00,  0.00000000e+00,\n",
       "         0.00000000e+00, -1.11022302e-16,  0.00000000e+00,\n",
       "         0.00000000e+00, -1.11022302e-16,  0.00000000e+00,\n",
       "        -1.11022302e-16,  0.00000000e+00,  0.00000000e+00],\n",
       "       [ 0.00000000e+00, -5.55111512e-17, -5.55111512e-17,\n",
       "         0.00000000e+00,  0.00000000e+00,  0.00000000e+00,\n",
       "         0.00000000e+00,  0.00000000e+00,  1.11022302e-16,\n",
       "        -1.11022302e-16,  5.55111512e-17,  0.00000000e+00,\n",
       "         0.00000000e+00,  0.00000000e+00,  0.00000000e+00,\n",
       "        -2.22044605e-16, -1.11022302e-16,  0.00000000e+00,\n",
       "         0.00000000e+00,  1.11022302e-16,  0.00000000e+00,\n",
       "        -2.22044605e-16,  0.00000000e+00,  0.00000000e+00],\n",
       "       [ 0.00000000e+00,  0.00000000e+00,  5.55111512e-17,\n",
       "         0.00000000e+00,  0.00000000e+00,  0.00000000e+00,\n",
       "        -5.55111512e-17,  1.11022302e-16,  0.00000000e+00,\n",
       "         0.00000000e+00,  0.00000000e+00,  0.00000000e+00,\n",
       "         0.00000000e+00,  0.00000000e+00,  2.77555756e-17,\n",
       "         0.00000000e+00,  0.00000000e+00,  2.22044605e-16,\n",
       "         0.00000000e+00,  0.00000000e+00, -5.55111512e-17,\n",
       "         0.00000000e+00,  2.22044605e-16,  0.00000000e+00],\n",
       "       [-2.77555756e-17,  0.00000000e+00,  0.00000000e+00,\n",
       "        -5.55111512e-17, -5.55111512e-17,  0.00000000e+00,\n",
       "         5.55111512e-17,  0.00000000e+00,  5.55111512e-17,\n",
       "         0.00000000e+00,  5.55111512e-17,  1.11022302e-16,\n",
       "         0.00000000e+00,  1.11022302e-16,  0.00000000e+00,\n",
       "        -1.11022302e-16,  0.00000000e+00,  0.00000000e+00,\n",
       "         0.00000000e+00, -1.11022302e-16, -2.22044605e-16,\n",
       "         0.00000000e+00,  0.00000000e+00,  0.00000000e+00],\n",
       "       [-1.11022302e-16,  0.00000000e+00,  0.00000000e+00,\n",
       "         5.55111512e-17,  0.00000000e+00,  5.55111512e-17,\n",
       "         5.55111512e-17,  1.11022302e-16,  0.00000000e+00,\n",
       "         5.55111512e-17,  5.55111512e-17,  1.11022302e-16,\n",
       "         1.11022302e-16,  1.11022302e-16,  0.00000000e+00,\n",
       "         0.00000000e+00,  0.00000000e+00,  0.00000000e+00,\n",
       "         0.00000000e+00,  2.22044605e-16,  1.11022302e-16,\n",
       "         0.00000000e+00,  1.11022302e-16,  2.22044605e-16],\n",
       "       [ 0.00000000e+00, -2.77555756e-17, -2.77555756e-17,\n",
       "        -2.77555756e-17,  0.00000000e+00,  0.00000000e+00,\n",
       "        -2.77555756e-17,  0.00000000e+00,  0.00000000e+00,\n",
       "         0.00000000e+00,  0.00000000e+00,  1.11022302e-16,\n",
       "        -1.11022302e-16, -5.55111512e-17, -5.55111512e-17,\n",
       "         0.00000000e+00,  0.00000000e+00, -5.55111512e-17,\n",
       "        -1.11022302e-16,  1.11022302e-16,  0.00000000e+00,\n",
       "        -1.11022302e-16,  0.00000000e+00,  5.55111512e-17],\n",
       "       [ 0.00000000e+00, -6.93889390e-18,  3.46944695e-18,\n",
       "        -3.46944695e-18,  1.38777878e-17,  0.00000000e+00,\n",
       "         0.00000000e+00,  0.00000000e+00,  0.00000000e+00,\n",
       "         0.00000000e+00,  1.38777878e-17,  0.00000000e+00,\n",
       "         0.00000000e+00,  0.00000000e+00,  6.93889390e-18,\n",
       "        -1.11022302e-16, -1.11022302e-16,  0.00000000e+00,\n",
       "        -5.55111512e-17,  5.55111512e-17, -2.22044605e-16,\n",
       "         0.00000000e+00,  1.11022302e-16, -5.55111512e-17],\n",
       "       [-5.55111512e-17,  0.00000000e+00,  5.55111512e-17,\n",
       "         0.00000000e+00,  1.38777878e-17,  0.00000000e+00,\n",
       "         0.00000000e+00,  0.00000000e+00,  0.00000000e+00,\n",
       "         1.11022302e-16,  5.55111512e-17,  0.00000000e+00,\n",
       "         0.00000000e+00,  5.55111512e-17,  2.77555756e-17,\n",
       "         0.00000000e+00,  0.00000000e+00,  2.22044605e-16,\n",
       "         0.00000000e+00,  1.11022302e-16,  0.00000000e+00,\n",
       "         1.11022302e-16,  2.22044605e-16,  1.11022302e-16],\n",
       "       [-2.77555756e-17,  5.55111512e-17,  5.55111512e-17,\n",
       "         0.00000000e+00,  5.55111512e-17,  5.55111512e-17,\n",
       "         5.55111512e-17,  0.00000000e+00,  0.00000000e+00,\n",
       "        -5.55111512e-17,  2.22044605e-16,  0.00000000e+00,\n",
       "         1.11022302e-16,  0.00000000e+00,  1.11022302e-16,\n",
       "        -1.11022302e-16,  0.00000000e+00,  0.00000000e+00,\n",
       "         0.00000000e+00,  2.22044605e-16,  5.55111512e-17,\n",
       "         0.00000000e+00,  2.22044605e-16,  2.22044605e-16]])"
      ]
     },
     "execution_count": 31,
     "metadata": {},
     "output_type": "execute_result"
    }
   ],
   "source": [
    "my_corr(X_vec) - np.corrcoef(X_vec.T)"
   ]
  },
  {
   "cell_type": "code",
   "execution_count": 32,
   "metadata": {},
   "outputs": [
    {
     "data": {
      "image/png": "[encoded data removed]",
      "text/plain": [
       "<Figure size 432x288 with 2 Axes>"
      ]
     },
     "metadata": {
      "needs_background": "light"
     },
     "output_type": "display_data"
    }
   ],
   "source": [
    "plt.imshow(my_corr(X_vec))\n",
    "plt.colorbar()\n",
    "plt.savefig('correlation.png')\n",
    "plt.show()"
   ]
  },
  {
   "cell_type": "code",
   "execution_count": 33,
   "metadata": {},
   "outputs": [],
   "source": [
    "l = np.array([1,2,3])"
   ]
  },
  {
   "cell_type": "code",
   "execution_count": 34,
   "metadata": {},
   "outputs": [
    {
     "data": {
      "text/plain": [
       "array([[1],\n",
       "       [2],\n",
       "       [3]])"
      ]
     },
     "execution_count": 34,
     "metadata": {},
     "output_type": "execute_result"
    }
   ],
   "source": [
    "l[:, None]"
   ]
  },
  {
   "cell_type": "code",
   "execution_count": 35,
   "metadata": {},
   "outputs": [],
   "source": [
    "def my_corr_1(X):\n",
    "    c = my_cov(X)\n",
    "    \n",
    "    try:\n",
    "        d = np.diag(c)\n",
    "    except ValueError:\n",
    "        # scalar covariance\n",
    "        # nan if incorrect value (nan, inf, 0), 1 otherwise\n",
    "        return c / c\n",
    "    std_dev = np.sqrt(d.real)\n",
    "    c /= (std_dev[:, None] @ std_dev[None, :])\n",
    "    \n",
    "    return c"
   ]
  },
  {
   "cell_type": "code",
   "execution_count": 36,
   "metadata": {},
   "outputs": [
    {
     "data": {
      "text/plain": [
       "array([[ 3.33066907e-16,  0.00000000e+00,  0.00000000e+00,\n",
       "         0.00000000e+00,  1.38777878e-17,  0.00000000e+00,\n",
       "        -1.38777878e-17, -5.55111512e-17, -5.55111512e-17,\n",
       "         0.00000000e+00, -2.77555756e-17,  0.00000000e+00,\n",
       "         0.00000000e+00, -2.77555756e-17, -1.11022302e-16,\n",
       "         5.55111512e-17,  0.00000000e+00,  1.38777878e-17,\n",
       "        -2.77555756e-17, -5.55111512e-17,  5.55111512e-17,\n",
       "         0.00000000e+00, -5.55111512e-17,  0.00000000e+00],\n",
       "       [ 0.00000000e+00, -1.11022302e-16, -1.11022302e-16,\n",
       "        -1.11022302e-16,  0.00000000e+00,  5.55111512e-17,\n",
       "        -5.55111512e-17, -5.55111512e-17, -2.77555756e-17,\n",
       "        -1.38777878e-17,  1.11022302e-16, -5.55111512e-17,\n",
       "        -1.38777878e-17, -5.55111512e-17, -5.55111512e-17,\n",
       "        -5.55111512e-17, -5.55111512e-17,  0.00000000e+00,\n",
       "         0.00000000e+00,  0.00000000e+00, -2.77555756e-17,\n",
       "        -6.93889390e-18,  0.00000000e+00,  0.00000000e+00],\n",
       "       [ 0.00000000e+00, -1.11022302e-16,  0.00000000e+00,\n",
       "         0.00000000e+00,  0.00000000e+00,  0.00000000e+00,\n",
       "         0.00000000e+00,  0.00000000e+00,  0.00000000e+00,\n",
       "         1.38777878e-17,  5.55111512e-17,  0.00000000e+00,\n",
       "         0.00000000e+00,  0.00000000e+00,  0.00000000e+00,\n",
       "        -5.55111512e-17, -5.55111512e-17,  5.55111512e-17,\n",
       "        -5.55111512e-17,  5.55111512e-17, -2.77555756e-17,\n",
       "         3.46944695e-18,  2.77555756e-17,  0.00000000e+00],\n",
       "       [ 0.00000000e+00, -1.11022302e-16,  0.00000000e+00,\n",
       "         0.00000000e+00,  0.00000000e+00,  0.00000000e+00,\n",
       "         0.00000000e+00,  0.00000000e+00,  0.00000000e+00,\n",
       "        -5.55111512e-17,  0.00000000e+00,  5.55111512e-17,\n",
       "        -2.77555756e-17, -1.38777878e-17,  0.00000000e+00,\n",
       "         0.00000000e+00,  0.00000000e+00,  0.00000000e+00,\n",
       "        -5.55111512e-17,  0.00000000e+00, -2.77555756e-17,\n",
       "        -3.46944695e-18,  0.00000000e+00,  0.00000000e+00],\n",
       "       [ 0.00000000e+00, -5.55111512e-17,  0.00000000e+00,\n",
       "         1.11022302e-16,  0.00000000e+00,  1.11022302e-16,\n",
       "         0.00000000e+00,  2.77555756e-17,  0.00000000e+00,\n",
       "         0.00000000e+00,  5.55111512e-17,  0.00000000e+00,\n",
       "         0.00000000e+00, -2.77555756e-17,  0.00000000e+00,\n",
       "         0.00000000e+00,  0.00000000e+00,  2.77555756e-17,\n",
       "        -5.55111512e-17,  0.00000000e+00,  6.93889390e-18,\n",
       "         0.00000000e+00,  1.38777878e-17,  5.55111512e-17],\n",
       "       [ 0.00000000e+00,  0.00000000e+00,  5.55111512e-17,\n",
       "         0.00000000e+00,  1.11022302e-16,  2.22044605e-16,\n",
       "         1.11022302e-16, -5.55111512e-17,  3.46944695e-18,\n",
       "         0.00000000e+00,  5.55111512e-17,  1.38777878e-17,\n",
       "         1.38777878e-17,  0.00000000e+00,  5.55111512e-17,\n",
       "         0.00000000e+00,  0.00000000e+00,  0.00000000e+00,\n",
       "         0.00000000e+00,  5.55111512e-17,  0.00000000e+00,\n",
       "         0.00000000e+00,  0.00000000e+00,  5.55111512e-17],\n",
       "       [-1.38777878e-17, -5.55111512e-17,  0.00000000e+00,\n",
       "         0.00000000e+00,  0.00000000e+00,  1.11022302e-16,\n",
       "         1.11022302e-16,  0.00000000e+00, -1.38777878e-17,\n",
       "         6.93889390e-18,  0.00000000e+00,  2.77555756e-17,\n",
       "         0.00000000e+00,  5.55111512e-17,  0.00000000e+00,\n",
       "        -2.77555756e-17,  0.00000000e+00, -5.55111512e-17,\n",
       "         5.55111512e-17,  0.00000000e+00,  0.00000000e+00,\n",
       "         0.00000000e+00,  0.00000000e+00,  1.11022302e-16],\n",
       "       [ 0.00000000e+00, -5.55111512e-17,  0.00000000e+00,\n",
       "         0.00000000e+00,  2.77555756e-17, -5.55111512e-17,\n",
       "        -1.11022302e-16,  0.00000000e+00,  0.00000000e+00,\n",
       "        -1.11022302e-16,  0.00000000e+00,  1.11022302e-16,\n",
       "         0.00000000e+00,  2.77555756e-17, -2.77555756e-17,\n",
       "        -1.11022302e-16,  0.00000000e+00,  0.00000000e+00,\n",
       "         0.00000000e+00,  1.11022302e-16,  0.00000000e+00,\n",
       "         0.00000000e+00,  0.00000000e+00,  0.00000000e+00],\n",
       "       [-5.55111512e-17, -2.77555756e-17,  0.00000000e+00,\n",
       "        -5.55111512e-17,  0.00000000e+00,  1.73472348e-18,\n",
       "        -6.93889390e-18,  1.11022302e-16,  0.00000000e+00,\n",
       "        -1.11022302e-16,  0.00000000e+00,  1.11022302e-16,\n",
       "         0.00000000e+00,  0.00000000e+00,  0.00000000e+00,\n",
       "        -1.11022302e-16,  1.11022302e-16,  0.00000000e+00,\n",
       "         5.55111512e-17,  1.11022302e-16,  0.00000000e+00,\n",
       "        -1.11022302e-16, -1.11022302e-16,  0.00000000e+00],\n",
       "       [ 0.00000000e+00, -2.77555756e-17,  0.00000000e+00,\n",
       "        -2.77555756e-17, -2.77555756e-17,  1.38777878e-17,\n",
       "         0.00000000e+00, -1.11022302e-16, -1.11022302e-16,\n",
       "         0.00000000e+00,  1.11022302e-16,  0.00000000e+00,\n",
       "        -1.11022302e-16,  0.00000000e+00,  2.77555756e-17,\n",
       "        -1.11022302e-16, -1.11022302e-16,  0.00000000e+00,\n",
       "         0.00000000e+00,  5.55111512e-17,  0.00000000e+00,\n",
       "        -1.11022302e-16,  1.11022302e-16, -5.55111512e-17],\n",
       "       [-2.77555756e-17,  1.11022302e-16,  5.55111512e-17,\n",
       "         0.00000000e+00,  5.55111512e-17,  1.11022302e-16,\n",
       "         5.55111512e-17,  0.00000000e+00,  0.00000000e+00,\n",
       "         1.11022302e-16,  2.22044605e-16,  1.11022302e-16,\n",
       "         5.55111512e-17,  1.11022302e-16,  5.55111512e-17,\n",
       "         5.55111512e-17,  5.55111512e-17,  0.00000000e+00,\n",
       "         1.11022302e-16,  1.11022302e-16,  0.00000000e+00,\n",
       "         0.00000000e+00,  0.00000000e+00,  1.11022302e-16],\n",
       "       [-5.55111512e-17, -5.55111512e-17,  0.00000000e+00,\n",
       "         5.55111512e-17,  1.38777878e-17,  1.38777878e-17,\n",
       "         2.77555756e-17,  1.11022302e-16,  1.11022302e-16,\n",
       "        -1.11022302e-16,  1.11022302e-16,  1.11022302e-16,\n",
       "         0.00000000e+00,  5.55111512e-17,  0.00000000e+00,\n",
       "         1.11022302e-16,  0.00000000e+00,  0.00000000e+00,\n",
       "         1.11022302e-16,  1.11022302e-16,  1.11022302e-16,\n",
       "         0.00000000e+00,  0.00000000e+00,  1.11022302e-16],\n",
       "       [-5.55111512e-17, -2.77555756e-17,  0.00000000e+00,\n",
       "        -2.77555756e-17,  0.00000000e+00,  0.00000000e+00,\n",
       "         0.00000000e+00,  0.00000000e+00,  1.11022302e-16,\n",
       "        -1.11022302e-16,  5.55111512e-17,  0.00000000e+00,\n",
       "         0.00000000e+00,  0.00000000e+00,  1.38777878e-17,\n",
       "         0.00000000e+00,  0.00000000e+00,  1.11022302e-16,\n",
       "         0.00000000e+00,  1.11022302e-16, -1.11022302e-16,\n",
       "         0.00000000e+00,  0.00000000e+00,  1.11022302e-16],\n",
       "       [ 0.00000000e+00, -2.77555756e-17,  0.00000000e+00,\n",
       "        -1.38777878e-17,  0.00000000e+00,  5.55111512e-17,\n",
       "         5.55111512e-17,  0.00000000e+00,  0.00000000e+00,\n",
       "         0.00000000e+00,  1.11022302e-16,  5.55111512e-17,\n",
       "         0.00000000e+00,  2.22044605e-16,  0.00000000e+00,\n",
       "         0.00000000e+00,  0.00000000e+00,  5.55111512e-17,\n",
       "         1.11022302e-16,  1.11022302e-16, -5.55111512e-17,\n",
       "        -3.46944695e-18,  5.55111512e-17,  0.00000000e+00],\n",
       "       [-5.55111512e-17,  0.00000000e+00,  0.00000000e+00,\n",
       "         0.00000000e+00, -5.55111512e-17,  5.55111512e-17,\n",
       "         0.00000000e+00, -2.77555756e-17,  3.46944695e-18,\n",
       "         1.38777878e-17,  0.00000000e+00,  0.00000000e+00,\n",
       "         2.77555756e-17,  0.00000000e+00, -1.11022302e-16,\n",
       "         0.00000000e+00,  0.00000000e+00,  2.77555756e-17,\n",
       "         0.00000000e+00,  0.00000000e+00,  0.00000000e+00,\n",
       "         6.93889390e-18,  2.77555756e-17,  0.00000000e+00],\n",
       "       [ 0.00000000e+00, -5.55111512e-17,  0.00000000e+00,\n",
       "         0.00000000e+00,  2.77555756e-17, -2.77555756e-17,\n",
       "         0.00000000e+00,  0.00000000e+00,  0.00000000e+00,\n",
       "        -1.11022302e-16,  0.00000000e+00,  1.11022302e-16,\n",
       "         0.00000000e+00,  0.00000000e+00,  0.00000000e+00,\n",
       "         0.00000000e+00, -1.11022302e-16,  0.00000000e+00,\n",
       "         0.00000000e+00, -1.11022302e-16,  0.00000000e+00,\n",
       "        -1.11022302e-16,  0.00000000e+00,  0.00000000e+00],\n",
       "       [ 0.00000000e+00, -5.55111512e-17, -5.55111512e-17,\n",
       "         0.00000000e+00,  0.00000000e+00,  0.00000000e+00,\n",
       "         0.00000000e+00,  0.00000000e+00,  1.11022302e-16,\n",
       "        -1.11022302e-16,  5.55111512e-17,  0.00000000e+00,\n",
       "         0.00000000e+00,  0.00000000e+00,  0.00000000e+00,\n",
       "        -2.22044605e-16, -1.11022302e-16,  0.00000000e+00,\n",
       "         0.00000000e+00,  1.11022302e-16,  0.00000000e+00,\n",
       "        -2.22044605e-16,  0.00000000e+00,  0.00000000e+00],\n",
       "       [ 0.00000000e+00,  0.00000000e+00,  5.55111512e-17,\n",
       "         0.00000000e+00,  0.00000000e+00,  0.00000000e+00,\n",
       "        -5.55111512e-17,  1.11022302e-16,  0.00000000e+00,\n",
       "         0.00000000e+00,  0.00000000e+00,  0.00000000e+00,\n",
       "         0.00000000e+00,  0.00000000e+00,  2.77555756e-17,\n",
       "         0.00000000e+00,  0.00000000e+00,  2.22044605e-16,\n",
       "         0.00000000e+00,  0.00000000e+00, -5.55111512e-17,\n",
       "         0.00000000e+00,  2.22044605e-16,  0.00000000e+00],\n",
       "       [-2.77555756e-17,  0.00000000e+00,  0.00000000e+00,\n",
       "        -5.55111512e-17, -5.55111512e-17,  0.00000000e+00,\n",
       "         5.55111512e-17,  0.00000000e+00,  5.55111512e-17,\n",
       "         0.00000000e+00,  5.55111512e-17,  1.11022302e-16,\n",
       "         0.00000000e+00,  1.11022302e-16,  0.00000000e+00,\n",
       "        -1.11022302e-16,  0.00000000e+00,  0.00000000e+00,\n",
       "         0.00000000e+00, -1.11022302e-16, -2.22044605e-16,\n",
       "         0.00000000e+00,  0.00000000e+00,  0.00000000e+00],\n",
       "       [-1.11022302e-16,  0.00000000e+00,  0.00000000e+00,\n",
       "         5.55111512e-17,  0.00000000e+00,  5.55111512e-17,\n",
       "         5.55111512e-17,  1.11022302e-16,  0.00000000e+00,\n",
       "         5.55111512e-17,  5.55111512e-17,  1.11022302e-16,\n",
       "         1.11022302e-16,  1.11022302e-16,  0.00000000e+00,\n",
       "         0.00000000e+00,  0.00000000e+00,  0.00000000e+00,\n",
       "         0.00000000e+00,  2.22044605e-16,  1.11022302e-16,\n",
       "         0.00000000e+00,  1.11022302e-16,  2.22044605e-16],\n",
       "       [ 0.00000000e+00, -2.77555756e-17, -2.77555756e-17,\n",
       "        -2.77555756e-17,  0.00000000e+00,  0.00000000e+00,\n",
       "        -2.77555756e-17,  0.00000000e+00,  0.00000000e+00,\n",
       "         0.00000000e+00,  0.00000000e+00,  1.11022302e-16,\n",
       "        -1.11022302e-16, -5.55111512e-17, -5.55111512e-17,\n",
       "         0.00000000e+00,  0.00000000e+00, -5.55111512e-17,\n",
       "        -1.11022302e-16,  1.11022302e-16,  0.00000000e+00,\n",
       "        -1.11022302e-16,  0.00000000e+00,  5.55111512e-17],\n",
       "       [ 0.00000000e+00, -6.93889390e-18,  3.46944695e-18,\n",
       "        -3.46944695e-18,  1.38777878e-17,  0.00000000e+00,\n",
       "         0.00000000e+00,  0.00000000e+00,  0.00000000e+00,\n",
       "         0.00000000e+00,  1.38777878e-17,  0.00000000e+00,\n",
       "         0.00000000e+00,  0.00000000e+00,  6.93889390e-18,\n",
       "        -1.11022302e-16, -1.11022302e-16,  0.00000000e+00,\n",
       "        -5.55111512e-17,  5.55111512e-17, -2.22044605e-16,\n",
       "         0.00000000e+00,  1.11022302e-16, -5.55111512e-17],\n",
       "       [-5.55111512e-17,  0.00000000e+00,  5.55111512e-17,\n",
       "         0.00000000e+00,  1.38777878e-17,  0.00000000e+00,\n",
       "         0.00000000e+00,  0.00000000e+00,  0.00000000e+00,\n",
       "         1.11022302e-16,  5.55111512e-17,  0.00000000e+00,\n",
       "         0.00000000e+00,  5.55111512e-17,  2.77555756e-17,\n",
       "         0.00000000e+00,  0.00000000e+00,  2.22044605e-16,\n",
       "         0.00000000e+00,  1.11022302e-16,  0.00000000e+00,\n",
       "         1.11022302e-16,  2.22044605e-16,  1.11022302e-16],\n",
       "       [-2.77555756e-17,  5.55111512e-17,  5.55111512e-17,\n",
       "         0.00000000e+00,  5.55111512e-17,  5.55111512e-17,\n",
       "         5.55111512e-17,  0.00000000e+00,  0.00000000e+00,\n",
       "        -5.55111512e-17,  2.22044605e-16,  0.00000000e+00,\n",
       "         1.11022302e-16,  0.00000000e+00,  1.11022302e-16,\n",
       "        -1.11022302e-16,  0.00000000e+00,  0.00000000e+00,\n",
       "         0.00000000e+00,  2.22044605e-16,  5.55111512e-17,\n",
       "         0.00000000e+00,  2.22044605e-16,  2.22044605e-16]])"
      ]
     },
     "execution_count": 36,
     "metadata": {},
     "output_type": "execute_result"
    }
   ],
   "source": [
    "my_corr_1(X_vec) - np.corrcoef(X_vec.T)"
   ]
  },
  {
   "cell_type": "code",
   "execution_count": 37,
   "metadata": {},
   "outputs": [],
   "source": [
    "import scipy.linalg as linalg"
   ]
  },
  {
   "cell_type": "code",
   "execution_count": 38,
   "metadata": {},
   "outputs": [],
   "source": [
    "eig_vals, eigen_vecs = linalg.eig(res1_1_1)"
   ]
  },
  {
   "cell_type": "code",
   "execution_count": 39,
   "metadata": {},
   "outputs": [
    {
     "data": {
      "text/plain": [
       "array([1.17646903e-01, 5.59964502e-02, 2.42093270e-02, 1.55476226e-02,\n",
       "       1.22316198e-02, 9.74216178e-03, 8.46159950e-03, 5.83401715e-03,\n",
       "       4.55011818e-03, 3.98763305e-03, 3.58101689e-03, 2.23870730e-03,\n",
       "       1.79368418e-03, 1.51629368e-03, 1.35461344e-03, 6.02657141e-04,\n",
       "       4.02776757e-04, 2.47162960e-04, 1.29613433e-04, 8.15988326e-05,\n",
       "       5.37462664e-05, 2.92958358e-05, 1.28978029e-05, 1.90768654e-05])"
      ]
     },
     "execution_count": 39,
     "metadata": {},
     "output_type": "execute_result"
    }
   ],
   "source": [
    "eig_vals.real"
   ]
  },
  {
   "cell_type": "code",
   "execution_count": 40,
   "metadata": {},
   "outputs": [],
   "source": [
    "idx = np.argsort(eig_vals)[::-1]\n",
    "EVals = eig_vals[idx]\n",
    "EVecs = eigen_vecs[:, idx]\n",
    "EVecs_1 = eigen_vecs[:, idx]"
   ]
  },
  {
   "cell_type": "code",
   "execution_count": 41,
   "metadata": {},
   "outputs": [
    {
     "data": {
      "text/plain": [
       "array([[ 1.35566887e-01,  8.35321521e-02,  1.39343292e-01,\n",
       "         2.35836730e-01,  7.92784561e-01,  3.71688554e-01,\n",
       "         1.05908489e-02,  9.72750321e-02,  3.33519654e-02,\n",
       "         1.17935005e-01,  2.69972567e-01,  1.18842106e-01,\n",
       "         1.16919068e-01,  2.88141044e-02,  3.72268076e-02,\n",
       "         5.59499539e-02,  2.17526578e-02,  3.84054028e-02,\n",
       "         1.76165381e-02,  4.34293020e-03,  5.86723949e-03,\n",
       "         2.53209828e-03,  2.41699301e-03,  1.97547785e-03],\n",
       "       [-3.27997850e-01,  2.76461872e-01, -4.14881187e-01,\n",
       "         2.60996543e-02,  7.64748623e-02,  7.27669649e-03,\n",
       "        -1.67824466e-01,  1.27710917e-01, -3.78131304e-01,\n",
       "        -3.33946094e-01,  3.43485569e-01, -2.04416598e-01,\n",
       "        -9.21294948e-03, -2.39193841e-01,  1.53771712e-01,\n",
       "        -2.86230769e-01,  8.34651324e-02,  1.65392279e-02,\n",
       "        -9.10762747e-02,  5.63021884e-03,  4.53399885e-03,\n",
       "        -4.49090951e-03, -3.08219493e-03, -6.42320403e-03],\n",
       "       [-4.76094616e-01,  4.12163911e-01, -3.61958364e-01,\n",
       "         2.25839778e-02,  4.84908675e-02,  6.75961349e-02,\n",
       "         1.41635242e-01, -6.00250866e-02,  9.85682597e-02,\n",
       "         1.20411436e-01, -1.39732862e-01,  1.48360869e-01,\n",
       "         3.01357930e-04,  1.45523217e-01, -3.42283909e-01,\n",
       "         4.52000415e-01, -9.13946377e-02,  3.05456403e-02,\n",
       "         1.50695534e-01, -2.56062180e-02,  1.23381029e-02,\n",
       "        -3.94905332e-03,  5.12210576e-03,  1.05497982e-02],\n",
       "       [-2.68159948e-01,  2.00717359e-01,  5.54182816e-02,\n",
       "         3.38597016e-01, -1.81482480e-01,  1.97208532e-01,\n",
       "         1.57008552e-01,  6.14226017e-02,  1.40350513e-01,\n",
       "         3.81085453e-01, -2.07182941e-01,  2.72208920e-01,\n",
       "        -1.14393816e-01, -3.58931345e-02,  2.82638991e-01,\n",
       "        -4.22170680e-01,  2.17512070e-01, -1.30801971e-01,\n",
       "        -2.02354127e-01,  9.52671626e-02, -2.44555617e-02,\n",
       "         1.50367222e-02, -6.40018802e-03, -9.45094275e-03],\n",
       "       [-1.79066043e-01,  2.07298497e-01,  5.07166518e-01,\n",
       "         2.01507967e-01, -3.24520141e-01,  2.53305663e-01,\n",
       "        -3.80171036e-02,  1.73905888e-01, -1.62324027e-01,\n",
       "        -6.20186408e-02,  1.17353600e-01, -1.55884644e-01,\n",
       "         9.55090385e-02, -1.34163555e-02,  2.74971775e-01,\n",
       "         2.40912529e-01, -3.26443338e-01,  1.10102293e-01,\n",
       "         2.21935096e-01, -2.03560028e-01,  6.08648078e-02,\n",
       "        -3.87738861e-02,  7.89796031e-03,  1.03035175e-02],\n",
       "       [-1.72564495e-01,  2.01921482e-01,  5.31530427e-01,\n",
       "        -3.00541332e-03, -3.55773055e-02, -1.19458054e-01,\n",
       "         5.24938052e-02, -3.16385735e-02, -7.13133175e-02,\n",
       "        -2.06613741e-01,  1.79094728e-01, -5.15053457e-02,\n",
       "         5.85192096e-02,  4.96173658e-02, -4.26297478e-01,\n",
       "         5.35675094e-02,  3.65468681e-01, -1.84187805e-01,\n",
       "        -2.37909275e-01,  3.18552330e-01, -1.47161283e-01,\n",
       "         8.58069004e-02,  2.39455227e-03, -6.41475023e-03],\n",
       "       [-2.02572231e-01,  1.85130539e-01,  2.98358895e-01,\n",
       "        -8.14472352e-02,  2.67120486e-01, -5.18144975e-01,\n",
       "         5.50337146e-02, -2.01913042e-01,  1.10270273e-01,\n",
       "        -4.39563158e-02,  1.17835210e-02,  1.63138060e-01,\n",
       "        -1.99847482e-01, -7.60605420e-02,  1.00230700e-02,\n",
       "        -2.74899692e-01, -2.51660226e-02,  1.76108956e-01,\n",
       "         1.94472225e-01, -3.74307921e-01,  2.34785394e-01,\n",
       "        -1.34644535e-01, -1.85669908e-02,  1.90273923e-03],\n",
       "       [-2.60704785e-01, -1.06505894e-01,  2.07642453e-02,\n",
       "         1.48975933e-01,  1.89105021e-01, -4.72182917e-01,\n",
       "        -1.97147269e-01, -7.07528387e-02,  5.71264319e-02,\n",
       "         2.10029252e-01,  4.04330735e-02, -1.59468317e-01,\n",
       "         3.53333016e-02,  1.42142472e-01,  3.56179626e-01,\n",
       "         1.47918108e-01, -2.81584772e-01, -2.30228418e-02,\n",
       "        -5.61782132e-02,  3.54050190e-01, -3.10688785e-01,\n",
       "         2.07820515e-01,  5.28202436e-02, -1.53652176e-03],\n",
       "       [-2.44790353e-01, -4.02443544e-01, -1.83640826e-02,\n",
       "         3.69070841e-01, -6.65408640e-03, -5.54482042e-02,\n",
       "        -3.39404569e-01, -5.38062887e-02, -1.56841480e-01,\n",
       "         2.53641362e-01,  3.74437149e-02, -1.87937315e-01,\n",
       "         6.57775826e-02,  1.18182069e-01, -2.12774529e-01,\n",
       "         8.41357216e-02,  1.85726747e-01, -1.50141196e-01,\n",
       "        -1.02935788e-01, -2.02576898e-01,  3.50235636e-01,\n",
       "        -2.85971524e-01, -1.03207107e-01,  1.70125080e-02],\n",
       "       [-1.45211005e-01, -2.29993871e-01,  6.65893199e-02,\n",
       "         1.82291464e-01,  1.53167014e-03,  2.62445295e-01,\n",
       "        -3.35766111e-01, -3.99916920e-01, -1.05044673e-01,\n",
       "        -1.25845548e-01, -1.36747025e-01,  1.85446736e-01,\n",
       "        -2.15857613e-01, -2.68995502e-01, -1.94965354e-01,\n",
       "        -8.15162509e-02, -3.17631207e-03,  1.22403219e-01,\n",
       "         2.56286218e-01, -5.35454280e-02, -2.92249073e-01,\n",
       "         3.37440590e-01,  1.41395433e-01, -2.04461470e-02],\n",
       "       [-1.21900205e-01,  2.22422331e-03,  2.56710045e-02,\n",
       "        -5.60722860e-02,  3.49130761e-02,  2.40356270e-01,\n",
       "        -5.48785552e-02, -5.50182778e-01,  2.99318972e-01,\n",
       "        -3.45438937e-01, -7.19111177e-02, -3.75155125e-02,\n",
       "         6.57807109e-02, -4.73518889e-02,  2.63093827e-01,\n",
       "         9.09857256e-02, -6.61348644e-02,  2.11125345e-02,\n",
       "        -2.06092554e-01,  2.59239623e-01,  1.64618677e-01,\n",
       "        -3.71138096e-01, -1.91946664e-01,  2.96595853e-02],\n",
       "       [-2.14344488e-01, -2.24167619e-01, -5.89543327e-02,\n",
       "        -6.22006239e-03, -1.37717457e-02,  8.33063380e-02,\n",
       "         4.40403756e-01, -2.47547033e-01,  2.12544796e-01,\n",
       "        -7.09075376e-02,  1.82337402e-01, -2.93693644e-01,\n",
       "         3.21680058e-01,  1.49808666e-01,  1.09347927e-01,\n",
       "        -7.93661015e-02,  1.70421853e-01, -5.96803537e-02,\n",
       "         3.15660593e-02, -3.08077456e-01,  2.73892150e-02,\n",
       "         3.60883738e-01,  2.50422855e-01, -4.27945746e-02],\n",
       "       [-2.08165249e-01, -3.45069133e-01,  4.00154955e-02,\n",
       "        -1.08879276e-01,  3.67834485e-02,  4.41706364e-02,\n",
       "         5.36787218e-01, -6.76942324e-02, -3.85288520e-01,\n",
       "         1.78291544e-01,  1.09117643e-01,  2.68305723e-02,\n",
       "        -4.31444311e-02, -1.43224593e-01, -4.85913754e-02,\n",
       "        -5.16016234e-02, -7.70251309e-02,  1.50565603e-01,\n",
       "         1.74371285e-01,  1.94806758e-01, -2.09439325e-01,\n",
       "        -2.68994120e-01, -3.01237811e-01,  6.26616598e-02],\n",
       "       [-9.55127088e-02, -1.39805108e-02,  1.12764213e-01,\n",
       "        -4.62529490e-01,  1.06238328e-01,  1.21624556e-01,\n",
       "        -3.65926939e-03, -1.49513758e-01, -3.81210506e-01,\n",
       "         2.44743025e-01, -5.17738622e-02,  7.79383859e-02,\n",
       "        -2.30913479e-01, -9.30898657e-02,  1.94315961e-01,\n",
       "         2.25251918e-01,  5.10308175e-04, -1.77223174e-01,\n",
       "        -2.73324731e-01, -7.03382799e-03,  2.94368229e-01,\n",
       "         1.22015037e-01,  3.61522309e-01, -1.12798050e-01],\n",
       "       [-1.21614825e-01,  6.15882625e-02,  4.83539489e-02,\n",
       "        -4.81266580e-01, -1.99545502e-02,  1.80983259e-01,\n",
       "        -3.15315112e-01, -4.39615521e-03,  1.71483247e-01,\n",
       "         2.49899295e-01,  1.82352424e-01, -1.17315830e-01,\n",
       "        -1.05765095e-01,  1.81792025e-01,  1.33409178e-01,\n",
       "        -1.68796092e-02,  2.77665490e-01, -9.29271559e-02,\n",
       "         1.86125029e-01, -1.75659623e-01, -2.47755830e-01,\n",
       "         4.90639113e-02, -4.04645891e-01,  1.86855561e-01],\n",
       "       [-2.11617952e-01, -1.95746544e-01,  1.91770772e-02,\n",
       "        -1.51032740e-01, -7.71720202e-02,  1.53939044e-01,\n",
       "        -8.33325633e-02,  2.57910887e-01,  3.73191726e-01,\n",
       "         5.06507150e-02,  3.00104893e-01, -7.68625396e-02,\n",
       "        -2.85922485e-01,  9.43523139e-02, -1.57515365e-01,\n",
       "        -1.51850834e-01, -8.06050741e-02,  2.94474389e-01,\n",
       "         7.73098780e-02,  2.60689443e-01,  9.63234049e-02,\n",
       "        -1.90737014e-01,  3.67080352e-01, -2.58302741e-01],\n",
       "       [-1.84665966e-01, -2.30623503e-01,  4.00121789e-02,\n",
       "         3.62924342e-02,  1.16678028e-01,  7.01317653e-02,\n",
       "         1.42298415e-01,  3.01188365e-01,  1.81944242e-01,\n",
       "        -2.58425071e-01, -7.87130981e-02, -5.57148650e-02,\n",
       "        -4.30767785e-01, -5.50030518e-02, -7.27881309e-02,\n",
       "         6.39064831e-02, -2.56685996e-01, -1.20503480e-01,\n",
       "        -3.48429096e-01, -1.49978082e-01,  7.79723180e-02,\n",
       "         2.69018658e-01, -2.56532957e-01,  3.23384055e-01],\n",
       "       [-1.24082230e-01, -8.15437766e-02,  5.16815149e-02,\n",
       "        -1.99228240e-02,  2.25229560e-01,  1.15641494e-02,\n",
       "         5.54286719e-02,  2.49476597e-01,  3.55713049e-02,\n",
       "        -2.38064312e-01, -4.45843405e-01, -2.25941766e-01,\n",
       "        -1.15369269e-01, -6.93724254e-02,  1.45310835e-01,\n",
       "         9.12712201e-02,  2.08655902e-01, -3.49538923e-01,\n",
       "         2.44960902e-01, -8.38856861e-02, -2.41852243e-01,\n",
       "        -2.68845807e-01,  1.00306251e-01, -3.60263475e-01],\n",
       "       [-1.51225607e-01, -5.12139224e-02,  7.82279525e-02,\n",
       "        -1.42098913e-01,  1.20490342e-01,  1.34675228e-02,\n",
       "        -7.95572467e-02,  2.23554753e-01,  7.63224397e-03,\n",
       "         1.62625098e-02, -4.12612043e-01, -1.62992779e-01,\n",
       "         2.97601057e-01, -1.87937764e-01,  2.96550450e-02,\n",
       "        -3.32030708e-02,  2.36692216e-01,  3.56234896e-01,\n",
       "         1.64880455e-01,  2.67295231e-01,  2.86935671e-01,\n",
       "         1.51009938e-01,  6.85419943e-02,  4.03473714e-01],\n",
       "       [-1.70965116e-01, -6.71319011e-02,  6.39924477e-02,\n",
       "        -2.04702041e-01,  2.61714324e-02,  7.84587472e-03,\n",
       "        -1.27088599e-01,  1.38144517e-01,  1.14702829e-01,\n",
       "         1.07352003e-01, -9.75254637e-02,  1.06425110e-01,\n",
       "         4.40542753e-01, -3.25979827e-01, -1.27919177e-01,\n",
       "        -2.76716331e-02, -1.68494650e-01,  1.93480795e-01,\n",
       "        -3.87221494e-01, -2.22966650e-01, -1.60257519e-01,\n",
       "         3.79707357e-02, -2.07985648e-01, -4.30620121e-01],\n",
       "       [-1.07851854e-01, -1.38637656e-01, -1.35143213e-02,\n",
       "        -9.12997874e-02, -6.27172697e-02, -7.36162474e-02,\n",
       "        -5.83943276e-02,  1.14948381e-01,  1.88652751e-01,\n",
       "        -2.12441854e-02,  2.28889023e-01,  3.61170098e-01,\n",
       "         2.60971802e-01, -3.55822249e-01,  1.25076495e-02,\n",
       "         5.90555884e-02, -8.76185805e-02, -4.32862507e-01,\n",
       "         1.10694253e-01, -3.72804062e-02, -1.00809900e-01,\n",
       "        -2.24736616e-01,  2.97033403e-01,  3.99788018e-01],\n",
       "       [-7.59857962e-02, -2.06069046e-01, -4.36326200e-02,\n",
       "         4.24272671e-02, -8.54007877e-02, -1.09747745e-01,\n",
       "         2.81656495e-04,  1.53609821e-01,  2.02543832e-02,\n",
       "        -2.13030500e-01,  1.83230808e-01,  4.69507898e-01,\n",
       "         1.37796835e-02,  1.10963369e-02,  2.44491069e-01,\n",
       "         2.50274883e-01,  2.74108930e-01, -6.61727258e-03,\n",
       "         2.16046246e-01,  1.51764316e-01,  2.97291801e-01,\n",
       "         2.66543695e-01, -2.85984993e-01, -3.10629711e-01],\n",
       "       [-1.19136175e-01, -1.43857948e-01,  6.07368270e-03,\n",
       "        -4.54909467e-02,  1.04574623e-02,  8.58805327e-03,\n",
       "        -5.86404163e-02,  1.01719921e-01, -1.97594677e-01,\n",
       "        -2.56922245e-01, -1.01076095e-01,  3.55215721e-01,\n",
       "         7.33434322e-02,  5.11326993e-01,  1.44786939e-01,\n",
       "         2.93130388e-02,  1.42904221e-01,  3.21258729e-01,\n",
       "        -2.49428728e-01, -1.99582617e-01, -2.79437181e-01,\n",
       "        -1.95205081e-01,  2.10153678e-01,  1.81385272e-01],\n",
       "       [-1.32599141e-01, -3.49963560e-02,  5.13960488e-02,\n",
       "        -1.73904482e-01,  7.30358962e-02,  1.25609125e-01,\n",
       "        -9.40205855e-02,  1.94794334e-02, -1.55425060e-01,\n",
       "        -1.18100593e-01, -1.47402161e-01,  1.26644605e-01,\n",
       "         2.39557185e-01,  4.13654226e-01, -1.47924112e-01,\n",
       "        -4.33287824e-01, -4.02885392e-01, -3.46408065e-01,\n",
       "         1.89072243e-01,  1.55129920e-01,  1.89373916e-01,\n",
       "         1.06466733e-01, -9.26222902e-02, -7.79972011e-02]])"
      ]
     },
     "execution_count": 41,
     "metadata": {},
     "output_type": "execute_result"
    }
   ],
   "source": [
    "for i in range(0, EVecs.shape[1]):\n",
    "    if EVecs[:, i][0] < 0:\n",
    "        EVecs[:, i] *= -1\n",
    "EVecs"
   ]
  },
  {
   "cell_type": "code",
   "execution_count": 42,
   "metadata": {},
   "outputs": [],
   "source": [
    "prop = EVals / sum(EVals)\n",
    "cum_var = np.cumsum(prop)"
   ]
  },
  {
   "cell_type": "code",
   "execution_count": 43,
   "metadata": {},
   "outputs": [
    {
     "data": {
      "text/plain": [
       "array([0.43529302+0.j, 0.64247964+0.j, 0.73205404+0.j, 0.78958018+0.j,\n",
       "       0.83483711+0.j, 0.87088307+0.j, 0.90219095+0.j, 0.92377679+0.j,\n",
       "       0.94061221+0.j, 0.95536643+0.j, 0.96861618+0.j, 0.97689938+0.j,\n",
       "       0.98353601+0.j, 0.98914629+0.j, 0.99415835+0.j, 0.99638818+0.j,\n",
       "       0.99787845+0.j, 0.99879295+0.j, 0.99927252+0.j, 0.99957444+0.j,\n",
       "       0.9997733 +0.j, 0.99988169+0.j, 0.99995228+0.j, 1.        +0.j])"
      ]
     },
     "execution_count": 43,
     "metadata": {},
     "output_type": "execute_result"
    }
   ],
   "source": [
    "cum_var"
   ]
  },
  {
   "cell_type": "code",
   "execution_count": 44,
   "metadata": {},
   "outputs": [],
   "source": [
    "size = EVals.size - 1"
   ]
  },
  {
   "cell_type": "code",
   "execution_count": 45,
   "metadata": {},
   "outputs": [],
   "source": [
    "req_cov_lst = [0.70, 0.80, 0.90, 0.95]\n",
    "MinDims = np.zeros((len(req_cov_lst),), dtype=np.int32)\n",
    "for i, cov_for in enumerate(req_cov_lst):\n",
    "    for k in range(size):\n",
    "        if cum_var[k]/cum_var[size] >= cov_for:\n",
    "            MinDims[i] = k + 1\n",
    "            break"
   ]
  },
  {
   "cell_type": "code",
   "execution_count": 46,
   "metadata": {},
   "outputs": [
    {
     "data": {
      "text/plain": [
       "array([ 3,  5,  7, 10], dtype=int32)"
      ]
     },
     "execution_count": 46,
     "metadata": {},
     "output_type": "execute_result"
    }
   ],
   "source": [
    "MinDims"
   ]
  },
  {
   "cell_type": "code",
   "execution_count": 47,
   "metadata": {},
   "outputs": [],
   "source": [
    "def task1_3(X):\n",
    "    # Input:\n",
    "    # X: N * D matrix (double)\n",
    "    # Output:\n",
    "    # Evecs: D-by-D matrix (double) contains all eigenvectors as columns\n",
    "    # NB: follow the Task 1.3 specifications on eigenvectors.\n",
    "    # EVals: Eigenvalues in descending order, D x 1 vector\n",
    "    # (Note that the i-th columns of Evecs should corresponds to the i-th element in EVals)\n",
    "\n",
    "    covar_mat = X\n",
    "    eigen_vals, eigen_vecs = np.linalg.eig(covar_mat)\n",
    "    idx = np.argsort(eigen_vals)[::-1]\n",
    "    EVals = eigen_vals[idx]\n",
    "    EVecs = eigen_vecs[:, idx]\n",
    "\n",
    "    # Change direction of negative evecs\n",
    "    np.apply_along_axis(lambda x : x*(-1) if x[0] < 0 else x, 0, EVecs)\n",
    "    # caluclate the cumulative variance\n",
    "    cum_var = np.cumsum(EVals)\n",
    "    # calculate min number of PCA dimensions required for the following percentages\n",
    "    req_cov_lst = [0.70, 0.80, 0.90, 0.95]\n",
    "    MinDims = np.zeros((len(req_cov_lst),), dtype=np.int32)\n",
    "    for i, cov_for in enumerate(req_cov_lst):\n",
    "        for k in range(EVals.size):\n",
    "            if cum_var[k]/cum_var[EVals.size - 1] >= cov_for:\n",
    "                MinDims[i] = k\n",
    "                break\n",
    "    sio.savemat('t1_EVecs.mat', mdict={'EVecs': EVecs})\n",
    "    sio.savemat('t1_EVals.mat', mdict={'EVals': EVals})\n",
    "    sio.savemat('t1_Cumvar.mat', mdict={'Cumvar': cum_var})\n",
    "    sio.savemat('t1_MinDims.mat', mdict={'MinDims': MinDims})\n",
    "\n"
   ]
  },
  {
   "cell_type": "code",
   "execution_count": 51,
   "metadata": {},
   "outputs": [],
   "source": [
    "task1_3(res1_1_1)"
   ]
  },
  {
   "cell_type": "code",
   "execution_count": 52,
   "metadata": {},
   "outputs": [
    {
     "name": "stdout",
     "output_type": "stream",
     "text": [
      "[0.4406638 +0.j 0.64927742+0.j 0.73804044+0.j 0.79710205+0.j\n",
      " 0.83807166+0.j 0.87132687+0.j 0.90258667+0.j 0.92520385+0.j\n",
      " 0.94189159+0.j 0.95685278+0.j 0.96974017+0.j 0.97771354+0.j\n",
      " 0.98391932+0.j 0.98941371+0.j 0.99418565+0.j 0.99640239+0.j\n",
      " 0.99787548+0.j 0.99880425+0.j 0.99927936+0.j 0.99958946+0.j\n",
      " 0.99978031+0.j 0.99988518+0.j 0.9999529 +0.j 1.        +0.j]\n"
     ]
    },
    {
     "data": {
      "image/png": "[encoded data removed]",
      "text/plain": [
       "<Figure size 432x288 with 1 Axes>"
      ]
     },
     "metadata": {
      "needs_background": "light"
     },
     "output_type": "display_data"
    }
   ],
   "source": [
    "fig, ax = plt.subplots()\n",
    "print(cum_var)\n",
    "ax.plot(cum_var.real)\n",
    "ax.axhline(y=0.7, linestyle=\"--\")\n",
    "ax.axhline(y=0.8, linestyle=\"--\")\n",
    "ax.axhline(y=0.9, linestyle=\"--\")\n",
    "ax.axhline(y=0.95, linestyle=\"--\")\n",
    "plt.xlabel(\"No. of PCA dimensions\")\n",
    "plt.ylabel(\"Percentage of coverage\")\n",
    "plt.savefig('cumvar.png')"
   ]
  },
  {
   "cell_type": "code",
   "execution_count": 53,
   "metadata": {},
   "outputs": [
    {
     "ename": "NameError",
     "evalue": "name 'eig_vecs_np' is not defined",
     "output_type": "error",
     "traceback": [
      "\u001b[0;31m---------------------------------------------------------------------------\u001b[0m",
      "\u001b[0;31mNameError\u001b[0m                                 Traceback (most recent call last)",
      "\u001b[0;32m<ipython-input-53-dc15c1ffa516>\u001b[0m in \u001b[0;36m<module>\u001b[0;34m\u001b[0m\n\u001b[1;32m      1\u001b[0m \u001b[0mX_mean\u001b[0m \u001b[0;34m=\u001b[0m \u001b[0mmy_mean\u001b[0m\u001b[0;34m(\u001b[0m\u001b[0mX_vec\u001b[0m\u001b[0;34m)\u001b[0m\u001b[0;34m\u001b[0m\u001b[0;34m\u001b[0m\u001b[0m\n\u001b[1;32m      2\u001b[0m \u001b[0mX_shifted\u001b[0m \u001b[0;34m=\u001b[0m \u001b[0mX_vec\u001b[0m \u001b[0;34m-\u001b[0m \u001b[0mX_mean\u001b[0m\u001b[0;34m\u001b[0m\u001b[0;34m\u001b[0m\u001b[0m\n\u001b[0;32m----> 3\u001b[0;31m \u001b[0mP\u001b[0m \u001b[0;34m=\u001b[0m \u001b[0meig_vecs_np\u001b[0m\u001b[0;34m.\u001b[0m\u001b[0mT\u001b[0m\u001b[0;34m.\u001b[0m\u001b[0mdot\u001b[0m\u001b[0;34m(\u001b[0m\u001b[0mX_shifted\u001b[0m\u001b[0;34m.\u001b[0m\u001b[0mT\u001b[0m\u001b[0;34m)\u001b[0m\u001b[0;34m\u001b[0m\u001b[0;34m\u001b[0m\u001b[0m\n\u001b[0m",
      "\u001b[0;31mNameError\u001b[0m: name 'eig_vecs_np' is not defined"
     ]
    }
   ],
   "source": [
    "X_mean = my_mean(X_vec)\n",
    "X_shifted = X_vec - X_mean\n",
    "P = eig_vecs_np.T.dot(X_shifted.T)"
   ]
  },
  {
   "cell_type": "code",
   "execution_count": 54,
   "metadata": {},
   "outputs": [
    {
     "ename": "NameError",
     "evalue": "name 'P' is not defined",
     "output_type": "error",
     "traceback": [
      "\u001b[0;31m---------------------------------------------------------------------------\u001b[0m",
      "\u001b[0;31mNameError\u001b[0m                                 Traceback (most recent call last)",
      "\u001b[0;32m<ipython-input-54-7c648de20713>\u001b[0m in \u001b[0;36m<module>\u001b[0;34m\u001b[0m\n\u001b[0;32m----> 1\u001b[0;31m \u001b[0mplt\u001b[0m\u001b[0;34m.\u001b[0m\u001b[0mscatter\u001b[0m\u001b[0;34m(\u001b[0m\u001b[0mP\u001b[0m\u001b[0;34m)\u001b[0m\u001b[0;34m\u001b[0m\u001b[0;34m\u001b[0m\u001b[0m\n\u001b[0m",
      "\u001b[0;31mNameError\u001b[0m: name 'P' is not defined"
     ]
    }
   ],
   "source": [
    "plt.scatter(P)"
   ]
  },
  {
   "cell_type": "code",
   "execution_count": 55,
   "metadata": {},
   "outputs": [
    {
     "ename": "NameError",
     "evalue": "name 'P' is not defined",
     "output_type": "error",
     "traceback": [
      "\u001b[0;31m---------------------------------------------------------------------------\u001b[0m",
      "\u001b[0;31mNameError\u001b[0m                                 Traceback (most recent call last)",
      "\u001b[0;32m<ipython-input-55-c7e47e11af57>\u001b[0m in \u001b[0;36m<module>\u001b[0;34m\u001b[0m\n\u001b[0;32m----> 1\u001b[0;31m \u001b[0mP\u001b[0m\u001b[0;34m\u001b[0m\u001b[0;34m\u001b[0m\u001b[0m\n\u001b[0m",
      "\u001b[0;31mNameError\u001b[0m: name 'P' is not defined"
     ]
    }
   ],
   "source": [
    "P"
   ]
  },
  {
   "cell_type": "code",
   "execution_count": 48,
   "metadata": {},
   "outputs": [],
   "source": [
    "from sklearn.preprocessing import StandardScaler\n",
    "X_vec = StandardScaler().fit_transform(X_vec)"
   ]
  },
  {
   "cell_type": "code",
   "execution_count": 49,
   "metadata": {},
   "outputs": [
    {
     "name": "stdout",
     "output_type": "stream",
     "text": [
      "[[-0.96115208 -0.51752839]\n",
      " [-1.77626468  1.55899023]\n",
      " [-1.0691801  -0.45865521]\n",
      " ...\n",
      " [-1.38474084 -2.88900184]\n",
      " [ 0.25067515 -1.20058806]\n",
      " [-1.54922938  0.87217107]]\n"
     ]
    }
   ],
   "source": [
    "import pandas as pd\n",
    "from sklearn.decomposition import PCA\n",
    "pca = PCA(n_components=2)\n",
    "principalComponents = pca.fit_transform(X_vec)\n",
    "print(principalComponents)\n",
    "principalDf = pd.DataFrame(data = principalComponents\n",
    "             , columns = ['principal component 1', 'principal component 2'])\n",
    "target_class = pd.DataFrame(data = Y_species, columns= ['target'])"
   ]
  },
  {
   "cell_type": "code",
   "execution_count": 50,
   "metadata": {},
   "outputs": [],
   "source": [
    "finalDf = pd.concat([principalDf, target_class[['target']]], axis = 1)"
   ]
  },
  {
   "cell_type": "code",
   "execution_count": 51,
   "metadata": {
    "scrolled": false
   },
   "outputs": [
    {
     "data": {
      "text/html": [
       "<div>\n",
       "<style scoped>\n",
       "    .dataframe tbody tr th:only-of-type {\n",
       "        vertical-align: middle;\n",
       "    }\n",
       "\n",
       "    .dataframe tbody tr th {\n",
       "        vertical-align: top;\n",
       "    }\n",
       "\n",
       "    .dataframe thead th {\n",
       "        text-align: right;\n",
       "    }\n",
       "</style>\n",
       "<table border=\"1\" class=\"dataframe\">\n",
       "  <thead>\n",
       "    <tr style=\"text-align: right;\">\n",
       "      <th></th>\n",
       "      <th>principal component 1</th>\n",
       "      <th>principal component 2</th>\n",
       "      <th>target</th>\n",
       "    </tr>\n",
       "  </thead>\n",
       "  <tbody>\n",
       "    <tr>\n",
       "      <th>0</th>\n",
       "      <td>-0.961152</td>\n",
       "      <td>-0.517528</td>\n",
       "      <td>2</td>\n",
       "    </tr>\n",
       "    <tr>\n",
       "      <th>1</th>\n",
       "      <td>-1.776265</td>\n",
       "      <td>1.558990</td>\n",
       "      <td>6</td>\n",
       "    </tr>\n",
       "    <tr>\n",
       "      <th>2</th>\n",
       "      <td>-1.069180</td>\n",
       "      <td>-0.458655</td>\n",
       "      <td>2</td>\n",
       "    </tr>\n",
       "    <tr>\n",
       "      <th>3</th>\n",
       "      <td>1.174962</td>\n",
       "      <td>1.199775</td>\n",
       "      <td>9</td>\n",
       "    </tr>\n",
       "    <tr>\n",
       "      <th>4</th>\n",
       "      <td>-1.990948</td>\n",
       "      <td>2.490589</td>\n",
       "      <td>6</td>\n",
       "    </tr>\n",
       "  </tbody>\n",
       "</table>\n",
       "</div>"
      ],
      "text/plain": [
       "   principal component 1  principal component 2  target\n",
       "0              -0.961152              -0.517528       2\n",
       "1              -1.776265               1.558990       6\n",
       "2              -1.069180              -0.458655       2\n",
       "3               1.174962               1.199775       9\n",
       "4              -1.990948               2.490589       6"
      ]
     },
     "execution_count": 51,
     "metadata": {},
     "output_type": "execute_result"
    }
   ],
   "source": [
    "finalDf.head()"
   ]
  },
  {
   "cell_type": "code",
   "execution_count": 52,
   "metadata": {},
   "outputs": [
    {
     "data": {
      "text/plain": [
       "array([ 1,  2,  3,  4,  5,  6,  7,  8,  9, 10], dtype=int32)"
      ]
     },
     "execution_count": 52,
     "metadata": {},
     "output_type": "execute_result"
    }
   ],
   "source": [
    "np.unique(Y_species)"
   ]
  },
  {
   "cell_type": "code",
   "execution_count": 53,
   "metadata": {},
   "outputs": [],
   "source": [
    "import matplotlib.colors as mcolors"
   ]
  },
  {
   "cell_type": "code",
   "execution_count": 58,
   "metadata": {},
   "outputs": [
    {
     "data": {
      "image/png": "[encoded data removed]",
      "text/plain": [
       "<Figure size 576x576 with 1 Axes>"
      ]
     },
     "metadata": {
      "needs_background": "light"
     },
     "output_type": "display_data"
    }
   ],
   "source": [
    "fig = plt.figure(figsize = (8,8))\n",
    "ax = fig.add_subplot(1,1,1) \n",
    "ax.set_xlabel('Principal Component 1', fontsize = 15)\n",
    "ax.set_ylabel('Principal Component 2', fontsize = 15)\n",
    "ax.set_title('2 component PCA', fontsize = 20)\n",
    "targets = np.unique(Y_species)\n",
    "colors = mcolors.TABLEAU_COLORS\n",
    "\n",
    "for target, color in zip(targets,colors):\n",
    "    indicesToKeep = finalDf['target'] == target\n",
    "    ax.scatter(finalDf.loc[indicesToKeep, 'principal component 1']\n",
    "               , finalDf.loc[indicesToKeep, 'principal component 2']\n",
    "               , edgecolor='none'\n",
    "               , alpha=0.75\n",
    "               , s = 10\n",
    "              )\n",
    "ax.legend(targets)\n",
    "ax.grid()\n",
    "plt.savefig('2d-pca.png')"
   ]
  },
  {
   "cell_type": "code",
   "execution_count": 63,
   "metadata": {},
   "outputs": [
    {
     "data": {
      "text/plain": [
       "0"
      ]
     },
     "execution_count": 63,
     "metadata": {},
     "output_type": "execute_result"
    }
   ],
   "source": [
    "Nc = np.count_nonzero(Y_species == 11)\n",
    "Nc"
   ]
  },
  {
   "cell_type": "code",
   "execution_count": 64,
   "metadata": {},
   "outputs": [],
   "source": [
    "pmap = np.zeros((len(X_vec), 1))"
   ]
  },
  {
   "cell_type": "code",
   "execution_count": 65,
   "metadata": {},
   "outputs": [],
   "source": [
    "def my_k_folds(X, Y, k_folds):\n",
    "    # Assuming classes follow the pattern 1..C;\n",
    "    # C becomes the total no. of classes\n",
    "    no_of_classes = np.max(Y)\n",
    "    p_map = np.zeros((len(X), 1))\n",
    "    \n",
    "    for c in range(1, no_of_classes+1):\n",
    "        Nc = np.count_nonzero(Y == c)\n",
    "        Mc = int(np.floor(Nc / k_folds))\n",
    "        # find indexes of all places where the element is c\n",
    "        idxs = np.apply_along_axis(lambda x: x[0], 1, np.argwhere(Y == c))\n",
    "        # split the idxs based on k_folds and Mc\n",
    "        sub_arrs = _split(idxs, k_folds, Mc)\n",
    "        for i in range(len(sub_arrs)):\n",
    "            p_map[sub_arrs[i]] = i + 1\n",
    "            \n",
    "    return p_map"
   ]
  },
  {
   "cell_type": "code",
   "execution_count": 66,
   "metadata": {},
   "outputs": [],
   "source": [
    "def my_k_folds_1(X, Y, k_folds):\n",
    "    # Assuming classes follow the pattern 1..C;\n",
    "    # C becomes the total no. of classes\n",
    "    no_of_classes = np.max(Y)\n",
    "    p_map = np.zeros((len(X), 1))\n",
    "    \n",
    "    for c in range(1, no_of_classes+1):\n",
    "        Nc = sum(Y == c)[0]\n",
    "        Mc = int(np.floor(Nc / k_folds))\n",
    "        \n",
    "        currentIndexX = 0\n",
    "        \n",
    "        for k in range(1,k_folds):\n",
    "            currentIndexBin = 1\n",
    "\n",
    "            while currentIndexBin <= Mc:\n",
    "                if Y[currentIndexX] == c:\n",
    "                    p_map[currentIndexX] = k\n",
    "                    currentIndexBin = currentIndexBin + 1\n",
    "\n",
    "                currentIndexX = currentIndexX + 1\n",
    "\n",
    "        while currentIndexX < len(X):\n",
    "            if Y[currentIndexX] == c:\n",
    "                p_map[currentIndexX] = k_folds\n",
    "            currentIndexX = currentIndexX + 1\n",
    "    return p_map"
   ]
  },
  {
   "cell_type": "code",
   "execution_count": 67,
   "metadata": {},
   "outputs": [],
   "source": [
    "a = np.argwhere(Y_species == 1)"
   ]
  },
  {
   "cell_type": "code",
   "execution_count": 68,
   "metadata": {},
   "outputs": [
    {
     "ename": "NameError",
     "evalue": "name 'f' is not defined",
     "output_type": "error",
     "traceback": [
      "\u001b[0;31m---------------------------------------------------------------------------\u001b[0m",
      "\u001b[0;31mNameError\u001b[0m                                 Traceback (most recent call last)",
      "\u001b[0;32m<ipython-input-68-9a47f43f3042>\u001b[0m in \u001b[0;36m<module>\u001b[0;34m\u001b[0m\n\u001b[0;32m----> 1\u001b[0;31m \u001b[0mids\u001b[0m \u001b[0;34m=\u001b[0m \u001b[0mnp\u001b[0m\u001b[0;34m.\u001b[0m\u001b[0mapply_along_axis\u001b[0m\u001b[0;34m(\u001b[0m\u001b[0mf\u001b[0m\u001b[0;34m,\u001b[0m \u001b[0;36m1\u001b[0m\u001b[0;34m,\u001b[0m \u001b[0ma\u001b[0m\u001b[0;34m)\u001b[0m\u001b[0;34m\u001b[0m\u001b[0;34m\u001b[0m\u001b[0m\n\u001b[0m",
      "\u001b[0;31mNameError\u001b[0m: name 'f' is not defined"
     ]
    }
   ],
   "source": [
    "ids = np.apply_along_axis(f, 1, a)"
   ]
  },
  {
   "cell_type": "code",
   "execution_count": 69,
   "metadata": {},
   "outputs": [],
   "source": [
    "def _split(X, k, mc):\n",
    "    curr = 1\n",
    "    sub_arrays = []\n",
    "    for i in range(k):\n",
    "        if curr != k:\n",
    "            start = i*mc\n",
    "            end = i*mc + mc\n",
    "            sub_arrays.append(X[start:end])\n",
    "        else:\n",
    "            start = i*mc\n",
    "            sub_arrays.append(X[start:])\n",
    "        curr += 1\n",
    "    return sub_arrays"
   ]
  },
  {
   "cell_type": "code",
   "execution_count": 70,
   "metadata": {
    "scrolled": false
   },
   "outputs": [],
   "source": [
    "p_map = my_k_folds(X_vec, Y_species, 5)"
   ]
  },
  {
   "cell_type": "code",
   "execution_count": 71,
   "metadata": {},
   "outputs": [],
   "source": [
    "p_map_1 = my_k_folds_1(X_vec, Y_species, 5)"
   ]
  },
  {
   "cell_type": "code",
   "execution_count": 72,
   "metadata": {},
   "outputs": [],
   "source": [
    "sio.savemat(\"t1_mgc_5cv_PMap.mat\", {\"PMap\": p_map})"
   ]
  },
  {
   "cell_type": "code",
   "execution_count": 73,
   "metadata": {},
   "outputs": [],
   "source": [
    "from scipy.stats import multivariate_normal"
   ]
  },
  {
   "cell_type": "code",
   "execution_count": 74,
   "metadata": {},
   "outputs": [],
   "source": [
    "def MyConfusionMatrix(y_actual, y_pred):\n",
    "    '''\n",
    "    Parameters:\n",
    "        y_actual: actual labels\n",
    "        y_pred: predicted labels of data\n",
    "    Returns:\n",
    "        CM: Confusion matrix for the data as a 2d numpy array\n",
    "    '''\n",
    "    if(y_actual.shape[0] != y_pred.shape[0]):\n",
    "        raise ValueError(\"Vectors supplied must be of same length\")\n",
    "    \n",
    "    # Convert the arrays to int32 to avoid indexing errors\n",
    "    y_actual = y_actual.astype(np.int32, copy=False)\n",
    "    y_pred = y_pred.astype(np.int32, copy=False)\n",
    "    \n",
    "    # Minimum and maximum values in order to know the size of the confusion matrix and how to access it\n",
    "    # Problems come from classes indexing beginning with 1 and data array indexing with 0\n",
    "    max_actual = np.max(y_actual)\n",
    "    max_predicted = np.max(y_pred)\n",
    "    min_actual = np.min(y_actual)\n",
    "    min_predicted = np.min(y_pred)\n",
    "\n",
    "    N = max_actual + 1 if min_actual == 0 else max_actual\n",
    "    M = max_predicted + 1 if min_predicted == 0 else max_predicted\n",
    "\n",
    "    confusion_matrix = np.zeros((N,M))\n",
    "\n",
    "    for index in range(y_pred.shape[0]):\n",
    "        i = y_actual[index] if min_actual == 0 else y_actual[index] - 1\n",
    "        j = y_pred[index] if min_predicted == 0 else y_pred[index] - 1\n",
    "        confusion_matrix[i,j] += 1\n",
    "    \n",
    "    return confusion_matrix"
   ]
  },
  {
   "cell_type": "code",
   "execution_count": 75,
   "metadata": {},
   "outputs": [],
   "source": [
    "def MyConfusionMatrix1(Y_true, Y_pred):\n",
    "    Ctrues = Y_true\n",
    "    Cpreds = Y_pred.astype(int)\n",
    "\n",
    "    k = np.max(Ctrues)\n",
    "\n",
    "    CM = np.zeros((k, k))\n",
    "\n",
    "    # confusion matrix basically says\n",
    "    #    0 1\n",
    "    #  0 a b (i)\n",
    "    #  1 c d\n",
    "    #   (j)\n",
    "    # where the row/column combination is the count for the combination\n",
    "    # with row=trues, and column=preds\n",
    "    for actual, pred in zip(Ctrues, Cpreds):\n",
    "        CM[actual-1,pred-1] += 1\n",
    "    \n",
    "    acc = np.diagonal(CM).sum()\n",
    "\n",
    "    return CM"
   ]
  },
  {
   "cell_type": "code",
   "execution_count": 76,
   "metadata": {},
   "outputs": [],
   "source": [
    "from numpy.linalg import inv, det, matrix_rank"
   ]
  },
  {
   "cell_type": "code",
   "execution_count": 77,
   "metadata": {},
   "outputs": [],
   "source": [
    "def gaussian_mvn_pdf(X, mean, cov):\n",
    "    '''\n",
    "    Return posterior probabilities approximated by a Gaussian with provided mean and covariance.\n",
    "    Params:\n",
    "        X: Data to be classified\n",
    "        mean: Mean vector of the data\n",
    "        cov: Covariance matrix of the data\n",
    "    Returns:\n",
    "        p: posterior probabilities\n",
    "    '''\n",
    "    D  = det(cov)\n",
    "    inv_cov = inv(cov)\n",
    "    X_shift = X - mean\n",
    "    p_1 = 1 / ( ((2 * np.pi)**(len(mean)/2)) * (D**(1/2)) )\n",
    "    p_2 = (-1/2) * ((X_shift.T) @ (inv_cov) @ (X_shift))\n",
    "    prior_prob = p_1 * np.exp(p_2)\n",
    "    return prior_prob"
   ]
  },
  {
   "cell_type": "code",
   "execution_count": 87,
   "metadata": {},
   "outputs": [],
   "source": [
    "def task1_mgc_cv(X,Y,CovKind,epsilon,Kfolds):\n",
    "    PMap = my_k_folds(X, Y, Kfolds)\n",
    "    sio.savemat(f\"t1_mgc_{Kfolds}cv_PMap.mat\", {\"PMap\": PMap})\n",
    "    no_of_classes = np.max(Y)\n",
    "    total_cov_mat = np.zeros((no_of_classes, no_of_classes))\n",
    "    D = X[0].size\n",
    "    for p in range(1, Kfolds+1):\n",
    "        Ms = np.zeros((no_of_classes, D))\n",
    "        Covs = np.zeros((no_of_classes, D, D))\n",
    "        priors = np.zeros((1, no_of_classes))\n",
    "        \n",
    "        for c in range(1, no_of_classes+1):\n",
    "            train_data = X[np.where(np.logical_and(PMap != p, Y == c))[0]]\n",
    "            Ms[c-1] = my_mean(train_data)\n",
    "            \n",
    "            if CovKind == 1:\n",
    "                # Full covariance mat\n",
    "                Cov = my_cov(train_data)\n",
    "            elif CovKind == 2:\n",
    "                # Diagonal covariance mat\n",
    "                Cov = np.diag(np.diag(my_cov(train_data)))\n",
    "            else:\n",
    "                # Shared covariance mat\n",
    "                Cov = my_cov(X)\n",
    "            \n",
    "            standardised_cov = Cov + epsilon * np.eye(D)\n",
    "            Covs[c-1] = standardised_cov\n",
    "            \n",
    "            priors[:,c-1] = len(train_data) / len(X[np.where(PMap != p)[0]])\n",
    "            \n",
    "        sio.savemat(f\"t1_mgc_{Kfolds}cv{p}_Ms.mat\", {\"Ms\": Ms})\n",
    "        sio.savemat(f\"t1_mgc_{Kfolds}cv{p}_ck{CovKind}_Covs.mat\", {\"Covs\": Covs})\n",
    "        \n",
    "        \n",
    "        test_data = X[np.where(PMap == p)[0]]\n",
    "        test_likelihoods = np.zeros((len(test_data), no_of_classes))\n",
    "        \n",
    "        for i in range(len(test_data)):\n",
    "            for c in range(1, no_of_classes+1):\n",
    "                    test_likelihoods[i, c-1] = gaussian_mvn_pdf(test_data[i]\n",
    "                                                            , Ms[c-1]\n",
    "                                                            , np.squeeze(Covs[c-1])\n",
    "                                                            )\n",
    "        test_probs = test_likelihoods * priors\n",
    "        test_preds = np.zeros((len(test_data), 1))\n",
    "        \n",
    "        for i in range(len(test_data)):\n",
    "            curr_row_vec = test_probs[i]\n",
    "            test_preds[i] = np.argmax(curr_row_vec, axis=0) + 1\n",
    "\n",
    "        \n",
    "        CM = MyConfusionMatrix1(Y[np.where(PMap == p)[0]], test_preds)\n",
    "        sio.savemat(f\"t1_mgc_{Kfolds}cv{p}_ck{CovKind}_CM.mat\", {\"CM\": CM})\n",
    "        \n",
    "        total_cov_mat = total_cov_mat + (CM / (Kfolds * len(test_data)))\n",
    "    L = Kfolds + 1\n",
    "    sio.savemat(f\"t1_mgc_{Kfolds}cv{L}_ck{CovKind}_CM.mat\", {\"CM\": total_cov_mat})\n",
    "    return np.diagonal(total_cov_mat).sum()"
   ]
  },
  {
   "cell_type": "code",
   "execution_count": 88,
   "metadata": {},
   "outputs": [],
   "source": [
    "def experiment():\n",
    "    obs = {}\n",
    "    start = 0.001\n",
    "    step = 0.001\n",
    "    stop = 0.2\n",
    "    \n",
    "    for i in np.arange(start, stop, step):\n",
    "        obs[i] = task1_mgc_cv(X_vec, Y_species, 1, i, 5)\n",
    "        print(i, obs[i])"
   ]
  },
  {
   "cell_type": "code",
   "execution_count": 89,
   "metadata": {},
   "outputs": [
    {
     "name": "stdout",
     "output_type": "stream",
     "text": [
      "0.001 0.9893914003884677\n",
      "0.002 0.9900940701527211\n",
      "0.003 0.9910385801881404\n",
      "0.004 0.9910442929504514\n",
      "0.005 0.9908138782039076\n",
      "0.006 0.9905777506950527\n",
      "0.007 0.9905777506950527\n",
      "0.008 0.9910557184750733\n",
      "0.009000000000000001 0.9908195909662185\n",
      "0.010000000000000002 0.9905834634573638\n",
      "0.011 0.9908195909662185\n",
      "0.012 0.99035304871082\n",
      "0.013000000000000001 0.9898922192177324\n",
      "0.014000000000000002 0.9887230071980805\n",
      "0.015 0.988250752180371\n",
      "0.016 0.9859009026164451\n",
      "0.017 0.984023308070229\n",
      "0.018000000000000002 0.9826179685417222\n",
      "0.019000000000000003 0.9805099592489621\n",
      "0.02 0.9783962371938911\n"
     ]
    },
    {
     "ename": "KeyboardInterrupt",
     "evalue": "",
     "output_type": "error",
     "traceback": [
      "\u001b[0;31m---------------------------------------------------------------------------\u001b[0m",
      "\u001b[0;31mKeyboardInterrupt\u001b[0m                         Traceback (most recent call last)",
      "\u001b[0;32m<ipython-input-89-6be8ebf9e0e9>\u001b[0m in \u001b[0;36m<module>\u001b[0;34m\u001b[0m\n\u001b[0;32m----> 1\u001b[0;31m \u001b[0mexperiment\u001b[0m\u001b[0;34m(\u001b[0m\u001b[0;34m)\u001b[0m\u001b[0;34m\u001b[0m\u001b[0;34m\u001b[0m\u001b[0m\n\u001b[0m",
      "\u001b[0;32m<ipython-input-88-a5506d5208eb>\u001b[0m in \u001b[0;36mexperiment\u001b[0;34m()\u001b[0m\n\u001b[1;32m      6\u001b[0m \u001b[0;34m\u001b[0m\u001b[0m\n\u001b[1;32m      7\u001b[0m     \u001b[0;32mfor\u001b[0m \u001b[0mi\u001b[0m \u001b[0;32min\u001b[0m \u001b[0mnp\u001b[0m\u001b[0;34m.\u001b[0m\u001b[0marange\u001b[0m\u001b[0;34m(\u001b[0m\u001b[0mstart\u001b[0m\u001b[0;34m,\u001b[0m \u001b[0mstop\u001b[0m\u001b[0;34m,\u001b[0m \u001b[0mstep\u001b[0m\u001b[0;34m)\u001b[0m\u001b[0;34m:\u001b[0m\u001b[0;34m\u001b[0m\u001b[0;34m\u001b[0m\u001b[0m\n\u001b[0;32m----> 8\u001b[0;31m         \u001b[0mobs\u001b[0m\u001b[0;34m[\u001b[0m\u001b[0mi\u001b[0m\u001b[0;34m]\u001b[0m \u001b[0;34m=\u001b[0m \u001b[0mtask1_mgc_cv\u001b[0m\u001b[0;34m(\u001b[0m\u001b[0mX_vec\u001b[0m\u001b[0;34m,\u001b[0m \u001b[0mY_species\u001b[0m\u001b[0;34m,\u001b[0m \u001b[0;36m1\u001b[0m\u001b[0;34m,\u001b[0m \u001b[0mi\u001b[0m\u001b[0;34m,\u001b[0m \u001b[0;36m5\u001b[0m\u001b[0;34m)\u001b[0m\u001b[0;34m\u001b[0m\u001b[0;34m\u001b[0m\u001b[0m\n\u001b[0m\u001b[1;32m      9\u001b[0m         \u001b[0mprint\u001b[0m\u001b[0;34m(\u001b[0m\u001b[0mi\u001b[0m\u001b[0;34m,\u001b[0m \u001b[0mobs\u001b[0m\u001b[0;34m[\u001b[0m\u001b[0mi\u001b[0m\u001b[0;34m]\u001b[0m\u001b[0;34m)\u001b[0m\u001b[0;34m\u001b[0m\u001b[0;34m\u001b[0m\u001b[0m\n",
      "\u001b[0;32m<ipython-input-87-a7a13be9c218>\u001b[0m in \u001b[0;36mtask1_mgc_cv\u001b[0;34m(X, Y, CovKind, epsilon, Kfolds)\u001b[0m\n\u001b[1;32m     40\u001b[0m                     test_likelihoods[i, c-1] = gaussian_mvn_pdf(test_data[i]\n\u001b[1;32m     41\u001b[0m                                                             \u001b[0;34m,\u001b[0m \u001b[0mMs\u001b[0m\u001b[0;34m[\u001b[0m\u001b[0mc\u001b[0m\u001b[0;34m-\u001b[0m\u001b[0;36m1\u001b[0m\u001b[0;34m]\u001b[0m\u001b[0;34m\u001b[0m\u001b[0;34m\u001b[0m\u001b[0m\n\u001b[0;32m---> 42\u001b[0;31m                                                             \u001b[0;34m,\u001b[0m \u001b[0mnp\u001b[0m\u001b[0;34m.\u001b[0m\u001b[0msqueeze\u001b[0m\u001b[0;34m(\u001b[0m\u001b[0mCovs\u001b[0m\u001b[0;34m[\u001b[0m\u001b[0mc\u001b[0m\u001b[0;34m-\u001b[0m\u001b[0;36m1\u001b[0m\u001b[0;34m]\u001b[0m\u001b[0;34m)\u001b[0m\u001b[0;34m\u001b[0m\u001b[0;34m\u001b[0m\u001b[0m\n\u001b[0m\u001b[1;32m     43\u001b[0m                                                             )\n\u001b[1;32m     44\u001b[0m         \u001b[0mtest_probs\u001b[0m \u001b[0;34m=\u001b[0m \u001b[0mtest_likelihoods\u001b[0m \u001b[0;34m*\u001b[0m \u001b[0mpriors\u001b[0m\u001b[0;34m\u001b[0m\u001b[0;34m\u001b[0m\u001b[0m\n",
      "\u001b[0;32m<ipython-input-77-a003073d2ec8>\u001b[0m in \u001b[0;36mgaussian_mvn_pdf\u001b[0;34m(X, mean, cov)\u001b[0m\n\u001b[1;32m     10\u001b[0m     '''\n\u001b[1;32m     11\u001b[0m     \u001b[0mD\u001b[0m  \u001b[0;34m=\u001b[0m \u001b[0mdet\u001b[0m\u001b[0;34m(\u001b[0m\u001b[0mcov\u001b[0m\u001b[0;34m)\u001b[0m\u001b[0;34m\u001b[0m\u001b[0;34m\u001b[0m\u001b[0m\n\u001b[0;32m---> 12\u001b[0;31m     \u001b[0minv_cov\u001b[0m \u001b[0;34m=\u001b[0m \u001b[0minv\u001b[0m\u001b[0;34m(\u001b[0m\u001b[0mcov\u001b[0m\u001b[0;34m)\u001b[0m\u001b[0;34m\u001b[0m\u001b[0;34m\u001b[0m\u001b[0m\n\u001b[0m\u001b[1;32m     13\u001b[0m     \u001b[0mX_shift\u001b[0m \u001b[0;34m=\u001b[0m \u001b[0mX\u001b[0m \u001b[0;34m-\u001b[0m \u001b[0mmean\u001b[0m\u001b[0;34m\u001b[0m\u001b[0;34m\u001b[0m\u001b[0m\n\u001b[1;32m     14\u001b[0m     \u001b[0mp_1\u001b[0m \u001b[0;34m=\u001b[0m \u001b[0;36m1\u001b[0m \u001b[0;34m/\u001b[0m \u001b[0;34m(\u001b[0m \u001b[0;34m(\u001b[0m\u001b[0;34m(\u001b[0m\u001b[0;36m2\u001b[0m \u001b[0;34m*\u001b[0m \u001b[0mnp\u001b[0m\u001b[0;34m.\u001b[0m\u001b[0mpi\u001b[0m\u001b[0;34m)\u001b[0m\u001b[0;34m**\u001b[0m\u001b[0;34m(\u001b[0m\u001b[0mlen\u001b[0m\u001b[0;34m(\u001b[0m\u001b[0mmean\u001b[0m\u001b[0;34m)\u001b[0m\u001b[0;34m/\u001b[0m\u001b[0;36m2\u001b[0m\u001b[0;34m)\u001b[0m\u001b[0;34m)\u001b[0m \u001b[0;34m*\u001b[0m \u001b[0;34m(\u001b[0m\u001b[0mD\u001b[0m\u001b[0;34m**\u001b[0m\u001b[0;34m(\u001b[0m\u001b[0;36m1\u001b[0m\u001b[0;34m/\u001b[0m\u001b[0;36m2\u001b[0m\u001b[0;34m)\u001b[0m\u001b[0;34m)\u001b[0m \u001b[0;34m)\u001b[0m\u001b[0;34m\u001b[0m\u001b[0;34m\u001b[0m\u001b[0m\n",
      "\u001b[0;32m~/.local/lib/python3.7/site-packages/numpy/linalg/linalg.py\u001b[0m in \u001b[0;36minv\u001b[0;34m(a)\u001b[0m\n\u001b[1;32m    549\u001b[0m     \u001b[0msignature\u001b[0m \u001b[0;34m=\u001b[0m \u001b[0;34m'D->D'\u001b[0m \u001b[0;32mif\u001b[0m \u001b[0misComplexType\u001b[0m\u001b[0;34m(\u001b[0m\u001b[0mt\u001b[0m\u001b[0;34m)\u001b[0m \u001b[0;32melse\u001b[0m \u001b[0;34m'd->d'\u001b[0m\u001b[0;34m\u001b[0m\u001b[0;34m\u001b[0m\u001b[0m\n\u001b[1;32m    550\u001b[0m     \u001b[0mextobj\u001b[0m \u001b[0;34m=\u001b[0m \u001b[0mget_linalg_error_extobj\u001b[0m\u001b[0;34m(\u001b[0m\u001b[0m_raise_linalgerror_singular\u001b[0m\u001b[0;34m)\u001b[0m\u001b[0;34m\u001b[0m\u001b[0;34m\u001b[0m\u001b[0m\n\u001b[0;32m--> 551\u001b[0;31m     \u001b[0mainv\u001b[0m \u001b[0;34m=\u001b[0m \u001b[0m_umath_linalg\u001b[0m\u001b[0;34m.\u001b[0m\u001b[0minv\u001b[0m\u001b[0;34m(\u001b[0m\u001b[0ma\u001b[0m\u001b[0;34m,\u001b[0m \u001b[0msignature\u001b[0m\u001b[0;34m=\u001b[0m\u001b[0msignature\u001b[0m\u001b[0;34m,\u001b[0m \u001b[0mextobj\u001b[0m\u001b[0;34m=\u001b[0m\u001b[0mextobj\u001b[0m\u001b[0;34m)\u001b[0m\u001b[0;34m\u001b[0m\u001b[0;34m\u001b[0m\u001b[0m\n\u001b[0m\u001b[1;32m    552\u001b[0m     \u001b[0;32mreturn\u001b[0m \u001b[0mwrap\u001b[0m\u001b[0;34m(\u001b[0m\u001b[0mainv\u001b[0m\u001b[0;34m.\u001b[0m\u001b[0mastype\u001b[0m\u001b[0;34m(\u001b[0m\u001b[0mresult_t\u001b[0m\u001b[0;34m,\u001b[0m \u001b[0mcopy\u001b[0m\u001b[0;34m=\u001b[0m\u001b[0;32mFalse\u001b[0m\u001b[0;34m)\u001b[0m\u001b[0;34m)\u001b[0m\u001b[0;34m\u001b[0m\u001b[0;34m\u001b[0m\u001b[0m\n\u001b[1;32m    553\u001b[0m \u001b[0;34m\u001b[0m\u001b[0m\n",
      "\u001b[0;31mKeyboardInterrupt\u001b[0m: "
     ]
    }
   ],
   "source": [
    "experiment()"
   ]
  },
  {
   "cell_type": "code",
   "execution_count": null,
   "metadata": {},
   "outputs": [],
   "source": []
  },
  {
   "cell_type": "code",
   "execution_count": 90,
   "metadata": {},
   "outputs": [
    {
     "data": {
      "text/plain": [
       "0.9905834634573638"
      ]
     },
     "execution_count": 90,
     "metadata": {},
     "output_type": "execute_result"
    }
   ],
   "source": [
    "task1_mgc_cv(X_vec, Y_species, 1, 0.01, 5)"
   ]
  },
  {
   "cell_type": "code",
   "execution_count": 65,
   "metadata": {},
   "outputs": [
    {
     "data": {
      "text/plain": [
       "0.9067372510187762"
      ]
     },
     "execution_count": 65,
     "metadata": {},
     "output_type": "execute_result"
    }
   ],
   "source": [
    "cov1 = sio.loadmat(\"t1_mgc_5cv6_ck1_CM.mat\")['CM']\n",
    "np.diagonal(cov1).sum()"
   ]
  },
  {
   "cell_type": "markdown",
   "metadata": {},
   "source": [
    "cov2 = sio.loadmat(\"t1_mgc_5cv6_ck2_CM.mat\")['CM']\n",
    "np.diagonal(cov2).sum()"
   ]
  },
  {
   "cell_type": "code",
   "execution_count": 266,
   "metadata": {},
   "outputs": [
    {
     "data": {
      "text/plain": [
       "0.963329778725673"
      ]
     },
     "execution_count": 266,
     "metadata": {},
     "output_type": "execute_result"
    }
   ],
   "source": [
    "cov3 = sio.loadmat(\"t1_mgc_5cv6_ck3_CM.mat\")['CM']\n",
    "np.diagonal(cov3).sum()"
   ]
  },
  {
   "cell_type": "code",
   "execution_count": 264,
   "metadata": {},
   "outputs": [
    {
     "data": {
      "text/plain": [
       "0.8785390562516663"
      ]
     },
     "execution_count": 264,
     "metadata": {},
     "output_type": "execute_result"
    }
   ],
   "source": []
  },
  {
   "cell_type": "code",
   "execution_count": 139,
   "metadata": {},
   "outputs": [],
   "source": [
    "a = np.random.random_sample((10,10))"
   ]
  },
  {
   "cell_type": "code",
   "execution_count": 184,
   "metadata": {},
   "outputs": [],
   "source": [
    "b = np.random.random_sample((1,10))"
   ]
  },
  {
   "cell_type": "code",
   "execution_count": 189,
   "metadata": {},
   "outputs": [
    {
     "data": {
      "text/plain": [
       "(1, 10)"
      ]
     },
     "execution_count": 189,
     "metadata": {},
     "output_type": "execute_result"
    }
   ],
   "source": [
    "b.shape"
   ]
  },
  {
   "cell_type": "code",
   "execution_count": 188,
   "metadata": {},
   "outputs": [
    {
     "data": {
      "text/plain": [
       "(10, 10)"
      ]
     },
     "execution_count": 188,
     "metadata": {},
     "output_type": "execute_result"
    }
   ],
   "source": [
    "a.shape"
   ]
  },
  {
   "cell_type": "code",
   "execution_count": 190,
   "metadata": {},
   "outputs": [],
   "source": [
    "c = a * b"
   ]
  },
  {
   "cell_type": "code",
   "execution_count": 198,
   "metadata": {},
   "outputs": [
    {
     "data": {
      "text/plain": [
       "array([[7.48711012e-01, 9.17597025e-02, 1.26652386e-01, 5.55532781e-01,\n",
       "        1.27620939e-01, 1.22155854e-01, 5.76228364e-02, 7.02479397e-02,\n",
       "        3.82782636e-02, 1.74707421e-02],\n",
       "       [7.47636340e-01, 3.23506716e-01, 4.71751116e-02, 8.18627913e-02,\n",
       "        4.90142873e-02, 2.49768285e-01, 3.67541718e-01, 2.06745900e-02,\n",
       "        5.54884284e-02, 9.08871412e-03],\n",
       "       [1.07033616e-01, 4.04318579e-02, 1.20475277e-01, 4.36491700e-01,\n",
       "        7.72346340e-02, 3.94470424e-01, 1.83396734e-01, 6.54143573e-02,\n",
       "        1.87358892e-03, 1.64047518e-03],\n",
       "       [8.30858916e-01, 1.04328433e-01, 1.49032680e-01, 5.14951781e-01,\n",
       "        1.06037590e-01, 3.25583947e-01, 8.01584931e-03, 1.20288688e-02,\n",
       "        8.25402506e-02, 5.58397766e-03],\n",
       "       [2.29976087e-01, 1.80219978e-01, 1.41765776e-01, 1.24304889e-01,\n",
       "        1.01414824e-01, 1.07817217e-01, 5.91331610e-01, 4.34351282e-02,\n",
       "        8.61941676e-02, 5.92605191e-04],\n",
       "       [1.41916319e-01, 3.34906370e-01, 1.14916649e-01, 1.34134186e-01,\n",
       "        1.40427433e-01, 1.81435615e-01, 4.70040265e-01, 9.52764957e-03,\n",
       "        5.93257004e-02, 3.38103790e-03],\n",
       "       [2.66124668e-02, 1.15512326e-01, 1.59085220e-01, 3.49743528e-01,\n",
       "        6.07831330e-02, 1.27937051e-01, 5.23663654e-01, 6.83447491e-02,\n",
       "        4.52179404e-02, 1.28803449e-02],\n",
       "       [5.07345339e-01, 1.83281076e-01, 1.20100382e-01, 3.32208588e-01,\n",
       "        2.37619574e-01, 1.33855910e-01, 3.90792702e-01, 6.77431820e-02,\n",
       "        3.18273140e-02, 1.86779595e-02],\n",
       "       [1.98845026e-01, 1.67963064e-01, 1.83934643e-01, 4.16009584e-01,\n",
       "        1.49555525e-01, 4.44651198e-02, 3.65391632e-01, 8.96669429e-03,\n",
       "        8.34178538e-02, 8.22108359e-03],\n",
       "       [2.63469939e-01, 1.58700438e-01, 9.89496903e-02, 9.20514160e-02,\n",
       "        2.79128411e-01, 2.32954899e-02, 2.59885203e-01, 4.28069461e-02,\n",
       "        4.09022767e-02, 5.89205481e-03]])"
      ]
     },
     "execution_count": 198,
     "metadata": {},
     "output_type": "execute_result"
    }
   ],
   "source": [
    "c"
   ]
  },
  {
   "cell_type": "code",
   "execution_count": 199,
   "metadata": {},
   "outputs": [
    {
     "data": {
      "text/plain": [
       "0.43649170028232853"
      ]
     },
     "execution_count": 199,
     "metadata": {},
     "output_type": "execute_result"
    }
   ],
   "source": [
    "max(c[2])"
   ]
  },
  {
   "cell_type": "code",
   "execution_count": 193,
   "metadata": {},
   "outputs": [
    {
     "name": "stdout",
     "output_type": "stream",
     "text": [
      "0\n",
      "0\n",
      "3\n",
      "0\n",
      "6\n",
      "6\n",
      "6\n",
      "0\n",
      "3\n",
      "4\n"
     ]
    }
   ],
   "source": [
    "for i in range(10):\n",
    "    print(np.argmax(c[i], axis=0))"
   ]
  },
  {
   "cell_type": "code",
   "execution_count": 203,
   "metadata": {},
   "outputs": [],
   "source": [
    "d = np.asarray([9.42751857e-056, 1.54623660e+000, 3.57524306e-023, 2.78409786e-013,\n",
    " 1.27700789e-182, 3.49277054e-149, 1.09530105e-066, 7.87194041e-169,\n",
    " 7.77081281e-049, 7.56924907e-127])"
   ]
  },
  {
   "cell_type": "code",
   "execution_count": 205,
   "metadata": {},
   "outputs": [
    {
     "data": {
      "text/plain": [
       "1"
      ]
     },
     "execution_count": 205,
     "metadata": {},
     "output_type": "execute_result"
    }
   ],
   "source": [
    "np.argmax(d, axis=0\n",
    "         )"
   ]
  },
  {
   "cell_type": "code",
   "execution_count": 232,
   "metadata": {},
   "outputs": [
    {
     "data": {
      "text/plain": [
       "'\\n(847, 1)\\n(847, 1)\\n[[ 66   0   2   0   0   0   0   3   0   0]\\n [  0 430   0   0   0   0   0   0   0   0]\\n [  0   0  75   0   0   0   0   0   0   0]\\n [  0   4   0  27   0   0   0   0   0   0]\\n [  0   0   0   0  58   0   0   1   0   0]\\n [  0   0   0   0   0 100   0   0   0   0]\\n [  1   0   0   0   0   0  29   0   0   0]\\n [  0   0   0   0   0   0   0  15   0   0]\\n [  0   0   0   0   0   0   0   0  21   0]\\n [  0   0   0   0   0   0   0   0   0  15]]\\n(847, 1)\\n(847, 1)\\n[[ 70   0   1   0   0   0   0   0   0   0]\\n [  0 430   0   0   0   0   0   0   0   0]\\n [  0   0  75   0   0   0   0   0   0   0]\\n [  0   2   2  27   0   0   0   0   0   0]\\n [  0   0   0   0  59   0   0   0   0   0]\\n [  0   0   0   0   0 100   0   0   0   0]\\n [  0   0   0   0   0   0  30   0   0   0]\\n [  0   0   0   0   0   0   0  15   0   0]\\n [  0   0   0   0   0   0   0   0  21   0]\\n [  0   0   0   1   0   0   0   0   0  14]]\\n(847, 1)\\n(847, 1)\\n[[ 69   0   1   0   0   0   0   1   0   0]\\n [  0 429   1   0   0   0   0   0   0   0]\\n [  0   0  75   0   0   0   0   0   0   0]\\n [  0   1   0  29   0   0   0   0   0   1]\\n [  0   2   0   0  57   0   0   0   0   0]\\n [  0   0   0   0   0 100   0   0   0   0]\\n [  0   0   0   0   0   0  28   1   1   0]\\n [  0   0   0   0   0   0   0  15   0   0]\\n [  0   0   2   0   0   0   0   0  19   0]\\n [  0   0   0   0   0   0   0   0   0  15]]\\n(847, 1)\\n(847, 1)\\n[[ 69   0   0   0   0   0   0   2   0   0]\\n [  0 430   0   0   0   0   0   0   0   0]\\n [  0   0  75   0   0   0   0   0   0   0]\\n [  1   1   0  29   0   0   0   0   0   0]\\n [  0   0   0   0  59   0   0   0   0   0]\\n [  0   0   0   0   0 100   0   0   0   0]\\n [  0   0   2   0   0   0  28   0   0   0]\\n [  1   0   0   0   0   0   0  14   0   0]\\n [  0   0   0   0   0   0   0   0  21   0]\\n [  0   0   0   0   0   0   0   0   0  15]]\\n(868, 1)\\n(868, 1)\\n[[ 71   0   0   0   0   0   0   0   0   0]\\n [  0 434   0   0   0   0   0   0   0   0]\\n [  0   0  76   0   0   0   0   0   0   0]\\n [  0   2   0  33   0   0   0   0   0   0]\\n [  0   0   0   0  61   0   0   0   0   0]\\n [  0   0   0   0   0 103   0   0   0   0]\\n [  0   0   0   0   0   0  29   2   0   0]\\n [  0   0   0   0   0   0   0  17   0   0]\\n [  0   0   0   1   0   0   0   0  23   0]\\n [  0   0   0   0   0   0   0   0   0  16]]\\n'"
      ]
     },
     "execution_count": 232,
     "metadata": {},
     "output_type": "execute_result"
    }
   ],
   "source": [
    "\"\"\"\n",
    "(847, 1)\n",
    "(847, 1)\n",
    "[[ 66   0   2   0   0   0   0   3   0   0]\n",
    " [  0 430   0   0   0   0   0   0   0   0]\n",
    " [  0   0  75   0   0   0   0   0   0   0]\n",
    " [  0   4   0  27   0   0   0   0   0   0]\n",
    " [  0   0   0   0  58   0   0   1   0   0]\n",
    " [  0   0   0   0   0 100   0   0   0   0]\n",
    " [  1   0   0   0   0   0  29   0   0   0]\n",
    " [  0   0   0   0   0   0   0  15   0   0]\n",
    " [  0   0   0   0   0   0   0   0  21   0]\n",
    " [  0   0   0   0   0   0   0   0   0  15]]\n",
    "(847, 1)\n",
    "(847, 1)\n",
    "[[ 70   0   1   0   0   0   0   0   0   0]\n",
    " [  0 430   0   0   0   0   0   0   0   0]\n",
    " [  0   0  75   0   0   0   0   0   0   0]\n",
    " [  0   2   2  27   0   0   0   0   0   0]\n",
    " [  0   0   0   0  59   0   0   0   0   0]\n",
    " [  0   0   0   0   0 100   0   0   0   0]\n",
    " [  0   0   0   0   0   0  30   0   0   0]\n",
    " [  0   0   0   0   0   0   0  15   0   0]\n",
    " [  0   0   0   0   0   0   0   0  21   0]\n",
    " [  0   0   0   1   0   0   0   0   0  14]]\n",
    "(847, 1)\n",
    "(847, 1)\n",
    "[[ 69   0   1   0   0   0   0   1   0   0]\n",
    " [  0 429   1   0   0   0   0   0   0   0]\n",
    " [  0   0  75   0   0   0   0   0   0   0]\n",
    " [  0   1   0  29   0   0   0   0   0   1]\n",
    " [  0   2   0   0  57   0   0   0   0   0]\n",
    " [  0   0   0   0   0 100   0   0   0   0]\n",
    " [  0   0   0   0   0   0  28   1   1   0]\n",
    " [  0   0   0   0   0   0   0  15   0   0]\n",
    " [  0   0   2   0   0   0   0   0  19   0]\n",
    " [  0   0   0   0   0   0   0   0   0  15]]\n",
    "(847, 1)\n",
    "(847, 1)\n",
    "[[ 69   0   0   0   0   0   0   2   0   0]\n",
    " [  0 430   0   0   0   0   0   0   0   0]\n",
    " [  0   0  75   0   0   0   0   0   0   0]\n",
    " [  1   1   0  29   0   0   0   0   0   0]\n",
    " [  0   0   0   0  59   0   0   0   0   0]\n",
    " [  0   0   0   0   0 100   0   0   0   0]\n",
    " [  0   0   2   0   0   0  28   0   0   0]\n",
    " [  1   0   0   0   0   0   0  14   0   0]\n",
    " [  0   0   0   0   0   0   0   0  21   0]\n",
    " [  0   0   0   0   0   0   0   0   0  15]]\n",
    "(868, 1)\n",
    "(868, 1)\n",
    "[[ 71   0   0   0   0   0   0   0   0   0]\n",
    " [  0 434   0   0   0   0   0   0   0   0]\n",
    " [  0   0  76   0   0   0   0   0   0   0]\n",
    " [  0   2   0  33   0   0   0   0   0   0]\n",
    " [  0   0   0   0  61   0   0   0   0   0]\n",
    " [  0   0   0   0   0 103   0   0   0   0]\n",
    " [  0   0   0   0   0   0  29   2   0   0]\n",
    " [  0   0   0   0   0   0   0  17   0   0]\n",
    " [  0   0   0   1   0   0   0   0  23   0]\n",
    " [  0   0   0   0   0   0   0   0   0  16]]\n",
    "\"\"\""
   ]
  },
  {
   "cell_type": "code",
   "execution_count": 51,
   "metadata": {},
   "outputs": [],
   "source": [
    "def classification_accuracy(confusion_matrix):\n",
    "    return np.diagonal(confusion_matrix).sum()"
   ]
  },
  {
   "cell_type": "code",
   "execution_count": 70,
   "metadata": {},
   "outputs": [],
   "source": [
    "PMap = my_k_folds(X_vec, Y_species,5)\n",
    "# no_of_classes = np.max(Y_species)\n",
    "# D = X_vec[0].size\n",
    "# Ms = np.zeros((no_of_classes, D))\n",
    "# Covs = np.zeros((no_of_classes, D, D))\n",
    "# priors = np.zeros((1, no_of_classes))\n",
    "# for p in range(1, 5+1):\n",
    "#     for c in range(1, no_of_classes+1):\n",
    "#         train_data = X_vec[np.where(np.logical_and(PMap != p, Y_species == c))[0]]\n",
    "#         Ms[c-1] = my_mean(train_data)\n",
    "#         # Full covariance mat\n",
    "#         Cov = my_cov(train_data)\n",
    "#         Covs[c-1] = Cov\n",
    "#         priors[:,c-1] = len(train_data) / len(X_vec[np.where(PMap != p)[0]])   "
   ]
  },
  {
   "cell_type": "code",
   "execution_count": 72,
   "metadata": {},
   "outputs": [],
   "source": [
    "from functools import lru_cache"
   ]
  },
  {
   "cell_type": "code",
   "execution_count": 88,
   "metadata": {},
   "outputs": [],
   "source": [
    "def train_and_test_get_accuracy(X, Y, CovKind, epsilon, Kfolds):\n",
    "    no_of_classes = np.max(Y)\n",
    "    total_cov_mat = np.zeros((no_of_classes, no_of_classes))\n",
    "    D = X[0].size\n",
    "    for p in range(1, Kfolds+1):\n",
    "        Ms = np.zeros((no_of_classes, D))\n",
    "        Covs = np.zeros((no_of_classes, D, D))\n",
    "        priors = np.zeros((1, no_of_classes))\n",
    "        \n",
    "        for c in range(1, no_of_classes+1):\n",
    "            train_data = X[np.where(np.logical_and(PMap != p, Y == c))[0]]\n",
    "            Ms[c-1] = my_mean(train_data)\n",
    "            \n",
    "            if CovKind == 1:\n",
    "                # Full covariance mat\n",
    "                Cov = my_cov(train_data)\n",
    "            elif CovKind == 2:\n",
    "                # Diagonal covariance mat\n",
    "                Cov = np.diag(np.diag(my_cov(train_data)))\n",
    "            else:\n",
    "                # Shared covariance mat\n",
    "                Cov = my_cov(X)\n",
    "            \n",
    "            standardised_cov = Cov + epsilon * np.eye(D)\n",
    "            Covs[c-1] = standardised_cov\n",
    "            \n",
    "            priors[:,c-1] = len(train_data) / len(X[np.where(PMap != p)[0]])        \n",
    "        \n",
    "        test_data = X[np.where(PMap == p)[0]]\n",
    "        test_likelihoods = np.zeros((len(test_data), no_of_classes))\n",
    "        \n",
    "        for i in range(len(test_data)):\n",
    "            for c in range(1, no_of_classes+1):\n",
    "                    test_likelihoods[i, c-1] = multivariate_normal.pdf(test_data[i]\n",
    "                                                            , Ms[c-1]\n",
    "                                                            , np.squeeze(Covs[c-1])\n",
    "                                                            )\n",
    "        test_probs = test_likelihoods * priors\n",
    "        test_preds = np.zeros((len(test_data), 1))\n",
    "        \n",
    "        for i in range(len(test_data)):\n",
    "            curr_row_vec = test_probs[i]\n",
    "            test_preds[i] = np.argmax(curr_row_vec, axis=0)\n",
    "\n",
    "        \n",
    "        CM = MyConfusionMatrix(Y[np.where(PMap == p)[0]], test_preds)\n",
    "        total_cov_mat = total_cov_mat + (CM / (Kfolds * len(test_data)))\n",
    "    \n",
    "    return np.diagonal(total_cov_mat).sum()"
   ]
  },
  {
   "cell_type": "code",
   "execution_count": 89,
   "metadata": {},
   "outputs": [],
   "source": [
    "@lru_cache(maxsize=None)\n",
    "def experiment():\n",
    "    obs = {}\n",
    "    start = 0.001\n",
    "    step = 0.001\n",
    "    stop = 0.2\n",
    "    \n",
    "    for i in np.arange(start, stop, step):\n",
    "        print(i)\n",
    "        res = train_and_test_get_accuracy(X_vec, Y_species, 1, i, 5)\n",
    "        print(res)\n",
    "        obs[i] = res\n",
    "        print(i, obs[i])"
   ]
  },
  {
   "cell_type": "code",
   "execution_count": 91,
   "metadata": {},
   "outputs": [],
   "source": [
    "#experiment()"
   ]
  },
  {
   "cell_type": "code",
   "execution_count": 94,
   "metadata": {},
   "outputs": [],
   "source": [
    "res = \"\"\"0.001 0.9893914003884677\n",
    "0.002 0.9900940701527211\n",
    "0.003 0.9910385801881404\n",
    "0.004 0.9910442929504514\n",
    "0.005 0.9908138782039076\n",
    "0.006 0.9905777506950527\n",
    "0.007 0.9905777506950527\n",
    "0.008 0.9910557184750733\n",
    "0.009000000000000001 0.9908195909662185\n",
    "0.010000000000000002 0.9905834634573638\n",
    "0.011 0.9908195909662185\n",
    "0.012 0.99035304871082\n",
    "0.013000000000000001 0.9898922192177324\n",
    "0.014000000000000002 0.9887230071980805\n",
    "0.015 0.988250752180371\n",
    "0.016 0.9859009026164451\n",
    "0.017 0.984023308070229\n",
    "0.018000000000000002 0.9826179685417222\n",
    "0.019000000000000003 0.9805099592489621\n",
    "0.02 0.9783962371938911\n",
    "0.021 0.9765129298853639\n",
    "0.022000000000000002 0.97533229234109\n",
    "0.023 0.974157367559127\n",
    "0.024 0.9718075179952012\n",
    "0.025 0.9706325932132384\n",
    "0.026000000000000002 0.9685188711581673\n",
    "0.027000000000000003 0.9673439463762044\n",
    "0.028 0.9659386068476978\n",
    "0.029 0.9647579693034238\n",
    "0.030000000000000002 0.9631222150283735\n",
    "0.031 0.9621777049929543\n",
    "0.032 0.9619415774840996\n",
    "0.033 0.961475035228701\n",
    "0.034 0.9607666527021367\n",
    "0.035 0.9598221426667175\n",
    "0.036000000000000004 0.9584168031382108\n",
    "0.037000000000000005 0.9579445481205012\n",
    "0.038 0.9572418783562479\n",
    "0.039 0.9567753361008493\n",
    "0.04 0.9558308260654302\n",
    "0.041 0.954892028792322\n",
    "0.042 0.9541950717903798\n",
    "0.043000000000000003 0.9534866892638154\n",
    "0.044000000000000004 0.9527783067372511\n",
    "0.045 0.9520699242106867\n",
    "0.046 0.9513672544464334\n",
    "0.047 0.9504284571733254\n",
    "0.048 0.9487869901359639\n",
    "0.049 0.9487869901359639\n",
    "0.05 0.9478424801005447\n",
    "0.051000000000000004 0.9469093955897475\n",
    "0.052000000000000005 0.9466732680808928\n",
    "0.053000000000000005 0.9466732680808928\n",
    "0.054 0.946437140572038\n",
    "0.055 0.946437140572038\n",
    "0.056 0.9462010130631833\n",
    "0.057 0.9459705983166395\n",
    "0.058 0.9452736413146972\n",
    "0.059000000000000004 0.9452736413146972\n",
    "0.060000000000000005 0.9448070990592985\n",
    "0.061 0.944334844041589\n",
    "0.062 0.9440987165327341\n",
    "0.063 0.9438625890238793\n",
    "0.064 0.9436264615150246\n",
    "0.065 0.9431599192596261\n",
    "0.066 0.9431599192596261\n",
    "0.067 0.9426933770042275\n",
    "0.068 0.9426933770042275\n",
    "0.069 0.9426876642419165\n",
    "0.07 0.9426876642419165\n",
    "0.07100000000000001 0.942226834748829\n",
    "0.07200000000000001 0.9424629622576838\n",
    "0.07300000000000001 0.9424629622576838\n",
    "0.074 0.9419907072399741\n",
    "0.075 0.9417545797311194\n",
    "0.076 0.9417545797311194\n",
    "0.077 0.9412823247134098\n",
    "0.078 0.9412823247134098\n",
    "0.079 0.9410461972045551\n",
    "0.08 0.9410461972045551\n",
    "0.081 0.9408100696957004\n",
    "0.082 0.9408100696957004\n",
    "0.083 0.9405796549491565\n",
    "0.084 0.9405796549491565\n",
    "0.085 0.9405796549491565\n",
    "0.08600000000000001 0.9405796549491565\n",
    "0.08700000000000001 0.9405796549491565\n",
    "0.08800000000000001 0.9405796549491565\n",
    "0.089 0.940107399931447\n",
    "0.09 0.940107399931447\n",
    "0.091 0.940107399931447\n",
    "0.092 0.9398712724225922\n",
    "0.093 0.9398712724225922\n",
    "0.094 0.9396351449137373\n",
    "0.095 0.9396351449137373\n",
    "0.096 0.9396351449137373\n",
    "0.097 0.9396351449137373\n",
    "0.098 0.9396351449137373\n",
    "0.099 0.9396351449137373\n",
    "0.1 0.9396351449137373\n",
    "0.101 0.9391686026583388\n",
    "0.10200000000000001 0.9391686026583388\n",
    "0.10300000000000001 0.9391686026583388\n",
    "0.10400000000000001 0.9391686026583388\n",
    "0.10500000000000001 0.9391686026583388\n",
    "0.106 0.9391686026583388\n",
    "0.107 0.9389324751494841\n",
    "0.108 0.9386963476406293\n",
    "0.109 0.9384659328940854\n",
    "0.11 0.9384659328940854\n",
    "0.111 0.9382298053852306\n",
    "0.112 0.9379936778763759\n",
    "0.113 0.9379936778763759\n",
    "0.114 0.9379936778763759\n",
    "0.115 0.9379936778763759\n",
    "0.116 0.9379936778763759\n",
    "0.117 0.9379936778763759\n",
    "0.11800000000000001 0.9377575503675212\n",
    "0.11900000000000001 0.9377575503675212\n",
    "0.12000000000000001 0.9377575503675212\n",
    "0.121 0.9375214228586664\n",
    "0.122 0.9375214228586664\n",
    "0.123 0.9375214228586664\n",
    "0.124 0.9375214228586664\n",
    "0.125 0.9372852953498115\n",
    "0.126 0.9375157100963553\n",
    "0.127 0.9375157100963553\n",
    "0.128 0.9375157100963553\n",
    "0.129 0.9375157100963553\n",
    "0.13 0.9375157100963553\n",
    "0.131 0.9375157100963553\n",
    "0.132 0.9375157100963553\n",
    "0.133 0.9375157100963553\n",
    "0.134 0.9375157100963553\n",
    "0.135 0.9375157100963553\n",
    "0.136 0.9375157100963553\n",
    "0.137 0.9375157100963553\n",
    "0.138 0.9375157100963553\n",
    "0.139 0.9375157100963553\n",
    "0.14 0.9372852953498115\n",
    "0.14100000000000001 0.9368187530944129\n",
    "0.14200000000000002 0.9368187530944129\n",
    "0.14300000000000002 0.9368187530944129\n",
    "0.14400000000000002 0.9368187530944129\n",
    "0.14500000000000002 0.9368187530944129\n",
    "0.146 0.9368187530944129\n",
    "0.147 0.9368187530944129\n",
    "0.148 0.9365826255855582\n",
    "0.149 0.9363464980767034\n",
    "0.15 0.9363464980767034\n",
    "0.151 0.9363464980767034\n",
    "0.152 0.9363464980767034\n",
    "0.153 0.9361103705678485\n",
    "0.154 0.9358742430589937\n",
    "0.155 0.9358742430589937\n",
    "0.156 0.935638115550139\n",
    "0.157 0.935638115550139\n",
    "0.158 0.935638115550139\n",
    "0.159 0.935638115550139\n",
    "0.16 0.935638115550139\n",
    "0.161 0.935638115550139\n",
    "0.162 0.935638115550139\n",
    "0.163 0.935638115550139\n",
    "0.164 0.935638115550139\n",
    "0.165 0.935638115550139\n",
    "0.166 0.935638115550139\n",
    "0.167 0.9349354457858856\n",
    "0.168 0.9349354457858856\n",
    "0.169 0.9349354457858856\n",
    "0.17 0.9349354457858856\n",
    "0.171 0.9349354457858856\n",
    "0.17200000000000001 0.9349354457858856\n",
    "0.17300000000000001 0.9349354457858856\n",
    "0.17400000000000002 0.9349354457858856\n",
    "0.17500000000000002 0.9349354457858856\n",
    "0.17600000000000002 0.9346993182770309\n",
    "0.177 0.9346993182770309\n",
    "0.178 0.9346993182770309\n",
    "0.179 0.9346993182770309\n",
    "0.18 0.9346993182770309\n",
    "0.181 0.9346993182770309\n",
    "0.182 0.9346993182770309\n",
    "0.183 0.9346993182770309\n",
    "0.184 0.9344689035304872\n",
    "0.185 0.9344689035304872\n",
    "0.186 0.9344689035304872\n",
    "0.187 0.9344689035304872\n",
    "0.188 0.9344689035304872\n",
    "0.189 0.9344689035304872\n",
    "0.19 0.9344689035304872\n",
    "0.191 0.9344689035304872\n",
    "0.192 0.9344689035304872\n",
    "0.193 0.9344689035304872\n",
    "0.194 0.9344689035304872\n",
    "0.195 0.9344689035304872\n",
    "0.196 0.9344689035304872\n",
    "0.197 0.9344689035304872\n",
    "0.198 0.9344689035304872\n",
    "0.199 0.9344689035304872\n",
    "\"\"\""
   ]
  },
  {
   "cell_type": "code",
   "execution_count": 104,
   "metadata": {},
   "outputs": [],
   "source": [
    "a = res.splitlines()"
   ]
  },
  {
   "cell_type": "code",
   "execution_count": 105,
   "metadata": {},
   "outputs": [],
   "source": [
    "arr = list(map(lambda x : x.split(\" \"), a))"
   ]
  },
  {
   "cell_type": "code",
   "execution_count": 108,
   "metadata": {},
   "outputs": [],
   "source": [
    "arr = np.array(arr, dtype=np.float64)"
   ]
  },
  {
   "cell_type": "code",
   "execution_count": 118,
   "metadata": {},
   "outputs": [],
   "source": [
    "epsilon, acccuracy = arr.T"
   ]
  },
  {
   "cell_type": "code",
   "execution_count": 119,
   "metadata": {},
   "outputs": [
    {
     "data": {
      "text/plain": [
       "array([0.001, 0.002, 0.003, 0.004, 0.005, 0.006, 0.007, 0.008, 0.009,\n",
       "       0.01 , 0.011, 0.012, 0.013, 0.014, 0.015, 0.016, 0.017, 0.018,\n",
       "       0.019, 0.02 , 0.021, 0.022, 0.023, 0.024, 0.025, 0.026, 0.027,\n",
       "       0.028, 0.029, 0.03 , 0.031, 0.032, 0.033, 0.034, 0.035, 0.036,\n",
       "       0.037, 0.038, 0.039, 0.04 , 0.041, 0.042, 0.043, 0.044, 0.045,\n",
       "       0.046, 0.047, 0.048, 0.049, 0.05 , 0.051, 0.052, 0.053, 0.054,\n",
       "       0.055, 0.056, 0.057, 0.058, 0.059, 0.06 , 0.061, 0.062, 0.063,\n",
       "       0.064, 0.065, 0.066, 0.067, 0.068, 0.069, 0.07 , 0.071, 0.072,\n",
       "       0.073, 0.074, 0.075, 0.076, 0.077, 0.078, 0.079, 0.08 , 0.081,\n",
       "       0.082, 0.083, 0.084, 0.085, 0.086, 0.087, 0.088, 0.089, 0.09 ,\n",
       "       0.091, 0.092, 0.093, 0.094, 0.095, 0.096, 0.097, 0.098, 0.099,\n",
       "       0.1  , 0.101, 0.102, 0.103, 0.104, 0.105, 0.106, 0.107, 0.108,\n",
       "       0.109, 0.11 , 0.111, 0.112, 0.113, 0.114, 0.115, 0.116, 0.117,\n",
       "       0.118, 0.119, 0.12 , 0.121, 0.122, 0.123, 0.124, 0.125, 0.126,\n",
       "       0.127, 0.128, 0.129, 0.13 , 0.131, 0.132, 0.133, 0.134, 0.135,\n",
       "       0.136, 0.137, 0.138, 0.139, 0.14 , 0.141, 0.142, 0.143, 0.144,\n",
       "       0.145, 0.146, 0.147, 0.148, 0.149, 0.15 , 0.151, 0.152, 0.153,\n",
       "       0.154, 0.155, 0.156, 0.157, 0.158, 0.159, 0.16 , 0.161, 0.162,\n",
       "       0.163, 0.164, 0.165, 0.166, 0.167, 0.168, 0.169, 0.17 , 0.171,\n",
       "       0.172, 0.173, 0.174, 0.175, 0.176, 0.177, 0.178, 0.179, 0.18 ,\n",
       "       0.181, 0.182, 0.183, 0.184, 0.185, 0.186, 0.187, 0.188, 0.189,\n",
       "       0.19 , 0.191, 0.192, 0.193, 0.194, 0.195, 0.196, 0.197, 0.198,\n",
       "       0.199])"
      ]
     },
     "execution_count": 119,
     "metadata": {},
     "output_type": "execute_result"
    }
   ],
   "source": [
    "epsilon"
   ]
  },
  {
   "cell_type": "code",
   "execution_count": 120,
   "metadata": {},
   "outputs": [
    {
     "data": {
      "text/plain": [
       "array([0.9893914 , 0.99009407, 0.99103858, 0.99104429, 0.99081388,\n",
       "       0.99057775, 0.99057775, 0.99105572, 0.99081959, 0.99058346,\n",
       "       0.99081959, 0.99035305, 0.98989222, 0.98872301, 0.98825075,\n",
       "       0.9859009 , 0.98402331, 0.98261797, 0.98050996, 0.97839624,\n",
       "       0.97651293, 0.97533229, 0.97415737, 0.97180752, 0.97063259,\n",
       "       0.96851887, 0.96734395, 0.96593861, 0.96475797, 0.96312222,\n",
       "       0.9621777 , 0.96194158, 0.96147504, 0.96076665, 0.95982214,\n",
       "       0.9584168 , 0.95794455, 0.95724188, 0.95677534, 0.95583083,\n",
       "       0.95489203, 0.95419507, 0.95348669, 0.95277831, 0.95206992,\n",
       "       0.95136725, 0.95042846, 0.94878699, 0.94878699, 0.94784248,\n",
       "       0.9469094 , 0.94667327, 0.94667327, 0.94643714, 0.94643714,\n",
       "       0.94620101, 0.9459706 , 0.94527364, 0.94527364, 0.9448071 ,\n",
       "       0.94433484, 0.94409872, 0.94386259, 0.94362646, 0.94315992,\n",
       "       0.94315992, 0.94269338, 0.94269338, 0.94268766, 0.94268766,\n",
       "       0.94222683, 0.94246296, 0.94246296, 0.94199071, 0.94175458,\n",
       "       0.94175458, 0.94128232, 0.94128232, 0.9410462 , 0.9410462 ,\n",
       "       0.94081007, 0.94081007, 0.94057965, 0.94057965, 0.94057965,\n",
       "       0.94057965, 0.94057965, 0.94057965, 0.9401074 , 0.9401074 ,\n",
       "       0.9401074 , 0.93987127, 0.93987127, 0.93963514, 0.93963514,\n",
       "       0.93963514, 0.93963514, 0.93963514, 0.93963514, 0.93963514,\n",
       "       0.9391686 , 0.9391686 , 0.9391686 , 0.9391686 , 0.9391686 ,\n",
       "       0.9391686 , 0.93893248, 0.93869635, 0.93846593, 0.93846593,\n",
       "       0.93822981, 0.93799368, 0.93799368, 0.93799368, 0.93799368,\n",
       "       0.93799368, 0.93799368, 0.93775755, 0.93775755, 0.93775755,\n",
       "       0.93752142, 0.93752142, 0.93752142, 0.93752142, 0.9372853 ,\n",
       "       0.93751571, 0.93751571, 0.93751571, 0.93751571, 0.93751571,\n",
       "       0.93751571, 0.93751571, 0.93751571, 0.93751571, 0.93751571,\n",
       "       0.93751571, 0.93751571, 0.93751571, 0.93751571, 0.9372853 ,\n",
       "       0.93681875, 0.93681875, 0.93681875, 0.93681875, 0.93681875,\n",
       "       0.93681875, 0.93681875, 0.93658263, 0.9363465 , 0.9363465 ,\n",
       "       0.9363465 , 0.9363465 , 0.93611037, 0.93587424, 0.93587424,\n",
       "       0.93563812, 0.93563812, 0.93563812, 0.93563812, 0.93563812,\n",
       "       0.93563812, 0.93563812, 0.93563812, 0.93563812, 0.93563812,\n",
       "       0.93563812, 0.93493545, 0.93493545, 0.93493545, 0.93493545,\n",
       "       0.93493545, 0.93493545, 0.93493545, 0.93493545, 0.93493545,\n",
       "       0.93469932, 0.93469932, 0.93469932, 0.93469932, 0.93469932,\n",
       "       0.93469932, 0.93469932, 0.93469932, 0.9344689 , 0.9344689 ,\n",
       "       0.9344689 , 0.9344689 , 0.9344689 , 0.9344689 , 0.9344689 ,\n",
       "       0.9344689 , 0.9344689 , 0.9344689 , 0.9344689 , 0.9344689 ,\n",
       "       0.9344689 , 0.9344689 , 0.9344689 , 0.9344689 ])"
      ]
     },
     "execution_count": 120,
     "metadata": {},
     "output_type": "execute_result"
    }
   ],
   "source": [
    "acccuracy"
   ]
  },
  {
   "cell_type": "code",
   "execution_count": 125,
   "metadata": {},
   "outputs": [
    {
     "data": {
      "text/plain": [
       "Text(0, 0.5, 'Accuracy of predictions')"
      ]
     },
     "execution_count": 125,
     "metadata": {},
     "output_type": "execute_result"
    },
    {
     "data": {
      "image/png": "[encoded data removed]",
      "text/plain": [
       "<Figure size 432x288 with 1 Axes>"
      ]
     },
     "metadata": {
      "needs_background": "light"
     },
     "output_type": "display_data"
    }
   ],
   "source": [
    "plt.plot(epsilon, acccuracy)\n",
    "plt.ylim(bottom=0.9)\n",
    "plt.xlabel(\"Epsilon value\")\n",
    "plt.ylabel(\"Accuracy of predictions\")\n"
   ]
  },
  {
   "cell_type": "code",
   "execution_count": null,
   "metadata": {},
   "outputs": [],
   "source": []
  }
 ],
 "metadata": {
  "kernelspec": {
   "display_name": "Python 3",
   "language": "python",
   "name": "python3"
  },
  "language_info": {
   "codemirror_mode": {
    "name": "ipython",
    "version": 3
   },
   "file_extension": ".py",
   "mimetype": "text/x-python",
   "name": "python",
   "nbconvert_exporter": "python",
   "pygments_lexer": "ipython3",
   "version": "3.7.6"
  }
 },
 "nbformat": 4,
 "nbformat_minor": 2
}
