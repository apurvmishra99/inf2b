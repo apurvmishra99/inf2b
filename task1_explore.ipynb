{
 "cells": [
  {
   "cell_type": "code",
   "execution_count": 2,
   "metadata": {},
   "outputs": [],
   "source": [
    "import scipy.io as sio\n",
    "import numpy as np\n",
    "import scipy\n",
    "import matplotlib.pyplot as plt"
   ]
  },
  {
   "cell_type": "code",
   "execution_count": 3,
   "metadata": {},
   "outputs": [],
   "source": [
    "data = sio.loadmat('data/dset.mat')"
   ]
  },
  {
   "cell_type": "code",
   "execution_count": 4,
   "metadata": {},
   "outputs": [
    {
     "data": {
      "text/plain": [
       "dict_keys(['__header__', '__version__', '__globals__', 'list_family', 'list_genus', 'list_species', 'X', 'Y_family', 'Y_genus', 'Y_species'])"
      ]
     },
     "execution_count": 4,
     "metadata": {},
     "output_type": "execute_result"
    }
   ],
   "source": [
    "data.keys()"
   ]
  },
  {
   "cell_type": "code",
   "execution_count": 35,
   "metadata": {},
   "outputs": [],
   "source": [
    "Y_species = data.get('Y_species')"
   ]
  },
  {
   "cell_type": "code",
   "execution_count": 36,
   "metadata": {},
   "outputs": [
    {
     "data": {
      "text/plain": [
       "array([[ 2],\n",
       "       [ 7],\n",
       "       [ 2],\n",
       "       ...,\n",
       "       [ 1],\n",
       "       [10],\n",
       "       [ 5]], dtype=int32)"
      ]
     },
     "execution_count": 36,
     "metadata": {},
     "output_type": "execute_result"
    }
   ],
   "source": [
    "Y_species"
   ]
  },
  {
   "cell_type": "code",
   "execution_count": 37,
   "metadata": {},
   "outputs": [
    {
     "data": {
      "text/plain": [
       "array([2], dtype=int32)"
      ]
     },
     "execution_count": 37,
     "metadata": {},
     "output_type": "execute_result"
    }
   ],
   "source": [
    "Y_species[0]"
   ]
  },
  {
   "cell_type": "code",
   "execution_count": 38,
   "metadata": {},
   "outputs": [],
   "source": [
    "Y_genus = data.get('Y_genus')"
   ]
  },
  {
   "cell_type": "code",
   "execution_count": 40,
   "metadata": {},
   "outputs": [
    {
     "data": {
      "text/plain": [
       "array([[1],\n",
       "       [5],\n",
       "       [1],\n",
       "       ...,\n",
       "       [1],\n",
       "       [8],\n",
       "       [4]], dtype=int32)"
      ]
     },
     "execution_count": 40,
     "metadata": {},
     "output_type": "execute_result"
    }
   ],
   "source": [
    "Y_genus"
   ]
  },
  {
   "cell_type": "code",
   "execution_count": 8,
   "metadata": {},
   "outputs": [],
   "source": [
    "X_vec = data.get('X')"
   ]
  },
  {
   "cell_type": "code",
   "execution_count": 9,
   "metadata": {},
   "outputs": [
    {
     "data": {
      "text/plain": [
       "array([[-1.        , -0.85208478, -0.5446153 , ...,  0.03081446,\n",
       "        -0.04646877, -0.10260198],\n",
       "       [-1.        , -0.83122403, -0.35381633, ..., -0.05976682,\n",
       "        -0.04458574,  0.01394643],\n",
       "       [-1.        , -0.87307382, -0.50275353, ...,  0.08532905,\n",
       "        -0.01570336, -0.07587386],\n",
       "       ...,\n",
       "       [-1.        , -0.52845271, -0.09051293, ...,  0.00273226,\n",
       "        -0.0143477 , -0.00636827],\n",
       "       [-1.        , -0.8586075 , -0.27509567, ..., -0.00910596,\n",
       "        -0.00653614, -0.01747479],\n",
       "       [-1.        , -0.44213437,  0.002258  , ..., -0.0188348 ,\n",
       "         0.01213924,  0.01604267]])"
      ]
     },
     "execution_count": 9,
     "metadata": {},
     "output_type": "execute_result"
    }
   ],
   "source": [
    "X_vec"
   ]
  },
  {
   "cell_type": "code",
   "execution_count": 7,
   "metadata": {},
   "outputs": [
    {
     "data": {
      "text/plain": [
       "array([-1.        , -0.85208478, -0.5446153 , -0.23023933, -0.15827164,\n",
       "       -0.10030244, -0.11154368, -0.04217562,  0.05429012, -0.01039922,\n",
       "       -0.10284336, -0.02367292,  0.00542988, -0.13799486, -0.15663055,\n",
       "       -0.03263575,  0.02750404,  0.01395437, -0.01718162, -0.04397875,\n",
       "       -0.0025327 ,  0.03081446, -0.04646877, -0.10260198])"
      ]
     },
     "execution_count": 7,
     "metadata": {},
     "output_type": "execute_result"
    }
   ],
   "source": [
    "X_vec[0]"
   ]
  },
  {
   "cell_type": "code",
   "execution_count": 8,
   "metadata": {},
   "outputs": [],
   "source": [
    "lst_species = data.get('list_species')"
   ]
  },
  {
   "cell_type": "code",
   "execution_count": 9,
   "metadata": {},
   "outputs": [
    {
     "data": {
      "text/plain": [
       "array([[array(['AdenomeraAndre'], dtype='<U14')],\n",
       "       [array(['AdenomeraHylaedactylus'], dtype='<U22')],\n",
       "       [array(['Ameeregatrivittata'], dtype='<U18')],\n",
       "       [array(['HylaMinuta'], dtype='<U10')],\n",
       "       [array(['HypsiboasCinerascens'], dtype='<U20')],\n",
       "       [array(['HypsiboasCordobae'], dtype='<U17')],\n",
       "       [array(['LeptodactylusFuscus'], dtype='<U19')],\n",
       "       [array(['OsteocephalusOophagus'], dtype='<U21')],\n",
       "       [array(['Rhinellagranulosa'], dtype='<U17')],\n",
       "       [array(['ScinaxRuber'], dtype='<U11')]], dtype=object)"
      ]
     },
     "execution_count": 9,
     "metadata": {},
     "output_type": "execute_result"
    }
   ],
   "source": [
    "lst_species"
   ]
  },
  {
   "cell_type": "code",
   "execution_count": 10,
   "metadata": {},
   "outputs": [
    {
     "data": {
      "text/plain": [
       "10"
      ]
     },
     "execution_count": 10,
     "metadata": {},
     "output_type": "execute_result"
    }
   ],
   "source": [
    "lst_species.size"
   ]
  },
  {
   "cell_type": "code",
   "execution_count": 11,
   "metadata": {},
   "outputs": [
    {
     "data": {
      "text/plain": [
       "array([ 0.01773218,  0.0082373 ,  0.09795756,  0.03193004,  0.00321138,\n",
       "       -0.01455587, -0.07308648, -0.05278416, -0.05328468,  0.06120123])"
      ]
     },
     "execution_count": 11,
     "metadata": {},
     "output_type": "execute_result"
    }
   ],
   "source": [
    "x = np.random.random((10, 5))\n",
    "y = np.random.random((10, 5))\n",
    "\n",
    "n = x.shape[1]\n",
    "cov_bias = np.mean(x * y, axis=1) - np.mean(x, axis=1) * np.mean(y, axis=1)\n",
    "cov_bias * n / (n-1)"
   ]
  },
  {
   "cell_type": "code",
   "execution_count": 13,
   "metadata": {},
   "outputs": [
    {
     "ename": "TypeError",
     "evalue": "'tuple' object cannot be interpreted as an integer",
     "output_type": "error",
     "traceback": [
      "\u001b[0;31m---------------------------------------------------------------------------\u001b[0m",
      "\u001b[0;31mTypeError\u001b[0m                                 Traceback (most recent call last)",
      "\u001b[0;32m<ipython-input-13-c3b3f9641163>\u001b[0m in \u001b[0;36m<module>\u001b[0;34m\u001b[0m\n\u001b[1;32m      1\u001b[0m \u001b[0ms\u001b[0m \u001b[0;34m=\u001b[0m \u001b[0mnp\u001b[0m\u001b[0;34m.\u001b[0m\u001b[0mempty\u001b[0m\u001b[0;34m(\u001b[0m\u001b[0;34m(\u001b[0m\u001b[0mX_vec\u001b[0m\u001b[0;34m.\u001b[0m\u001b[0mshape\u001b[0m\u001b[0;34m[\u001b[0m\u001b[0;36m0\u001b[0m\u001b[0;34m]\u001b[0m\u001b[0;34m,\u001b[0m \u001b[0;36m1\u001b[0m\u001b[0;34m)\u001b[0m\u001b[0;34m)\u001b[0m\u001b[0;34m\u001b[0m\u001b[0;34m\u001b[0m\u001b[0m\n\u001b[0;32m----> 2\u001b[0;31m \u001b[0;32mfor\u001b[0m \u001b[0mi\u001b[0m \u001b[0;32min\u001b[0m \u001b[0mrange\u001b[0m\u001b[0;34m(\u001b[0m\u001b[0mX_vec\u001b[0m\u001b[0;34m.\u001b[0m\u001b[0mshape\u001b[0m\u001b[0;34m)\u001b[0m\u001b[0;34m:\u001b[0m\u001b[0;34m\u001b[0m\u001b[0;34m\u001b[0m\u001b[0m\n\u001b[0m\u001b[1;32m      3\u001b[0m     \u001b[0mprint\u001b[0m\u001b[0;34m(\u001b[0m\u001b[0mnp\u001b[0m\u001b[0;34m.\u001b[0m\u001b[0mcov\u001b[0m\u001b[0;34m(\u001b[0m\u001b[0mX_vec\u001b[0m\u001b[0;34m[\u001b[0m\u001b[0mi\u001b[0m\u001b[0;34m]\u001b[0m\u001b[0;34m)\u001b[0m\u001b[0;34m)\u001b[0m\u001b[0;34m\u001b[0m\u001b[0;34m\u001b[0m\u001b[0m\n",
      "\u001b[0;31mTypeError\u001b[0m: 'tuple' object cannot be interpreted as an integer"
     ]
    }
   ],
   "source": [
    "s = np.empty((X_vec.shape[0], 1))\n",
    "for i in range(X_vec.shape[]):\n",
    "    print(np.cov(X_vec[i]))"
   ]
  },
  {
   "cell_type": "code",
   "execution_count": 10,
   "metadata": {},
   "outputs": [],
   "source": [
    "res1_1 = np.cov(X_vec.T)"
   ]
  },
  {
   "cell_type": "code",
   "execution_count": 11,
   "metadata": {},
   "outputs": [
    {
     "data": {
      "text/plain": [
       "<matplotlib.image.AxesImage at 0x7f8fff516290>"
      ]
     },
     "execution_count": 11,
     "metadata": {},
     "output_type": "execute_result"
    },
    {
     "data": {
      "image/png": "[encoded data removed]",
      "text/plain": [
       "<Figure size 288x288 with 1 Axes>"
      ]
     },
     "metadata": {
      "needs_background": "light"
     },
     "output_type": "display_data"
    }
   ],
   "source": [
    "plt.matshow(res1_1)"
   ]
  },
  {
   "cell_type": "code",
   "execution_count": 12,
   "metadata": {},
   "outputs": [
    {
     "data": {
      "text/plain": [
       "<matplotlib.image.AxesImage at 0x7f8ffd1ba250>"
      ]
     },
     "execution_count": 12,
     "metadata": {},
     "output_type": "execute_result"
    },
    {
     "data": {
      "image/png": "[encoded data removed]",
      "text/plain": [
       "<Figure size 432x288 with 1 Axes>"
      ]
     },
     "metadata": {
      "needs_background": "light"
     },
     "output_type": "display_data"
    }
   ],
   "source": [
    "plt.imshow(res1_1,cmap='hot')"
   ]
  },
  {
   "cell_type": "code",
   "execution_count": 13,
   "metadata": {},
   "outputs": [],
   "source": [
    "def my_mean(matrix):\n",
    "    \"\"\"\n",
    "    Calculates mean values in a matrix\n",
    "    Parameters:\n",
    "      matrix: N-by-D data matrix\n",
    "    Returns:\n",
    "      mu: D-by-1 column vector of sample mean values, where mu(i) = mean(matrix(:,i)).\n",
    "    \"\"\"\n",
    "    \n",
    "    # Check if the matrix is not empty to make sure we do not divide by 0.\n",
    "    if matrix.shape[0] == 0:\n",
    "        s = 1\n",
    "    else: \n",
    "        s = matrix.shape[0]\n",
    "    \n",
    "    # Compute sample mean vector\n",
    "    mu = (np.sum(matrix, axis=0) / s).T \n",
    "\n",
    "    return mu"
   ]
  },
  {
   "cell_type": "code",
   "execution_count": 14,
   "metadata": {},
   "outputs": [
    {
     "data": {
      "text/plain": [
       "array([-9.74023093e-01, -8.23533833e-01, -4.52956670e-01, -1.52934802e-01,\n",
       "       -1.13522768e-01, -6.70683332e-02, -7.01563139e-02, -7.87939721e-02,\n",
       "       -3.39201905e-02, -3.41943458e-02, -6.79849815e-02, -3.06505621e-02,\n",
       "       -6.81939029e-04, -5.15607191e-02, -7.30336627e-02, -3.58473314e-02,\n",
       "       -1.59155014e-02, -3.17948169e-02, -4.57046675e-02, -4.37078192e-02,\n",
       "       -1.10627371e-02,  7.34052998e-03, -2.26644598e-02, -5.04837882e-02])"
      ]
     },
     "execution_count": 14,
     "metadata": {},
     "output_type": "execute_result"
    }
   ],
   "source": [
    "my_mean(X_vec)"
   ]
  },
  {
   "cell_type": "code",
   "execution_count": 15,
   "metadata": {},
   "outputs": [
    {
     "data": {
      "text/plain": [
       "array([-9.74023093e-01, -8.23533833e-01, -4.52956670e-01, -1.52934802e-01,\n",
       "       -1.13522768e-01, -6.70683332e-02, -7.01563139e-02, -7.87939721e-02,\n",
       "       -3.39201905e-02, -3.41943458e-02, -6.79849815e-02, -3.06505621e-02,\n",
       "       -6.81939029e-04, -5.15607191e-02, -7.30336627e-02, -3.58473314e-02,\n",
       "       -1.59155014e-02, -3.17948169e-02, -4.57046675e-02, -4.37078192e-02,\n",
       "       -1.10627371e-02,  7.34052998e-03, -2.26644598e-02, -5.04837882e-02])"
      ]
     },
     "execution_count": 15,
     "metadata": {},
     "output_type": "execute_result"
    }
   ],
   "source": [
    "np.mean(X_vec, axis=0)"
   ]
  },
  {
   "cell_type": "code",
   "execution_count": 16,
   "metadata": {},
   "outputs": [],
   "source": [
    "def my_cov(X):\n",
    "    \"\"\"\n",
    "    Calculates covariance of a NxD matrix.\n",
    "    Parameters:\n",
    "      matrix: N-by-D data matrix\n",
    "    Returns:\n",
    "      cov: D-by-D covariance matrix.\n",
    "    \"\"\"\n",
    "    X_mean = my_mean(X)\n",
    "    X_shifted = X - X_mean\n",
    "    # Using Maximum Likelihood Estimation so divide by N\n",
    "    cov = np.matmul(X_shifted.T, X_shifted) / X.shape[0]\n",
    "    return cov"
   ]
  },
  {
   "cell_type": "code",
   "execution_count": 17,
   "metadata": {},
   "outputs": [
    {
     "data": {
      "text/plain": [
       "array([[-2.77669412e-06,  1.02848364e-06,  1.38903481e-06,\n",
       "         7.03346308e-07,  3.61843130e-07,  2.14442084e-07,\n",
       "         2.97231537e-07,  9.08831823e-07,  1.13760600e-06,\n",
       "         5.20022532e-07,  2.94411815e-07,  1.01835974e-06,\n",
       "         1.13870462e-06,  4.60191770e-07,  6.30334265e-07,\n",
       "         1.08002129e-06,  6.40817979e-07,  2.00088446e-07,\n",
       "         5.23196436e-07,  7.74899896e-07,  7.29820753e-07,\n",
       "         6.90019746e-07,  6.38683500e-07,  4.57870875e-07],\n",
       "       [ 1.02848364e-06, -5.39628171e-06, -6.33371445e-06,\n",
       "        -2.70745488e-06, -1.33887132e-06, -1.19548976e-06,\n",
       "        -1.81098432e-06, -1.97454893e-06, -8.99026707e-07,\n",
       "        -3.88267816e-07, -9.25014382e-07, -1.07054127e-06,\n",
       "        -4.91229834e-07, -5.83273228e-07, -1.17676938e-06,\n",
       "        -1.11360177e-06, -7.76119664e-07, -7.70019341e-07,\n",
       "        -1.00986932e-06, -1.10887638e-06, -4.84564481e-07,\n",
       "        -9.80968431e-08, -6.37917580e-07, -1.00922336e-06],\n",
       "       [ 1.38903481e-06, -6.33371445e-06, -9.26306465e-06,\n",
       "        -4.54294102e-06, -2.38610950e-06, -2.34157872e-06,\n",
       "        -3.11591423e-06, -2.76660273e-06, -1.02963440e-06,\n",
       "        -5.04360627e-07, -1.55919083e-06, -1.82091934e-06,\n",
       "        -9.30683237e-07, -9.72094654e-07, -1.74774500e-06,\n",
       "        -1.65643694e-06, -1.16146647e-06, -1.12886490e-06,\n",
       "        -1.55275926e-06, -1.72842361e-06, -6.19147151e-07,\n",
       "         1.08275410e-07, -7.52296406e-07, -1.45612512e-06],\n",
       "       [ 7.03346308e-07, -2.70745488e-06, -4.54294102e-06,\n",
       "        -3.43940576e-06, -2.45475102e-06, -1.82551224e-06,\n",
       "        -1.70281773e-06, -1.55577452e-06, -1.05536529e-06,\n",
       "        -6.39335193e-07, -7.93171697e-07, -1.07583849e-06,\n",
       "        -6.77050232e-07, -1.87460840e-07, -5.58249145e-07,\n",
       "        -9.87820233e-07, -8.06447201e-07, -6.04580334e-07,\n",
       "        -8.07196617e-07, -8.49662284e-07, -3.11154743e-07,\n",
       "        -2.75205490e-08, -3.72551917e-07, -6.37142626e-07],\n",
       "       [ 3.61843130e-07, -1.33887132e-06, -2.38610950e-06,\n",
       "        -2.45475102e-06, -3.65399831e-06, -2.92393180e-06,\n",
       "        -1.72495345e-06, -7.77078742e-07, -2.74280581e-07,\n",
       "        -4.13662336e-07, -6.13971755e-07, -2.75415989e-07,\n",
       "        -1.12660351e-07, -4.16352320e-07, -7.00062752e-07,\n",
       "        -6.44062062e-07, -4.10977114e-07, -4.02295520e-07,\n",
       "        -6.91380098e-07, -6.86023184e-07, -5.94598076e-08,\n",
       "         2.30438397e-07, -2.20753965e-07, -6.02862801e-07],\n",
       "       [ 2.14442084e-07, -1.19548976e-06, -2.34157872e-06,\n",
       "        -1.82551224e-06, -2.92393180e-06, -3.19360383e-06,\n",
       "        -2.50573615e-06, -1.04987573e-06, -7.08205461e-09,\n",
       "        -1.80485356e-07, -6.33128961e-07, -3.50660458e-07,\n",
       "        -2.61532553e-07, -6.86049529e-07, -8.19625400e-07,\n",
       "        -5.76641101e-07, -4.36741783e-07, -5.19661345e-07,\n",
       "        -7.78690004e-07, -8.04045214e-07, -1.32871786e-07,\n",
       "         2.56885328e-07, -2.46243714e-07, -7.01328065e-07],\n",
       "       [ 2.97231537e-07, -1.81098432e-06, -3.11591423e-06,\n",
       "        -1.70281773e-06, -1.72495345e-06, -2.50573615e-06,\n",
       "        -3.06769699e-06, -1.88770877e-06, -2.74358946e-07,\n",
       "        -1.35003428e-07, -6.93822844e-07, -5.94409345e-07,\n",
       "        -4.75690376e-07, -7.77816403e-07, -8.39557443e-07,\n",
       "        -6.16988162e-07, -5.97867835e-07, -7.19256573e-07,\n",
       "        -9.09302833e-07, -9.51040809e-07, -3.22328972e-07,\n",
       "         8.61146228e-08, -3.44072616e-07, -7.06262975e-07],\n",
       "       [ 9.08831823e-07, -1.97454893e-06, -2.76660273e-06,\n",
       "        -1.55577452e-06, -7.77078742e-07, -1.04987573e-06,\n",
       "        -1.88770877e-06, -2.98030468e-06, -2.81172503e-06,\n",
       "        -1.28129128e-06, -6.58507424e-07, -1.68789364e-06,\n",
       "        -1.73570136e-06, -4.58306634e-07, -5.64872391e-07,\n",
       "        -1.59864623e-06, -1.55538537e-06, -1.02385902e-06,\n",
       "        -1.14176425e-06, -1.26404857e-06, -9.57011981e-07,\n",
       "        -8.58222337e-07, -9.93304751e-07, -8.29820958e-07],\n",
       "       [ 1.13760600e-06, -8.99026707e-07, -1.02963440e-06,\n",
       "        -1.05536529e-06, -2.74280581e-07, -7.08205461e-09,\n",
       "        -2.74358946e-07, -2.81172503e-06, -4.65998743e-06,\n",
       "        -2.55877000e-06, -5.97415770e-07, -2.37020107e-06,\n",
       "        -2.85310339e-06, -1.93802969e-07, -8.86987993e-08,\n",
       "        -2.23985549e-06, -2.24464458e-06, -1.05564288e-06,\n",
       "        -1.06984384e-06, -1.24999103e-06, -1.29638008e-06,\n",
       "        -1.54931344e-06, -1.44761975e-06, -8.69628771e-07],\n",
       "       [ 5.20022532e-07, -3.88267816e-07, -5.04360627e-07,\n",
       "        -6.39335193e-07, -4.13662336e-07, -1.80485356e-07,\n",
       "        -1.35003428e-07, -1.28129128e-06, -2.55877000e-06,\n",
       "        -2.06950730e-06, -8.92892423e-07, -1.29650060e-06,\n",
       "        -1.56904725e-06, -3.68207145e-07, -2.21628900e-07,\n",
       "        -1.25235933e-06, -1.25411643e-06, -5.83218121e-07,\n",
       "        -5.97773809e-07, -7.34472414e-07, -6.91816540e-07,\n",
       "        -7.96569860e-07, -8.70401448e-07, -6.56096474e-07],\n",
       "       [ 2.94411815e-07, -9.25014382e-07, -1.55919083e-06,\n",
       "        -7.93171697e-07, -6.13971755e-07, -6.33128961e-07,\n",
       "        -6.93822844e-07, -6.58507424e-07, -5.97415770e-07,\n",
       "        -8.92892423e-07, -1.19281514e-06, -9.57885934e-07,\n",
       "        -5.44248867e-07, -4.56776402e-07, -6.03882438e-07,\n",
       "        -6.43563544e-07, -5.10551209e-07, -3.63349757e-07,\n",
       "        -4.22567768e-07, -5.33086670e-07, -2.90003996e-07,\n",
       "        -1.06360431e-07, -3.47789459e-07, -5.29271562e-07],\n",
       "       [ 1.01835974e-06, -1.07054127e-06, -1.82091934e-06,\n",
       "        -1.07583849e-06, -2.75415989e-07, -3.50660458e-07,\n",
       "        -5.94409345e-07, -1.68789364e-06, -2.37020107e-06,\n",
       "        -1.29650060e-06, -9.57885934e-07, -2.61398206e-06,\n",
       "        -2.66656251e-06, -5.25762834e-07, -3.53182913e-07,\n",
       "        -1.76145611e-06, -1.75545657e-06, -8.84949427e-07,\n",
       "        -8.58175795e-07, -1.04221865e-06, -9.79369543e-07,\n",
       "        -9.71654936e-07, -9.80195987e-07, -7.86404977e-07],\n",
       "       [ 1.13870462e-06, -4.91229834e-07, -9.30683237e-07,\n",
       "        -6.77050232e-07, -1.12660351e-07, -2.61532553e-07,\n",
       "        -4.75690376e-07, -1.73570136e-06, -2.85310339e-06,\n",
       "        -1.56904725e-06, -5.44248867e-07, -2.66656251e-06,\n",
       "        -3.66948637e-06, -1.08310906e-06, -2.83692151e-07,\n",
       "        -1.95748605e-06, -2.12551390e-06, -1.05536926e-06,\n",
       "        -1.04698635e-06, -1.21084886e-06, -1.15352387e-06,\n",
       "        -1.28450814e-06, -1.30300467e-06, -9.48993575e-07],\n",
       "       [ 4.60191770e-07, -5.83273228e-07, -9.72094654e-07,\n",
       "        -1.87460840e-07, -4.16352320e-07, -6.86049529e-07,\n",
       "        -7.77816403e-07, -4.58306634e-07, -1.93802969e-07,\n",
       "        -3.68207145e-07, -4.56776402e-07, -5.25762834e-07,\n",
       "        -1.08310906e-06, -1.50046934e-06, -1.21765286e-06,\n",
       "        -7.12627373e-07, -4.11165607e-07, -3.92119843e-07,\n",
       "        -6.98070642e-07, -8.11863351e-07, -3.32395709e-07,\n",
       "        -4.69357830e-08, -4.67313521e-07, -7.56976981e-07],\n",
       "       [ 6.30334265e-07, -1.17676938e-06, -1.74774500e-06,\n",
       "        -5.58249145e-07, -7.00062752e-07, -8.19625400e-07,\n",
       "        -8.39557443e-07, -5.64872391e-07, -8.86987993e-08,\n",
       "        -2.21628900e-07, -6.03882438e-07, -3.53182913e-07,\n",
       "        -2.83692151e-07, -1.21765286e-06, -1.77100226e-06,\n",
       "        -1.08371632e-06, -2.81092419e-07, -2.63047533e-07,\n",
       "        -7.24627925e-07, -9.69934695e-07, -4.34671919e-07,\n",
       "         5.98874857e-08, -3.32483894e-07, -7.75459456e-07],\n",
       "       [ 1.08002129e-06, -1.11360177e-06, -1.65643694e-06,\n",
       "        -9.87820233e-07, -6.44062062e-07, -5.76641101e-07,\n",
       "        -6.16988162e-07, -1.59864623e-06, -2.23985549e-06,\n",
       "        -1.25235933e-06, -6.43563544e-07, -1.76145611e-06,\n",
       "        -1.95748605e-06, -7.12627373e-07, -1.08371632e-06,\n",
       "        -2.26082956e-06, -1.80295556e-06, -8.58874136e-07,\n",
       "        -1.02561722e-06, -1.31578409e-06, -1.13608214e-06,\n",
       "        -9.81891891e-07, -1.00869456e-06, -9.03746512e-07],\n",
       "       [ 6.40817979e-07, -7.76119664e-07, -1.16146647e-06,\n",
       "        -8.06447201e-07, -4.10977114e-07, -4.36741783e-07,\n",
       "        -5.97867835e-07, -1.55538537e-06, -2.24464458e-06,\n",
       "        -1.25411643e-06, -5.10551209e-07, -1.75545657e-06,\n",
       "        -2.12551390e-06, -4.11165607e-07, -2.81092419e-07,\n",
       "        -1.80295556e-06, -2.02898995e-06, -1.16942235e-06,\n",
       "        -9.84093214e-07, -1.01804514e-06, -9.38092696e-07,\n",
       "        -1.04183393e-06, -1.05267849e-06, -7.53923463e-07],\n",
       "       [ 2.00088446e-07, -7.70019341e-07, -1.12886490e-06,\n",
       "        -6.04580334e-07, -4.02295520e-07, -5.19661345e-07,\n",
       "        -7.19256573e-07, -1.02385902e-06, -1.05564288e-06,\n",
       "        -5.83218121e-07, -3.63349757e-07, -8.84949427e-07,\n",
       "        -1.05536926e-06, -3.92119843e-07, -2.63047533e-07,\n",
       "        -8.58874136e-07, -1.16942235e-06, -1.02408613e-06,\n",
       "        -8.99736908e-07, -7.16902207e-07, -4.12960340e-07,\n",
       "        -4.14460197e-07, -6.40110365e-07, -5.93624891e-07],\n",
       "       [ 5.23196436e-07, -1.00986932e-06, -1.55275926e-06,\n",
       "        -8.07196617e-07, -6.91380098e-07, -7.78690004e-07,\n",
       "        -9.09302833e-07, -1.14176425e-06, -1.06984384e-06,\n",
       "        -5.97773809e-07, -4.22567768e-07, -8.58175795e-07,\n",
       "        -1.04698635e-06, -6.98070642e-07, -7.24627925e-07,\n",
       "        -1.02561722e-06, -9.84093214e-07, -8.99736908e-07,\n",
       "        -1.11795993e-06, -1.06155587e-06, -5.39939252e-07,\n",
       "        -3.31377733e-07, -6.51279451e-07, -7.71372325e-07],\n",
       "       [ 7.74899896e-07, -1.10887638e-06, -1.72842361e-06,\n",
       "        -8.49662284e-07, -6.86023184e-07, -8.04045214e-07,\n",
       "        -9.51040809e-07, -1.26404857e-06, -1.24999103e-06,\n",
       "        -7.34472414e-07, -5.33086670e-07, -1.04221865e-06,\n",
       "        -1.21084886e-06, -8.11863351e-07, -9.69934695e-07,\n",
       "        -1.31578409e-06, -1.01804514e-06, -7.16902207e-07,\n",
       "        -1.06155587e-06, -1.26482003e-06, -8.10655489e-07,\n",
       "        -4.69210097e-07, -6.87666142e-07, -8.32986581e-07],\n",
       "       [ 7.29820753e-07, -4.84564481e-07, -6.19147151e-07,\n",
       "        -3.11154743e-07, -5.94598076e-08, -1.32871786e-07,\n",
       "        -3.22328972e-07, -9.57011981e-07, -1.29638008e-06,\n",
       "        -6.91816540e-07, -2.90003996e-07, -9.79369543e-07,\n",
       "        -1.15352387e-06, -3.32395709e-07, -4.34671919e-07,\n",
       "        -1.13608214e-06, -9.38092696e-07, -4.12960340e-07,\n",
       "        -5.39939252e-07, -8.10655489e-07, -8.65689587e-07,\n",
       "        -7.59084136e-07, -5.90884347e-07, -4.37635777e-07],\n",
       "       [ 6.90019746e-07, -9.80968431e-08,  1.08275410e-07,\n",
       "        -2.75205490e-08,  2.30438397e-07,  2.56885328e-07,\n",
       "         8.61146228e-08, -8.58222337e-07, -1.54931344e-06,\n",
       "        -7.96569860e-07, -1.06360431e-07, -9.71654936e-07,\n",
       "        -1.28450814e-06, -4.69357830e-08,  5.98874857e-08,\n",
       "        -9.81891891e-07, -1.04183393e-06, -4.14460197e-07,\n",
       "        -3.31377733e-07, -4.69210097e-07, -7.59084136e-07,\n",
       "        -1.02008853e-06, -7.68159368e-07, -2.81686902e-07],\n",
       "       [ 6.38683500e-07, -6.37917580e-07, -7.52296406e-07,\n",
       "        -3.72551917e-07, -2.20753965e-07, -2.46243714e-07,\n",
       "        -3.44072616e-07, -9.93304751e-07, -1.44761975e-06,\n",
       "        -8.70401448e-07, -3.47789459e-07, -9.80195987e-07,\n",
       "        -1.30300467e-06, -4.67313521e-07, -3.32483894e-07,\n",
       "        -1.00869456e-06, -1.05267849e-06, -6.40110365e-07,\n",
       "        -6.51279451e-07, -6.87666142e-07, -5.90884347e-07,\n",
       "        -7.68159368e-07, -9.79066563e-07, -7.07629346e-07],\n",
       "       [ 4.57870875e-07, -1.00922336e-06, -1.45612512e-06,\n",
       "        -6.37142626e-07, -6.02862801e-07, -7.01328065e-07,\n",
       "        -7.06262975e-07, -8.29820958e-07, -8.69628771e-07,\n",
       "        -6.56096474e-07, -5.29271562e-07, -7.86404977e-07,\n",
       "        -9.48993575e-07, -7.56976981e-07, -7.75459456e-07,\n",
       "        -9.03746512e-07, -7.53923463e-07, -5.93624891e-07,\n",
       "        -7.71372325e-07, -8.32986581e-07, -4.37635777e-07,\n",
       "        -2.81686902e-07, -7.07629346e-07, -9.03863432e-07]])"
      ]
     },
     "execution_count": 17,
     "metadata": {},
     "output_type": "execute_result"
    }
   ],
   "source": [
    "my_cov(X_vec) - np.cov(X_vec.T)"
   ]
  },
  {
   "cell_type": "code",
   "execution_count": 18,
   "metadata": {},
   "outputs": [],
   "source": [
    "res1_1_2 = np.corrcoef(X_vec.T)"
   ]
  },
  {
   "cell_type": "code",
   "execution_count": 19,
   "metadata": {},
   "outputs": [],
   "source": [
    "def my_corr(X):\n",
    "    c = my_cov(X)\n",
    "    try:\n",
    "        d = np.diag(c)\n",
    "    except ValueError:\n",
    "        # scalar covariance\n",
    "        # nan if incorrect value (nan, inf, 0), 1 otherwise\n",
    "        return c / c\n",
    "    stddev = np.sqrt(d.real)\n",
    "    print(stddev)\n",
    "    print(stddev[None, :])\n",
    "    c /= stddev[:, None]\n",
    "    c /= stddev[None, :]\n",
    "\n",
    "    # Clip real and imaginary parts to [-1, 1].  This does not guarantee\n",
    "    # abs(a[i,j]) <= 1 for complex arrays, but is the best we can do without\n",
    "    # excessive work.\n",
    "    np.clip(c.real, -1, 1, out=c.real)\n",
    "    if np.iscomplexobj(c):\n",
    "        np.clip(c.imag, -1, 1, out=c.imag)\n",
    "\n",
    "    return c"
   ]
  },
  {
   "cell_type": "code",
   "execution_count": 20,
   "metadata": {},
   "outputs": [
    {
     "name": "stdout",
     "output_type": "stream",
     "text": [
      "[0.10869606 0.15152946 0.19853045 0.12097385 0.12469067 0.11657094\n",
      " 0.11424995 0.11261082 0.14081281 0.09383898 0.07124204 0.10546323\n",
      " 0.12495465 0.07990305 0.08680792 0.09808073 0.09291583 0.06601126\n",
      " 0.06897042 0.07336082 0.06069192 0.06588229 0.064544   0.06201563]\n",
      "[[0.10869606 0.15152946 0.19853045 0.12097385 0.12469067 0.11657094\n",
      "  0.11424995 0.11261082 0.14081281 0.09383898 0.07124204 0.10546323\n",
      "  0.12495465 0.07990305 0.08680792 0.09808073 0.09291583 0.06601126\n",
      "  0.06897042 0.07336082 0.06069192 0.06588229 0.064544   0.06201563]]\n"
     ]
    },
    {
     "data": {
      "text/plain": [
       "array([[-1.11022302e-16,  5.55111512e-17,  5.55111512e-17,\n",
       "         0.00000000e+00,  0.00000000e+00,  0.00000000e+00,\n",
       "         1.38777878e-17,  5.55111512e-17,  5.55111512e-17,\n",
       "         5.55111512e-17,  8.32667268e-17,  0.00000000e+00,\n",
       "         5.55111512e-17,  8.32667268e-17,  5.55111512e-17,\n",
       "         5.55111512e-17,  5.55111512e-17,  2.77555756e-17,\n",
       "         0.00000000e+00,  5.55111512e-17,  1.11022302e-16,\n",
       "         0.00000000e+00, -5.55111512e-17,  1.11022302e-16],\n",
       "       [ 0.00000000e+00,  2.22044605e-16,  1.11022302e-16,\n",
       "         1.11022302e-16,  0.00000000e+00,  0.00000000e+00,\n",
       "         0.00000000e+00, -5.55111512e-17,  0.00000000e+00,\n",
       "         1.38777878e-17, -1.11022302e-16,  0.00000000e+00,\n",
       "         0.00000000e+00,  2.77555756e-17,  5.55111512e-17,\n",
       "         5.55111512e-17,  0.00000000e+00, -5.55111512e-17,\n",
       "         0.00000000e+00,  0.00000000e+00,  0.00000000e+00,\n",
       "         0.00000000e+00,  0.00000000e+00,  0.00000000e+00],\n",
       "       [ 0.00000000e+00,  1.11022302e-16,  0.00000000e+00,\n",
       "         1.11022302e-16, -5.55111512e-17,  0.00000000e+00,\n",
       "        -1.11022302e-16, -1.11022302e-16,  2.77555756e-17,\n",
       "         1.38777878e-17, -5.55111512e-17,  0.00000000e+00,\n",
       "        -2.77555756e-17,  0.00000000e+00, -1.11022302e-16,\n",
       "         5.55111512e-17,  0.00000000e+00, -5.55111512e-17,\n",
       "         0.00000000e+00,  1.11022302e-16, -5.55111512e-17,\n",
       "         6.93889390e-18,  2.77555756e-17, -1.11022302e-16],\n",
       "       [ 0.00000000e+00,  2.22044605e-16,  1.11022302e-16,\n",
       "         0.00000000e+00,  1.11022302e-16,  0.00000000e+00,\n",
       "         1.11022302e-16, -5.55111512e-17,  0.00000000e+00,\n",
       "         0.00000000e+00, -5.55111512e-17,  0.00000000e+00,\n",
       "         0.00000000e+00,  0.00000000e+00,  2.77555756e-17,\n",
       "         0.00000000e+00,  5.55111512e-17,  0.00000000e+00,\n",
       "         5.55111512e-17,  0.00000000e+00, -2.77555756e-17,\n",
       "         1.73472348e-18,  2.77555756e-17,  0.00000000e+00],\n",
       "       [ 1.38777878e-17,  0.00000000e+00,  0.00000000e+00,\n",
       "         0.00000000e+00,  0.00000000e+00,  0.00000000e+00,\n",
       "         0.00000000e+00, -2.77555756e-17,  0.00000000e+00,\n",
       "        -2.77555756e-17,  0.00000000e+00,  2.77555756e-17,\n",
       "         0.00000000e+00, -2.77555756e-17, -5.55111512e-17,\n",
       "         0.00000000e+00,  0.00000000e+00,  0.00000000e+00,\n",
       "         5.55111512e-17,  0.00000000e+00,  0.00000000e+00,\n",
       "         0.00000000e+00,  2.77555756e-17,  0.00000000e+00],\n",
       "       [ 0.00000000e+00,  0.00000000e+00,  5.55111512e-17,\n",
       "         1.11022302e-16,  0.00000000e+00,  0.00000000e+00,\n",
       "         2.22044605e-16, -5.55111512e-17,  0.00000000e+00,\n",
       "         0.00000000e+00, -5.55111512e-17,  0.00000000e+00,\n",
       "         1.38777878e-17, -5.55111512e-17,  0.00000000e+00,\n",
       "         0.00000000e+00,  0.00000000e+00, -5.55111512e-17,\n",
       "         5.55111512e-17,  0.00000000e+00,  1.38777878e-17,\n",
       "         0.00000000e+00,  2.77555756e-17,  5.55111512e-17],\n",
       "       [ 0.00000000e+00,  0.00000000e+00,  0.00000000e+00,\n",
       "         2.22044605e-16,  2.22044605e-16,  1.11022302e-16,\n",
       "         0.00000000e+00,  0.00000000e+00,  1.38777878e-17,\n",
       "         6.93889390e-18, -5.55111512e-17,  2.77555756e-17,\n",
       "         2.77555756e-17,  5.55111512e-17,  0.00000000e+00,\n",
       "         5.55111512e-17,  2.77555756e-17,  0.00000000e+00,\n",
       "         1.66533454e-16,  5.55111512e-17,  2.77555756e-17,\n",
       "        -6.93889390e-18,  5.55111512e-17, -5.55111512e-17],\n",
       "       [ 5.55111512e-17,  0.00000000e+00,  0.00000000e+00,\n",
       "         0.00000000e+00, -2.77555756e-17, -5.55111512e-17,\n",
       "         0.00000000e+00, -1.11022302e-16, -1.11022302e-16,\n",
       "         0.00000000e+00,  0.00000000e+00, -1.11022302e-16,\n",
       "         0.00000000e+00, -2.77555756e-17, -2.77555756e-17,\n",
       "         0.00000000e+00,  0.00000000e+00, -1.11022302e-16,\n",
       "         0.00000000e+00, -1.11022302e-16, -2.22044605e-16,\n",
       "         0.00000000e+00,  0.00000000e+00, -1.11022302e-16],\n",
       "       [ 1.11022302e-16, -2.77555756e-17,  2.77555756e-17,\n",
       "         0.00000000e+00, -1.38777878e-17,  0.00000000e+00,\n",
       "         0.00000000e+00, -1.11022302e-16,  0.00000000e+00,\n",
       "        -1.11022302e-16,  0.00000000e+00,  1.11022302e-16,\n",
       "        -1.11022302e-16, -1.38777878e-17,  0.00000000e+00,\n",
       "         1.11022302e-16,  0.00000000e+00, -1.11022302e-16,\n",
       "        -5.55111512e-17,  0.00000000e+00, -1.11022302e-16,\n",
       "         1.11022302e-16,  1.11022302e-16, -5.55111512e-17],\n",
       "       [ 5.55111512e-17,  1.38777878e-17,  0.00000000e+00,\n",
       "         0.00000000e+00, -2.77555756e-17, -1.38777878e-17,\n",
       "         6.93889390e-18,  0.00000000e+00,  0.00000000e+00,\n",
       "         0.00000000e+00, -1.11022302e-16,  0.00000000e+00,\n",
       "        -1.11022302e-16,  0.00000000e+00, -1.38777878e-17,\n",
       "         0.00000000e+00,  1.11022302e-16,  0.00000000e+00,\n",
       "         0.00000000e+00,  5.55111512e-17, -1.11022302e-16,\n",
       "         0.00000000e+00,  2.22044605e-16,  0.00000000e+00],\n",
       "       [ 5.55111512e-17, -5.55111512e-17, -1.11022302e-16,\n",
       "        -5.55111512e-17, -5.55111512e-17, -5.55111512e-17,\n",
       "        -5.55111512e-17, -5.55111512e-17,  0.00000000e+00,\n",
       "        -1.11022302e-16, -2.22044605e-16,  0.00000000e+00,\n",
       "        -5.55111512e-17,  0.00000000e+00, -1.11022302e-16,\n",
       "         0.00000000e+00, -5.55111512e-17, -1.11022302e-16,\n",
       "        -5.55111512e-17, -1.11022302e-16, -1.11022302e-16,\n",
       "         0.00000000e+00,  0.00000000e+00,  0.00000000e+00],\n",
       "       [ 5.55111512e-17,  0.00000000e+00,  0.00000000e+00,\n",
       "         0.00000000e+00,  0.00000000e+00,  1.38777878e-17,\n",
       "         5.55111512e-17, -1.11022302e-16,  1.11022302e-16,\n",
       "         0.00000000e+00, -1.11022302e-16,  0.00000000e+00,\n",
       "         0.00000000e+00,  0.00000000e+00,  0.00000000e+00,\n",
       "         1.11022302e-16,  0.00000000e+00,  0.00000000e+00,\n",
       "         0.00000000e+00, -1.11022302e-16, -1.11022302e-16,\n",
       "         0.00000000e+00,  1.11022302e-16,  1.11022302e-16],\n",
       "       [ 5.55111512e-17,  0.00000000e+00, -2.77555756e-17,\n",
       "        -2.77555756e-17,  0.00000000e+00,  1.38777878e-17,\n",
       "         2.77555756e-17,  0.00000000e+00, -1.11022302e-16,\n",
       "        -1.11022302e-16, -5.55111512e-17, -1.11022302e-16,\n",
       "         1.11022302e-16, -1.11022302e-16,  0.00000000e+00,\n",
       "         0.00000000e+00, -1.11022302e-16, -1.11022302e-16,\n",
       "        -1.11022302e-16,  0.00000000e+00, -1.11022302e-16,\n",
       "        -1.11022302e-16,  1.11022302e-16,  0.00000000e+00],\n",
       "       [ 8.32667268e-17, -2.77555756e-17,  0.00000000e+00,\n",
       "         0.00000000e+00, -2.77555756e-17,  5.55111512e-17,\n",
       "         0.00000000e+00, -5.55111512e-17,  0.00000000e+00,\n",
       "        -2.77555756e-17, -5.55111512e-17,  0.00000000e+00,\n",
       "        -5.55111512e-17,  0.00000000e+00,  1.11022302e-16,\n",
       "         0.00000000e+00, -2.77555756e-17, -5.55111512e-17,\n",
       "         0.00000000e+00, -1.11022302e-16,  5.55111512e-17,\n",
       "         0.00000000e+00,  5.55111512e-17,  0.00000000e+00],\n",
       "       [ 5.55111512e-17, -5.55111512e-17, -1.11022302e-16,\n",
       "         2.77555756e-17,  0.00000000e+00,  5.55111512e-17,\n",
       "         0.00000000e+00, -5.55111512e-17, -3.46944695e-18,\n",
       "         0.00000000e+00, -5.55111512e-17,  0.00000000e+00,\n",
       "        -1.38777878e-17,  0.00000000e+00,  0.00000000e+00,\n",
       "         0.00000000e+00, -5.55111512e-17, -2.77555756e-17,\n",
       "         0.00000000e+00,  0.00000000e+00,  0.00000000e+00,\n",
       "        -6.93889390e-18,  0.00000000e+00,  0.00000000e+00],\n",
       "       [ 1.11022302e-16,  5.55111512e-17,  1.11022302e-16,\n",
       "         5.55111512e-17,  0.00000000e+00,  2.77555756e-17,\n",
       "         2.77555756e-17,  0.00000000e+00,  0.00000000e+00,\n",
       "         0.00000000e+00, -5.55111512e-17,  1.11022302e-16,\n",
       "         0.00000000e+00,  0.00000000e+00,  0.00000000e+00,\n",
       "         1.11022302e-16,  0.00000000e+00,  0.00000000e+00,\n",
       "         1.11022302e-16,  1.11022302e-16,  0.00000000e+00,\n",
       "         0.00000000e+00,  1.11022302e-16,  0.00000000e+00],\n",
       "       [ 5.55111512e-17, -5.55111512e-17,  0.00000000e+00,\n",
       "         0.00000000e+00,  0.00000000e+00,  0.00000000e+00,\n",
       "         2.77555756e-17,  0.00000000e+00,  0.00000000e+00,\n",
       "         1.11022302e-16, -5.55111512e-17, -1.11022302e-16,\n",
       "        -1.11022302e-16,  0.00000000e+00,  0.00000000e+00,\n",
       "         1.11022302e-16, -1.11022302e-16, -2.22044605e-16,\n",
       "         0.00000000e+00, -1.11022302e-16,  0.00000000e+00,\n",
       "         0.00000000e+00,  0.00000000e+00,  0.00000000e+00],\n",
       "       [ 2.77555756e-17,  0.00000000e+00, -1.11022302e-16,\n",
       "         5.55111512e-17, -2.77555756e-17, -5.55111512e-17,\n",
       "         5.55111512e-17, -1.11022302e-16, -5.55111512e-17,\n",
       "         0.00000000e+00, -1.11022302e-16,  0.00000000e+00,\n",
       "        -2.22044605e-16, -5.55111512e-17, -2.77555756e-17,\n",
       "         0.00000000e+00, -2.22044605e-16, -2.22044605e-16,\n",
       "         0.00000000e+00,  0.00000000e+00, -5.55111512e-17,\n",
       "        -5.55111512e-17,  0.00000000e+00,  0.00000000e+00],\n",
       "       [ 5.55111512e-17,  0.00000000e+00,  0.00000000e+00,\n",
       "         5.55111512e-17,  5.55111512e-17,  5.55111512e-17,\n",
       "         5.55111512e-17,  0.00000000e+00,  0.00000000e+00,\n",
       "         5.55111512e-17,  5.55111512e-17,  0.00000000e+00,\n",
       "        -1.11022302e-16,  0.00000000e+00,  0.00000000e+00,\n",
       "         1.11022302e-16, -1.11022302e-16,  0.00000000e+00,\n",
       "         0.00000000e+00,  1.11022302e-16, -1.11022302e-16,\n",
       "         0.00000000e+00,  1.11022302e-16,  0.00000000e+00],\n",
       "       [ 5.55111512e-17, -5.55111512e-17,  0.00000000e+00,\n",
       "         0.00000000e+00,  5.55111512e-17,  0.00000000e+00,\n",
       "         1.11022302e-16, -2.22044605e-16,  1.11022302e-16,\n",
       "        -5.55111512e-17, -5.55111512e-17, -1.11022302e-16,\n",
       "         1.11022302e-16,  0.00000000e+00,  0.00000000e+00,\n",
       "         1.11022302e-16, -1.11022302e-16, -1.11022302e-16,\n",
       "         1.11022302e-16,  0.00000000e+00,  0.00000000e+00,\n",
       "         5.55111512e-17,  1.11022302e-16,  0.00000000e+00],\n",
       "       [ 1.11022302e-16, -2.77555756e-17, -2.77555756e-17,\n",
       "        -2.77555756e-17,  0.00000000e+00,  0.00000000e+00,\n",
       "         0.00000000e+00, -1.11022302e-16, -1.11022302e-16,\n",
       "         0.00000000e+00, -5.55111512e-17,  0.00000000e+00,\n",
       "        -2.22044605e-16,  0.00000000e+00,  0.00000000e+00,\n",
       "         2.22044605e-16, -1.11022302e-16, -5.55111512e-17,\n",
       "        -1.11022302e-16,  0.00000000e+00,  0.00000000e+00,\n",
       "         0.00000000e+00,  1.11022302e-16, -5.55111512e-17],\n",
       "       [ 0.00000000e+00,  0.00000000e+00,  0.00000000e+00,\n",
       "         1.73472348e-18,  0.00000000e+00, -2.77555756e-17,\n",
       "         0.00000000e+00, -5.55111512e-17,  0.00000000e+00,\n",
       "         0.00000000e+00,  0.00000000e+00,  1.11022302e-16,\n",
       "        -1.11022302e-16, -6.93889390e-18, -6.93889390e-18,\n",
       "         1.11022302e-16,  1.11022302e-16, -5.55111512e-17,\n",
       "         0.00000000e+00,  0.00000000e+00,  1.11022302e-16,\n",
       "         2.22044605e-16,  1.11022302e-16,  0.00000000e+00],\n",
       "       [ 0.00000000e+00,  0.00000000e+00,  8.32667268e-17,\n",
       "         2.77555756e-17,  1.38777878e-17,  0.00000000e+00,\n",
       "         2.77555756e-17,  0.00000000e+00,  1.11022302e-16,\n",
       "         1.11022302e-16,  5.55111512e-17,  1.11022302e-16,\n",
       "         1.11022302e-16,  0.00000000e+00, -5.55111512e-17,\n",
       "         2.22044605e-16,  1.11022302e-16,  0.00000000e+00,\n",
       "         1.11022302e-16,  0.00000000e+00,  1.11022302e-16,\n",
       "         1.11022302e-16,  2.22044605e-16,  1.11022302e-16],\n",
       "       [ 5.55111512e-17,  5.55111512e-17, -1.11022302e-16,\n",
       "         5.55111512e-17, -5.55111512e-17,  0.00000000e+00,\n",
       "         5.55111512e-17, -1.11022302e-16,  0.00000000e+00,\n",
       "         0.00000000e+00,  1.11022302e-16,  0.00000000e+00,\n",
       "         1.11022302e-16,  0.00000000e+00, -1.11022302e-16,\n",
       "         0.00000000e+00,  0.00000000e+00, -1.11022302e-16,\n",
       "         1.11022302e-16,  0.00000000e+00,  0.00000000e+00,\n",
       "         0.00000000e+00,  1.11022302e-16,  0.00000000e+00]])"
      ]
     },
     "execution_count": 20,
     "metadata": {},
     "output_type": "execute_result"
    }
   ],
   "source": [
    "my_corr(X_vec) - res1_1_2"
   ]
  },
  {
   "cell_type": "code",
   "execution_count": 21,
   "metadata": {},
   "outputs": [
    {
     "name": "stdout",
     "output_type": "stream",
     "text": [
      "[0.10869606 0.15152946 0.19853045 0.12097385 0.12469067 0.11657094\n",
      " 0.11424995 0.11261082 0.14081281 0.09383898 0.07124204 0.10546323\n",
      " 0.12495465 0.07990305 0.08680792 0.09808073 0.09291583 0.06601126\n",
      " 0.06897042 0.07336082 0.06069192 0.06588229 0.064544   0.06201563]\n",
      "[[0.10869606 0.15152946 0.19853045 0.12097385 0.12469067 0.11657094\n",
      "  0.11424995 0.11261082 0.14081281 0.09383898 0.07124204 0.10546323\n",
      "  0.12495465 0.07990305 0.08680792 0.09808073 0.09291583 0.06601126\n",
      "  0.06897042 0.07336082 0.06069192 0.06588229 0.064544   0.06201563]]\n"
     ]
    },
    {
     "data": {
      "text/plain": [
       "array([[ 1.        , -0.26569664, -0.27388722, -0.2275954 , -0.11359838,\n",
       "        -0.0720121 , -0.10184146, -0.31592877, -0.3162536 , -0.21693252,\n",
       "        -0.16177248, -0.37799487, -0.35673394, -0.22545572, -0.28424795,\n",
       "        -0.43105668, -0.26997946, -0.11865601, -0.29695295, -0.4134921 ,\n",
       "        -0.47072915, -0.40999501, -0.38736071, -0.2890198 ],\n",
       "       [-0.26569664,  1.        ,  0.89584696,  0.62845215,  0.30151392,\n",
       "         0.28797715,  0.44510365,  0.4923685 ,  0.17928044,  0.11618515,\n",
       "         0.36459827,  0.28503934,  0.11039129,  0.20497985,  0.38065759,\n",
       "         0.3188223 ,  0.23455324,  0.3275564 ,  0.41115422,  0.42444504,\n",
       "         0.22419358,  0.04181083,  0.27753078,  0.45697093],\n",
       "       [-0.27388722,  0.89584696,  1.        ,  0.80485574,  0.41013691,\n",
       "         0.43051758,  0.58452342,  0.5265494 ,  0.15671599,  0.11519413,\n",
       "         0.46906751,  0.37005141,  0.15963272,  0.26074599,  0.4315103 ,\n",
       "         0.36196256,  0.26791028,  0.3665189 ,  0.48251816,  0.50496174,\n",
       "         0.21864293, -0.03522359,  0.24980753,  0.50323396],\n",
       "       [-0.2275954 ,  0.62845215,  0.80485574,  1.        ,  0.69243908,\n",
       "         0.55081089,  0.52422802,  0.48593101,  0.26361415,  0.23963675,\n",
       "         0.39159662,  0.35880135,  0.19057966,  0.08251925,  0.22619177,\n",
       "         0.35424383,  0.30527714,  0.32213956,  0.41164658,  0.40737115,\n",
       "         0.18032404,  0.01469253,  0.20302008,  0.36136289],\n",
       "       [-0.11359838,  0.30151392,  0.41013691,  0.69243908,  1.        ,\n",
       "         0.85593847,  0.51521319,  0.2354781 ,  0.0664689 ,  0.15042788,\n",
       "         0.29408823,  0.08911559,  0.03076694,  0.1778129 ,  0.27519671,\n",
       "         0.22408337,  0.15093624,  0.20796621,  0.34207362,  0.31910988,\n",
       "         0.03343168, -0.11935806,  0.11671273,  0.33172859],\n",
       "       [-0.0720121 ,  0.28797715,  0.43051758,  0.55081089,  0.85593847,\n",
       "         1.        ,  0.80055023,  0.34030399,  0.0018358 ,  0.07020499,\n",
       "         0.32438823,  0.12136542,  0.07639811,  0.31340173,  0.34463972,\n",
       "         0.21460071,  0.17157115,  0.2873503 ,  0.41210792,  0.40006042,\n",
       "         0.07991184, -0.14232456,  0.13925748,  0.41279012],\n",
       "       [-0.10184146,  0.44510365,  0.58452342,  0.52422802,  0.51521319,\n",
       "         0.80055023,  1.        ,  0.62430733,  0.07256388,  0.05358029,\n",
       "         0.36270688,  0.20990757,  0.14178017,  0.36254115,  0.36019247,\n",
       "         0.2342808 ,  0.23963983,  0.4057975 ,  0.49100871,  0.48281256,\n",
       "         0.1977935 , -0.04868013,  0.19853532,  0.42413958],\n",
       "       [-0.31592877,  0.4923685 ,  0.5265494 ,  0.48593101,  0.2354781 ,\n",
       "         0.34030399,  0.62430733,  1.        ,  0.75448419,  0.51592201,\n",
       "         0.34925592,  0.60473269,  0.52485826,  0.21672662,  0.24587278,\n",
       "         0.61586869,  0.63251048,  0.58605933,  0.62550817,  0.65105707,\n",
       "         0.59580747,  0.49221013,  0.58149512,  0.50559487],\n",
       "       [-0.3162536 ,  0.17928044,  0.15671599,  0.26361415,  0.0664689 ,\n",
       "         0.0018358 ,  0.07256388,  0.75448419,  1.        ,  0.82395861,\n",
       "         0.25339482,  0.67911217,  0.68995775,  0.07329165,  0.03087563,\n",
       "         0.6900709 ,  0.72998723,  0.4832328 ,  0.46872153,  0.51487305,\n",
       "         0.64544446,  0.71060455,  0.67772892,  0.42373088],\n",
       "       [-0.21693252,  0.11618515,  0.11519413,  0.23963675,  0.15042788,\n",
       "         0.07020499,  0.05358029,  0.51592201,  0.82395861,  1.        ,\n",
       "         0.56830187,  0.55742692,  0.56937697,  0.20895134,  0.11576662,\n",
       "         0.57897733,  0.61201833,  0.40061692,  0.39299795,  0.45397051,\n",
       "         0.51686409,  0.54824093,  0.61147684,  0.47971447],\n",
       "       [-0.16177248,  0.36459827,  0.46906751,  0.39159662,  0.29408823,\n",
       "         0.32438823,  0.36270688,  0.34925592,  0.25339482,  0.56830187,\n",
       "         1.        ,  0.54247025,  0.26014071,  0.34143145,  0.41548588,\n",
       "         0.39189611,  0.32818051,  0.32875325,  0.36592887,  0.43400715,\n",
       "         0.2853884 ,  0.09642166,  0.32182793,  0.50973045],\n",
       "       [-0.37799487,  0.28503934,  0.37005141,  0.35880135,  0.08911559,\n",
       "         0.12136542,  0.20990757,  0.60473269,  0.67911217,  0.55742692,\n",
       "         0.54247025,  1.        ,  0.86098945,  0.26547585,  0.16414922,\n",
       "         0.72458045,  0.76225247,  0.54087749,  0.50200939,  0.57318283,\n",
       "         0.65104978,  0.59503406,  0.61271076,  0.51161532],\n",
       "       [-0.35673394,  0.11039129,  0.15963272,  0.19057966,  0.03076694,\n",
       "         0.07639811,  0.14178017,  0.52485826,  0.68995775,  0.56937697,\n",
       "         0.26014071,  0.86098945,  1.        ,  0.46158957,  0.11128461,\n",
       "         0.6796137 ,  0.77897113,  0.54441936,  0.51692229,  0.56204739,\n",
       "         0.64720647,  0.66391929,  0.68744384,  0.52108578],\n",
       "       [-0.22545572,  0.20497985,  0.26074599,  0.08251925,  0.1778129 ,\n",
       "         0.31340173,  0.36254115,  0.21672662,  0.07329165,  0.20895134,\n",
       "         0.34143145,  0.26547585,  0.46158957,  1.        ,  0.74696521,\n",
       "         0.38691452,  0.23564773,  0.31632755,  0.53898005,  0.58932519,\n",
       "         0.29164917,  0.03793775,  0.38555707,  0.65000651],\n",
       "       [-0.28424795,  0.38065759,  0.4315103 ,  0.22619177,  0.27519671,\n",
       "         0.34463972,  0.36019247,  0.24587278,  0.03087563,  0.11576662,\n",
       "         0.41548588,  0.16414922,  0.11128461,  0.74696521,  1.        ,\n",
       "         0.54159188,  0.14828582,  0.19532437,  0.5149824 ,  0.648065  ,\n",
       "         0.35105158, -0.04455614,  0.25249626,  0.61291201],\n",
       "       [-0.43105668,  0.3188223 ,  0.36196256,  0.35424383,  0.22408337,\n",
       "         0.21460071,  0.2342808 ,  0.61586869,  0.6900709 ,  0.57897733,\n",
       "         0.39189611,  0.72458045,  0.6796137 ,  0.38691452,  0.54159188,\n",
       "         1.        ,  0.84180434,  0.56445246,  0.64511669,  0.77810168,\n",
       "         0.81207235,  0.64656297,  0.67798433,  0.63220993],\n",
       "       [-0.26997946,  0.23455324,  0.26791028,  0.30527714,  0.15093624,\n",
       "         0.17157115,  0.23963983,  0.63251048,  0.72998723,  0.61201833,\n",
       "         0.32818051,  0.76225247,  0.77897113,  0.23564773,  0.14828582,\n",
       "         0.84180434,  1.        ,  0.81126586,  0.65340608,  0.63549585,\n",
       "         0.70782306,  0.72416848,  0.74687804,  0.55671882],\n",
       "       [-0.11865601,  0.3275564 ,  0.3665189 ,  0.32213956,  0.20796621,\n",
       "         0.2873503 ,  0.4057975 ,  0.58605933,  0.4832328 ,  0.40061692,\n",
       "         0.32875325,  0.54087749,  0.54441936,  0.31632755,  0.19532437,\n",
       "         0.56445246,  0.81126586,  1.        ,  0.84088029,  0.62990827,\n",
       "         0.43859028,  0.40550448,  0.63926438,  0.61701035],\n",
       "       [-0.29695295,  0.41115422,  0.48251816,  0.41164658,  0.34207362,\n",
       "         0.41210792,  0.49100871,  0.62550817,  0.46872153,  0.39299795,\n",
       "         0.36592887,  0.50200939,  0.51692229,  0.53898005,  0.5149824 ,\n",
       "         0.64511669,  0.65340608,  0.84088029,  1.        ,  0.89272022,\n",
       "         0.54884623,  0.31030679,  0.6225126 ,  0.76736065],\n",
       "       [-0.4134921 ,  0.42444504,  0.50496174,  0.40737115,  0.31910988,\n",
       "         0.40006042,  0.48281256,  0.65105707,  0.51487305,  0.45397051,\n",
       "         0.43400715,  0.57318283,  0.56204739,  0.58932519,  0.648065  ,\n",
       "         0.77810168,  0.63549585,  0.62990827,  0.89272022,  1.        ,\n",
       "         0.77471304,  0.41307989,  0.61795545,  0.77906237],\n",
       "       [-0.47072915,  0.22419358,  0.21864293,  0.18032404,  0.03343168,\n",
       "         0.07991184,  0.1977935 ,  0.59580747,  0.64544446,  0.51686409,\n",
       "         0.2853884 ,  0.65104978,  0.64720647,  0.29164917,  0.35105158,\n",
       "         0.81207235,  0.70782306,  0.43859028,  0.54884623,  0.77471304,\n",
       "         1.        ,  0.80777403,  0.641823  ,  0.49474375],\n",
       "       [-0.40999501,  0.04181083, -0.03522359,  0.01469253, -0.11935806,\n",
       "        -0.14232456, -0.04868013,  0.49221013,  0.71060455,  0.54824093,\n",
       "         0.09642166,  0.59503406,  0.66391929,  0.03793775, -0.04455614,\n",
       "         0.64656297,  0.72416848,  0.40550448,  0.31030679,  0.41307989,\n",
       "         0.80777403,  1.        ,  0.76864586,  0.2933569 ],\n",
       "       [-0.38736071,  0.27753078,  0.24980753,  0.20302008,  0.11671273,\n",
       "         0.13925748,  0.19853532,  0.58149512,  0.67772892,  0.61147684,\n",
       "         0.32182793,  0.61271076,  0.68744384,  0.38555707,  0.25249626,\n",
       "         0.67798433,  0.74687804,  0.63926438,  0.6225126 ,  0.61795545,\n",
       "         0.641823  ,  0.76864586,  1.        ,  0.75222596],\n",
       "       [-0.2890198 ,  0.45697093,  0.50323396,  0.36136289,  0.33172859,\n",
       "         0.41279012,  0.42413958,  0.50559487,  0.42373088,  0.47971447,\n",
       "         0.50973045,  0.51161532,  0.52108578,  0.65000651,  0.61291201,\n",
       "         0.63220993,  0.55671882,  0.61701035,  0.76736065,  0.77906237,\n",
       "         0.49474375,  0.2933569 ,  0.75222596,  1.        ]])"
      ]
     },
     "execution_count": 21,
     "metadata": {},
     "output_type": "execute_result"
    }
   ],
   "source": [
    "my_corr(X_vec)"
   ]
  },
  {
   "cell_type": "code",
   "execution_count": 22,
   "metadata": {},
   "outputs": [],
   "source": [
    "l = np.array([1,2,3])"
   ]
  },
  {
   "cell_type": "code",
   "execution_count": 23,
   "metadata": {},
   "outputs": [
    {
     "data": {
      "text/plain": [
       "array([[1, 2, 3]])"
      ]
     },
     "execution_count": 23,
     "metadata": {},
     "output_type": "execute_result"
    }
   ],
   "source": [
    "l[None, :]"
   ]
  },
  {
   "cell_type": "code",
   "execution_count": 24,
   "metadata": {},
   "outputs": [],
   "source": [
    "def my_corr_1(X):\n",
    "    c = my_cov(X)\n",
    "    \n",
    "    try:\n",
    "        d = np.diag(c)\n",
    "    except ValueError:\n",
    "        # scalar covariance\n",
    "        # nan if incorrect value (nan, inf, 0), 1 otherwise\n",
    "        return c / c\n",
    "    std_dev = np.sqrt(d.real)\n",
    "    c /= (std_dev[:, None] * std_dev[None, :])\n",
    "    \n",
    "    return c"
   ]
  },
  {
   "cell_type": "code",
   "execution_count": 29,
   "metadata": {},
   "outputs": [
    {
     "data": {
      "text/plain": [
       "array([[-1.11022302e-16,  5.55111512e-17,  5.55111512e-17,\n",
       "         0.00000000e+00,  1.38777878e-17,  0.00000000e+00,\n",
       "         1.38777878e-17,  5.55111512e-17,  5.55111512e-17,\n",
       "         5.55111512e-17,  5.55111512e-17,  0.00000000e+00,\n",
       "         5.55111512e-17,  5.55111512e-17,  5.55111512e-17,\n",
       "         0.00000000e+00,  0.00000000e+00,  2.77555756e-17,\n",
       "         5.55111512e-17,  5.55111512e-17,  1.11022302e-16,\n",
       "        -5.55111512e-17, -5.55111512e-17,  1.11022302e-16],\n",
       "       [ 0.00000000e+00,  1.11022302e-16,  1.11022302e-16,\n",
       "         1.11022302e-16,  0.00000000e+00,  0.00000000e+00,\n",
       "         0.00000000e+00,  0.00000000e+00, -2.77555756e-17,\n",
       "         1.38777878e-17, -1.11022302e-16,  0.00000000e+00,\n",
       "         0.00000000e+00,  2.77555756e-17,  0.00000000e+00,\n",
       "         0.00000000e+00,  0.00000000e+00,  0.00000000e+00,\n",
       "         0.00000000e+00,  0.00000000e+00,  0.00000000e+00,\n",
       "        -6.93889390e-18,  5.55111512e-17,  0.00000000e+00],\n",
       "       [ 5.55111512e-17,  1.11022302e-16,  1.11022302e-16,\n",
       "         0.00000000e+00, -5.55111512e-17, -5.55111512e-17,\n",
       "         0.00000000e+00,  0.00000000e+00,  2.77555756e-17,\n",
       "         0.00000000e+00, -1.11022302e-16,  0.00000000e+00,\n",
       "        -2.77555756e-17,  0.00000000e+00, -5.55111512e-17,\n",
       "         0.00000000e+00,  0.00000000e+00, -5.55111512e-17,\n",
       "         5.55111512e-17,  1.11022302e-16, -2.77555756e-17,\n",
       "         0.00000000e+00,  2.77555756e-17, -1.11022302e-16],\n",
       "       [ 2.77555756e-17,  2.22044605e-16,  0.00000000e+00,\n",
       "         2.22044605e-16,  1.11022302e-16, -1.11022302e-16,\n",
       "         1.11022302e-16,  0.00000000e+00,  5.55111512e-17,\n",
       "        -2.77555756e-17, -5.55111512e-17,  0.00000000e+00,\n",
       "         0.00000000e+00, -1.38777878e-17,  0.00000000e+00,\n",
       "         0.00000000e+00,  0.00000000e+00,  0.00000000e+00,\n",
       "         5.55111512e-17,  5.55111512e-17, -2.77555756e-17,\n",
       "         1.73472348e-18,  2.77555756e-17,  0.00000000e+00],\n",
       "       [ 2.77555756e-17,  0.00000000e+00,  0.00000000e+00,\n",
       "         0.00000000e+00,  0.00000000e+00,  0.00000000e+00,\n",
       "         0.00000000e+00, -2.77555756e-17,  0.00000000e+00,\n",
       "        -2.77555756e-17,  0.00000000e+00,  2.77555756e-17,\n",
       "         3.46944695e-18,  0.00000000e+00, -5.55111512e-17,\n",
       "         0.00000000e+00,  0.00000000e+00,  0.00000000e+00,\n",
       "         5.55111512e-17,  0.00000000e+00, -6.93889390e-18,\n",
       "         0.00000000e+00,  2.77555756e-17,  0.00000000e+00],\n",
       "       [ 1.38777878e-17,  0.00000000e+00, -5.55111512e-17,\n",
       "         0.00000000e+00,  0.00000000e+00,  2.22044605e-16,\n",
       "         2.22044605e-16, -5.55111512e-17,  0.00000000e+00,\n",
       "         0.00000000e+00, -5.55111512e-17,  0.00000000e+00,\n",
       "         1.38777878e-17, -5.55111512e-17,  0.00000000e+00,\n",
       "         2.77555756e-17,  0.00000000e+00,  0.00000000e+00,\n",
       "         5.55111512e-17,  0.00000000e+00,  0.00000000e+00,\n",
       "         0.00000000e+00,  2.77555756e-17,  5.55111512e-17],\n",
       "       [ 0.00000000e+00,  5.55111512e-17,  1.11022302e-16,\n",
       "         1.11022302e-16,  1.11022302e-16,  2.22044605e-16,\n",
       "         2.22044605e-16,  0.00000000e+00,  1.38777878e-17,\n",
       "         1.38777878e-17,  0.00000000e+00,  2.77555756e-17,\n",
       "         0.00000000e+00,  5.55111512e-17,  5.55111512e-17,\n",
       "         8.32667268e-17,  2.77555756e-17,  0.00000000e+00,\n",
       "         1.11022302e-16,  5.55111512e-17,  2.77555756e-17,\n",
       "        -6.93889390e-18,  2.77555756e-17,  0.00000000e+00],\n",
       "       [ 5.55111512e-17,  0.00000000e+00,  0.00000000e+00,\n",
       "         0.00000000e+00, -2.77555756e-17, -5.55111512e-17,\n",
       "         0.00000000e+00, -1.11022302e-16, -1.11022302e-16,\n",
       "        -1.11022302e-16,  0.00000000e+00, -1.11022302e-16,\n",
       "         0.00000000e+00, -2.77555756e-17, -2.77555756e-17,\n",
       "         0.00000000e+00, -1.11022302e-16, -1.11022302e-16,\n",
       "         0.00000000e+00, -2.22044605e-16, -1.11022302e-16,\n",
       "         0.00000000e+00,  0.00000000e+00, -1.11022302e-16],\n",
       "       [ 5.55111512e-17, -2.77555756e-17,  2.77555756e-17,\n",
       "         5.55111512e-17, -1.38777878e-17, -2.16840434e-19,\n",
       "         0.00000000e+00, -1.11022302e-16,  0.00000000e+00,\n",
       "        -1.11022302e-16,  0.00000000e+00,  0.00000000e+00,\n",
       "         0.00000000e+00, -1.38777878e-17,  3.46944695e-18,\n",
       "         0.00000000e+00, -1.11022302e-16, -5.55111512e-17,\n",
       "         0.00000000e+00,  0.00000000e+00, -1.11022302e-16,\n",
       "         1.11022302e-16,  0.00000000e+00,  0.00000000e+00],\n",
       "       [ 2.77555756e-17,  1.38777878e-17,  0.00000000e+00,\n",
       "         0.00000000e+00, -2.77555756e-17,  0.00000000e+00,\n",
       "         1.38777878e-17, -1.11022302e-16,  0.00000000e+00,\n",
       "         0.00000000e+00, -1.11022302e-16,  0.00000000e+00,\n",
       "        -1.11022302e-16,  0.00000000e+00, -2.77555756e-17,\n",
       "         0.00000000e+00,  1.11022302e-16,  0.00000000e+00,\n",
       "         0.00000000e+00,  0.00000000e+00, -1.11022302e-16,\n",
       "         1.11022302e-16,  2.22044605e-16,  5.55111512e-17],\n",
       "       [ 5.55111512e-17, -1.11022302e-16, -1.11022302e-16,\n",
       "        -5.55111512e-17, -5.55111512e-17, -5.55111512e-17,\n",
       "         0.00000000e+00, -5.55111512e-17,  0.00000000e+00,\n",
       "        -1.11022302e-16, -2.22044605e-16,  0.00000000e+00,\n",
       "         0.00000000e+00,  0.00000000e+00, -1.11022302e-16,\n",
       "         0.00000000e+00, -5.55111512e-17, -5.55111512e-17,\n",
       "        -5.55111512e-17, -1.11022302e-16, -1.11022302e-16,\n",
       "        -1.38777878e-17,  0.00000000e+00,  0.00000000e+00],\n",
       "       [ 5.55111512e-17,  0.00000000e+00,  0.00000000e+00,\n",
       "        -5.55111512e-17,  1.38777878e-17,  1.38777878e-17,\n",
       "         2.77555756e-17, -1.11022302e-16,  0.00000000e+00,\n",
       "         0.00000000e+00,  0.00000000e+00,  0.00000000e+00,\n",
       "         0.00000000e+00,  0.00000000e+00,  0.00000000e+00,\n",
       "         1.11022302e-16,  0.00000000e+00, -1.11022302e-16,\n",
       "         0.00000000e+00, -1.11022302e-16, -1.11022302e-16,\n",
       "         0.00000000e+00,  1.11022302e-16,  1.11022302e-16],\n",
       "       [ 5.55111512e-17,  0.00000000e+00, -2.77555756e-17,\n",
       "         0.00000000e+00,  3.46944695e-18,  1.38777878e-17,\n",
       "         2.77555756e-17,  0.00000000e+00,  0.00000000e+00,\n",
       "        -1.11022302e-16,  0.00000000e+00, -1.11022302e-16,\n",
       "         1.11022302e-16, -1.11022302e-16, -1.38777878e-17,\n",
       "         0.00000000e+00, -2.22044605e-16,  0.00000000e+00,\n",
       "        -1.11022302e-16, -1.11022302e-16, -1.11022302e-16,\n",
       "        -1.11022302e-16,  2.22044605e-16,  0.00000000e+00],\n",
       "       [ 5.55111512e-17,  0.00000000e+00,  0.00000000e+00,\n",
       "         0.00000000e+00,  0.00000000e+00,  0.00000000e+00,\n",
       "         0.00000000e+00, -5.55111512e-17, -1.38777878e-17,\n",
       "         0.00000000e+00, -5.55111512e-17,  0.00000000e+00,\n",
       "        -5.55111512e-17,  1.11022302e-16,  1.11022302e-16,\n",
       "         0.00000000e+00, -2.77555756e-17, -5.55111512e-17,\n",
       "         0.00000000e+00, -1.11022302e-16,  0.00000000e+00,\n",
       "         0.00000000e+00,  5.55111512e-17,  0.00000000e+00],\n",
       "       [ 5.55111512e-17, -5.55111512e-17,  0.00000000e+00,\n",
       "         2.77555756e-17,  0.00000000e+00,  0.00000000e+00,\n",
       "         0.00000000e+00, -5.55111512e-17,  3.46944695e-18,\n",
       "        -1.38777878e-17, -5.55111512e-17,  0.00000000e+00,\n",
       "        -1.38777878e-17,  0.00000000e+00,  0.00000000e+00,\n",
       "         0.00000000e+00, -2.77555756e-17, -5.55111512e-17,\n",
       "         0.00000000e+00,  0.00000000e+00,  0.00000000e+00,\n",
       "        -6.93889390e-18, -5.55111512e-17,  0.00000000e+00],\n",
       "       [ 5.55111512e-17,  5.55111512e-17,  5.55111512e-17,\n",
       "         5.55111512e-17,  0.00000000e+00,  2.77555756e-17,\n",
       "         5.55111512e-17,  0.00000000e+00,  0.00000000e+00,\n",
       "         0.00000000e+00, -5.55111512e-17,  1.11022302e-16,\n",
       "         0.00000000e+00,  0.00000000e+00,  0.00000000e+00,\n",
       "         1.11022302e-16,  1.11022302e-16,  0.00000000e+00,\n",
       "         1.11022302e-16,  1.11022302e-16,  0.00000000e+00,\n",
       "         1.11022302e-16,  0.00000000e+00,  0.00000000e+00],\n",
       "       [ 0.00000000e+00, -2.77555756e-17,  0.00000000e+00,\n",
       "         0.00000000e+00,  0.00000000e+00,  0.00000000e+00,\n",
       "         2.77555756e-17, -1.11022302e-16,  0.00000000e+00,\n",
       "         1.11022302e-16, -5.55111512e-17,  0.00000000e+00,\n",
       "        -1.11022302e-16,  0.00000000e+00,  0.00000000e+00,\n",
       "         0.00000000e+00, -2.22044605e-16, -1.11022302e-16,\n",
       "        -1.11022302e-16, -1.11022302e-16,  0.00000000e+00,\n",
       "         1.11022302e-16,  1.11022302e-16,  0.00000000e+00],\n",
       "       [ 2.77555756e-17,  0.00000000e+00, -1.11022302e-16,\n",
       "         5.55111512e-17, -2.77555756e-17, -5.55111512e-17,\n",
       "         0.00000000e+00, -1.11022302e-16,  0.00000000e+00,\n",
       "         0.00000000e+00, -5.55111512e-17, -1.11022302e-16,\n",
       "        -1.11022302e-16, -5.55111512e-17, -2.77555756e-17,\n",
       "         0.00000000e+00, -1.11022302e-16, -2.22044605e-16,\n",
       "         0.00000000e+00, -1.11022302e-16, -5.55111512e-17,\n",
       "        -5.55111512e-17,  0.00000000e+00,  0.00000000e+00],\n",
       "       [ 5.55111512e-17, -5.55111512e-17,  0.00000000e+00,\n",
       "         5.55111512e-17,  5.55111512e-17,  0.00000000e+00,\n",
       "         5.55111512e-17,  0.00000000e+00,  0.00000000e+00,\n",
       "         5.55111512e-17,  0.00000000e+00,  0.00000000e+00,\n",
       "        -1.11022302e-16,  0.00000000e+00,  0.00000000e+00,\n",
       "         1.11022302e-16, -1.11022302e-16,  0.00000000e+00,\n",
       "         0.00000000e+00,  2.22044605e-16,  0.00000000e+00,\n",
       "         0.00000000e+00,  2.22044605e-16,  1.11022302e-16],\n",
       "       [ 5.55111512e-17, -5.55111512e-17,  0.00000000e+00,\n",
       "         0.00000000e+00,  5.55111512e-17,  0.00000000e+00,\n",
       "         5.55111512e-17, -2.22044605e-16,  0.00000000e+00,\n",
       "         0.00000000e+00, -1.11022302e-16, -1.11022302e-16,\n",
       "         0.00000000e+00, -1.11022302e-16,  0.00000000e+00,\n",
       "         1.11022302e-16, -1.11022302e-16, -1.11022302e-16,\n",
       "         1.11022302e-16,  2.22044605e-16,  0.00000000e+00,\n",
       "         5.55111512e-17,  1.11022302e-16,  1.11022302e-16],\n",
       "       [ 1.11022302e-16, -2.77555756e-17, -2.77555756e-17,\n",
       "        -2.77555756e-17, -6.93889390e-18, -1.38777878e-17,\n",
       "         2.77555756e-17, -1.11022302e-16, -1.11022302e-16,\n",
       "        -1.11022302e-16, -5.55111512e-17, -1.11022302e-16,\n",
       "        -2.22044605e-16,  0.00000000e+00,  0.00000000e+00,\n",
       "         1.11022302e-16,  0.00000000e+00, -5.55111512e-17,\n",
       "         0.00000000e+00,  0.00000000e+00,  0.00000000e+00,\n",
       "        -1.11022302e-16,  1.11022302e-16, -5.55111512e-17],\n",
       "       [ 0.00000000e+00,  0.00000000e+00,  0.00000000e+00,\n",
       "         1.73472348e-18, -1.38777878e-17, -2.77555756e-17,\n",
       "         0.00000000e+00, -5.55111512e-17,  1.11022302e-16,\n",
       "         0.00000000e+00, -1.38777878e-17,  0.00000000e+00,\n",
       "        -1.11022302e-16, -6.93889390e-18,  0.00000000e+00,\n",
       "         1.11022302e-16,  1.11022302e-16, -5.55111512e-17,\n",
       "         0.00000000e+00,  0.00000000e+00,  0.00000000e+00,\n",
       "         2.22044605e-16,  2.22044605e-16,  0.00000000e+00],\n",
       "       [-5.55111512e-17,  5.55111512e-17,  8.32667268e-17,\n",
       "         2.77555756e-17,  1.38777878e-17,  0.00000000e+00,\n",
       "         2.77555756e-17,  0.00000000e+00,  0.00000000e+00,\n",
       "         1.11022302e-16,  0.00000000e+00,  0.00000000e+00,\n",
       "         2.22044605e-16,  0.00000000e+00, -5.55111512e-17,\n",
       "         1.11022302e-16,  1.11022302e-16,  0.00000000e+00,\n",
       "         2.22044605e-16,  1.11022302e-16,  1.11022302e-16,\n",
       "         2.22044605e-16,  4.44089210e-16,  1.11022302e-16],\n",
       "       [ 5.55111512e-17,  5.55111512e-17, -1.11022302e-16,\n",
       "         0.00000000e+00,  0.00000000e+00,  0.00000000e+00,\n",
       "         5.55111512e-17, -1.11022302e-16,  0.00000000e+00,\n",
       "         5.55111512e-17,  1.11022302e-16,  0.00000000e+00,\n",
       "         0.00000000e+00,  0.00000000e+00, -1.11022302e-16,\n",
       "         0.00000000e+00,  0.00000000e+00,  0.00000000e+00,\n",
       "         1.11022302e-16,  1.11022302e-16,  0.00000000e+00,\n",
       "         0.00000000e+00,  1.11022302e-16,  0.00000000e+00]])"
      ]
     },
     "execution_count": 29,
     "metadata": {},
     "output_type": "execute_result"
    }
   ],
   "source": [
    "my_corr_1(X_vec) - np.corrcoef(X_vec.T)"
   ]
  },
  {
   "cell_type": "code",
   "execution_count": null,
   "metadata": {},
   "outputs": [],
   "source": []
  }
 ],
 "metadata": {
  "kernelspec": {
   "display_name": "Python 3",
   "language": "python",
   "name": "python3"
  },
  "language_info": {
   "codemirror_mode": {
    "name": "ipython",
    "version": 3
   },
   "file_extension": ".py",
   "mimetype": "text/x-python",
   "name": "python",
   "nbconvert_exporter": "python",
   "pygments_lexer": "ipython3",
   "version": "3.7.7"
  }
 },
 "nbformat": 4,
 "nbformat_minor": 2
}
